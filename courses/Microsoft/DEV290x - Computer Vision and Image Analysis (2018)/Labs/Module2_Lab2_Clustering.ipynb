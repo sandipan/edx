{
 "cells": [
  {
   "cell_type": "markdown",
   "metadata": {},
   "source": [
    "# Module 2, Lab 2, \"Clustering\"\n",
    "\n",
    "# Recap\n",
    "\n",
    "This is the second of four labs for Lesson 2 - Classical Image Segmention in Dev290x.  You should complete the tasks in this lab as part of the Clustering section of the lesson.\n",
    "\n",
    "Please remember the lab must be completed before taking the quiz at the end of this lesson."
   ]
  },
  {
   "cell_type": "markdown",
   "metadata": {},
   "source": [
    "# Introduction\n",
    "\n",
    "In this lab we introduce our second image segmentation project where we will use cluster operations to segment a relatively simple image. We will work through this project using the types of image processing techniques such projects typically need and then segment an image using K-means clustering.\n",
    "\n",
    "At the end of the lab we'll review the work we've done and assess what types of images and projects this approach is effective for.\n"
   ]
  },
  {
   "cell_type": "markdown",
   "metadata": {},
   "source": [
    "# Goals\n",
    "\n",
    "In this tutorial, we will explore k-means clustering and how it can be applied to image segmentation. In particular, we will do the following. \n",
    "\n",
    "* Implement our own k-means algorithm from first principals\n",
    "* Train and run OpenCV's more efficient k-means implementation\n"
   ]
  },
  {
   "cell_type": "markdown",
   "metadata": {},
   "source": [
    "# Background\n",
    "\n",
    "Image segmentation is the process of partitioning a digital image into multiple segments to make the image easier to analyze.  Often we are looking to locate objects and boundaries in the original image.  \n",
    "\n",
    "A more precise way of looking at it is to say that image segmentation's goal is to assign a label to every pixel in an image such that pixels with the same label share certain characteristics.  \n",
    "\n",
    "For example, these images show a typical road scene on the left and a segmented version of the image on the right where the cars have been separated from the road, the buildings, the people in the scene, etc.\n",
    "\n",
    "<p float=\"center\">\n",
    "  <img src=\"../Images/bg-road.png\" width=\"450\" />\n",
    "</p>\n"
   ]
  },
  {
   "cell_type": "markdown",
   "metadata": {},
   "source": [
    "# _K_-means Clustering\n",
    "\n",
    "The term '_k_-means' dates from 1967 but the standard algorithm is generally credited to Stuart Lloyd in 1957. _k_-means clustering aims to partition _n_ observations into _k_ clusters such that each observation is in the cluster with the nearest mean to it.\n",
    "\n",
    "In general, the problem is computationally difficult (NP-hard).  However, heuristic algorithms are normally employed and these converge quickly.\n",
    "\n",
    "The most common algorithm uses an iterative refinement technique.  Due to its ubiquity it is often just called the\n",
    "_k_-means algorithm.\n",
    "\n",
    "For image processing, to split a set of pixels into 2 sets.\n",
    "\n",
    "Arbitrarily pick any one pixel from the image and make that the center of cluster one.\n",
    "Then pick any other pixel from the image and make that the center of cluster two.\n",
    "\n",
    "The algorithm proceeds by alternating between the following two steps:\n",
    "\n",
    "1. *Assignment Step:* Assign each pixel to the 'closest' cluster.  Proximity is normally calculated using Euclidean distance.\n",
    "2. *Update the means of the clusters:* Calculate the new means of the pixels in the new clusters.\n",
    "    \n",
    "3. Repeat steps 1 and 2 until the assignments no longer change or for a fixed number of iterations.\n",
    "\n",
    " Note: The algorithm may fail to find the optimum solution and the result may depend on the two pixels randomly chosen at the start.\n",
    "\n",
    "Let's apply this technique to our starfish image.\n",
    "\n",
    "First, we'll implement the algorithm ourselves initially in order to gain a deeper understanding of the technique.\n",
    "Then we'll use OpenCV's K-means implementation as its faster.\n",
    "\n",
    "First of all, we have to load our libraries:"
   ]
  },
  {
   "cell_type": "code",
   "execution_count": 1,
   "metadata": {},
   "outputs": [],
   "source": [
    "# First import OpenCV, NumPY and MatPlotLib as we will use these libraries\n",
    "import cv2\n",
    "import numpy as np\n",
    "from PIL import Image\n",
    "import matplotlib.pyplot as plt\n",
    "from tqdm import * \n",
    "%matplotlib inline\n"
   ]
  },
  {
   "cell_type": "markdown",
   "metadata": {},
   "source": [
    "Now that we have loaded the libraries we need, let's open an image, convert it to features, and store two copies of those features - one set is for our own implementation of K-means and the second set is for OpenCV's K-means."
   ]
  },
  {
   "cell_type": "code",
   "execution_count": 2,
   "metadata": {},
   "outputs": [
    {
     "name": "stderr",
     "output_type": "stream",
     "text": [
      "100%|##########| 960/960 [00:06<00:00, 157.76it/s]\n"
     ]
    }
   ],
   "source": [
    "# Let's use starfish.  I've picked up a blurred version of our starfish\n",
    "# to make it a little easier for K-means to segment into two clusters.\n",
    "\n",
    "img = Image.open(\"../Images/starfish_blur.png\")\n",
    "\n",
    "# Store the image's width and height for later use. \n",
    "imgWidth = img.size[0]\n",
    "imgHeight = img.size[1]\n",
    "\n",
    "# We're going to use 7 features to segment\n",
    "# This is an experimental choice.\n",
    "# Choosing and normalising features can be a matter of experimentation.\n",
    "\n",
    "numFeatures = 7\n",
    "# Create a data vector, with 7 values\n",
    "#  blue\n",
    "#  green\n",
    "#  red\n",
    "#  x\n",
    "#  y\n",
    "#  red - blue and\n",
    "#  red - green \n",
    "#\n",
    "# for every pixel in the image\n",
    "\n",
    "# Initially I used 5 features, but when I added red-blue and red-green\n",
    "# the clustering improved.\n",
    "\n",
    "Z = np.ndarray(shape=(imgWidth * imgHeight, numFeatures), dtype = float)\n",
    "\n",
    "# You must use float32 here as 'float' does not \n",
    "# have to be 32-bit. float32 has to be 32-bit\n",
    "# and we'll shortly use a routine that needs float32s.\n",
    "Z = np.float32(Z)\n",
    "\n",
    "# Load data vector with the 7 values\n",
    "for y in tqdm(range(0, imgHeight), ascii=True):\n",
    "    for x in range(0, imgWidth):\n",
    "        xy = (x, y)\n",
    "        rgb = img.getpixel(xy)\n",
    "        Z[x + y * imgWidth, 0] = rgb[0]           # blue\n",
    "        Z[x + y * imgWidth, 1] = rgb[1]           # green\n",
    "        Z[x + y * imgWidth, 2] = rgb[2]           # red\n",
    "        # Experimentally, reduce the influence of the x,y components by dividing them by 10\n",
    "        Z[x + y * imgWidth, 3] = x / 10           # x\n",
    "        Z[x + y * imgWidth, 4] = y / 10           # y \n",
    "        Z[x + y * imgWidth, 5] = rgb[2] - rgb[0]  # red - blue\n",
    "        Z[x + y * imgWidth, 6] = rgb[2] - rgb[1]  # red - green\n",
    "\n",
    "# We need a second copy of our initial vector\n",
    "# for OpenCV's K-means implementation.\n",
    "Z2 = Z.copy()\n"
   ]
  },
  {
   "cell_type": "markdown",
   "metadata": {},
   "source": [
    "At this point, we've effectively assembled 'Z' which contains 7 columns (blue, red, green, an x position divided by 10, a y position divided by 10, a term representing red-blue and a term representing red-green) and contains a row for each pixel in the image. \n"
   ]
  },
  {
   "cell_type": "markdown",
   "metadata": {},
   "source": [
    "\n",
    "Now, lets turn our attention to another key data structure that we'll use --> clusterCentres.\n",
    "\n",
    "We'll need to create an array of clusterCenters.  In our example, 'K' = 2, i.e. we're separating into two clusters.  So, we'll need two clusterCentres.  Each cluster center must contain information about each of our features.\n",
    "\n",
    "We have 7 features, so we end up with a structure containing 2 vectors, each vector containing 7 elements.\n"
   ]
  },
  {
   "cell_type": "code",
   "execution_count": 3,
   "metadata": {},
   "outputs": [],
   "source": [
    "# For this example, we are going to divide into two clusters.\n",
    "# So, k = 2\n",
    "K = 2\n",
    "\n",
    "# Create our cluster centers.\n",
    "\n",
    "# clusterCenter is an arrangement of 'K' vectors\n",
    "# each vector 'contains' our 7 columns or features that we described \n",
    "# in the preceding code block.\n",
    "# For example, eventually, clusterCenters[0][0] will contain\n",
    "# the mean of the 'blue's in cluster 0 and clusterCenters[0][1] will\n",
    "# contain the mean of the 'red's in cluster 0, etc.\n",
    "clusterCenters = np.ndarray(shape=(K,numFeatures))\n",
    "\n",
    "# Initialise each element of both of our vectors \n",
    "# to rand values (each random number being between the max'es & mins of that feature in Z)\n",
    "maxVals = np.amax(Z)\n",
    "minVals = np.amin(Z)\n",
    "for i, _ in enumerate(clusterCenters):\n",
    "        clusterCenters[i] = np.random.uniform(minVals, maxVals, numFeatures)\n",
    "\n",
    "# So now we have created our cluster Centers and initialized each clusterCenter's vector"
   ]
  },
  {
   "cell_type": "markdown",
   "metadata": {},
   "source": [
    "Now we must create a data vector which has one entry for every pixel in the original image.\n",
    "We make this data vector contain integers as we plan to use it to remember what cluster\n",
    "each pixel in the image belongs to (either 0 or 1)."
   ]
  },
  {
   "cell_type": "code",
   "execution_count": 4,
   "metadata": {},
   "outputs": [],
   "source": [
    "# Let's create a data vector with an integer to represent whatever cluster a pixel belongs to. \n",
    "# We need one entry for each pixel - so that's a total of imgWidth * imgHeight's entries.\n",
    "pixelClusterMembership = np.ndarray(shape=(imgWidth * imgHeight), dtype = int)\n"
   ]
  },
  {
   "cell_type": "markdown",
   "metadata": {},
   "source": [
    "Now that we have created the data structures we need, we can start to implement the\n",
    "algorithm.\n",
    "\n",
    "We will iterate over the entire process 10 times - as it can be slow to run this many computations\n",
    "in Python.\n",
    "\n",
    "In each iteration, we will:\n",
    "a) assign each pixel to either cluster 0 or cluster 1 (using Euclidean distance from the clusterCenters as our measure)\n",
    "b) calculate the mean of the pixels in each cluster to form a new pair of clusterCenters.\n",
    "\n",
    "This might take up to one minute to run."
   ]
  },
  {
   "cell_type": "code",
   "execution_count": 5,
   "metadata": {},
   "outputs": [
    {
     "name": "stderr",
     "output_type": "stream",
     "text": [
      "100%|##########| 10/10 [00:27<00:00,  2.74s/it]\n"
     ]
    }
   ],
   "source": [
    "iterations = 10\n",
    "\n",
    "# For each iteration:\n",
    "for iteration in tqdm(range(iterations), ascii=True):\n",
    "    # Part 1: Set each pixel to its cluster\n",
    "    \n",
    "    # use numpy to efficiently subtract both cluster \n",
    "    # center's vectors from all of the vectors representing\n",
    "    # the pixels in the image.\n",
    "    distances = Z[:,None,:] - clusterCenters[None,:,:]\n",
    "    \n",
    "    # Square every element in distances\n",
    "    distances_sq = distances**2\n",
    "    \n",
    "    # Get the sums of the squared vectors\n",
    "    distance_sum = np.sum(distances_sq, axis=2)\n",
    "    \n",
    "    # get the square root of those sums\n",
    "    distance = np.sqrt(distance_sum)\n",
    "\n",
    "    # Pick the indexes of the elements with the smaller of \n",
    "    # the two distances for each point\n",
    "    pixelClusterMembership = np.argmin(distance, axis=1)\n",
    "       \n",
    "    # Part 2: update each cluster's centroid\n",
    "    #print('clusterCenters.shape: ', clusterCenters.shape)\n",
    "    for i in range(K):\n",
    "        # Create an empty list of pixels in this cluster\n",
    "        pixelsInCluster = []\n",
    "\n",
    "        # For each pixel, retrieve it's cluster membership\n",
    "        for index, item in enumerate(pixelClusterMembership):\n",
    "            # if it is member of the current cluster of interest\n",
    "            if item == i:\n",
    "                # add it's features to the list of pixels in the cluster\n",
    "                pixelsInCluster.append(Z[index])\n",
    "\n",
    "        if len(pixelsInCluster) == 0:\n",
    "            pixelsInCluster.append(Z[0])\n",
    "\n",
    "        # Now, for each cluster, simply get the mean of each of its 7 features\n",
    "        pixelsInCluster = np.array(pixelsInCluster)\n",
    "        clusterCenters[i] = np.mean(pixelsInCluster, axis=0)\n"
   ]
  },
  {
   "cell_type": "markdown",
   "metadata": {},
   "source": [
    "Now, we have run ten iterations of our algorithm, let's plot the results so far and see how well it is working."
   ]
  },
  {
   "cell_type": "code",
   "execution_count": 6,
   "metadata": {},
   "outputs": [
    {
     "name": "stderr",
     "output_type": "stream",
     "text": [
      "100%|██████████| 1228800/1228800 [00:11<00:00, 106601.40it/s]\n",
      "100%|##########| 960/960 [00:04<00:00, 221.93it/s]\n"
     ]
    },
    {
     "data": {
      "text/plain": [
       "<matplotlib.image.AxesImage at 0x7fcd6f682390>"
      ]
     },
     "execution_count": 6,
     "metadata": {},
     "output_type": "execute_result"
    },
    {
     "data": {
      "image/png": "[encoded data removed]",
      "text/plain": [
       "<matplotlib.figure.Figure at 0x7fcd9b9f27f0>"
      ]
     },
     "metadata": {},
     "output_type": "display_data"
    }
   ],
   "source": [
    "# Let's display an image based around what we've just done\n",
    "# and convince ourselves its segmenting reasonably well (albeit slowly :-)\n",
    "            \n",
    "# Let's (effectively) replace every pixel in the original image\n",
    "# with the rgb values from the mean of the cluster that pixel\n",
    "# is now in.\n",
    "outVec = np.ndarray(shape=(imgWidth * imgHeight, 3), dtype = int)\n",
    "for index, item in enumerate(tqdm(pixelClusterMembership)):\n",
    "    outVec[index][0] = int(round(clusterCenters[item][2]))\n",
    "    outVec[index][1] = int(round(clusterCenters[item][1]))\n",
    "    outVec[index][2] = int(round(clusterCenters[item][0]))\n",
    "\n",
    "# Save and display image\n",
    "img = Image.new(\"RGB\", (imgWidth, imgHeight))\n",
    "\n",
    "for y in tqdm(range(imgHeight), ascii=True):\n",
    "    for x in range(imgWidth):\n",
    "        img.putpixel((x, y), (int(outVec[y*imgWidth + x][0]), int(outVec[y * imgWidth + x][1]), int(outVec[y * imgWidth + x][2])))\n",
    "\n",
    "#plt.figure(figsize=(14, 10), dpi=80)\n",
    "plt.imshow(img)\n",
    "\n"
   ]
  },
  {
   "cell_type": "markdown",
   "metadata": {},
   "source": [
    "You should be seeing an image similar to this one.\n",
    "\n",
    "<img src=\"../Images/starfish-10-iterations.png\" alt=\"Gradient Starfish\" align=\"left\" style=\"width: 300px;\"/>\n"
   ]
  },
  {
   "cell_type": "markdown",
   "metadata": {},
   "source": [
    "As you can see, while effective, this approach is quite slow.  Running the algorithm for only ten iterations is not enough to sufficient to achieve the type of separation we want.  This hand-made approach, while having the relatively easy to understand, suffers from performance issues.\n",
    "\n",
    "Now that we understand how the algorithm works, we'll run OpenCV's more optimal k-means implemention so we can actually get somewhere at a reasonable pace! "
   ]
  },
  {
   "cell_type": "code",
   "execution_count": 7,
   "metadata": {},
   "outputs": [
    {
     "data": {
      "text/plain": [
       "<matplotlib.image.AxesImage at 0x7fcd9a49d978>"
      ]
     },
     "execution_count": 7,
     "metadata": {},
     "output_type": "execute_result"
    },
    {
     "data": {
      "image/png": "[encoded data removed]",
      "text/plain": [
       "<matplotlib.figure.Figure at 0x7fcd9c199cc0>"
      ]
     },
     "metadata": {},
     "output_type": "display_data"
    }
   ],
   "source": [
    "# OpenCV's K-means \n",
    "criteria = (cv2.TERM_CRITERIA_MAX_ITER, i+1, 0.1)\n",
    "ret, label, center = cv2.kmeans(Z2,K,None,criteria,10,cv2.KMEANS_RANDOM_CENTERS)\n",
    "\n",
    "# Convert center back into unsigned bytes\n",
    "center = np.uint8(center)\n",
    "\n",
    "# reshape the RGB values from our cv2.kmeans results into\n",
    "# an image.\n",
    "rgb = center[:,0:3]\n",
    "res = rgb[label.flatten()]\n",
    "img = res.reshape((imgHeight,imgWidth, 3))\n",
    "\n",
    "plt.imshow(img)\n"
   ]
  },
  {
   "cell_type": "markdown",
   "metadata": {},
   "source": [
    "You should be seeing an image a little like this one.\n",
    "\n",
    "<img src=\"../Images/starfish-opencv.png\" alt=\"Clustered Starfish\" align=\"left\" style=\"width: 300px;\"/>\n",
    "\n"
   ]
  },
  {
   "cell_type": "markdown",
   "metadata": {},
   "source": [
    "As we have seen, the OpenCV's k-means implementation performs much better than our basic implementation.  As the preceding image shows, we can use clustering techniques such as k-means when trying to segment relatively straightforward images.  \n",
    "\n",
    "You can see some artefacts, but you can use the drawContour() technique from the first lab to extract the starfish (which is the largest image) from this image."
   ]
  },
  {
   "cell_type": "markdown",
   "metadata": {},
   "source": [
    "# Conclusions\n",
    "\n",
    "That completes the second of the four labs to this module.\n",
    "\n",
    "We have seen in this lab that image clustering can be successfully used for segmentation of relatively simple images. \n",
    "\n",
    "K-means can operate in an unsupervised manner, and has found much use in medical imagery. The selection of the features and the normalization of those features can necessitate careful selection and empirical experimentation. \n",
    "\n",
    "The criteria for the selection of the initial points has to be given consideration.  It is a known weakness in K-means that if we are unlucky with our initial selection of pixels to grow the clusters around, we may cluster poorly.  OpenCV's K-means gets around this by repeating the algorithm several times and choosing the best outcome.\n"
   ]
  }
 ],
 "metadata": {
  "kernelspec": {
   "display_name": "Python 3",
   "language": "python",
   "name": "python3"
  },
  "language_info": {
   "codemirror_mode": {
    "name": "ipython",
    "version": 3
   },
   "file_extension": ".py",
   "mimetype": "text/x-python",
   "name": "python",
   "nbconvert_exporter": "python",
   "pygments_lexer": "ipython3",
   "version": "3.5.4"
  }
 },
 "nbformat": 4,
 "nbformat_minor": 2
}
