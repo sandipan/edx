{
 "cells": [
  {
   "cell_type": "markdown",
   "metadata": {},
   "source": [
    "# Preliminaries"
   ]
  },
  {
   "cell_type": "code",
   "execution_count": 2,
   "metadata": {
    "collapsed": false
   },
   "outputs": [
    {
     "data": {
      "text/plain": [
       "4x7 Array{Int64,2}:\n",
       " 1000000  200000  300000  400000  450000  450000        0\n",
       "  500000  150000  300000  250000  250000  100000  1800000\n",
       "     700     250     200     200     300     400     1500\n",
       "     200     100     100     100     100    1000     1200"
      ]
     },
     "execution_count": 2,
     "metadata": {},
     "output_type": "execute_result"
    }
   ],
   "source": [
    "using JuMP\n",
    "using DataFrames\n",
    "C=Matrix(readtable(\"R4P1Data.csv\", header=false))\n"
   ]
  },
  {
   "cell_type": "markdown",
   "metadata": {},
   "source": [
    "# Model and Variables"
   ]
  },
  {
   "cell_type": "code",
   "execution_count": 3,
   "metadata": {
    "collapsed": false
   },
   "outputs": [
    {
     "data": {
      "text/latex": [
       "$$ x_{i} \\in \\{0,1\\} \\quad\\forall i \\in \\{1,2,\\dots,5,6\\} $$"
      ],
      "text/plain": [
       "6-element Array{JuMP.Variable,1}:\n",
       " x[1]\n",
       " x[2]\n",
       " x[3]\n",
       " x[4]\n",
       " x[5]\n",
       " x[6]"
      ]
     },
     "execution_count": 3,
     "metadata": {},
     "output_type": "execute_result"
    }
   ],
   "source": [
    "m=Model()\n",
    "@variable(m, 0 <=x[1:6]<=1, Bin)"
   ]
  },
  {
   "cell_type": "markdown",
   "metadata": {},
   "source": [
    "# Constraints "
   ]
  },
  {
   "cell_type": "code",
   "execution_count": 4,
   "metadata": {
    "collapsed": false
   },
   "outputs": [
    {
     "data": {
      "text/latex": [
       "$$ x_{4} + x_{5} - x_{6} \\geq 0 $$"
      ],
      "text/plain": [
       "x[4] + x[5] - x[6] ≥ 0"
      ]
     },
     "execution_count": 4,
     "metadata": {},
     "output_type": "execute_result"
    }
   ],
   "source": [
    "#Cost, Designers, Salesmen\n",
    "@constraint(m, sum{C[2,i]*x[i], i in 1:6}<=C[2,7])\n",
    "@constraint(m, sum{C[3,i]*x[i], i in 1:6}<=C[3,7])\n",
    "@constraint(m, sum{C[4,i]*x[i], i in 1:6}<=C[4,7])\n",
    "\n",
    "#Logical constraints\n",
    "@constraint(m, x[2]+x[5]<=1)\n",
    "@constraint(m, x[4]+x[5]>=x[6])"
   ]
  },
  {
   "cell_type": "markdown",
   "metadata": {},
   "source": [
    "# Objective"
   ]
  },
  {
   "cell_type": "code",
   "execution_count": 5,
   "metadata": {
    "collapsed": false
   },
   "outputs": [
    {
     "data": {
      "text/latex": [
       "$$ 1.0e6 x_{1} + 200000 x_{2} + 300000 x_{3} + 400000 x_{4} + 450000 x_{5} + 450000 x_{6} $$"
      ],
      "text/plain": [
       "1.0e6 x[1] + 200000 x[2] + 300000 x[3] + 400000 x[4] + 450000 x[5] + 450000 x[6]"
      ]
     },
     "execution_count": 5,
     "metadata": {},
     "output_type": "execute_result"
    }
   ],
   "source": [
    "#Maximize number of customers reached\n",
    "@objective(m, Max, sum{C[1,i]*x[i], i in 1:6})"
   ]
  },
  {
   "cell_type": "markdown",
   "metadata": {},
   "source": [
    "# Output "
   ]
  },
  {
   "cell_type": "code",
   "execution_count": 6,
   "metadata": {
    "collapsed": false
   },
   "outputs": [
    {
     "name": "stdout",
     "output_type": "stream",
     "text": [
      "Optimal Objective Value is: 2.15e6\n",
      "Optimal Solution is:[1.0,0.0,1.0,1.0,1.0,0.0]\n"
     ]
    }
   ],
   "source": [
    "solve(m)\n",
    "println(\"Optimal Objective Value is: \", getobjectivevalue(m))\n",
    "println(\"Optimal Solution is:\", getvalue(x))"
   ]
  },
  {
   "cell_type": "code",
   "execution_count": null,
   "metadata": {
    "collapsed": true
   },
   "outputs": [],
   "source": []
  }
 ],
 "metadata": {
  "kernelspec": {
   "display_name": "Julia 0.4.6",
   "language": "julia",
   "name": "julia-0.4"
  },
  "language_info": {
   "file_extension": ".jl",
   "mimetype": "application/julia",
   "name": "julia",
   "version": "0.4.6"
  }
 },
 "nbformat": 4,
 "nbformat_minor": 0
}
