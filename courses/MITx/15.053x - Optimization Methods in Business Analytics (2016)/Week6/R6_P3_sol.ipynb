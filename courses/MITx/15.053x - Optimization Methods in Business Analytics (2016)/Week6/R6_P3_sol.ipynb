{
 "cells": [
  {
   "cell_type": "code",
   "execution_count": 2,
   "metadata": {
    "collapsed": false
   },
   "outputs": [
    {
     "name": "stderr",
     "output_type": "stream",
     "text": [
      "INFO: Nothing to be done\n",
      "INFO: METADATA is out-of-date — you may not have the latest version of ECOS\n",
      "INFO: Use `Pkg.update()` to get the latest versions of your packages\n",
      "INFO: Recompiling stale cache file /Users/khizarqureshi/.julia/lib/v0.4/ECOS.ji for module ECOS.\n"
     ]
    },
    {
     "name": "stdout",
     "output_type": "stream",
     "text": [
      "getvalue(x) = [0.5000000000189754,0.5000000000189754,1.3727451529686041e-5,1.3727451529686041e-5,1.3727516597801952e-5]\n",
      "getvalue(t) = 0.7071067806839108\n",
      "\n",
      "ECOS 2.0.5 - (C) embotech GmbH, Zurich Switzerland, 2012-15. Web: www.embotech.com/ECOS\n",
      "\n",
      "It     pcost       dcost      gap   pres   dres    k/t    mu     step   sigma     IR    |   BT\n",
      " 0  +0.000e+00  -4.000e+00  +3e+01  5e-01  2e-01  1e+00  2e+00    ---    ---    1  1  - |  -  - \n",
      " 1  +2.520e-02  -5.226e-01  +6e+00  8e-02  2e-02  2e-01  5e-01  0.7930  7e-02   2  2  2 |  0  0\n",
      " 2  +5.996e-01  +4.679e-01  +2e+00  2e-02  4e-03  7e-02  2e-01  0.7659  6e-02   2  2  2 |  0  0\n",
      " 3  +6.762e-01  +6.544e-01  +3e-01  3e-03  6e-04  9e-03  2e-02  0.9470  1e-01   2  1  1 |  0  0\n",
      " 4  +7.034e-01  +6.988e-01  +6e-02  6e-04  1e-04  1e-03  5e-03  0.8988  1e-01   2  2  2 |  0  0\n",
      " 5  +7.056e-01  +7.044e-01  +1e-02  2e-04  3e-05  3e-04  1e-03  0.8704  1e-01   1  1  1 |  0  0\n",
      " 6  +7.069e-01  +7.066e-01  +4e-03  4e-05  7e-06  8e-05  3e-04  0.9077  2e-01   2  2  2 |  0  0\n",
      " 7  +7.070e-01  +7.070e-01  +8e-04  8e-06  1e-06  2e-05  6e-05  0.9417  1e-01   1  1  1 |  0  0\n",
      " 8  +7.071e-01  +7.071e-01  +1e-04  1e-06  2e-07  3e-06  1e-05  0.9348  1e-01   1  2  2 |  0  0\n",
      " 9  +7.071e-01  +7.071e-01  +2e-05  3e-07  4e-08  5e-07  2e-06  0.9133  1e-01   2  1  1 |  0  0\n",
      "10  +7.071e-01  +7.071e-01  +5e-06  6e-08  9e-09  1e-07  4e-07  0.9019  1e-01   1  1  1 |  0  0\n",
      "11  +7.071e-01  +7.071e-01  +1e-06  1e-08  2e-09  2e-08  1e-07  0.9096  1e-01   2  1  1 |  0  0\n",
      "12  +7.071e-01  +7.071e-01  +2e-07  3e-09  4e-10  5e-09  2e-08  0.9224  1e-01   2  1  1 |  0  0\n",
      "13  +7.071e-01  +7.071e-01  +5e-08  5e-10  8e-11  9e-10  4e-09  0.9242  1e-01   1  1  1 |  0  0\n",
      "14  +7.071e-01  +7.071e-01  +9e-09  9e-11  2e-11  2e-10  8e-10  0.9175  1e-01   1  1  1 |  0  0\n",
      "\n",
      "OPTIMAL (within feastol=9.5e-11, reltol=1.3e-08, abstol=9.2e-09).\n",
      "Runtime: 0.002449 seconds.\n",
      "\n"
     ]
    },
    {
     "data": {
      "text/plain": [
       "0.7071067806839108"
      ]
     },
     "execution_count": 2,
     "metadata": {},
     "output_type": "execute_result"
    }
   ],
   "source": [
    "Pkg.add(\"ECOS\")\n",
    "#Pkg.add(\"JuMP\")\n",
    "#Pkg.update()\n",
    "using JuMP\n",
    "using ECOS\n",
    "\n",
    "\n",
    "m = Model(solver=ECOSSolver())\n",
    "@variable(m, 0<= x[1:5] <= 1)\n",
    "@variable(m, t)\n",
    "@objective(m, Min, t)\n",
    "@constraint(m, soc, norm2{ x[i], i=1:5 } <= t)\n",
    "@constraint(m, x[1]+x[2] >=1)\n",
    "status = solve(m)\n",
    "\n",
    "@show getvalue(x) \n",
    "@show getvalue(t) \n",
    "\n"
   ]
  },
  {
   "cell_type": "code",
   "execution_count": null,
   "metadata": {
    "collapsed": true
   },
   "outputs": [],
   "source": []
  }
 ],
 "metadata": {
  "kernelspec": {
   "display_name": "Julia 0.4.6",
   "language": "julia",
   "name": "julia-0.4"
  },
  "language_info": {
   "file_extension": ".jl",
   "mimetype": "application/julia",
   "name": "julia",
   "version": "0.4.6"
  }
 },
 "nbformat": 4,
 "nbformat_minor": 0
}
