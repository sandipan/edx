{
 "cells": [
  {
   "cell_type": "markdown",
   "metadata": {},
   "source": [
    "# Part A"
   ]
  },
  {
   "cell_type": "code",
   "execution_count": 6,
   "metadata": {
    "collapsed": false
   },
   "outputs": [
    {
     "name": "stdout",
     "output_type": "stream",
     "text": [
      "Max objective: 190.0\n",
      "[0.0,0.0,1.0,0.0,1.0]\n",
      "[0.0 0.0 0.0 0.0 0.0\n",
      " 0.0 0.0 0.0 0.0 0.0\n",
      " 0.0 1.0 1.0 1.0 0.0\n",
      " 0.0 0.0 0.0 0.0 0.0\n",
      " 1.0 0.0 0.0 0.0 1.0]\n"
     ]
    }
   ],
   "source": [
    "using JuMP\n",
    "\n",
    "m = Model()\n",
    "\n",
    "# Parameters\n",
    "\n",
    "F = 5 # total candidate facilities\n",
    "C = 5 # total customers\n",
    "W = 5 # total number of scenarios\n",
    "\n",
    "fac_cost = [40 40 40 40 40] # facility opening cost\n",
    "\n",
    "deliv_cost = zeros(5,5) # initialize delivery cost\n",
    "\n",
    "deliv_cost[:,:]=[30  15 59 78 27;50 42 25 30 53;64 14 30 20 62;46 19 66 48 11;19 40 60 31 27] # delivery cost \n",
    "\n",
    "@variable(m, y[1:5], Bin)\n",
    "@variable(m, x[1:5,1:5], Bin)\n",
    "for j in 1:5\n",
    "    @constraint(m, sum{x[i,j], i in 1:5} == 1)\n",
    "end\n",
    "for j in 1:5\n",
    "    @constraint(m, forceconst[i=1:5], x[i,j] <= y[i])\n",
    "end\n",
    "\n",
    "# objective:  maximize profit\n",
    "@objective(m, Min, sum{40*y[i], i in 1:5} + sum{deliv_cost[i,j]*x[i,j], i in 1:5, j in 1:5})\n",
    "\n",
    "solve(m)\n",
    "\n",
    "println(\"Min objective: \", getobjectivevalue(m))\n",
    "println(getvalue(y))\n",
    "println(getvalue(x))"
   ]
  },
  {
   "cell_type": "markdown",
   "metadata": {},
   "source": [
    "# Part B"
   ]
  },
  {
   "cell_type": "code",
   "execution_count": 1,
   "metadata": {
    "collapsed": false
   },
   "outputs": [
    {
     "name": "stderr",
     "output_type": "stream",
     "text": [
      "INFO: Precompiling module JuMP.\n",
      "INFO: Precompiling module Cbc.\n"
     ]
    },
    {
     "name": "stdout",
     "output_type": "stream",
     "text": [
      "Min objective: 173.4\n",
      "[1.0,1.0,0.0,0.0,0.0]\n",
      "[0.0 1.0 0.0 1.0 0.0\n",
      " 1.0 0.0 1.0 0.0 1.0\n",
      " 0.0 0.0 0.0 0.0 0.0\n",
      " 0.0 0.0 0.0 0.0 0.0\n",
      " 0.0 0.0 0.0 0.0 0.0]\n",
      "\n",
      "[1.0 1.0 0.0 1.0 0.0\n",
      " 0.0 0.0 1.0 0.0 1.0\n",
      " 0.0 0.0 0.0 0.0 0.0\n",
      " 0.0 0.0 0.0 0.0 0.0\n",
      " 0.0 0.0 0.0 0.0 0.0]\n",
      "\n",
      "[0.0 0.0 1.0 1.0 1.0\n",
      " 1.0 1.0 0.0 0.0 0.0\n",
      " 0.0 0.0 0.0 0.0 0.0\n",
      " 0.0 0.0 0.0 0.0 0.0\n",
      " 0.0 0.0 0.0 0.0 0.0]\n",
      "\n",
      "[0.0 0.0 1.0 1.0 0.0\n",
      " 1.0 1.0 0.0 0.0 1.0\n",
      " 0.0 0.0 0.0 0.0 0.0\n",
      " 0.0 0.0 0.0 0.0 0.0\n",
      " 0.0 0.0 0.0 0.0 0.0]\n",
      "\n",
      "[1.0 0.0 0.0 0.0 1.0\n",
      " 0.0 1.0 1.0 1.0 0.0\n",
      " 0.0 0.0 0.0 0.0 0.0\n",
      " 0.0 0.0 0.0 0.0 0.0\n",
      " 0.0 0.0 0.0 0.0 0.0]\n"
     ]
    }
   ],
   "source": [
    "using JuMP\n",
    "\n",
    "m = Model()\n",
    "\n",
    "# Parameters\n",
    "\n",
    "F = 5 # total candidate facilities\n",
    "C = 5 # total customers\n",
    "W = 5 # total number of scenarios\n",
    "\n",
    "fac_cost = [40 40 40 40 40] # facility opening cost\n",
    "\n",
    "del_cost = zeros(5,5,5) # initialize delivery cost\n",
    "\n",
    "del_cost[:,:,1]=[32  7 60 43 54;12 14 15 52 31;42 50 48 18 61;22 20 45 43 29;19 47 11 16 53] # delivery cost under scenario 1\n",
    "del_cost[:,:,2]=[10 12 26 19 21;22 46 17 20  9;61 67 17 20 19;31 59 10 71 40;13 48 26 54 19] # delivery cost under scenario 2\n",
    "del_cost[:,:,3]=[33 41 10 12 11;16 18 16 33 30;57 32 50 54 39;37 18 47 35 39;48 49 54 67 74] # delivery cost under scenario 3\n",
    "del_cost[:,:,4]=[19 55 15 26 45; 2 54 17 45 25;52 50 36 34 37;13 34 33 26 50;54 70 36 20 37] # delivery cost under scenario 4\n",
    "del_cost[:,:,5]=[24 27 57 39 30;56 14 23 13 64;16 22 79 11 23;62 12 39 64 18;30 15 62 31 41] # delivery cost under scenario 5\n",
    "  \n",
    "prob = [0.15, 0.15, 0.25, 0.2, 0.25] # probability of scenario realization\n",
    "\n",
    "@variable(m, y[1:5], Bin)\n",
    "@variable(m, x[1:5,1:5,1:5], Bin)\n",
    "for j in 1:5\n",
    "  for k in 1:5\n",
    "    @constraint(m, sum{x[i,j,k], i in 1:5} == 1)\n",
    "  end\n",
    "end\n",
    "for j in 1:5\n",
    "   for k in 1:5\n",
    "      @constraint(m, forceconst[i=1:5], x[i,j,k] <= y[i])\n",
    "   end\n",
    "end\n",
    "\n",
    "# objective:  maximize profit\n",
    "@objective(m, Min, sum{40*y[i], i in 1:5} + sum{prob[k]*sum{del_cost[i,j,k]*x[i,j,k], i in 1:5, j in 1:5}, k in 1:5})\n",
    "\n",
    "solve(m)\n",
    "\n",
    "println(\"Min objective: \", getobjectivevalue(m))\n",
    "println(getvalue(y))\n",
    "println(getvalue(x))"
   ]
  },
  {
   "cell_type": "code",
   "execution_count": null,
   "metadata": {
    "collapsed": true
   },
   "outputs": [],
   "source": []
  }
 ],
 "metadata": {
  "kernelspec": {
   "display_name": "Julia 0.4.7",
   "language": "julia",
   "name": "julia-0.4"
  },
  "language_info": {
   "file_extension": ".jl",
   "mimetype": "application/julia",
   "name": "julia",
   "version": "0.4.7"
  }
 },
 "nbformat": 4,
 "nbformat_minor": 0
}
