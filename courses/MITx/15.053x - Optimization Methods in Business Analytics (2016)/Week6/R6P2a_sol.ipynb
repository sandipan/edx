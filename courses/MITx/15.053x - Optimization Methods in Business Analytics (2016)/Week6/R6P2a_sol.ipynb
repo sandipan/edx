{
 "cells": [
  {
   "cell_type": "code",
   "execution_count": 7,
   "metadata": {
    "collapsed": false
   },
   "outputs": [
    {
     "name": "stdout",
     "output_type": "stream",
     "text": [
      "got 46.33149336884889 at [2.358081774046076,2.641917991865368,5.0]\n"
     ]
    }
   ],
   "source": [
    "#Pkg.add(\"NLopt\")\n",
    "#Pkg.add(\"JuMP\")\n",
    "using JuMP\n",
    "using NLopt\n",
    "\n",
    "m = Model(solver=NLoptSolver(algorithm=:LD_MMA))\n",
    "\n",
    "a1 = 2\n",
    "b1 = 0\n",
    "a2 = -1\n",
    "b2 = 1\n",
    "\n",
    "T=1\n",
    "\n",
    "@variable(m, 0<=x1<=5)\n",
    "@variable(m, 0<=x2<=5)\n",
    "@variable(m, 0<=x3<=5)\n",
    "\n",
    "@NLobjective(m, Max, 20*x1+16*x2-(T*(2*(x1)^2+(x2)^2+(x3)^2)))\n",
    "@NLconstraint(m, x1+x2<=5)\n",
    "@NLconstraint(m, x1+x2-x3 <= 0)\n",
    "@NLconstraint(m, x1+x2-x3 >= 0)\n",
    "\n",
    "\n",
    "\n",
    "status = solve(m)\n",
    "\n",
    "println(\"got \", getobjectivevalue(m), \" at \", [getvalue(x1),getvalue(x2),getvalue(x3)])"
   ]
  },
  {
   "cell_type": "code",
   "execution_count": null,
   "metadata": {
    "collapsed": true
   },
   "outputs": [],
   "source": []
  }
 ],
 "metadata": {
  "kernelspec": {
   "display_name": "Julia 0.4.6",
   "language": "julia",
   "name": "julia-0.4"
  },
  "language_info": {
   "file_extension": ".jl",
   "mimetype": "application/julia",
   "name": "julia",
   "version": "0.4.6"
  }
 },
 "nbformat": 4,
 "nbformat_minor": 0
}
