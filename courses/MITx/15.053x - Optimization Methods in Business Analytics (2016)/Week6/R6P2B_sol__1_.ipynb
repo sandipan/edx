{
 "cells": [
  {
   "cell_type": "markdown",
   "metadata": {},
   "source": [
    "# Part A"
   ]
  },
  {
   "cell_type": "code",
   "execution_count": 1,
   "metadata": {
    "collapsed": false
   },
   "outputs": [
    {
     "name": "stdout",
     "output_type": "stream",
     "text": [
      "got 46.33149336884889 at "
     ]
    },
    {
     "name": "stderr",
     "output_type": "stream",
     "text": [
      "WARNING: Nonlinear solver does not provide dual solutions\n"
     ]
    },
    {
     "name": "stdout",
     "output_type": "stream",
     "text": [
      "[2.358081774046076,2.641917991865368,5.0]\n"
     ]
    }
   ],
   "source": [
    "#Pkg.add(\"NLopt\")\n",
    "#Pkg.add(\"JuMP\")\n",
    "using JuMP\n",
    "using NLopt\n",
    "\n",
    "m = Model(solver=NLoptSolver(algorithm=:LD_MMA))\n",
    "\n",
    "a1 = 2\n",
    "b1 = 0\n",
    "a2 = -1\n",
    "b2 = 1\n",
    "\n",
    "T=1\n",
    "\n",
    "@variable(m, 0<=x1<=5)\n",
    "@variable(m, 0<=x2<=5)\n",
    "@variable(m, 0<=x3<=5)\n",
    "\n",
    "@NLobjective(m, Max, 20*x1+16*x2-(T*(2*(x1)^2+(x2)^2+(x3)^2)))\n",
    "@NLconstraint(m, x1+x2<=5)\n",
    "@NLconstraint(m, x1+x2-x3 <= 0)\n",
    "@NLconstraint(m, x1+x2-x3 >= 0)\n",
    "\n",
    "\n",
    "\n",
    "status = solve(m)\n",
    "\n",
    "println(\"got \", getobjectivevalue(m), \" at \", [getvalue(x1),getvalue(x2),getvalue(x3)])"
   ]
  },
  {
   "cell_type": "markdown",
   "metadata": {},
   "source": [
    "# Part B"
   ]
  },
  {
   "cell_type": "code",
   "execution_count": 9,
   "metadata": {
    "collapsed": false
   },
   "outputs": [
    {
     "name": "stdout",
     "output_type": "stream",
     "text": [
      "\n",
      "******************************************************************************\n",
      "This program contains Ipopt, a library for large-scale nonlinear optimization.\n",
      " Ipopt is released as open source code under the Eclipse Public License (EPL).\n",
      "         For more information visit http://projects.coin-or.org/Ipopt\n",
      "******************************************************************************\n",
      "\n",
      "Theta=0\n",
      "got 100.00000023330931 with weights [5.0,0.0,5.0]\n",
      "Theta=1\n",
      "got 46.333333432659465 with weights [2.3333333342767855,2.666666668419326,4.999999992943239]\n",
      "Theta=2\n",
      "got 23.20000010159641 with weights [1.200000001985744,1.4000000038877487,2.5999999961046076]\n",
      "Theta=3\n",
      "got 15.466666768219731 with weights [0.8000000020500867,0.9333333373556657,1.7333333296410347]\n",
      "Theta=4\n",
      "got 11.600000103995479 with weights [0.6000000021196622,0.7000000041630897,1.2999999962831867]\n",
      "Theta=5\n",
      "got 9.280000103995567 with weights [0.48000000213123317,0.5600000041868947,1.0399999963185542]\n"
     ]
    }
   ],
   "source": [
    "using Ipopt\n",
    "using JuMP\n",
    "\n",
    "m = Model(solver=IpoptSolver(print_level=0))\n",
    "\n",
    "a1 = 2\n",
    "b1 = 0\n",
    "a2 = -1\n",
    "b2 = 1\n",
    "\n",
    "T=[0,1,2,3,4,5]\n",
    "\n",
    "@variable(m, 0<=x1<=5)\n",
    "@variable(m, 0<=x2<=5)\n",
    "@variable(m, 0<=x3<=5)\n",
    "\n",
    "\n",
    "@NLconstraint(m, x1+x2<=5)\n",
    "@NLconstraint(m, x1+x2-x3 <= 0)\n",
    "@NLconstraint(m, x1+x2-x3 >= 0)\n",
    "\n",
    "for i=1:length(T)\n",
    "    @NLobjective(m, Max, 20*x1+16*x2-(T[i]*(2*(x1)^2+(x2)^2+(x3)^2)))\n",
    "    status = solve(m)\n",
    "    println(\"Theta=\",T[i])\n",
    "    println(\"got \", getobjectivevalue(m), \" with weights \", [getvalue(x1),getvalue(x2),getvalue(x3)])\n",
    "end"
   ]
  },
  {
   "cell_type": "code",
   "execution_count": null,
   "metadata": {
    "collapsed": true
   },
   "outputs": [],
   "source": []
  }
 ],
 "metadata": {
  "kernelspec": {
   "display_name": "Julia 0.4.6",
   "language": "julia",
   "name": "julia-0.4"
  },
  "language_info": {
   "file_extension": ".jl",
   "mimetype": "application/julia",
   "name": "julia",
   "version": "0.4.6"
  }
 },
 "nbformat": 4,
 "nbformat_minor": 0
}
