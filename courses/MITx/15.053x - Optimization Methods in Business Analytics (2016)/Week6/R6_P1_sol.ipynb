{
 "cells": [
  {
   "cell_type": "code",
   "execution_count": 1,
   "metadata": {
    "collapsed": false
   },
   "outputs": [
    {
     "name": "stderr",
     "output_type": "stream",
     "text": [
      "INFO: Recompiling stale cache file /Users/khizarqureshi/.julia/lib/v0.4/NLopt.ji for module NLopt.\n"
     ]
    },
    {
     "name": "stdout",
     "output_type": "stream",
     "text": [
      "got 0.4941058385765646 at "
     ]
    },
    {
     "name": "stderr",
     "output_type": "stream",
     "text": [
      "WARNING: Nonlinear solver does not provide dual solutions\n"
     ]
    },
    {
     "name": "stdout",
     "output_type": "stream",
     "text": [
      "[0.2499999980170959,0.2441405797154501]\n"
     ]
    }
   ],
   "source": [
    "using JuMP\n",
    "using NLopt\n",
    "\n",
    "m = Model(solver=NLoptSolver(algorithm=:LD_MMA))\n",
    "\n",
    "a1 = 5/2\n",
    "b1 = 0\n",
    "a2 = -3/2\n",
    "b2 = 1\n",
    "\n",
    "@variable(m, x1)\n",
    "@variable(m, x2 >= 0)\n",
    "\n",
    "@NLobjective(m, Min, sqrt(x2))\n",
    "@NLconstraint(m, x2 >= (a1*x1+b1)^3)\n",
    "@NLconstraint(m, x2 >= (a2*x1+b2)^3)\n",
    "\n",
    "setvalue(x1, 1.234)\n",
    "setvalue(x2, 5.678)\n",
    "\n",
    "status = solve(m)\n",
    "\n",
    "println(\"got \", getobjectivevalue(m), \" at \", [getvalue(x1),getvalue(x2)])"
   ]
  },
  {
   "cell_type": "code",
   "execution_count": null,
   "metadata": {
    "collapsed": true
   },
   "outputs": [],
   "source": []
  }
 ],
 "metadata": {
  "kernelspec": {
   "display_name": "Julia 0.4.6",
   "language": "julia",
   "name": "julia-0.4"
  },
  "language_info": {
   "file_extension": ".jl",
   "mimetype": "application/julia",
   "name": "julia",
   "version": "0.4.6"
  }
 },
 "nbformat": 4,
 "nbformat_minor": 0
}
