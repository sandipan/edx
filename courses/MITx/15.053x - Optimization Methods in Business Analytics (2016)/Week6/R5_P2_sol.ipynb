{
 "cells": [
  {
   "cell_type": "code",
   "execution_count": 3,
   "metadata": {
    "collapsed": false
   },
   "outputs": [
    {
     "name": "stderr",
     "output_type": "stream",
     "text": [
      "INFO: Nothing to be done\n"
     ]
    },
    {
     "ename": "LoadError",
     "evalue": "LoadError: UndefVarError: ECOSSolver not defined\nwhile loading In[3], in expression starting on line 7",
     "output_type": "error",
     "traceback": [
      "LoadError: UndefVarError: ECOSSolver not defined\nwhile loading In[3], in expression starting on line 7",
      ""
     ]
    }
   ],
   "source": [
    "Pkg.add(\"ECOS\")\n",
    "#Pkg.add(\"JuMP\")\n",
    "#Pkg.update()\n",
    "using JuMP\n",
    "using NLopt\n",
    "\n",
    "m = Model(solver=ECOSSolver())\n",
    "@variable(m, 0<= x[1:5] <= 1)\n",
    "@variable(m, t)\n",
    "@objective(m, Min, t)\n",
    "@constraint(m, soc, norm2{ x[i], i=1:5 } <= t)\n",
    "@constraint(m, x[1]+x[2] >=1)\n",
    "status = solve(m)\n",
    "\n",
    "@show getvalue(x) \n",
    "@show getvalue(t) \n",
    "\n"
   ]
  },
  {
   "cell_type": "code",
   "execution_count": null,
   "metadata": {
    "collapsed": true
   },
   "outputs": [],
   "source": []
  }
 ],
 "metadata": {
  "kernelspec": {
   "display_name": "Julia 0.4.6",
   "language": "julia",
   "name": "julia-0.4"
  },
  "language_info": {
   "file_extension": ".jl",
   "mimetype": "application/julia",
   "name": "julia",
   "version": "0.4.6"
  }
 },
 "nbformat": 4,
 "nbformat_minor": 0
}
