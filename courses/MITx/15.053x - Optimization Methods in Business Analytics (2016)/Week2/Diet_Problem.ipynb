{
 "cells": [
  {
   "cell_type": "code",
   "execution_count": 1,
   "metadata": {
    "collapsed": false
   },
   "outputs": [
    {
     "name": "stdout",
     "output_type": "stream",
     "text": [
      "variable values: x: 1 dimensions, 4 entries:\n",
      " [   brownies] = 0.0\n",
      " [cheese cake] = 0.0\n",
      " [       cola] = 0.9999999999999998\n",
      " [  ice cream] = 3.0000000000000004\n",
      "Objetive value: 0.9\n"
     ]
    }
   ],
   "source": [
    "using JuMP\n",
    "#Define model \n",
    "m = Model()\n",
    "#Food available\n",
    "S = [\"brownies\",\"ice cream\",\"cola\",\"cheese cake\"]\n",
    "#Non-negativity\n",
    "@defVar(m, x[S] >= 0)\n",
    "#Minimum calories\n",
    "@addConstraint(m, 400x[\"brownies\"] + 200x[\"ice cream\"] + 150x[\"cola\"] + 500x[\"cheese cake\"] >= 500)\n",
    "#At least 6 grams of chocolate\n",
    "@addConstraint(m, 3x[\"brownies\"] + 2x[\"ice cream\"] >= 6)\n",
    "#At least 10 grams of sugar\n",
    "@addConstraint(m, 2x[\"brownies\"] + 2x[\"ice cream\"] + 4x[\"cola\"] + 4x[\"cheese cake\"] >= 10)\n",
    "#At least 8 grams of fat\n",
    "@addConstraint(m, 2x[\"brownies\"] + 4x[\"ice cream\"] + 1x[\"cola\"] + 5x[\"cheese cake\"] >= 8)\n",
    "#Minimize cost of consumption\n",
    "@setObjective(m, Min, 0.5x[\"brownies\"] + 0.2x[\"ice cream\"] + 0.3x[\"cola\"] + 0.8x[\"cheese cake\"])\n",
    "#Solve the optimization problem\n",
    "solve(m)\n",
    "#Determine consumption amounts\n",
    "println(\"variable values: \", getValue(x))\n",
    "#Determine optimal cost of consumption\n",
    "println(\"Objetive value: \", getObjectiveValue(m))"
   ]
  },
  {
   "cell_type": "code",
   "execution_count": null,
   "metadata": {
    "collapsed": true
   },
   "outputs": [],
   "source": []
  }
 ],
 "metadata": {
  "kernelspec": {
   "display_name": "Julia 0.3.12",
   "language": "julia",
   "name": "julia-0.3"
  },
  "language_info": {
   "file_extension": ".jl",
   "mimetype": "application/julia",
   "name": "julia",
   "version": "0.3.12"
  }
 },
 "nbformat": 4,
 "nbformat_minor": 0
}
