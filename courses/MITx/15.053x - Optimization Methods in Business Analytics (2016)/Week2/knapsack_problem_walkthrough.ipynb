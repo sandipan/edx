{
 "cells": [
  {
   "cell_type": "code",
   "execution_count": 3,
   "metadata": {
    "collapsed": false
   },
   "outputs": [
    {
     "name": "stdout",
     "output_type": "stream",
     "text": [
      "Variable Values: [1.0,1.0,0.0,1.0,0.0]\n",
      "Objetive value: 29.0\n"
     ]
    }
   ],
   "source": [
    "using JuMP, DataFrames\n",
    "\n",
    "# Define model\n",
    "m = Model()\n",
    "\n",
    "# Define capacity\n",
    "capacity = 11\n",
    "\n",
    "# Read data from CSV file using readtable\n",
    "data = readtable(\"knapsack_data.csv\", header = false)\n",
    "\n",
    "# Weights from first column, weights = [1 2 15 6 28]\n",
    "weights = data[:,1]\n",
    "\n",
    "# Values from second column, values = [1 6 18 22 7]\n",
    "values = data[:,2]\n",
    "\n",
    "# Assign binary values to items\n",
    "@variable(m, x[1:5], Bin)\n",
    "\n",
    "# Constraint on total weight\n",
    "@constraint(m, sum{weights[i]*x[i], i in 1:5} <= capacity) \n",
    "\n",
    "# Maximize value from items\n",
    "@objective(m, Max, sum{values[i]*x[i], i in 1:5})\n",
    "\n",
    "# Solve model\n",
    "solve(m)\n",
    "\n",
    "# Determine which items to carry \n",
    "println(\"Variable Values: \", getvalue(x))\n",
    "\n",
    "# Determine value from items carried\n",
    "println(\"Objetive value: \", getobjectivevalue(m))"
   ]
  },
  {
   "cell_type": "code",
   "execution_count": null,
   "metadata": {
    "collapsed": true
   },
   "outputs": [],
   "source": []
  }
 ],
 "metadata": {
  "kernelspec": {
   "display_name": "Julia 0.4.6",
   "language": "julia",
   "name": "julia-0.4"
  },
  "language_info": {
   "file_extension": ".jl",
   "mimetype": "application/julia",
   "name": "julia",
   "version": "0.4.6"
  }
 },
 "nbformat": 4,
 "nbformat_minor": 0
}
