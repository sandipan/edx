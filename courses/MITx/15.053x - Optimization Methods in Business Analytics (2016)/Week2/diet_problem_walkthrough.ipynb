{
 "cells": [
  {
   "cell_type": "code",
   "execution_count": 15,
   "metadata": {
    "collapsed": false
   },
   "outputs": [
    {
     "name": "stdout",
     "output_type": "stream",
     "text": [
      "Variable values: x: 1 dimensions:\n",
      "[   brownies] = 0.0\n",
      "[  ice cream] = 3.0000000000000004\n",
      "[       cola] = 0.9999999999999998\n",
      "[cheese cake] = 0.0\n",
      "\n",
      "Objetive value: 0.9\n"
     ]
    }
   ],
   "source": [
    "# Initialize JuMP\n",
    "using JuMP\n",
    "\n",
    "# Define model \n",
    "mymodel = Model()\n",
    "\n",
    "# Create a foods available array\n",
    "foods = [\"brownies\", \"ice cream\", \"cola\", \"cheese cake\"]\n",
    "\n",
    "# Define decision variables, non-negative\n",
    "@variable(mymodel, x[foods] >= 0)\n",
    "\n",
    "# Constraints\n",
    "# At least 500 calories\n",
    "@constraint(mymodel, 400x[\"brownies\"] + 200x[\"ice cream\"] + 150x[\"cola\"] + 500x[\"cheese cake\"] >= 500)\n",
    "\n",
    "# At least 6 grams of chocolate\n",
    "@constraint(mymodel, 3x[\"brownies\"] + 2x[\"ice cream\"] >= 6)\n",
    "\n",
    "# At least 10 grams of sugar\n",
    "@constraint(mymodel, 2x[\"brownies\"] + 2x[\"ice cream\"] + 4x[\"cola\"] + 4x[\"cheese cake\"] >= 10)\n",
    "\n",
    "# At least 8 grams of fat\n",
    "@constraint(mymodel, 2x[\"brownies\"] + 4x[\"ice cream\"] + 1x[\"cola\"] + 5x[\"cheese cake\"] >= 8)\n",
    "\n",
    "# Set objective function\n",
    "@objective(mymodel, Min, 0.5x[\"brownies\"] + 0.2x[\"ice cream\"] + 0.3x[\"cola\"] + 0.8x[\"cheese cake\"])\n",
    "\n",
    "# Solve the optimization problem\n",
    "solve(mymodel)\n",
    "\n",
    "# Print the consumption amounts\n",
    "println(\"Variable values: \", getvalue(x))\n",
    "\n",
    "# Print the objective value\n",
    "println(\"Objetive value: \", getobjectivevalue(mymodel))"
   ]
  }
 ],
 "metadata": {
  "kernelspec": {
   "display_name": "Julia 0.4.6",
   "language": "julia",
   "name": "julia-0.4"
  },
  "language_info": {
   "file_extension": ".jl",
   "mimetype": "application/julia",
   "name": "julia",
   "version": "0.4.6"
  }
 },
 "nbformat": 4,
 "nbformat_minor": 0
}
