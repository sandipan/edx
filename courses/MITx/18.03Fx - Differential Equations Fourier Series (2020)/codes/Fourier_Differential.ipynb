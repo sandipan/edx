{
 "cells": [
  {
   "cell_type": "markdown",
   "metadata": {},
   "source": [
    "# Fourier Series and Differential Equation with some applications"
   ]
  },
  {
   "cell_type": "markdown",
   "metadata": {},
   "source": [
    "In this article, a few applications of Fourier Series in solving differential equations will be described. All the problems are taken from the **edx Course: MITx - 18.03Fx: Differential Equations Fourier Series and Partial Differential Equations**. \n",
    "\n",
    "First a basic introduction to the Fourier series will be given and then we shall see how to solve the following ODEs / PDEs using Fourier series:\n",
    "\n",
    "1. Find the steady state solution to undamped / damped systems with pure / near **resonance**.\n",
    "2. Solve the $4^{th}$ order differential equation for **beam bending** system with **boundary values**, using theoretical and numeric techniques.\n",
    "3. Solve the *PDE* for **Heat** / Diffusion.\n",
    "4. Solve **Wave** equation (PDE).\n",
    "\n",
    "\n",
    "## Some basics"
   ]
  },
  {
   "cell_type": "markdown",
   "metadata": {},
   "source": [
    "Let $f(t)$ be a periodic function with period $L$.Then the Fourier series of $f(t)$ is given by the following superposition"
   ]
  },
  {
   "cell_type": "markdown",
   "metadata": {},
   "source": [
    "![](f1.png)"
   ]
  },
  {
   "cell_type": "markdown",
   "metadata": {},
   "source": [
    "The formulas can be simplified as below, for even and odd functions"
   ]
  },
  {
   "cell_type": "markdown",
   "metadata": {},
   "source": [
    "![](f2.png)"
   ]
  },
  {
   "cell_type": "markdown",
   "metadata": {},
   "source": [
    "A few popular $2\\pi$ periodic functions and their Fourier series are shown below:"
   ]
  },
  {
   "cell_type": "markdown",
   "metadata": {},
   "source": [
    "![](f3.png)"
   ]
  },
  {
   "cell_type": "markdown",
   "metadata": {},
   "source": [
    "### Computing the Fourier coefficients for the Square wave"
   ]
  },
  {
   "cell_type": "markdown",
   "metadata": {},
   "source": [
    "![](f4.png)"
   ]
  },
  {
   "cell_type": "markdown",
   "metadata": {},
   "source": [
    "### Computing the coefficients in R"
   ]
  },
  {
   "cell_type": "code",
   "execution_count": 18,
   "metadata": {},
   "outputs": [
    {
     "data": {
      "image/png": "[encoded data removed]",
      "text/plain": [
       "plot without title"
      ]
     },
     "metadata": {},
     "output_type": "display_data"
    }
   ],
   "source": [
    "library(ggplot2)\n",
    "library(latex2exp)\n",
    "\n",
    "Sq <- function(t) {\n",
    "  ifelse(t > 0, ifelse(as.integer(t / pi) %% 2 == 0, 1, -1), \n",
    "                ifelse(as.integer(t / pi) %% 2 == 1, 1, -1))\n",
    "}\n",
    "\n",
    "t <- seq(-3*pi, 3*pi, 0.01)\n",
    "ggplot() + \n",
    "  geom_line(aes(t, Sq(t)), size=1.5, col='red') +\n",
    "  ylab('f(t)') +\n",
    "  scale_x_continuous(breaks=seq(-3*pi, 3*pi, pi),\n",
    "        labels=c(TeX('$-3\\\\pi$'),TeX('$-2\\\\pi$'),TeX('$-\\\\pi$'),0,TeX('$\\\\pi$'),TeX('$2\\\\pi$'),TeX('$3\\\\pi$'))) +\n",
    "  scale_y_continuous(breaks=c(-1,0,1), labels=c('-1', '0', '1')) + \n",
    "  ggtitle(TeX(paste('Square wave of period $2\\\\pi$'))) +\n",
    "  theme(plot.title = element_text(hjust = 0.5))"
   ]
  },
  {
   "cell_type": "code",
   "execution_count": 1,
   "metadata": {},
   "outputs": [
    {
     "name": "stdout",
     "output_type": "stream",
     "text": [
      "[1] \"1.27323954473516 1.27323954473516\"\n",
      "[1] \"0 0\"\n",
      "[1] \"0.424413181578388 0.424413181578388\"\n",
      "[1] \"0 0\"\n",
      "[1] \"0.254647908947032 0.254647908947033\"\n",
      "[1] \"0 0\"\n"
     ]
    }
   ],
   "source": [
    "for (n in 1:6) {\n",
    "    b_n <- round(2/pi * integrate(function(t) sin(n*t), 0, pi)$value, 15)\n",
    "    print(paste(b_n, ifelse(n %% 2 == 0, 0, 4/n/pi)))                         \n",
    "}"
   ]
  },
  {
   "cell_type": "markdown",
   "metadata": {},
   "source": [
    "![](Sq.gif)"
   ]
  },
  {
   "cell_type": "markdown",
   "metadata": {},
   "source": [
    "Notice that the square wave has disconticuities at points $t=k\\pi$, where $k \\in Z$, the convergence of the Fourier series with the original periodic function is very slow near the discontinuities, which is known as **Gibbs phenomenon**."
   ]
  },
  {
   "cell_type": "markdown",
   "metadata": {},
   "source": [
    "### Computing the Fourier Coefficients of the Triange Wave using Anti-derivatives"
   ]
  },
  {
   "cell_type": "markdown",
   "metadata": {},
   "source": [
    "![](f5.png)"
   ]
  },
  {
   "cell_type": "markdown",
   "metadata": {},
   "source": [
    "First let's write a few lines of code to plot the triangle wave. "
   ]
  },
  {
   "cell_type": "code",
   "execution_count": 30,
   "metadata": {},
   "outputs": [
    {
     "data": {
      "image/png": "[encoded data removed]",
      "text/plain": [
       "plot without title"
      ]
     },
     "metadata": {},
     "output_type": "display_data"
    }
   ],
   "source": [
    "Tr <- function(t) {\n",
    "  i <- as.integer(t / pi)\n",
    "  ifelse(t > 0, ifelse(i %% 2 == 0, t - i*pi, -t + (i+1)*pi), \n",
    "                ifelse(i %% 2 == 0, -t + i*pi, t - (i-1)*pi))\n",
    "}\n",
    "\n",
    "t <- seq(-3*pi, 3*pi, 0.01)\n",
    "ggplot() + \n",
    "  geom_line(aes(t, Tr(t)), size=1.5, col='red') +\n",
    "  ylab('f(t)') +\n",
    "  scale_x_continuous(breaks=seq(-3*pi, 3*pi, pi),\n",
    "        labels=c(TeX('$-3\\\\pi$'),TeX('$-2\\\\pi$'),TeX('$-\\\\pi$'),0,TeX('$\\\\pi$'),TeX('$2\\\\pi$'),TeX('$3\\\\pi$'))) +\n",
    "  scale_y_continuous(breaks=c(-pi,0,pi), labels=c(TeX('$-\\\\pi$'), '0', TeX('$\\\\pi$'))) + \n",
    "  ggtitle(TeX(paste('Triangle wave of period $2\\\\pi$'))) +\n",
    "  theme(plot.title = element_text(hjust = 0.5))"
   ]
  },
  {
   "cell_type": "markdown",
   "metadata": {},
   "source": [
    "### computign the constant term"
   ]
  },
  {
   "cell_type": "code",
   "execution_count": 36,
   "metadata": {},
   "outputs": [
    {
     "name": "stdout",
     "output_type": "stream",
     "text": [
      "[1] \"1.5707963267949 1.5707963267949\"\n"
     ]
    }
   ],
   "source": [
    "a_0 = 1/pi*integrate(t, 0, pi)$value\n",
    "print(paste(a_0, pi/2))"
   ]
  },
  {
   "cell_type": "markdown",
   "metadata": {},
   "source": [
    "![](f5.png)"
   ]
  },
  {
   "cell_type": "markdown",
   "metadata": {},
   "source": [
    "The next figure shows how the superpostion of first few terms in the Fourier series approximates the triangle wave function."
   ]
  },
  {
   "cell_type": "markdown",
   "metadata": {},
   "source": [
    "![](Tr.gif)"
   ]
  },
  {
   "cell_type": "markdown",
   "metadata": {},
   "source": [
    "## Solution of ODE with ERF and Resonance"
   ]
  },
  {
   "cell_type": "markdown",
   "metadata": {},
   "source": [
    "![](f7.png)"
   ]
  },
  {
   "cell_type": "markdown",
   "metadata": {},
   "source": [
    "The next section shows how to find the largest gain corresponding to the following system with damping"
   ]
  },
  {
   "cell_type": "markdown",
   "metadata": {},
   "source": [
    "![](f8.png)"
   ]
  },
  {
   "cell_type": "markdown",
   "metadata": {},
   "source": [
    "Let's plot the amplitudes of the terms to see which term has the largest gain."
   ]
  },
  {
   "cell_type": "code",
   "execution_count": 37,
   "metadata": {},
   "outputs": [
    {
     "data": {
      "image/png": "[encoded data removed]",
      "text/plain": [
       "plot without title"
      ]
     },
     "metadata": {},
     "output_type": "display_data"
    }
   ],
   "source": [
    "n <- seq(1,15,2)\n",
    "f <- (1/sqrt((49-n^2)^2 + (0.1*n)^2)/n)\n",
    "ggplot() + geom_point(aes(n, f))  +\n",
    "  geom_line(aes(n, f)) + ylab('c_n') +\n",
    "  scale_x_continuous(breaks=seq(1,15,2),\n",
    "                     labels=as.character(seq(1,15,2)))"
   ]
  },
  {
   "cell_type": "markdown",
   "metadata": {},
   "source": [
    "## Boundary Value Problems"
   ]
  },
  {
   "cell_type": "markdown",
   "metadata": {},
   "source": [
    "![](f9.png)"
   ]
  },
  {
   "cell_type": "markdown",
   "metadata": {},
   "source": [
    "![](beam.gif)"
   ]
  },
  {
   "cell_type": "markdown",
   "metadata": {},
   "source": [
    "### Numerically solving a linear system to obtain the solution of the beam-bending system represented by the $4^{th}$ order differential equation in R"
   ]
  },
  {
   "cell_type": "code",
   "execution_count": 65,
   "metadata": {},
   "outputs": [
    {
     "data": {
      "text/html": [
       "<table>\n",
       "<tbody>\n",
       "\t<tr><td>1 </td><td> 0</td><td> 0</td><td> 0</td><td> 0</td><td> 0</td><td> 0</td><td> 0</td><td> 0</td><td> 0</td></tr>\n",
       "\t<tr><td>1 </td><td> 1</td><td> 0</td><td> 0</td><td> 0</td><td> 0</td><td> 0</td><td> 0</td><td> 0</td><td> 0</td></tr>\n",
       "\t<tr><td>1 </td><td>-4</td><td> 6</td><td>-4</td><td> 1</td><td> 0</td><td> 0</td><td> 0</td><td> 0</td><td> 0</td></tr>\n",
       "\t<tr><td>0 </td><td> 1</td><td>-4</td><td> 6</td><td>-4</td><td> 1</td><td> 0</td><td> 0</td><td> 0</td><td> 0</td></tr>\n",
       "\t<tr><td>0 </td><td> 0</td><td> 1</td><td>-4</td><td> 6</td><td>-4</td><td> 1</td><td> 0</td><td> 0</td><td> 0</td></tr>\n",
       "\t<tr><td>0 </td><td> 0</td><td> 0</td><td> 1</td><td>-4</td><td> 6</td><td>-4</td><td> 1</td><td> 0</td><td> 0</td></tr>\n",
       "\t<tr><td>0 </td><td> 0</td><td> 0</td><td> 0</td><td> 1</td><td>-4</td><td> 6</td><td>-4</td><td> 1</td><td> 0</td></tr>\n",
       "\t<tr><td>0 </td><td> 0</td><td> 0</td><td> 0</td><td> 0</td><td> 1</td><td>-4</td><td> 6</td><td>-4</td><td> 1</td></tr>\n",
       "\t<tr><td>0 </td><td> 0</td><td> 0</td><td> 0</td><td> 0</td><td> 0</td><td> 1</td><td>-3</td><td> 3</td><td>-1</td></tr>\n",
       "\t<tr><td>0 </td><td> 0</td><td> 0</td><td> 0</td><td> 0</td><td> 0</td><td> 0</td><td> 1</td><td>-2</td><td> 1</td></tr>\n",
       "</tbody>\n",
       "</table>\n"
      ],
      "text/latex": [
       "\\begin{tabular}{llllllllll}\n",
       "\t 1  &  0 &  0 &  0 &  0 &  0 &  0 &  0 &  0 &  0\\\\\n",
       "\t 1  &  1 &  0 &  0 &  0 &  0 &  0 &  0 &  0 &  0\\\\\n",
       "\t 1  & -4 &  6 & -4 &  1 &  0 &  0 &  0 &  0 &  0\\\\\n",
       "\t 0  &  1 & -4 &  6 & -4 &  1 &  0 &  0 &  0 &  0\\\\\n",
       "\t 0  &  0 &  1 & -4 &  6 & -4 &  1 &  0 &  0 &  0\\\\\n",
       "\t 0  &  0 &  0 &  1 & -4 &  6 & -4 &  1 &  0 &  0\\\\\n",
       "\t 0  &  0 &  0 &  0 &  1 & -4 &  6 & -4 &  1 &  0\\\\\n",
       "\t 0  &  0 &  0 &  0 &  0 &  1 & -4 &  6 & -4 &  1\\\\\n",
       "\t 0  &  0 &  0 &  0 &  0 &  0 &  1 & -3 &  3 & -1\\\\\n",
       "\t 0  &  0 &  0 &  0 &  0 &  0 &  0 &  1 & -2 &  1\\\\\n",
       "\\end{tabular}\n"
      ],
      "text/markdown": [
       "\n",
       "| 1  |  0 |  0 |  0 |  0 |  0 |  0 |  0 |  0 |  0 |\n",
       "| 1  |  1 |  0 |  0 |  0 |  0 |  0 |  0 |  0 |  0 |\n",
       "| 1  | -4 |  6 | -4 |  1 |  0 |  0 |  0 |  0 |  0 |\n",
       "| 0  |  1 | -4 |  6 | -4 |  1 |  0 |  0 |  0 |  0 |\n",
       "| 0  |  0 |  1 | -4 |  6 | -4 |  1 |  0 |  0 |  0 |\n",
       "| 0  |  0 |  0 |  1 | -4 |  6 | -4 |  1 |  0 |  0 |\n",
       "| 0  |  0 |  0 |  0 |  1 | -4 |  6 | -4 |  1 |  0 |\n",
       "| 0  |  0 |  0 |  0 |  0 |  1 | -4 |  6 | -4 |  1 |\n",
       "| 0  |  0 |  0 |  0 |  0 |  0 |  1 | -3 |  3 | -1 |\n",
       "| 0  |  0 |  0 |  0 |  0 |  0 |  0 |  1 | -2 |  1 |\n",
       "\n"
      ],
      "text/plain": [
       "      [,1] [,2] [,3] [,4] [,5] [,6] [,7] [,8] [,9] [,10]\n",
       " [1,] 1     0    0    0    0    0    0    0    0    0   \n",
       " [2,] 1     1    0    0    0    0    0    0    0    0   \n",
       " [3,] 1    -4    6   -4    1    0    0    0    0    0   \n",
       " [4,] 0     1   -4    6   -4    1    0    0    0    0   \n",
       " [5,] 0     0    1   -4    6   -4    1    0    0    0   \n",
       " [6,] 0     0    0    1   -4    6   -4    1    0    0   \n",
       " [7,] 0     0    0    0    1   -4    6   -4    1    0   \n",
       " [8,] 0     0    0    0    0    1   -4    6   -4    1   \n",
       " [9,] 0     0    0    0    0    0    1   -3    3   -1   \n",
       "[10,] 0     0    0    0    0    0    0    1   -2    1   "
      ]
     },
     "metadata": {},
     "output_type": "display_data"
    }
   ],
   "source": [
    "n <- 10\n",
    "\n",
    "library(Matrix)\n",
    "# tridaiagonal matrix\n",
    "A <- bandSparse(n, n, #dimensions\n",
    "                (-2):2, #band, diagonal is number 0\n",
    "                list(rep(1, n-2),\n",
    "                     rep(-4, n-1), \n",
    "                     rep(6, n), \n",
    "                     rep(-4, n-1),\n",
    "                     rep(1, n-2)))\n",
    "A <- as.matrix(A)\n",
    "A[1,1] <- A[2,1:2] <- A[10,10] <- 1\n",
    "A[1,2:3] <- A[2,3:4] <- 0\n",
    "A[9,10] <- -1\n",
    "A[9,9] <- 3\n",
    "A[9,8] <- -3\n",
    "A[10,9] <- -2\n",
    "A"
   ]
  },
  {
   "cell_type": "code",
   "execution_count": 67,
   "metadata": {},
   "outputs": [
    {
     "data": {
      "image/png": "[encoded data removed]",
      "text/plain": [
       "plot without title"
      ]
     },
     "metadata": {},
     "output_type": "display_data"
    }
   ],
   "source": [
    "#Create a vector b that is zero for boundary conditions and -0.0000001 in every other entry.\n",
    "b = rep(1,10)*(-1e-7)\n",
    "# Create a vector v that solves Av = b.\n",
    "v = solve(A, b)\n",
    "#Create a column vector x of 10 evenly spaced points between 0 and 1 (for plotting)\n",
    "x = seq(0,1,1/9)\n",
    "#Plot v on the vertical axis, and x on the horizontal axis.\n",
    "print(ggplot() + geom_line(aes(x,v), col='blue', size=2) + geom_point(aes(x, v), size=2) + \n",
    "      ggtitle(paste('Solution of the linear (beam bending) system')) + theme_bw())"
   ]
  },
  {
   "cell_type": "markdown",
   "metadata": {},
   "source": [
    "## Heat Equation"
   ]
  },
  {
   "cell_type": "markdown",
   "metadata": {},
   "source": [
    "![](f15.png)"
   ]
  },
  {
   "cell_type": "code",
   "execution_count": 4,
   "metadata": {},
   "outputs": [
    {
     "name": "stdout",
     "output_type": "stream",
     "text": [
      "[1] 0.15\n",
      "[1] 0.2\n",
      "[1] 0.25\n",
      "[1] 0.3\n",
      "[1] 0.35\n",
      "[1] 0.4\n",
      "[1] 0.45\n",
      "[1] 0.5\n",
      "[1] 0.55\n",
      "[1] 0.6\n",
      "[1] 0.65\n",
      "[1] 0.7\n",
      "[1] 0.75\n",
      "[1] 0.8\n",
      "[1] 0.85\n",
      "[1] 0.9\n",
      "[1] 0.95\n",
      "[1] 1\n",
      "[1] 1.05\n",
      "[1] 1.1\n",
      "[1] 1.15\n",
      "[1] 1.2\n",
      "[1] 1.25\n",
      "[1] 1.3\n",
      "[1] 1.35\n",
      "[1] 1.4\n",
      "[1] 1.45\n",
      "[1] 1.5\n",
      "[1] 1.55\n",
      "[1] 1.6\n",
      "[1] 1.65\n",
      "[1] 1.7\n",
      "[1] 1.75\n",
      "[1] 1.8\n",
      "[1] 1.85\n",
      "[1] 1.9\n",
      "[1] 1.95\n",
      "[1] 2\n",
      "[1] 2.05\n",
      "[1] 2.1\n",
      "[1] 2.15\n",
      "[1] 2.2\n",
      "[1] 2.25\n",
      "[1] 2.3\n",
      "[1] 2.35\n",
      "[1] 2.4\n",
      "[1] 2.45\n",
      "[1] 2.5\n",
      "[1] 2.55\n",
      "[1] 2.6\n",
      "[1] 2.65\n",
      "[1] 2.7\n",
      "[1] 2.75\n",
      "[1] 2.8\n",
      "[1] 2.85\n",
      "[1] 2.9\n",
      "[1] 2.95\n",
      "[1] 3\n",
      "[1] 3.05\n",
      "[1] 3.1\n",
      "[1] 3.15\n",
      "[1] 3.2\n",
      "[1] 3.25\n",
      "[1] 3.3\n",
      "[1] 3.35\n",
      "[1] 3.4\n",
      "[1] 3.45\n",
      "[1] 3.5\n",
      "[1] 3.55\n",
      "[1] 3.6\n",
      "[1] 3.65\n",
      "[1] 3.7\n",
      "[1] 3.75\n",
      "[1] 3.8\n",
      "[1] 3.85\n",
      "[1] 3.9\n",
      "[1] 3.95\n",
      "[1] 4\n",
      "[1] 4.05\n",
      "[1] 4.1\n",
      "[1] 4.15\n",
      "[1] 4.2\n",
      "[1] 4.25\n",
      "[1] 4.3\n",
      "[1] 4.35\n",
      "[1] 4.4\n",
      "[1] 4.45\n",
      "[1] 4.5\n",
      "[1] 4.55\n",
      "[1] 4.6\n",
      "[1] 4.65\n",
      "[1] 4.7\n",
      "[1] 4.75\n",
      "[1] 4.8\n",
      "[1] 4.85\n",
      "[1] 4.9\n",
      "[1] 4.95\n",
      "[1] 5\n",
      "[1] 5.05\n",
      "[1] 5.1\n",
      "[1] 5.15\n",
      "[1] 5.2\n",
      "[1] 5.25\n",
      "[1] 5.3\n",
      "[1] 5.35\n",
      "[1] 5.4\n",
      "[1] 5.45\n",
      "[1] 5.5\n",
      "[1] 5.55\n",
      "[1] 5.6\n",
      "[1] 5.65\n",
      "[1] 5.7\n",
      "[1] 5.75\n",
      "[1] 5.8\n",
      "[1] 5.85\n",
      "[1] 5.9\n",
      "[1] 5.95\n",
      "[1] 6\n",
      "[1] 6.05\n",
      "[1] 6.1\n",
      "[1] 6.15\n",
      "[1] 6.2\n",
      "[1] 6.25\n",
      "[1] 6.3\n",
      "[1] 6.35\n",
      "[1] 6.4\n",
      "[1] 6.45\n",
      "[1] 6.5\n"
     ]
    },
    {
     "name": "stderr",
     "output_type": "stream",
     "text": [
      "Output at: animation.gif\n"
     ]
    },
    {
     "data": {
      "text/html": [
       "TRUE"
      ],
      "text/latex": [
       "TRUE"
      ],
      "text/markdown": [
       "TRUE"
      ],
      "text/plain": [
       "[1] TRUE"
      ]
     },
     "metadata": {},
     "output_type": "display_data"
    }
   ],
   "source": [
    "#install.packages('latex2exp', repos='http://cran.us.r-project.org')\n",
    "library(animation)\n",
    "library(ggplot2)\n",
    "library(latex2exp)\n",
    "\n",
    "saveGIF({\n",
    "    x <- seq(0,pi,pi/19)\n",
    "    u <- rep(1, 20)\n",
    "    t <- 0\n",
    "    print(ggplot() + geom_line(aes(x, u), lwd=2, col='red') + \n",
    "               ylim(0,1) + xlab('x (position)') + ylab(TeX('$\\\\theta \\\\; (temperature)$')) + \n",
    "               ggtitle(paste('(initial condition) heat diffusion, t = ', t)) +\n",
    "               theme_bw() +\n",
    "               theme(plot.title = element_text(hjust = 0.5)))\n",
    "    n <- 1:10000\n",
    "    for (t in seq(0.15, 6.5, 0.05)) {\n",
    "        print(t)\n",
    "        u <- rep(0,20)\n",
    "        for (i in 1:20) {\n",
    "            u[i] = sum(exp(-n^2*t)*sin(n*x[i])/n)\n",
    "        }\n",
    "        #Plot solution\n",
    "        print(ggplot() + geom_line(aes(x, u), lwd=2, col='red') + \n",
    "                   ylim(0,1) + xlab('x (position)') + ylab(TeX('$\\\\theta \\\\; (temperature)$')) + \n",
    "                   ggtitle(paste('heat diffusion, t = ', t)) +\n",
    "                   theme_bw() +\n",
    "                   theme(plot.title = element_text(hjust = 0.5)))\n",
    "    }\n",
    "})"
   ]
  },
  {
   "cell_type": "code",
   "execution_count": null,
   "metadata": {},
   "outputs": [],
   "source": [
    "n <- 1:100\n",
    "x = seq(0,pi,pi/19)      #Spatial grid\n",
    "t <- 1\n",
    "u = sum(exp(-n^2*t)*sin(n*x)/n)\n",
    "print(u)"
   ]
  },
  {
   "cell_type": "code",
   "execution_count": 34,
   "metadata": {},
   "outputs": [
    {
     "name": "stdout",
     "output_type": "stream",
     "text": [
      "[1] \"r =  0.4332\"\n",
      "[1] 20 20\n",
      "[1] 20\n"
     ]
    },
    {
     "name": "stderr",
     "output_type": "stream",
     "text": [
      "Output at: animation.gif\n"
     ]
    },
    {
     "data": {
      "text/html": [
       "TRUE"
      ],
      "text/latex": [
       "TRUE"
      ],
      "text/markdown": [
       "TRUE"
      ],
      "text/plain": [
       "[1] TRUE"
      ]
     },
     "metadata": {},
     "output_type": "display_data"
    }
   ],
   "source": [
    "#Solve heat equation using forward time, centered space scheme\n",
    "\n",
    "#Define simulation parameters----------------------------------------------\n",
    "x = seq(0,5,5/19)      #Spatial grid\n",
    "dt = 0.06              #Time step        \n",
    "tMax = 20              #Simulation time\n",
    "nu = 0.5               #Constant of proportionality\n",
    "\n",
    "t = seq(0, tMax, dt)  #Time vector\n",
    "\n",
    "n <- length(x)\n",
    "m <- length(t)\n",
    "\n",
    "fLeft <- function(t) 0                              #Left boundary condition\n",
    "fRight <- function(t) sin(2*pi*t/5)                 #Right boundary condition\n",
    "fInitial <- function(x) matrix(rep(0,m*n), nrow=m)  #Initial condition\n",
    "\n",
    "#Run simulation------------------------------------------------------------\n",
    "dx = x[2]-x[1]\n",
    "r = nu*dt/dx^2\n",
    "print(paste('r = ', r))\n",
    "\n",
    "#Create tri-diagonal matrix\n",
    "#A = spdiags([r*ones(n,1),(1-2*r)*ones(n,1),r*ones(n,1)],[-1,0,1],n,n);\n",
    "library(Matrix)\n",
    "# tridaiagonal matrix\n",
    "A <- bandSparse(n, n, #dimensions\n",
    "                (-1):1, #band, diagonal is number 0\n",
    "                list(rep(r, n-1), \n",
    "                     rep(1-2*r, n), \n",
    "                     rep(r, n-1)))\n",
    "A <- as.matrix(A)\n",
    "#print(A)\n",
    "\n",
    "#Impose inital conditions\n",
    "u = fInitial(x) \n",
    "u[1,1] = fLeft(0) \n",
    "u[1,n] = fRight(0)\n",
    "\n",
    "print(dim(A))\n",
    "print(length(u[1,]))\n",
    "\n",
    "library(animation)\n",
    "library(ggplot2)\n",
    "\n",
    "saveGIF({\n",
    "    for (i in 1:(length(t)-1)) {\n",
    "        u[i+1,] = A%*%(u[i,])     # %Find solution at next time step\n",
    "        u[i+1,1] = fLeft(t[i])    # Impose left B.C.\n",
    "        u[i+1,n] = fRight(t[i])   # Impose right B.C.\n",
    "\n",
    "        #Plot solution\n",
    "        print(ggplot() + geom_line(aes(x, u[i+1,]), lwd=2, col='red') + \n",
    "                   ylim(-1.5,1.5) + xlab('x') + ylab('u') + \n",
    "                   ggtitle(paste('heat diffusion, t = ', round(t[i],3))) +\n",
    "                   theme_bw() +\n",
    "                   theme(plot.title = element_text(hjust = 0.5)))\n",
    "        #xlab('$x$','interpreter','latex') \n",
    "        #ylabel('$u$','interpreter','latex')\n",
    "        #title(['$t=$',num2str(t(i),'%.3f')],'interpreter','latex')        \n",
    "    }\n",
    "})"
   ]
  },
  {
   "cell_type": "code",
   "execution_count": 55,
   "metadata": {},
   "outputs": [
    {
     "data": {
      "text/html": [
       "<table>\n",
       "<thead><tr><th></th><th scope=col>A 1</th><th scope=col>A 2</th><th scope=col>A 3</th><th scope=col>A 4</th><th scope=col>A 5</th><th scope=col>A 6</th><th scope=col>A 7</th><th scope=col>A 8</th><th scope=col>A 9</th><th scope=col>A 10</th><th scope=col>A 11</th><th scope=col>A 12</th><th scope=col>A 13</th><th scope=col>A 14</th><th scope=col>A 15</th><th scope=col>A 16</th><th scope=col>A 17</th><th scope=col>A 18</th><th scope=col>A 19</th><th scope=col>A 20</th></tr></thead>\n",
       "<tbody>\n",
       "\t<tr><th scope=row>A 1</th><td>0.1336</td><td>0.4332</td><td>0.0000</td><td>0.0000</td><td>0.0000</td><td>0.0000</td><td>0.0000</td><td>0     </td><td>0     </td><td>0     </td><td>0     </td><td>0     </td><td>0     </td><td>0     </td><td>0     </td><td>0     </td><td>0     </td><td>0     </td><td>0     </td><td>0     </td></tr>\n",
       "\t<tr><th scope=row>A 2</th><td>0.4332</td><td>0.1336</td><td>0.4332</td><td>0.0000</td><td>0.0000</td><td>0.0000</td><td>0.0000</td><td>0     </td><td>0     </td><td>0     </td><td>0     </td><td>0     </td><td>0     </td><td>0     </td><td>0     </td><td>0     </td><td>0     </td><td>0     </td><td>0     </td><td>0     </td></tr>\n",
       "\t<tr><th scope=row>A 3</th><td>0.0000</td><td>0.4332</td><td>0.1336</td><td>0.4332</td><td>0.0000</td><td>0.0000</td><td>0.0000</td><td>0     </td><td>0     </td><td>0     </td><td>0     </td><td>0     </td><td>0     </td><td>0     </td><td>0     </td><td>0     </td><td>0     </td><td>0     </td><td>0     </td><td>0     </td></tr>\n",
       "\t<tr><th scope=row>A 4</th><td>0.0000</td><td>0.0000</td><td>0.4332</td><td>0.1336</td><td>0.4332</td><td>0.0000</td><td>0.0000</td><td>0     </td><td>0     </td><td>0     </td><td>0     </td><td>0     </td><td>0     </td><td>0     </td><td>0     </td><td>0     </td><td>0     </td><td>0     </td><td>0     </td><td>0     </td></tr>\n",
       "\t<tr><th scope=row>A 5</th><td>0.0000</td><td>0.0000</td><td>0.0000</td><td>0.4332</td><td>0.1336</td><td>0.4332</td><td>0.0000</td><td>0     </td><td>0     </td><td>0     </td><td>0     </td><td>0     </td><td>0     </td><td>0     </td><td>0     </td><td>0     </td><td>0     </td><td>0     </td><td>0     </td><td>0     </td></tr>\n",
       "\t<tr><th scope=row>A 6</th><td>0.0000</td><td>0.0000</td><td>0.0000</td><td>0.0000</td><td>0.4332</td><td>0.1336</td><td>0.4332</td><td>0     </td><td>0     </td><td>0     </td><td>0     </td><td>0     </td><td>0     </td><td>0     </td><td>0     </td><td>0     </td><td>0     </td><td>0     </td><td>0     </td><td>0     </td></tr>\n",
       "</tbody>\n",
       "</table>\n"
      ],
      "text/latex": [
       "\\begin{tabular}{r|llllllllllllllllllll}\n",
       "  & A 1 & A 2 & A 3 & A 4 & A 5 & A 6 & A 7 & A 8 & A 9 & A 10 & A 11 & A 12 & A 13 & A 14 & A 15 & A 16 & A 17 & A 18 & A 19 & A 20\\\\\n",
       "\\hline\n",
       "\tA 1 & 0.1336 & 0.4332 & 0.0000 & 0.0000 & 0.0000 & 0.0000 & 0.0000 & 0      & 0      & 0      & 0      & 0      & 0      & 0      & 0      & 0      & 0      & 0      & 0      & 0     \\\\\n",
       "\tA 2 & 0.4332 & 0.1336 & 0.4332 & 0.0000 & 0.0000 & 0.0000 & 0.0000 & 0      & 0      & 0      & 0      & 0      & 0      & 0      & 0      & 0      & 0      & 0      & 0      & 0     \\\\\n",
       "\tA 3 & 0.0000 & 0.4332 & 0.1336 & 0.4332 & 0.0000 & 0.0000 & 0.0000 & 0      & 0      & 0      & 0      & 0      & 0      & 0      & 0      & 0      & 0      & 0      & 0      & 0     \\\\\n",
       "\tA 4 & 0.0000 & 0.0000 & 0.4332 & 0.1336 & 0.4332 & 0.0000 & 0.0000 & 0      & 0      & 0      & 0      & 0      & 0      & 0      & 0      & 0      & 0      & 0      & 0      & 0     \\\\\n",
       "\tA 5 & 0.0000 & 0.0000 & 0.0000 & 0.4332 & 0.1336 & 0.4332 & 0.0000 & 0      & 0      & 0      & 0      & 0      & 0      & 0      & 0      & 0      & 0      & 0      & 0      & 0     \\\\\n",
       "\tA 6 & 0.0000 & 0.0000 & 0.0000 & 0.0000 & 0.4332 & 0.1336 & 0.4332 & 0      & 0      & 0      & 0      & 0      & 0      & 0      & 0      & 0      & 0      & 0      & 0      & 0     \\\\\n",
       "\\end{tabular}\n"
      ],
      "text/markdown": [
       "\n",
       "| <!--/--> | A 1 | A 2 | A 3 | A 4 | A 5 | A 6 | A 7 | A 8 | A 9 | A 10 | A 11 | A 12 | A 13 | A 14 | A 15 | A 16 | A 17 | A 18 | A 19 | A 20 |\n",
       "|---|---|---|---|---|---|---|---|---|---|---|---|---|---|---|---|---|---|---|---|---|\n",
       "| A 1 | 0.1336 | 0.4332 | 0.0000 | 0.0000 | 0.0000 | 0.0000 | 0.0000 | 0      | 0      | 0      | 0      | 0      | 0      | 0      | 0      | 0      | 0      | 0      | 0      | 0      |\n",
       "| A 2 | 0.4332 | 0.1336 | 0.4332 | 0.0000 | 0.0000 | 0.0000 | 0.0000 | 0      | 0      | 0      | 0      | 0      | 0      | 0      | 0      | 0      | 0      | 0      | 0      | 0      |\n",
       "| A 3 | 0.0000 | 0.4332 | 0.1336 | 0.4332 | 0.0000 | 0.0000 | 0.0000 | 0      | 0      | 0      | 0      | 0      | 0      | 0      | 0      | 0      | 0      | 0      | 0      | 0      |\n",
       "| A 4 | 0.0000 | 0.0000 | 0.4332 | 0.1336 | 0.4332 | 0.0000 | 0.0000 | 0      | 0      | 0      | 0      | 0      | 0      | 0      | 0      | 0      | 0      | 0      | 0      | 0      |\n",
       "| A 5 | 0.0000 | 0.0000 | 0.0000 | 0.4332 | 0.1336 | 0.4332 | 0.0000 | 0      | 0      | 0      | 0      | 0      | 0      | 0      | 0      | 0      | 0      | 0      | 0      | 0      |\n",
       "| A 6 | 0.0000 | 0.0000 | 0.0000 | 0.0000 | 0.4332 | 0.1336 | 0.4332 | 0      | 0      | 0      | 0      | 0      | 0      | 0      | 0      | 0      | 0      | 0      | 0      | 0      |\n",
       "\n"
      ],
      "text/plain": [
       "    A 1    A 2    A 3    A 4    A 5    A 6    A 7    A 8 A 9 A 10 A 11 A 12\n",
       "A 1 0.1336 0.4332 0.0000 0.0000 0.0000 0.0000 0.0000 0   0   0    0    0   \n",
       "A 2 0.4332 0.1336 0.4332 0.0000 0.0000 0.0000 0.0000 0   0   0    0    0   \n",
       "A 3 0.0000 0.4332 0.1336 0.4332 0.0000 0.0000 0.0000 0   0   0    0    0   \n",
       "A 4 0.0000 0.0000 0.4332 0.1336 0.4332 0.0000 0.0000 0   0   0    0    0   \n",
       "A 5 0.0000 0.0000 0.0000 0.4332 0.1336 0.4332 0.0000 0   0   0    0    0   \n",
       "A 6 0.0000 0.0000 0.0000 0.0000 0.4332 0.1336 0.4332 0   0   0    0    0   \n",
       "    A 13 A 14 A 15 A 16 A 17 A 18 A 19 A 20\n",
       "A 1 0    0    0    0    0    0    0    0   \n",
       "A 2 0    0    0    0    0    0    0    0   \n",
       "A 3 0    0    0    0    0    0    0    0   \n",
       "A 4 0    0    0    0    0    0    0    0   \n",
       "A 5 0    0    0    0    0    0    0    0   \n",
       "A 6 0    0    0    0    0    0    0    0   "
      ]
     },
     "metadata": {},
     "output_type": "display_data"
    },
    {
     "data": {
      "text/html": [
       "<table>\n",
       "<thead><tr><th scope=col>Var1</th><th scope=col>Var2</th><th scope=col>value</th></tr></thead>\n",
       "<tbody>\n",
       "\t<tr><td>1     </td><td>1     </td><td>0.1336</td></tr>\n",
       "\t<tr><td>2     </td><td>1     </td><td>0.4332</td></tr>\n",
       "\t<tr><td>3     </td><td>1     </td><td>0.0000</td></tr>\n",
       "\t<tr><td>4     </td><td>1     </td><td>0.0000</td></tr>\n",
       "\t<tr><td>5     </td><td>1     </td><td>0.0000</td></tr>\n",
       "\t<tr><td>6     </td><td>1     </td><td>0.0000</td></tr>\n",
       "</tbody>\n",
       "</table>\n"
      ],
      "text/latex": [
       "\\begin{tabular}{r|lll}\n",
       " Var1 & Var2 & value\\\\\n",
       "\\hline\n",
       "\t 1      & 1      & 0.1336\\\\\n",
       "\t 2      & 1      & 0.4332\\\\\n",
       "\t 3      & 1      & 0.0000\\\\\n",
       "\t 4      & 1      & 0.0000\\\\\n",
       "\t 5      & 1      & 0.0000\\\\\n",
       "\t 6      & 1      & 0.0000\\\\\n",
       "\\end{tabular}\n"
      ],
      "text/markdown": [
       "\n",
       "| Var1 | Var2 | value |\n",
       "|---|---|---|\n",
       "| 1      | 1      | 0.1336 |\n",
       "| 2      | 1      | 0.4332 |\n",
       "| 3      | 1      | 0.0000 |\n",
       "| 4      | 1      | 0.0000 |\n",
       "| 5      | 1      | 0.0000 |\n",
       "| 6      | 1      | 0.0000 |\n",
       "\n"
      ],
      "text/plain": [
       "  Var1 Var2 value \n",
       "1 1    1    0.1336\n",
       "2 2    1    0.4332\n",
       "3 3    1    0.0000\n",
       "4 4    1    0.0000\n",
       "5 5    1    0.0000\n",
       "6 6    1    0.0000"
      ]
     },
     "metadata": {},
     "output_type": "display_data"
    },
    {
     "data": {
      "image/png": "[encoded data removed]",
      "text/plain": [
       "plot without title"
      ]
     },
     "metadata": {},
     "output_type": "display_data"
    }
   ],
   "source": [
    "library(tidyverse)\n",
    "A  <- as.data.frame(A)\n",
    "rownames(A) <- names(A) <- paste(\"A\", 1:20)\n",
    "head(A)\n",
    "## reshape data (tidy/tall form)\n",
    "dat2 <- A %>%\n",
    "    tbl_df() %>%\n",
    "    rownames_to_column('Var1') %>%\n",
    "    gather(Var2, value, -Var1) %>%\n",
    "    mutate(\n",
    "        Var1 = factor(Var1, levels=1:20),\n",
    "        Var2 = factor(gsub(\"A \", \"\", Var2), levels=1:20)\n",
    "    )\n",
    "\n",
    "head(dat2)\n",
    "\n",
    "## plot data\n",
    "ggplot(dat2, aes(Var1, Var2)) +\n",
    "    geom_tile(aes(fill = value)) + \n",
    "    geom_text(aes(label = round(value, 2))) +\n",
    "    scale_fill_gradient(low = \"white\", high = \"red\") + guides(fill=FALSE)"
   ]
  },
  {
   "cell_type": "code",
   "execution_count": 76,
   "metadata": {},
   "outputs": [
    {
     "name": "stderr",
     "output_type": "stream",
     "text": [
      "Warning message in heatmap.2(A, Rowv = FALSE, symm = TRUE, col = rev(terrain.colors(16)), :\n",
      "\"Discrepancy: Rowv is FALSE, while dendrogram is `both'. Omitting row dendogram.\"Warning message in heatmap.2(A, Rowv = FALSE, symm = TRUE, col = rev(terrain.colors(16)), :\n",
      "\"Discrepancy: Colv is FALSE, while dendrogram is `column'. Omitting column dendogram.\""
     ]
    },
    {
     "data": {
      "image/png": "[encoded data removed]",
      "text/plain": [
       "plot without title"
      ]
     },
     "metadata": {},
     "output_type": "display_data"
    }
   ],
   "source": [
    "library(gplots)\n",
    "A <- as.matrix(A)\n",
    "heatmap.2(A, Rowv=FALSE, symm=TRUE, col=rev(terrain.colors(16)),\n",
    "            distfun=function(c) as.dist(1 - c), trace=\"none\", key  = FALSE,\n",
    "            cellnote=round(A,2), notecex=0.7,\n",
    "            notecol=\"black\")"
   ]
  },
  {
   "cell_type": "code",
   "execution_count": 58,
   "metadata": {},
   "outputs": [
    {
     "data": {
      "text/html": [
       "<table>\n",
       "<thead><tr><th></th><th scope=col>A 1</th><th scope=col>A 2</th><th scope=col>A 3</th><th scope=col>A 4</th><th scope=col>A 5</th><th scope=col>A 6</th><th scope=col>A 7</th><th scope=col>A 8</th><th scope=col>A 9</th><th scope=col>A 10</th><th scope=col>A 11</th><th scope=col>A 12</th><th scope=col>A 13</th><th scope=col>A 14</th><th scope=col>A 15</th><th scope=col>A 16</th><th scope=col>A 17</th><th scope=col>A 18</th><th scope=col>A 19</th><th scope=col>A 20</th></tr></thead>\n",
       "<tbody>\n",
       "\t<tr><th scope=row>A 1</th><td>0.1336</td><td>0.4332</td><td>0.0000</td><td>0.0000</td><td>0.0000</td><td>0.0000</td><td>0.0000</td><td>0.0000</td><td>0.0000</td><td>0.0000</td><td>0.0000</td><td>0.0000</td><td>0.0000</td><td>0.0000</td><td>0.0000</td><td>0.0000</td><td>0.0000</td><td>0.0000</td><td>0.0000</td><td>0.0000</td></tr>\n",
       "\t<tr><th scope=row>A 2</th><td>0.4332</td><td>0.1336</td><td>0.4332</td><td>0.0000</td><td>0.0000</td><td>0.0000</td><td>0.0000</td><td>0.0000</td><td>0.0000</td><td>0.0000</td><td>0.0000</td><td>0.0000</td><td>0.0000</td><td>0.0000</td><td>0.0000</td><td>0.0000</td><td>0.0000</td><td>0.0000</td><td>0.0000</td><td>0.0000</td></tr>\n",
       "\t<tr><th scope=row>A 3</th><td>0.0000</td><td>0.4332</td><td>0.1336</td><td>0.4332</td><td>0.0000</td><td>0.0000</td><td>0.0000</td><td>0.0000</td><td>0.0000</td><td>0.0000</td><td>0.0000</td><td>0.0000</td><td>0.0000</td><td>0.0000</td><td>0.0000</td><td>0.0000</td><td>0.0000</td><td>0.0000</td><td>0.0000</td><td>0.0000</td></tr>\n",
       "\t<tr><th scope=row>A 4</th><td>0.0000</td><td>0.0000</td><td>0.4332</td><td>0.1336</td><td>0.4332</td><td>0.0000</td><td>0.0000</td><td>0.0000</td><td>0.0000</td><td>0.0000</td><td>0.0000</td><td>0.0000</td><td>0.0000</td><td>0.0000</td><td>0.0000</td><td>0.0000</td><td>0.0000</td><td>0.0000</td><td>0.0000</td><td>0.0000</td></tr>\n",
       "\t<tr><th scope=row>A 5</th><td>0.0000</td><td>0.0000</td><td>0.0000</td><td>0.4332</td><td>0.1336</td><td>0.4332</td><td>0.0000</td><td>0.0000</td><td>0.0000</td><td>0.0000</td><td>0.0000</td><td>0.0000</td><td>0.0000</td><td>0.0000</td><td>0.0000</td><td>0.0000</td><td>0.0000</td><td>0.0000</td><td>0.0000</td><td>0.0000</td></tr>\n",
       "\t<tr><th scope=row>A 6</th><td>0.0000</td><td>0.0000</td><td>0.0000</td><td>0.0000</td><td>0.4332</td><td>0.1336</td><td>0.4332</td><td>0.0000</td><td>0.0000</td><td>0.0000</td><td>0.0000</td><td>0.0000</td><td>0.0000</td><td>0.0000</td><td>0.0000</td><td>0.0000</td><td>0.0000</td><td>0.0000</td><td>0.0000</td><td>0.0000</td></tr>\n",
       "\t<tr><th scope=row>A 7</th><td>0.0000</td><td>0.0000</td><td>0.0000</td><td>0.0000</td><td>0.0000</td><td>0.4332</td><td>0.1336</td><td>0.4332</td><td>0.0000</td><td>0.0000</td><td>0.0000</td><td>0.0000</td><td>0.0000</td><td>0.0000</td><td>0.0000</td><td>0.0000</td><td>0.0000</td><td>0.0000</td><td>0.0000</td><td>0.0000</td></tr>\n",
       "\t<tr><th scope=row>A 8</th><td>0.0000</td><td>0.0000</td><td>0.0000</td><td>0.0000</td><td>0.0000</td><td>0.0000</td><td>0.4332</td><td>0.1336</td><td>0.4332</td><td>0.0000</td><td>0.0000</td><td>0.0000</td><td>0.0000</td><td>0.0000</td><td>0.0000</td><td>0.0000</td><td>0.0000</td><td>0.0000</td><td>0.0000</td><td>0.0000</td></tr>\n",
       "\t<tr><th scope=row>A 9</th><td>0.0000</td><td>0.0000</td><td>0.0000</td><td>0.0000</td><td>0.0000</td><td>0.0000</td><td>0.0000</td><td>0.4332</td><td>0.1336</td><td>0.4332</td><td>0.0000</td><td>0.0000</td><td>0.0000</td><td>0.0000</td><td>0.0000</td><td>0.0000</td><td>0.0000</td><td>0.0000</td><td>0.0000</td><td>0.0000</td></tr>\n",
       "\t<tr><th scope=row>A 10</th><td>0.0000</td><td>0.0000</td><td>0.0000</td><td>0.0000</td><td>0.0000</td><td>0.0000</td><td>0.0000</td><td>0.0000</td><td>0.4332</td><td>0.1336</td><td>0.4332</td><td>0.0000</td><td>0.0000</td><td>0.0000</td><td>0.0000</td><td>0.0000</td><td>0.0000</td><td>0.0000</td><td>0.0000</td><td>0.0000</td></tr>\n",
       "\t<tr><th scope=row>A 11</th><td>0.0000</td><td>0.0000</td><td>0.0000</td><td>0.0000</td><td>0.0000</td><td>0.0000</td><td>0.0000</td><td>0.0000</td><td>0.0000</td><td>0.4332</td><td>0.1336</td><td>0.4332</td><td>0.0000</td><td>0.0000</td><td>0.0000</td><td>0.0000</td><td>0.0000</td><td>0.0000</td><td>0.0000</td><td>0.0000</td></tr>\n",
       "\t<tr><th scope=row>A 12</th><td>0.0000</td><td>0.0000</td><td>0.0000</td><td>0.0000</td><td>0.0000</td><td>0.0000</td><td>0.0000</td><td>0.0000</td><td>0.0000</td><td>0.0000</td><td>0.4332</td><td>0.1336</td><td>0.4332</td><td>0.0000</td><td>0.0000</td><td>0.0000</td><td>0.0000</td><td>0.0000</td><td>0.0000</td><td>0.0000</td></tr>\n",
       "\t<tr><th scope=row>A 13</th><td>0.0000</td><td>0.0000</td><td>0.0000</td><td>0.0000</td><td>0.0000</td><td>0.0000</td><td>0.0000</td><td>0.0000</td><td>0.0000</td><td>0.0000</td><td>0.0000</td><td>0.4332</td><td>0.1336</td><td>0.4332</td><td>0.0000</td><td>0.0000</td><td>0.0000</td><td>0.0000</td><td>0.0000</td><td>0.0000</td></tr>\n",
       "\t<tr><th scope=row>A 14</th><td>0.0000</td><td>0.0000</td><td>0.0000</td><td>0.0000</td><td>0.0000</td><td>0.0000</td><td>0.0000</td><td>0.0000</td><td>0.0000</td><td>0.0000</td><td>0.0000</td><td>0.0000</td><td>0.4332</td><td>0.1336</td><td>0.4332</td><td>0.0000</td><td>0.0000</td><td>0.0000</td><td>0.0000</td><td>0.0000</td></tr>\n",
       "\t<tr><th scope=row>A 15</th><td>0.0000</td><td>0.0000</td><td>0.0000</td><td>0.0000</td><td>0.0000</td><td>0.0000</td><td>0.0000</td><td>0.0000</td><td>0.0000</td><td>0.0000</td><td>0.0000</td><td>0.0000</td><td>0.0000</td><td>0.4332</td><td>0.1336</td><td>0.4332</td><td>0.0000</td><td>0.0000</td><td>0.0000</td><td>0.0000</td></tr>\n",
       "\t<tr><th scope=row>A 16</th><td>0.0000</td><td>0.0000</td><td>0.0000</td><td>0.0000</td><td>0.0000</td><td>0.0000</td><td>0.0000</td><td>0.0000</td><td>0.0000</td><td>0.0000</td><td>0.0000</td><td>0.0000</td><td>0.0000</td><td>0.0000</td><td>0.4332</td><td>0.1336</td><td>0.4332</td><td>0.0000</td><td>0.0000</td><td>0.0000</td></tr>\n",
       "\t<tr><th scope=row>A 17</th><td>0.0000</td><td>0.0000</td><td>0.0000</td><td>0.0000</td><td>0.0000</td><td>0.0000</td><td>0.0000</td><td>0.0000</td><td>0.0000</td><td>0.0000</td><td>0.0000</td><td>0.0000</td><td>0.0000</td><td>0.0000</td><td>0.0000</td><td>0.4332</td><td>0.1336</td><td>0.4332</td><td>0.0000</td><td>0.0000</td></tr>\n",
       "\t<tr><th scope=row>A 18</th><td>0.0000</td><td>0.0000</td><td>0.0000</td><td>0.0000</td><td>0.0000</td><td>0.0000</td><td>0.0000</td><td>0.0000</td><td>0.0000</td><td>0.0000</td><td>0.0000</td><td>0.0000</td><td>0.0000</td><td>0.0000</td><td>0.0000</td><td>0.0000</td><td>0.4332</td><td>0.1336</td><td>0.4332</td><td>0.0000</td></tr>\n",
       "\t<tr><th scope=row>A 19</th><td>0.0000</td><td>0.0000</td><td>0.0000</td><td>0.0000</td><td>0.0000</td><td>0.0000</td><td>0.0000</td><td>0.0000</td><td>0.0000</td><td>0.0000</td><td>0.0000</td><td>0.0000</td><td>0.0000</td><td>0.0000</td><td>0.0000</td><td>0.0000</td><td>0.0000</td><td>0.4332</td><td>0.1336</td><td>0.4332</td></tr>\n",
       "\t<tr><th scope=row>A 20</th><td>0.0000</td><td>0.0000</td><td>0.0000</td><td>0.0000</td><td>0.0000</td><td>0.0000</td><td>0.0000</td><td>0.0000</td><td>0.0000</td><td>0.0000</td><td>0.0000</td><td>0.0000</td><td>0.0000</td><td>0.0000</td><td>0.0000</td><td>0.0000</td><td>0.0000</td><td>0.0000</td><td>0.4332</td><td>0.1336</td></tr>\n",
       "</tbody>\n",
       "</table>\n"
      ],
      "text/latex": [
       "\\begin{tabular}{r|llllllllllllllllllll}\n",
       "  & A 1 & A 2 & A 3 & A 4 & A 5 & A 6 & A 7 & A 8 & A 9 & A 10 & A 11 & A 12 & A 13 & A 14 & A 15 & A 16 & A 17 & A 18 & A 19 & A 20\\\\\n",
       "\\hline\n",
       "\tA 1 & 0.1336 & 0.4332 & 0.0000 & 0.0000 & 0.0000 & 0.0000 & 0.0000 & 0.0000 & 0.0000 & 0.0000 & 0.0000 & 0.0000 & 0.0000 & 0.0000 & 0.0000 & 0.0000 & 0.0000 & 0.0000 & 0.0000 & 0.0000\\\\\n",
       "\tA 2 & 0.4332 & 0.1336 & 0.4332 & 0.0000 & 0.0000 & 0.0000 & 0.0000 & 0.0000 & 0.0000 & 0.0000 & 0.0000 & 0.0000 & 0.0000 & 0.0000 & 0.0000 & 0.0000 & 0.0000 & 0.0000 & 0.0000 & 0.0000\\\\\n",
       "\tA 3 & 0.0000 & 0.4332 & 0.1336 & 0.4332 & 0.0000 & 0.0000 & 0.0000 & 0.0000 & 0.0000 & 0.0000 & 0.0000 & 0.0000 & 0.0000 & 0.0000 & 0.0000 & 0.0000 & 0.0000 & 0.0000 & 0.0000 & 0.0000\\\\\n",
       "\tA 4 & 0.0000 & 0.0000 & 0.4332 & 0.1336 & 0.4332 & 0.0000 & 0.0000 & 0.0000 & 0.0000 & 0.0000 & 0.0000 & 0.0000 & 0.0000 & 0.0000 & 0.0000 & 0.0000 & 0.0000 & 0.0000 & 0.0000 & 0.0000\\\\\n",
       "\tA 5 & 0.0000 & 0.0000 & 0.0000 & 0.4332 & 0.1336 & 0.4332 & 0.0000 & 0.0000 & 0.0000 & 0.0000 & 0.0000 & 0.0000 & 0.0000 & 0.0000 & 0.0000 & 0.0000 & 0.0000 & 0.0000 & 0.0000 & 0.0000\\\\\n",
       "\tA 6 & 0.0000 & 0.0000 & 0.0000 & 0.0000 & 0.4332 & 0.1336 & 0.4332 & 0.0000 & 0.0000 & 0.0000 & 0.0000 & 0.0000 & 0.0000 & 0.0000 & 0.0000 & 0.0000 & 0.0000 & 0.0000 & 0.0000 & 0.0000\\\\\n",
       "\tA 7 & 0.0000 & 0.0000 & 0.0000 & 0.0000 & 0.0000 & 0.4332 & 0.1336 & 0.4332 & 0.0000 & 0.0000 & 0.0000 & 0.0000 & 0.0000 & 0.0000 & 0.0000 & 0.0000 & 0.0000 & 0.0000 & 0.0000 & 0.0000\\\\\n",
       "\tA 8 & 0.0000 & 0.0000 & 0.0000 & 0.0000 & 0.0000 & 0.0000 & 0.4332 & 0.1336 & 0.4332 & 0.0000 & 0.0000 & 0.0000 & 0.0000 & 0.0000 & 0.0000 & 0.0000 & 0.0000 & 0.0000 & 0.0000 & 0.0000\\\\\n",
       "\tA 9 & 0.0000 & 0.0000 & 0.0000 & 0.0000 & 0.0000 & 0.0000 & 0.0000 & 0.4332 & 0.1336 & 0.4332 & 0.0000 & 0.0000 & 0.0000 & 0.0000 & 0.0000 & 0.0000 & 0.0000 & 0.0000 & 0.0000 & 0.0000\\\\\n",
       "\tA 10 & 0.0000 & 0.0000 & 0.0000 & 0.0000 & 0.0000 & 0.0000 & 0.0000 & 0.0000 & 0.4332 & 0.1336 & 0.4332 & 0.0000 & 0.0000 & 0.0000 & 0.0000 & 0.0000 & 0.0000 & 0.0000 & 0.0000 & 0.0000\\\\\n",
       "\tA 11 & 0.0000 & 0.0000 & 0.0000 & 0.0000 & 0.0000 & 0.0000 & 0.0000 & 0.0000 & 0.0000 & 0.4332 & 0.1336 & 0.4332 & 0.0000 & 0.0000 & 0.0000 & 0.0000 & 0.0000 & 0.0000 & 0.0000 & 0.0000\\\\\n",
       "\tA 12 & 0.0000 & 0.0000 & 0.0000 & 0.0000 & 0.0000 & 0.0000 & 0.0000 & 0.0000 & 0.0000 & 0.0000 & 0.4332 & 0.1336 & 0.4332 & 0.0000 & 0.0000 & 0.0000 & 0.0000 & 0.0000 & 0.0000 & 0.0000\\\\\n",
       "\tA 13 & 0.0000 & 0.0000 & 0.0000 & 0.0000 & 0.0000 & 0.0000 & 0.0000 & 0.0000 & 0.0000 & 0.0000 & 0.0000 & 0.4332 & 0.1336 & 0.4332 & 0.0000 & 0.0000 & 0.0000 & 0.0000 & 0.0000 & 0.0000\\\\\n",
       "\tA 14 & 0.0000 & 0.0000 & 0.0000 & 0.0000 & 0.0000 & 0.0000 & 0.0000 & 0.0000 & 0.0000 & 0.0000 & 0.0000 & 0.0000 & 0.4332 & 0.1336 & 0.4332 & 0.0000 & 0.0000 & 0.0000 & 0.0000 & 0.0000\\\\\n",
       "\tA 15 & 0.0000 & 0.0000 & 0.0000 & 0.0000 & 0.0000 & 0.0000 & 0.0000 & 0.0000 & 0.0000 & 0.0000 & 0.0000 & 0.0000 & 0.0000 & 0.4332 & 0.1336 & 0.4332 & 0.0000 & 0.0000 & 0.0000 & 0.0000\\\\\n",
       "\tA 16 & 0.0000 & 0.0000 & 0.0000 & 0.0000 & 0.0000 & 0.0000 & 0.0000 & 0.0000 & 0.0000 & 0.0000 & 0.0000 & 0.0000 & 0.0000 & 0.0000 & 0.4332 & 0.1336 & 0.4332 & 0.0000 & 0.0000 & 0.0000\\\\\n",
       "\tA 17 & 0.0000 & 0.0000 & 0.0000 & 0.0000 & 0.0000 & 0.0000 & 0.0000 & 0.0000 & 0.0000 & 0.0000 & 0.0000 & 0.0000 & 0.0000 & 0.0000 & 0.0000 & 0.4332 & 0.1336 & 0.4332 & 0.0000 & 0.0000\\\\\n",
       "\tA 18 & 0.0000 & 0.0000 & 0.0000 & 0.0000 & 0.0000 & 0.0000 & 0.0000 & 0.0000 & 0.0000 & 0.0000 & 0.0000 & 0.0000 & 0.0000 & 0.0000 & 0.0000 & 0.0000 & 0.4332 & 0.1336 & 0.4332 & 0.0000\\\\\n",
       "\tA 19 & 0.0000 & 0.0000 & 0.0000 & 0.0000 & 0.0000 & 0.0000 & 0.0000 & 0.0000 & 0.0000 & 0.0000 & 0.0000 & 0.0000 & 0.0000 & 0.0000 & 0.0000 & 0.0000 & 0.0000 & 0.4332 & 0.1336 & 0.4332\\\\\n",
       "\tA 20 & 0.0000 & 0.0000 & 0.0000 & 0.0000 & 0.0000 & 0.0000 & 0.0000 & 0.0000 & 0.0000 & 0.0000 & 0.0000 & 0.0000 & 0.0000 & 0.0000 & 0.0000 & 0.0000 & 0.0000 & 0.0000 & 0.4332 & 0.1336\\\\\n",
       "\\end{tabular}\n"
      ],
      "text/markdown": [
       "\n",
       "| <!--/--> | A 1 | A 2 | A 3 | A 4 | A 5 | A 6 | A 7 | A 8 | A 9 | A 10 | A 11 | A 12 | A 13 | A 14 | A 15 | A 16 | A 17 | A 18 | A 19 | A 20 |\n",
       "|---|---|---|---|---|---|---|---|---|---|---|---|---|---|---|---|---|---|---|---|---|\n",
       "| A 1 | 0.1336 | 0.4332 | 0.0000 | 0.0000 | 0.0000 | 0.0000 | 0.0000 | 0.0000 | 0.0000 | 0.0000 | 0.0000 | 0.0000 | 0.0000 | 0.0000 | 0.0000 | 0.0000 | 0.0000 | 0.0000 | 0.0000 | 0.0000 |\n",
       "| A 2 | 0.4332 | 0.1336 | 0.4332 | 0.0000 | 0.0000 | 0.0000 | 0.0000 | 0.0000 | 0.0000 | 0.0000 | 0.0000 | 0.0000 | 0.0000 | 0.0000 | 0.0000 | 0.0000 | 0.0000 | 0.0000 | 0.0000 | 0.0000 |\n",
       "| A 3 | 0.0000 | 0.4332 | 0.1336 | 0.4332 | 0.0000 | 0.0000 | 0.0000 | 0.0000 | 0.0000 | 0.0000 | 0.0000 | 0.0000 | 0.0000 | 0.0000 | 0.0000 | 0.0000 | 0.0000 | 0.0000 | 0.0000 | 0.0000 |\n",
       "| A 4 | 0.0000 | 0.0000 | 0.4332 | 0.1336 | 0.4332 | 0.0000 | 0.0000 | 0.0000 | 0.0000 | 0.0000 | 0.0000 | 0.0000 | 0.0000 | 0.0000 | 0.0000 | 0.0000 | 0.0000 | 0.0000 | 0.0000 | 0.0000 |\n",
       "| A 5 | 0.0000 | 0.0000 | 0.0000 | 0.4332 | 0.1336 | 0.4332 | 0.0000 | 0.0000 | 0.0000 | 0.0000 | 0.0000 | 0.0000 | 0.0000 | 0.0000 | 0.0000 | 0.0000 | 0.0000 | 0.0000 | 0.0000 | 0.0000 |\n",
       "| A 6 | 0.0000 | 0.0000 | 0.0000 | 0.0000 | 0.4332 | 0.1336 | 0.4332 | 0.0000 | 0.0000 | 0.0000 | 0.0000 | 0.0000 | 0.0000 | 0.0000 | 0.0000 | 0.0000 | 0.0000 | 0.0000 | 0.0000 | 0.0000 |\n",
       "| A 7 | 0.0000 | 0.0000 | 0.0000 | 0.0000 | 0.0000 | 0.4332 | 0.1336 | 0.4332 | 0.0000 | 0.0000 | 0.0000 | 0.0000 | 0.0000 | 0.0000 | 0.0000 | 0.0000 | 0.0000 | 0.0000 | 0.0000 | 0.0000 |\n",
       "| A 8 | 0.0000 | 0.0000 | 0.0000 | 0.0000 | 0.0000 | 0.0000 | 0.4332 | 0.1336 | 0.4332 | 0.0000 | 0.0000 | 0.0000 | 0.0000 | 0.0000 | 0.0000 | 0.0000 | 0.0000 | 0.0000 | 0.0000 | 0.0000 |\n",
       "| A 9 | 0.0000 | 0.0000 | 0.0000 | 0.0000 | 0.0000 | 0.0000 | 0.0000 | 0.4332 | 0.1336 | 0.4332 | 0.0000 | 0.0000 | 0.0000 | 0.0000 | 0.0000 | 0.0000 | 0.0000 | 0.0000 | 0.0000 | 0.0000 |\n",
       "| A 10 | 0.0000 | 0.0000 | 0.0000 | 0.0000 | 0.0000 | 0.0000 | 0.0000 | 0.0000 | 0.4332 | 0.1336 | 0.4332 | 0.0000 | 0.0000 | 0.0000 | 0.0000 | 0.0000 | 0.0000 | 0.0000 | 0.0000 | 0.0000 |\n",
       "| A 11 | 0.0000 | 0.0000 | 0.0000 | 0.0000 | 0.0000 | 0.0000 | 0.0000 | 0.0000 | 0.0000 | 0.4332 | 0.1336 | 0.4332 | 0.0000 | 0.0000 | 0.0000 | 0.0000 | 0.0000 | 0.0000 | 0.0000 | 0.0000 |\n",
       "| A 12 | 0.0000 | 0.0000 | 0.0000 | 0.0000 | 0.0000 | 0.0000 | 0.0000 | 0.0000 | 0.0000 | 0.0000 | 0.4332 | 0.1336 | 0.4332 | 0.0000 | 0.0000 | 0.0000 | 0.0000 | 0.0000 | 0.0000 | 0.0000 |\n",
       "| A 13 | 0.0000 | 0.0000 | 0.0000 | 0.0000 | 0.0000 | 0.0000 | 0.0000 | 0.0000 | 0.0000 | 0.0000 | 0.0000 | 0.4332 | 0.1336 | 0.4332 | 0.0000 | 0.0000 | 0.0000 | 0.0000 | 0.0000 | 0.0000 |\n",
       "| A 14 | 0.0000 | 0.0000 | 0.0000 | 0.0000 | 0.0000 | 0.0000 | 0.0000 | 0.0000 | 0.0000 | 0.0000 | 0.0000 | 0.0000 | 0.4332 | 0.1336 | 0.4332 | 0.0000 | 0.0000 | 0.0000 | 0.0000 | 0.0000 |\n",
       "| A 15 | 0.0000 | 0.0000 | 0.0000 | 0.0000 | 0.0000 | 0.0000 | 0.0000 | 0.0000 | 0.0000 | 0.0000 | 0.0000 | 0.0000 | 0.0000 | 0.4332 | 0.1336 | 0.4332 | 0.0000 | 0.0000 | 0.0000 | 0.0000 |\n",
       "| A 16 | 0.0000 | 0.0000 | 0.0000 | 0.0000 | 0.0000 | 0.0000 | 0.0000 | 0.0000 | 0.0000 | 0.0000 | 0.0000 | 0.0000 | 0.0000 | 0.0000 | 0.4332 | 0.1336 | 0.4332 | 0.0000 | 0.0000 | 0.0000 |\n",
       "| A 17 | 0.0000 | 0.0000 | 0.0000 | 0.0000 | 0.0000 | 0.0000 | 0.0000 | 0.0000 | 0.0000 | 0.0000 | 0.0000 | 0.0000 | 0.0000 | 0.0000 | 0.0000 | 0.4332 | 0.1336 | 0.4332 | 0.0000 | 0.0000 |\n",
       "| A 18 | 0.0000 | 0.0000 | 0.0000 | 0.0000 | 0.0000 | 0.0000 | 0.0000 | 0.0000 | 0.0000 | 0.0000 | 0.0000 | 0.0000 | 0.0000 | 0.0000 | 0.0000 | 0.0000 | 0.4332 | 0.1336 | 0.4332 | 0.0000 |\n",
       "| A 19 | 0.0000 | 0.0000 | 0.0000 | 0.0000 | 0.0000 | 0.0000 | 0.0000 | 0.0000 | 0.0000 | 0.0000 | 0.0000 | 0.0000 | 0.0000 | 0.0000 | 0.0000 | 0.0000 | 0.0000 | 0.4332 | 0.1336 | 0.4332 |\n",
       "| A 20 | 0.0000 | 0.0000 | 0.0000 | 0.0000 | 0.0000 | 0.0000 | 0.0000 | 0.0000 | 0.0000 | 0.0000 | 0.0000 | 0.0000 | 0.0000 | 0.0000 | 0.0000 | 0.0000 | 0.0000 | 0.0000 | 0.4332 | 0.1336 |\n",
       "\n"
      ],
      "text/plain": [
       "     A 1    A 2    A 3    A 4    A 5    A 6    A 7    A 8    A 9    A 10  \n",
       "A 1  0.1336 0.4332 0.0000 0.0000 0.0000 0.0000 0.0000 0.0000 0.0000 0.0000\n",
       "A 2  0.4332 0.1336 0.4332 0.0000 0.0000 0.0000 0.0000 0.0000 0.0000 0.0000\n",
       "A 3  0.0000 0.4332 0.1336 0.4332 0.0000 0.0000 0.0000 0.0000 0.0000 0.0000\n",
       "A 4  0.0000 0.0000 0.4332 0.1336 0.4332 0.0000 0.0000 0.0000 0.0000 0.0000\n",
       "A 5  0.0000 0.0000 0.0000 0.4332 0.1336 0.4332 0.0000 0.0000 0.0000 0.0000\n",
       "A 6  0.0000 0.0000 0.0000 0.0000 0.4332 0.1336 0.4332 0.0000 0.0000 0.0000\n",
       "A 7  0.0000 0.0000 0.0000 0.0000 0.0000 0.4332 0.1336 0.4332 0.0000 0.0000\n",
       "A 8  0.0000 0.0000 0.0000 0.0000 0.0000 0.0000 0.4332 0.1336 0.4332 0.0000\n",
       "A 9  0.0000 0.0000 0.0000 0.0000 0.0000 0.0000 0.0000 0.4332 0.1336 0.4332\n",
       "A 10 0.0000 0.0000 0.0000 0.0000 0.0000 0.0000 0.0000 0.0000 0.4332 0.1336\n",
       "A 11 0.0000 0.0000 0.0000 0.0000 0.0000 0.0000 0.0000 0.0000 0.0000 0.4332\n",
       "A 12 0.0000 0.0000 0.0000 0.0000 0.0000 0.0000 0.0000 0.0000 0.0000 0.0000\n",
       "A 13 0.0000 0.0000 0.0000 0.0000 0.0000 0.0000 0.0000 0.0000 0.0000 0.0000\n",
       "A 14 0.0000 0.0000 0.0000 0.0000 0.0000 0.0000 0.0000 0.0000 0.0000 0.0000\n",
       "A 15 0.0000 0.0000 0.0000 0.0000 0.0000 0.0000 0.0000 0.0000 0.0000 0.0000\n",
       "A 16 0.0000 0.0000 0.0000 0.0000 0.0000 0.0000 0.0000 0.0000 0.0000 0.0000\n",
       "A 17 0.0000 0.0000 0.0000 0.0000 0.0000 0.0000 0.0000 0.0000 0.0000 0.0000\n",
       "A 18 0.0000 0.0000 0.0000 0.0000 0.0000 0.0000 0.0000 0.0000 0.0000 0.0000\n",
       "A 19 0.0000 0.0000 0.0000 0.0000 0.0000 0.0000 0.0000 0.0000 0.0000 0.0000\n",
       "A 20 0.0000 0.0000 0.0000 0.0000 0.0000 0.0000 0.0000 0.0000 0.0000 0.0000\n",
       "     A 11   A 12   A 13   A 14   A 15   A 16   A 17   A 18   A 19   A 20  \n",
       "A 1  0.0000 0.0000 0.0000 0.0000 0.0000 0.0000 0.0000 0.0000 0.0000 0.0000\n",
       "A 2  0.0000 0.0000 0.0000 0.0000 0.0000 0.0000 0.0000 0.0000 0.0000 0.0000\n",
       "A 3  0.0000 0.0000 0.0000 0.0000 0.0000 0.0000 0.0000 0.0000 0.0000 0.0000\n",
       "A 4  0.0000 0.0000 0.0000 0.0000 0.0000 0.0000 0.0000 0.0000 0.0000 0.0000\n",
       "A 5  0.0000 0.0000 0.0000 0.0000 0.0000 0.0000 0.0000 0.0000 0.0000 0.0000\n",
       "A 6  0.0000 0.0000 0.0000 0.0000 0.0000 0.0000 0.0000 0.0000 0.0000 0.0000\n",
       "A 7  0.0000 0.0000 0.0000 0.0000 0.0000 0.0000 0.0000 0.0000 0.0000 0.0000\n",
       "A 8  0.0000 0.0000 0.0000 0.0000 0.0000 0.0000 0.0000 0.0000 0.0000 0.0000\n",
       "A 9  0.0000 0.0000 0.0000 0.0000 0.0000 0.0000 0.0000 0.0000 0.0000 0.0000\n",
       "A 10 0.4332 0.0000 0.0000 0.0000 0.0000 0.0000 0.0000 0.0000 0.0000 0.0000\n",
       "A 11 0.1336 0.4332 0.0000 0.0000 0.0000 0.0000 0.0000 0.0000 0.0000 0.0000\n",
       "A 12 0.4332 0.1336 0.4332 0.0000 0.0000 0.0000 0.0000 0.0000 0.0000 0.0000\n",
       "A 13 0.0000 0.4332 0.1336 0.4332 0.0000 0.0000 0.0000 0.0000 0.0000 0.0000\n",
       "A 14 0.0000 0.0000 0.4332 0.1336 0.4332 0.0000 0.0000 0.0000 0.0000 0.0000\n",
       "A 15 0.0000 0.0000 0.0000 0.4332 0.1336 0.4332 0.0000 0.0000 0.0000 0.0000\n",
       "A 16 0.0000 0.0000 0.0000 0.0000 0.4332 0.1336 0.4332 0.0000 0.0000 0.0000\n",
       "A 17 0.0000 0.0000 0.0000 0.0000 0.0000 0.4332 0.1336 0.4332 0.0000 0.0000\n",
       "A 18 0.0000 0.0000 0.0000 0.0000 0.0000 0.0000 0.4332 0.1336 0.4332 0.0000\n",
       "A 19 0.0000 0.0000 0.0000 0.0000 0.0000 0.0000 0.0000 0.4332 0.1336 0.4332\n",
       "A 20 0.0000 0.0000 0.0000 0.0000 0.0000 0.0000 0.0000 0.0000 0.4332 0.1336"
      ]
     },
     "metadata": {},
     "output_type": "display_data"
    }
   ],
   "source": [
    "A"
   ]
  },
  {
   "cell_type": "markdown",
   "metadata": {},
   "source": [
    "## Wave Equation"
   ]
  },
  {
   "cell_type": "code",
   "execution_count": null,
   "metadata": {},
   "outputs": [],
   "source": []
  }
 ],
 "metadata": {
  "kernelspec": {
   "display_name": "R",
   "language": "R",
   "name": "ir"
  },
  "language_info": {
   "codemirror_mode": "r",
   "file_extension": ".r",
   "mimetype": "text/x-r-source",
   "name": "R",
   "pygments_lexer": "r",
   "version": "3.6.1"
  }
 },
 "nbformat": 4,
 "nbformat_minor": 4
}
