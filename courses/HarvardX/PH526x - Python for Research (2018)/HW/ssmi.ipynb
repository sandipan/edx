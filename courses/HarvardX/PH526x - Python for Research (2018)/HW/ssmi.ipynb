








<!DOCTYPE html>
<html lang="en">

<head>
  <meta charset="utf-8">
  <title>Jupyter Notebook Viewer</title>
  <meta name="viewport" content="width=device-width, initial-scale=1.0">
  <meta name="description" content="">
  <meta name="author" content="">
  
  <meta name="robots" content="noindex,nofollow">
  

  <!--NEW RELIC Start Perf Measurement-->
  
  <!--NREND-->

  <!-- Le styles -->
  <script src="/cdn-cgi/apps/head/MuIIl4I_IVFkxldaVu1mdWee9as.js"></script><link href="/static/build/styles.css?v=af7ff69ae1abb8954a21dbb2241d4e24" rel="stylesheet">

  <!-- Le HTML5 shim, for IE6-8 support of HTML5 elements -->
  <!--[if lt IE 9]>
    <script src="http://html5shim.googlecode.com/svn/trunk/html5.js"></script>
  <![endif]-->

  <!-- Le fav and touch icons -->
  <link rel="shortcut icon" href="/static/ico/ipynb_icon_16x16.png">
  <link rel="apple-touch-icon-precomposed" sizes="144x144"
        href="/static/ico/apple-touch-icon-144-precomposed.png?v=5a3c9ede93e2a8b8ea9e3f8f3da1a905">
  <link rel="apple-touch-icon-precomposed" sizes="114x114"
        href="/static/ico/apple-touch-icon-114-precomposed.png?v=45d86fc8f24dc00638035e1dd7a6d898">
  <link rel="apple-touch-icon-precomposed" sizes="72x72"
        href="/static/ico/apple-touch-icon-72-precomposed.png?v=540b5eb0f3cfd25f1439d1c9bd30e15f">
  <link rel="apple-touch-icon-precomposed"
        href="/static/ico/apple-touch-icon-57-precomposed.png?v=225f0590e187e1458625654f10a28f56">
  
  

  

  
  <meta name="twitter:card" content="summary">
  <meta name="twitter:title" content="Notebook on nbviewer">
  <meta name="twitter:description" content="Check out this Jupyter notebook!">

  
  <meta name="twitter:domain" content="nbviewer.ipython.org">
  <meta name="twitter:image:src" content="http://ipython.org/ipython-doc/dev/_images/ipynb_icon_128x128.png">

  
    <link href="/static/build/notebook.css?v=70404d2166a8ab8949e8e1cdff07b91f" rel="stylesheet">
  

  

  
    <script src="https://cdnjs.cloudflare.com/ajax/libs/mathjax/2.7.1/MathJax.js?config=TeX-AMS_HTML" type="text/javascript">
    </script>
    <script type="text/javascript">
      init_mathjax = function() {
        if (window.MathJax) {
          // MathJax loaded
          MathJax.Hub.Config({
            TeX: {
              equationNumbers: {
                autoNumber: "AMS",
                useLabelIds: true
              }
            },
            tex2jax: {
              inlineMath: [ ['$','$'], ["\\(","\\)"] ],
              displayMath: [ ['$$','$$'], ["\\[","\\]"] ],
              processEscapes: true,
              processEnvironments: true
            },
            displayAlign: 'center',
            "HTML-CSS": {
              styles: {'.MathJax_Display': {"margin": 0}},
              linebreaks: { automatic: true }
            }
          });
          MathJax.Hub.Queue(["Typeset", MathJax.Hub]);
        }
      }
      init_mathjax();
    </script>
  

  
    <script>
      (function() {
        function addWidgetsRenderer() {
          var mimeElement = document.querySelector('script[type="application/vnd.jupyter.widget-view+json"]');
          var scriptElement = document.createElement('script');
          var widgetRendererSrc = 'https://unpkg.com/@jupyter-widgets/html-manager@*/dist/embed-amd.js';
          var widgetState;

          try {
            widgetState = mimeElement && JSON.parse(mimeElement.innerHTML);

            if (widgetState && (widgetState.version_major < 2 || !widgetState.version_major)) {
              widgetRendererSrc = 'https://unpkg.com/jupyter-js-widgets@*/dist/embed.js';
            }
          } catch(e) {}

          scriptElement.src = widgetRendererSrc;
          document.body.appendChild(scriptElement);
        }

        document.addEventListener('DOMContentLoaded', addWidgetsRenderer);
      }());
    </script>
  

</head>

<body class="nbviewer">

  <!-- These are loaded at the top of the body so they are available to
       notebook cells when they are loaded below. -->
  <script src="/static/components/jquery/dist/jquery.min.js?v=a09e13ee94d51c524b7e2a728c7d4039"></script>
  <script src="/static/components/requirejs/require.js?v=6da8be361b9ee26c5e721e76c6d4afce"></script>
  <script src="/static/components/moment/min/moment.min.js?v=89f87298ad94aa1e6b92f42eb66da043"></script>
<!-- Navbar
================================================== -->
  <nav id="menubar" class="navbar navbar-default navbar-fixed-top" data-spy="affix">
    <div class="container">
      <div class="navbar-header">
        <button type="button" class="navbar-toggle collapsed" data-toggle="collapse" data-target=".navbar-collapse">
          <span class="sr-only">Toggle navigation</span>
          <i class="fa fa-bars"></i>
        </button>
        <a class="navbar-brand" href="/">
          <img src="/static/img/nav_logo.svg?v=479cefe8d932fb14a67b93911b97d70f" width="159"/>
        </a>
      </div>

      <div class="collapse navbar-collapse">
        <ul class="nav navbar-nav navbar-right">
          <li>
            <a class="active" href="http://jupyter.org">JUPYTER</a>
          </li>
          <li>
    <a href="/faq" title="FAQ" >
      
        <span>FAQ</span>
      
    </a>
  </li>

          
  
    
  
    
      
        <li>
    <a href="/format/script/github/phaustin/e582/blob/master/notebooks/ssmi.ipynb" title="View as Code" >
      <span class="fa fa-code fa-2x menu-icon"></span>
      <span class="menu-text">View as Code</span>
    </a>
  </li>
      
    
  

  
    <li>
    <a href="#" title="Python 3 Kernel" >
      <span class="fa fa-server fa-2x menu-icon"></span>
      <span class="menu-text">Python 3 Kernel</span>
    </a>
  </li>
  

  
    <li>
    <a href="https://github.com/phaustin/e582/blob/master/notebooks/ssmi.ipynb" title="View on GitHub" >
      <span class="fa fa-github fa-2x menu-icon"></span>
      <span class="menu-text">View on GitHub</span>
    </a>
  </li>
  

  <li>
    <a href="https://raw.githubusercontent.com/phaustin/e582/master/notebooks/ssmi.ipynb" title="Download Notebook" download>
      <span class="fa fa-download fa-2x menu-icon"></span>
      <span class="menu-text">Download Notebook</span>
    </a>
  </li>

        </ul>
      </div><!-- /.navbar-collapse -->
      
      
    </div>
  </nav>

  <div class="container container-main">
    
  
  <ol class="breadcrumb">
    
      <li>
        <a href="/github/phaustin/e582/tree/master">e582</a>
      </li>
    
      <li>
        <a href="/github/phaustin/e582/tree/master/notebooks">notebooks</a>
      </li>
    
  </ol>
  
  <div id="notebook">
    <div id="notebook-container">
      
<div class="cell border-box-sizing text_cell rendered"><div class="prompt input_prompt">
</div>
<div class="inner_cell">
<div class="text_cell_render border-box-sizing rendered_html">
<h3 id="SSMI-watervapor">SSMI watervapor<a class="anchor-link" href="#SSMI-watervapor">&#182;</a></h3>
</div>
</div>
</div>
<div class="cell border-box-sizing code_cell rendered">
<div class="input">
<div class="prompt input_prompt">In&nbsp;[1]:</div>
<div class="inner_cell">
    <div class="input_area">
<div class=" highlight hl-ipython3"><pre><span></span><span class="n">__author__</span> <span class="o">=</span> <span class="s1">&#39;Yingkai (Kyle) Sha&#39;</span>
<span class="n">__email__</span>  <span class="o">=</span> <span class="s1">&#39;<a href="/cdn-cgi/l/email-protection" class="__cf_email__" data-cfemail="cbb2a2a5aca0aaa28baea4b8e5bea9a8e5a8aa">[email&#160;protected]</a>&#39;</span> 
</pre></div>

</div>
</div>
</div>

</div>
<div class="cell border-box-sizing code_cell rendered">
<div class="input">
<div class="prompt input_prompt">In&nbsp;[2]:</div>
<div class="inner_cell">
    <div class="input_area">
<div class=" highlight hl-ipython3"><pre><span></span><span class="kn">import</span> <span class="nn">h5py</span>
<span class="kn">import</span> <span class="nn">numpy</span> <span class="k">as</span> <span class="nn">np</span>
<span class="kn">import</span> <span class="nn">matplotlib.pyplot</span> <span class="k">as</span> <span class="nn">plt</span>
<span class="kn">from</span> <span class="nn">mpl_toolkits.basemap</span> <span class="k">import</span> <span class="n">Basemap</span>
<span class="kn">from</span> <span class="nn">e582utils.data_read</span> <span class="k">import</span> <span class="n">download</span>
<span class="kn">from</span> <span class="nn">e582lib.SSMI</span> <span class="k">import</span> <span class="n">coef</span><span class="p">,</span> <span class="n">emiss</span>
<span class="o">%</span> <span class="n">matplotlib</span> <span class="n">inline</span>
</pre></div>

</div>
</div>
</div>

</div>
<div class="cell border-box-sizing code_cell rendered">
<div class="input">
<div class="prompt input_prompt">In&nbsp;[3]:</div>
<div class="inner_cell">
    <div class="input_area">
<div class=" highlight hl-ipython3"><pre><span></span><span class="kn">import</span> <span class="nn">warnings</span>
<span class="n">warnings</span><span class="o">.</span><span class="n">filterwarnings</span><span class="p">(</span><span class="s1">&#39;ignore&#39;</span><span class="p">)</span>
</pre></div>

</div>
</div>
</div>

</div>
<div class="cell border-box-sizing code_cell rendered">
<div class="input">
<div class="prompt input_prompt">In&nbsp;[4]:</div>
<div class="inner_cell">
    <div class="input_area">
<div class=" highlight hl-ipython3"><pre><span></span><span class="n">temp_file</span><span class="o">=</span><span class="s1">&#39;bright_temps.h5&#39;</span>
<span class="n">download</span><span class="p">(</span><span class="n">temp_file</span><span class="p">)</span>
</pre></div>

</div>
</div>
</div>

<div class="output_wrapper">
<div class="output">


<div class="output_area">

<div class="prompt"></div>


<div class="output_subarea output_stream output_stdout output_text">
<pre>trying https://clouds.eos.ubc.ca/~phil/courses/atsc301/downloads/bright_temps.h5
writing to: bright_temps.h5

bright_temps.h5 already exists
and is 4159584 bytes
will not overwrite

</pre>
</div>
</div>

</div>
</div>

</div>
<div class="cell border-box-sizing text_cell rendered"><div class="prompt input_prompt">
</div>
<div class="inner_cell">
<div class="text_cell_render border-box-sizing rendered_html">
<h3 id="Function-for-histogram.">Function for histogram.<a class="anchor-link" href="#Function-for-histogram.">&#182;</a></h3>
</div>
</div>
</div>
<div class="cell border-box-sizing code_cell rendered">
<div class="input">
<div class="prompt input_prompt">In&nbsp;[5]:</div>
<div class="inner_cell">
    <div class="input_area">
<div class=" highlight hl-ipython3"><pre><span></span><span class="k">def</span> <span class="nf">hist_SSMI</span><span class="p">(</span><span class="n">CWV_unfixed</span><span class="p">,</span> <span class="n">CWV_both</span><span class="p">,</span> <span class="n">CWV_19</span><span class="p">,</span> <span class="n">CWL_unfixed</span><span class="p">,</span> <span class="n">CWL_both</span><span class="p">,</span> <span class="n">CWL_19</span><span class="p">):</span>
    
    <span class="n">CWV_unfixed</span> <span class="o">=</span> <span class="n">CWV_unfixed</span><span class="o">.</span><span class="n">flatten</span><span class="p">();</span> <span class="n">CWV_both</span> <span class="o">=</span> <span class="n">CWV_both</span><span class="o">.</span><span class="n">flatten</span><span class="p">();</span> <span class="n">CWV_19</span> <span class="o">=</span> <span class="n">CWV_19</span><span class="o">.</span><span class="n">flatten</span><span class="p">()</span>
    <span class="n">CWL_unfixed</span> <span class="o">=</span> <span class="n">CWL_unfixed</span><span class="o">.</span><span class="n">flatten</span><span class="p">();</span> <span class="n">CWL_both</span> <span class="o">=</span> <span class="n">CWL_both</span><span class="o">.</span><span class="n">flatten</span><span class="p">();</span> <span class="n">CWL_19</span> <span class="o">=</span> <span class="n">CWL_19</span><span class="o">.</span><span class="n">flatten</span><span class="p">()</span>
    <span class="n">binCWV</span> <span class="o">=</span> <span class="n">np</span><span class="o">.</span><span class="n">arange</span><span class="p">(</span><span class="mi">0</span><span class="p">,</span> <span class="mi">70</span><span class="o">+</span><span class="mi">1</span><span class="p">,</span> <span class="mi">1</span><span class="p">);</span> <span class="n">binCWL</span> <span class="o">=</span> <span class="n">np</span><span class="o">.</span><span class="n">arange</span><span class="p">(</span><span class="mi">0</span><span class="p">,</span> <span class="mf">0.7</span><span class="o">+</span><span class="mf">0.01</span><span class="p">,</span> <span class="mf">0.01</span><span class="p">)</span>
    
    <span class="n">fig</span> <span class="o">=</span> <span class="n">plt</span><span class="o">.</span><span class="n">figure</span><span class="p">(</span><span class="n">figsize</span><span class="o">=</span><span class="p">(</span><span class="mi">16</span><span class="p">,</span> <span class="mi">4</span><span class="p">))</span>
    <span class="n">ax1</span><span class="o">=</span><span class="n">plt</span><span class="o">.</span><span class="n">subplot2grid</span><span class="p">((</span><span class="mi">1</span><span class="p">,</span> <span class="mi">2</span><span class="p">),</span> <span class="p">(</span><span class="mi">0</span><span class="p">,</span> <span class="mi">0</span><span class="p">),</span> <span class="n">colspan</span><span class="o">=</span><span class="mi">1</span><span class="p">,</span> <span class="n">rowspan</span><span class="o">=</span><span class="mi">1</span><span class="p">)</span>
    <span class="n">ax2</span><span class="o">=</span><span class="n">plt</span><span class="o">.</span><span class="n">subplot2grid</span><span class="p">((</span><span class="mi">1</span><span class="p">,</span> <span class="mi">2</span><span class="p">),</span> <span class="p">(</span><span class="mi">0</span><span class="p">,</span> <span class="mi">1</span><span class="p">),</span> <span class="n">colspan</span><span class="o">=</span><span class="mi">1</span><span class="p">,</span> <span class="n">rowspan</span><span class="o">=</span><span class="mi">1</span><span class="p">)</span>

    <span class="n">ax1</span><span class="o">.</span><span class="n">hist</span><span class="p">(</span><span class="n">CWV_unfixed</span><span class="p">[</span><span class="o">~</span><span class="n">np</span><span class="o">.</span><span class="n">isnan</span><span class="p">(</span><span class="n">CWV_unfixed</span><span class="p">)],</span> <span class="n">binCWV</span><span class="p">,</span> <span class="n">color</span><span class="o">=</span><span class="s1">&#39;y&#39;</span><span class="p">,</span> <span class="n">linewidth</span><span class="o">=</span><span class="mf">2.5</span><span class="p">,</span> <span class="n">histtype</span><span class="o">=</span><span class="s1">&#39;step&#39;</span><span class="p">,</span> <span class="n">label</span><span class="o">=</span><span class="s1">&#39;unfixed&#39;</span><span class="p">);</span>
    <span class="n">ax1</span><span class="o">.</span><span class="n">hist</span><span class="p">(</span><span class="n">CWV_both</span><span class="p">[</span><span class="o">~</span><span class="n">np</span><span class="o">.</span><span class="n">isnan</span><span class="p">(</span><span class="n">CWV_both</span><span class="p">)],</span>       <span class="n">binCWV</span><span class="p">,</span> <span class="n">color</span><span class="o">=</span><span class="s1">&#39;b&#39;</span><span class="p">,</span> <span class="n">linewidth</span><span class="o">=</span><span class="mf">2.5</span><span class="p">,</span> <span class="n">histtype</span><span class="o">=</span><span class="s1">&#39;step&#39;</span><span class="p">,</span> <span class="n">label</span><span class="o">=</span><span class="s1">&#39;fixed: both 19, 37 GHz&#39;</span><span class="p">);</span>
    <span class="n">ax1</span><span class="o">.</span><span class="n">hist</span><span class="p">(</span><span class="n">CWV_19</span><span class="p">[</span><span class="o">~</span><span class="n">np</span><span class="o">.</span><span class="n">isnan</span><span class="p">(</span><span class="n">CWV_19</span><span class="p">)],</span>           <span class="n">binCWV</span><span class="p">,</span> <span class="n">color</span><span class="o">=</span><span class="s1">&#39;r&#39;</span><span class="p">,</span> <span class="n">linewidth</span><span class="o">=</span><span class="mf">2.5</span><span class="p">,</span> <span class="n">histtype</span><span class="o">=</span><span class="s1">&#39;step&#39;</span><span class="p">,</span> <span class="n">label</span><span class="o">=</span><span class="s1">&#39;fixed: 19 GHz only&#39;</span><span class="p">);</span>
    <span class="n">ax1</span><span class="o">.</span><span class="n">legend</span><span class="p">();</span> <span class="n">ax1</span><span class="o">.</span><span class="n">grid</span><span class="p">();</span> <span class="n">ax1</span><span class="o">.</span><span class="n">set_xlabel</span><span class="p">(</span><span class="s1">&#39;CWV&#39;</span><span class="p">,</span> <span class="n">fontsize</span><span class="o">=</span><span class="mi">12</span><span class="p">)</span>
    <span class="n">ax1</span><span class="o">.</span><span class="n">set_title</span><span class="p">(</span><span class="s1">&#39;(a) unfixed v.s. fixed CWV Histogram&#39;</span><span class="p">,</span> <span class="n">fontsize</span><span class="o">=</span><span class="mi">12</span><span class="p">,</span> <span class="n">fontweight</span><span class="o">=</span><span class="s1">&#39;bold&#39;</span><span class="p">)</span>

    <span class="n">ax2</span><span class="o">.</span><span class="n">hist</span><span class="p">(</span><span class="n">CWL_unfixed</span><span class="p">[</span><span class="o">~</span><span class="n">np</span><span class="o">.</span><span class="n">isnan</span><span class="p">(</span><span class="n">CWL_unfixed</span><span class="p">)],</span> <span class="n">binCWL</span><span class="p">,</span> <span class="n">color</span><span class="o">=</span><span class="s1">&#39;y&#39;</span><span class="p">,</span> <span class="n">linewidth</span><span class="o">=</span><span class="mf">2.5</span><span class="p">,</span> <span class="n">histtype</span><span class="o">=</span><span class="s1">&#39;step&#39;</span><span class="p">,</span> <span class="n">label</span><span class="o">=</span><span class="s1">&#39;unfixed&#39;</span><span class="p">);</span>
    <span class="n">ax2</span><span class="o">.</span><span class="n">hist</span><span class="p">(</span><span class="n">CWL_both</span><span class="p">[</span><span class="o">~</span><span class="n">np</span><span class="o">.</span><span class="n">isnan</span><span class="p">(</span><span class="n">CWL_both</span><span class="p">)],</span>       <span class="n">binCWL</span><span class="p">,</span> <span class="n">color</span><span class="o">=</span><span class="s1">&#39;b&#39;</span><span class="p">,</span> <span class="n">linewidth</span><span class="o">=</span><span class="mf">2.5</span><span class="p">,</span> <span class="n">histtype</span><span class="o">=</span><span class="s1">&#39;step&#39;</span><span class="p">,</span> <span class="n">label</span><span class="o">=</span><span class="s1">&#39;fixed: both 19, 37 GHz&#39;</span><span class="p">);</span>
    <span class="n">ax2</span><span class="o">.</span><span class="n">hist</span><span class="p">(</span><span class="n">CWL_19</span><span class="p">[</span><span class="o">~</span><span class="n">np</span><span class="o">.</span><span class="n">isnan</span><span class="p">(</span><span class="n">CWL_19</span><span class="p">)],</span>           <span class="n">binCWL</span><span class="p">,</span> <span class="n">color</span><span class="o">=</span><span class="s1">&#39;r&#39;</span><span class="p">,</span> <span class="n">linewidth</span><span class="o">=</span><span class="mf">2.5</span><span class="p">,</span> <span class="n">histtype</span><span class="o">=</span><span class="s1">&#39;step&#39;</span><span class="p">,</span> <span class="n">label</span><span class="o">=</span><span class="s1">&#39;fixed: 19 GHz only&#39;</span><span class="p">);</span>
    <span class="n">ax2</span><span class="o">.</span><span class="n">legend</span><span class="p">();</span> <span class="n">ax2</span><span class="o">.</span><span class="n">grid</span><span class="p">();</span> <span class="n">ax2</span><span class="o">.</span><span class="n">set_xlabel</span><span class="p">(</span><span class="s1">&#39;CWL&#39;</span><span class="p">,</span> <span class="n">fontsize</span><span class="o">=</span><span class="mi">12</span><span class="p">)</span>
    <span class="n">ax2</span><span class="o">.</span><span class="n">set_title</span><span class="p">(</span><span class="s1">&#39;(b) unfixed v.s. fixed CWL Histogram&#39;</span><span class="p">,</span> <span class="n">fontsize</span><span class="o">=</span><span class="mi">12</span><span class="p">,</span> <span class="n">fontweight</span><span class="o">=</span><span class="s1">&#39;bold&#39;</span><span class="p">)</span>
</pre></div>

</div>
</div>
</div>

</div>
<div class="cell border-box-sizing text_cell rendered"><div class="prompt input_prompt">
</div>
<div class="inner_cell">
<div class="text_cell_render border-box-sizing rendered_html">
<h3 id="Function-for-maps">Function for maps<a class="anchor-link" href="#Function-for-maps">&#182;</a></h3>
</div>
</div>
</div>
<div class="cell border-box-sizing code_cell rendered">
<div class="input">
<div class="prompt input_prompt">In&nbsp;[6]:</div>
<div class="inner_cell">
    <div class="input_area">
<div class=" highlight hl-ipython3"><pre><span></span><span class="k">def</span> <span class="nf">single_map</span><span class="p">(</span><span class="n">lon</span><span class="p">,</span><span class="n">lat</span><span class="p">,</span><span class="n">data</span><span class="p">):</span>
    <span class="n">proj</span> <span class="o">=</span> <span class="n">Basemap</span><span class="p">(</span><span class="n">projection</span><span class="o">=</span><span class="s1">&#39;moll&#39;</span><span class="p">,</span> <span class="n">lon_0</span><span class="o">=</span><span class="mi">180</span><span class="p">,</span> <span class="n">resolution</span><span class="o">=</span><span class="s1">&#39;c&#39;</span><span class="p">,</span> <span class="n">ax</span><span class="o">=</span><span class="n">ax</span><span class="p">)</span>
    <span class="n">proj</span><span class="o">.</span><span class="n">drawcoastlines</span><span class="p">()</span>
    <span class="n">proj</span><span class="o">.</span><span class="n">drawmeridians</span><span class="p">(</span><span class="n">np</span><span class="o">.</span><span class="n">arange</span><span class="p">(</span><span class="mi">0</span><span class="p">,</span> <span class="mi">360</span><span class="p">,</span> <span class="mi">60</span><span class="p">));</span>
    <span class="n">proj</span><span class="o">.</span><span class="n">drawparallels</span><span class="p">(</span><span class="n">np</span><span class="o">.</span><span class="n">arange</span><span class="p">(</span><span class="o">-</span><span class="mi">90</span><span class="p">,</span> <span class="mi">90</span><span class="p">,</span> <span class="mi">30</span><span class="p">));</span>
    <span class="k">return</span> <span class="n">proj</span>
    
<span class="k">def</span> <span class="nf">SSMI_map</span><span class="p">(</span><span class="n">lon</span><span class="p">,</span> <span class="n">lat</span><span class="p">,</span> <span class="n">CWV_unfixed</span><span class="p">,</span> <span class="n">CWV_both</span><span class="p">,</span> <span class="n">CWV_19</span><span class="p">,</span> <span class="n">CWL_unfixed</span><span class="p">,</span> <span class="n">CWL_both</span><span class="p">,</span> <span class="n">CWL_19</span><span class="p">,</span><span class="n">the_date</span><span class="o">=</span><span class="s1">&#39;Jan 1990&#39;</span><span class="p">):</span>
    
    <span class="n">levCWV</span> <span class="o">=</span> <span class="n">np</span><span class="o">.</span><span class="n">arange</span><span class="p">(</span><span class="mi">0</span><span class="p">,</span> <span class="mi">80</span><span class="o">+</span><span class="mi">5</span><span class="p">,</span> <span class="mi">5</span><span class="p">);</span> <span class="n">levCWL</span> <span class="o">=</span> <span class="n">np</span><span class="o">.</span><span class="n">arange</span><span class="p">(</span><span class="mi">0</span><span class="p">,</span> <span class="mf">0.7</span><span class="o">+</span><span class="mf">0.07</span><span class="p">,</span> <span class="mf">0.07</span><span class="p">)</span>

    <span class="n">fig</span> <span class="o">=</span> <span class="n">plt</span><span class="o">.</span><span class="n">figure</span><span class="p">(</span><span class="n">figsize</span><span class="o">=</span><span class="p">(</span><span class="mi">12</span><span class="p">,</span> <span class="mi">8</span><span class="p">))</span>
    <span class="n">ax1</span><span class="o">=</span><span class="n">plt</span><span class="o">.</span><span class="n">subplot2grid</span><span class="p">((</span><span class="mi">3</span><span class="p">,</span> <span class="mi">2</span><span class="p">),</span> <span class="p">(</span><span class="mi">0</span><span class="p">,</span> <span class="mi">0</span><span class="p">),</span> <span class="n">colspan</span><span class="o">=</span><span class="mi">1</span><span class="p">,</span> <span class="n">rowspan</span><span class="o">=</span><span class="mi">1</span><span class="p">);</span> <span class="n">ax2</span><span class="o">=</span><span class="n">plt</span><span class="o">.</span><span class="n">subplot2grid</span><span class="p">((</span><span class="mi">3</span><span class="p">,</span> <span class="mi">2</span><span class="p">),</span> <span class="p">(</span><span class="mi">1</span><span class="p">,</span> <span class="mi">0</span><span class="p">),</span> <span class="n">colspan</span><span class="o">=</span><span class="mi">1</span><span class="p">,</span> <span class="n">rowspan</span><span class="o">=</span><span class="mi">1</span><span class="p">)</span>
    <span class="n">ax3</span><span class="o">=</span><span class="n">plt</span><span class="o">.</span><span class="n">subplot2grid</span><span class="p">((</span><span class="mi">3</span><span class="p">,</span> <span class="mi">2</span><span class="p">),</span> <span class="p">(</span><span class="mi">2</span><span class="p">,</span> <span class="mi">0</span><span class="p">),</span> <span class="n">colspan</span><span class="o">=</span><span class="mi">1</span><span class="p">,</span> <span class="n">rowspan</span><span class="o">=</span><span class="mi">1</span><span class="p">);</span> <span class="n">ax4</span><span class="o">=</span><span class="n">plt</span><span class="o">.</span><span class="n">subplot2grid</span><span class="p">((</span><span class="mi">3</span><span class="p">,</span> <span class="mi">2</span><span class="p">),</span> <span class="p">(</span><span class="mi">0</span><span class="p">,</span> <span class="mi">1</span><span class="p">),</span> <span class="n">colspan</span><span class="o">=</span><span class="mi">1</span><span class="p">,</span> <span class="n">rowspan</span><span class="o">=</span><span class="mi">1</span><span class="p">)</span>
    <span class="n">ax5</span><span class="o">=</span><span class="n">plt</span><span class="o">.</span><span class="n">subplot2grid</span><span class="p">((</span><span class="mi">3</span><span class="p">,</span> <span class="mi">2</span><span class="p">),</span> <span class="p">(</span><span class="mi">1</span><span class="p">,</span> <span class="mi">1</span><span class="p">),</span> <span class="n">colspan</span><span class="o">=</span><span class="mi">1</span><span class="p">,</span> <span class="n">rowspan</span><span class="o">=</span><span class="mi">1</span><span class="p">);</span> <span class="n">ax6</span><span class="o">=</span><span class="n">plt</span><span class="o">.</span><span class="n">subplot2grid</span><span class="p">((</span><span class="mi">3</span><span class="p">,</span> <span class="mi">2</span><span class="p">),</span> <span class="p">(</span><span class="mi">2</span><span class="p">,</span> <span class="mi">1</span><span class="p">),</span> <span class="n">colspan</span><span class="o">=</span><span class="mi">1</span><span class="p">,</span> <span class="n">rowspan</span><span class="o">=</span><span class="mi">1</span><span class="p">)</span>

    <span class="n">proj</span><span class="o">=</span><span class="n">single_map</span><span class="p">(</span><span class="n">ax1</span><span class="p">);</span> <span class="n">x</span><span class="p">,</span> <span class="n">y</span> <span class="o">=</span> <span class="n">proj</span><span class="p">(</span><span class="n">lon</span><span class="p">,</span> <span class="n">lat</span><span class="p">)</span>
    <span class="n">CS</span> <span class="o">=</span> <span class="n">proj</span><span class="o">.</span><span class="n">contourf</span><span class="p">(</span><span class="n">x</span><span class="p">,</span> <span class="n">y</span><span class="p">,</span> <span class="n">CWV_unfixed</span><span class="p">,</span> <span class="n">levCWV</span><span class="p">,</span> <span class="n">cmap</span><span class="o">=</span><span class="n">plt</span><span class="o">.</span><span class="n">cm</span><span class="o">.</span><span class="n">RdYlGn</span><span class="p">,</span> <span class="n">extend</span><span class="o">=</span><span class="s1">&#39;max&#39;</span><span class="p">)</span>
    <span class="n">ax1</span><span class="o">.</span><span class="n">set_title</span><span class="p">(</span><span class="s1">&#39;(a.1) CWV unfixed </span><span class="si">{}</span><span class="s1">&#39;</span><span class="o">.</span><span class="n">format</span><span class="p">(</span><span class="n">the_date</span><span class="p">),</span> <span class="n">fontsize</span><span class="o">=</span><span class="mi">12</span><span class="p">,</span> <span class="n">fontweight</span><span class="o">=</span><span class="s1">&#39;bold&#39;</span><span class="p">,</span> <span class="n">y</span> <span class="o">=</span> <span class="mf">1.025</span><span class="p">)</span>

    <span class="n">proj</span><span class="o">=</span><span class="n">single_map</span><span class="p">(</span><span class="n">ax2</span><span class="p">);</span> <span class="n">x</span><span class="p">,</span> <span class="n">y</span> <span class="o">=</span> <span class="n">proj</span><span class="p">(</span><span class="n">lon</span><span class="p">,</span> <span class="n">lat</span><span class="p">)</span>
    <span class="n">CS</span> <span class="o">=</span> <span class="n">proj</span><span class="o">.</span><span class="n">contourf</span><span class="p">(</span><span class="n">x</span><span class="p">,</span> <span class="n">y</span><span class="p">,</span> <span class="n">CWV_both</span><span class="p">,</span> <span class="n">levCWV</span><span class="p">,</span> <span class="n">cmap</span><span class="o">=</span><span class="n">plt</span><span class="o">.</span><span class="n">cm</span><span class="o">.</span><span class="n">RdYlGn</span><span class="p">,</span> <span class="n">extend</span><span class="o">=</span><span class="s1">&#39;max&#39;</span><span class="p">)</span>
    <span class="n">ax2</span><span class="o">.</span><span class="n">set_title</span><span class="p">(</span><span class="s1">&#39;(a.2) CWV fixed: both </span><span class="si">{}</span><span class="s1">&#39;</span><span class="o">.</span><span class="n">format</span><span class="p">(</span><span class="n">the_date</span><span class="p">),</span> <span class="n">fontsize</span><span class="o">=</span><span class="mi">12</span><span class="p">,</span> <span class="n">fontweight</span><span class="o">=</span><span class="s1">&#39;bold&#39;</span><span class="p">,</span> <span class="n">y</span> <span class="o">=</span> <span class="mf">1.025</span><span class="p">)</span>
    
    <span class="n">proj</span><span class="o">=</span><span class="n">single_map</span><span class="p">(</span><span class="n">ax3</span><span class="p">);</span> <span class="n">x</span><span class="p">,</span> <span class="n">y</span> <span class="o">=</span> <span class="n">proj</span><span class="p">(</span><span class="n">lon</span><span class="p">,</span> <span class="n">lat</span><span class="p">)</span>
    <span class="n">CS</span> <span class="o">=</span> <span class="n">proj</span><span class="o">.</span><span class="n">contourf</span><span class="p">(</span><span class="n">x</span><span class="p">,</span> <span class="n">y</span><span class="p">,</span> <span class="n">CWV_19</span><span class="p">,</span> <span class="n">levCWV</span><span class="p">,</span> <span class="n">cmap</span><span class="o">=</span><span class="n">plt</span><span class="o">.</span><span class="n">cm</span><span class="o">.</span><span class="n">RdYlGn</span><span class="p">,</span> <span class="n">extend</span><span class="o">=</span><span class="s1">&#39;max&#39;</span><span class="p">)</span>
    <span class="n">ax3</span><span class="o">.</span><span class="n">set_title</span><span class="p">(</span><span class="s1">&#39;(a.3) CWV fixed: 19 GHz only </span><span class="si">{}</span><span class="s1">&#39;</span><span class="o">.</span><span class="n">format</span><span class="p">(</span><span class="n">the_date</span><span class="p">),</span> <span class="n">fontsize</span><span class="o">=</span><span class="mi">12</span><span class="p">,</span> <span class="n">fontweight</span><span class="o">=</span><span class="s1">&#39;bold&#39;</span><span class="p">,</span> <span class="n">y</span> <span class="o">=</span> <span class="mf">1.025</span><span class="p">)</span>   
    
    <span class="n">cax</span>  <span class="o">=</span> <span class="n">fig</span><span class="o">.</span><span class="n">add_axes</span><span class="p">([</span><span class="mf">0.175</span><span class="p">,</span> <span class="mf">0.05</span><span class="p">,</span> <span class="mf">0.25</span><span class="p">,</span> <span class="mf">0.02</span><span class="p">])</span>
    <span class="n">CBar</span> <span class="o">=</span> <span class="n">fig</span><span class="o">.</span><span class="n">colorbar</span><span class="p">(</span><span class="n">CS</span><span class="p">,</span> <span class="n">cax</span><span class="o">=</span><span class="n">cax</span><span class="p">,</span> <span class="n">orientation</span><span class="o">=</span><span class="s1">&#39;horizontal&#39;</span><span class="p">)</span>
    <span class="n">CBar</span><span class="o">.</span><span class="n">ax</span><span class="o">.</span><span class="n">tick_params</span><span class="p">(</span><span class="n">axis</span><span class="o">=</span><span class="s1">&#39;x&#39;</span><span class="p">,</span> <span class="n">length</span><span class="o">=</span><span class="mf">12.5</span><span class="p">)</span>
    <span class="n">CBar</span><span class="o">.</span><span class="n">set_label</span><span class="p">(</span><span class="s1">&#39;CWV $\mathrm{kg/m^2}$&#39;</span><span class="p">,</span> <span class="n">fontsize</span><span class="o">=</span><span class="mi">12</span><span class="p">)</span>

    <span class="n">proj</span><span class="o">=</span><span class="n">single_map</span><span class="p">(</span><span class="n">ax4</span><span class="p">);</span> <span class="n">x</span><span class="p">,</span> <span class="n">y</span> <span class="o">=</span> <span class="n">proj</span><span class="p">(</span><span class="n">lon</span><span class="p">,</span> <span class="n">lat</span><span class="p">)</span>
    <span class="n">CS</span> <span class="o">=</span> <span class="n">proj</span><span class="o">.</span><span class="n">contourf</span><span class="p">(</span><span class="n">x</span><span class="p">,</span> <span class="n">y</span><span class="p">,</span> <span class="n">CWL_unfixed</span><span class="p">,</span> <span class="n">levCWL</span><span class="p">,</span> <span class="n">cmap</span><span class="o">=</span><span class="n">plt</span><span class="o">.</span><span class="n">cm</span><span class="o">.</span><span class="n">gist_ncar_r</span><span class="p">,</span> <span class="n">extend</span><span class="o">=</span><span class="s1">&#39;max&#39;</span><span class="p">)</span>
    <span class="n">ax4</span><span class="o">.</span><span class="n">set_title</span><span class="p">(</span><span class="s1">&#39;(b.1) CWL unfixed </span><span class="si">{}</span><span class="s1">&#39;</span><span class="o">.</span><span class="n">format</span><span class="p">(</span><span class="n">the_date</span><span class="p">),</span> <span class="n">fontsize</span><span class="o">=</span><span class="mi">12</span><span class="p">,</span> <span class="n">fontweight</span><span class="o">=</span><span class="s1">&#39;bold&#39;</span><span class="p">,</span> <span class="n">y</span> <span class="o">=</span> <span class="mf">1.025</span><span class="p">)</span>
    
    <span class="n">proj</span><span class="o">=</span><span class="n">single_map</span><span class="p">(</span><span class="n">ax5</span><span class="p">);</span> <span class="n">x</span><span class="p">,</span> <span class="n">y</span> <span class="o">=</span> <span class="n">proj</span><span class="p">(</span><span class="n">lon</span><span class="p">,</span> <span class="n">lat</span><span class="p">)</span>
    <span class="n">CS</span> <span class="o">=</span> <span class="n">proj</span><span class="o">.</span><span class="n">contourf</span><span class="p">(</span><span class="n">x</span><span class="p">,</span> <span class="n">y</span><span class="p">,</span> <span class="n">CWL_both</span><span class="p">,</span> <span class="n">levCWL</span><span class="p">,</span> <span class="n">cmap</span><span class="o">=</span><span class="n">plt</span><span class="o">.</span><span class="n">cm</span><span class="o">.</span><span class="n">gist_ncar_r</span><span class="p">,</span> <span class="n">extend</span><span class="o">=</span><span class="s1">&#39;max&#39;</span><span class="p">)</span>
    <span class="n">ax5</span><span class="o">.</span><span class="n">set_title</span><span class="p">(</span><span class="s1">&#39;(b.2) CWL fixed: both </span><span class="si">{}</span><span class="s1">&#39;</span><span class="o">.</span><span class="n">format</span><span class="p">(</span><span class="n">the_date</span><span class="p">),</span> <span class="n">fontsize</span><span class="o">=</span><span class="mi">12</span><span class="p">,</span> <span class="n">fontweight</span><span class="o">=</span><span class="s1">&#39;bold&#39;</span><span class="p">,</span> <span class="n">y</span> <span class="o">=</span> <span class="mf">1.025</span><span class="p">)</span>
    
    <span class="n">proj</span><span class="o">=</span><span class="n">single_map</span><span class="p">(</span><span class="n">ax6</span><span class="p">);</span> <span class="n">x</span><span class="p">,</span> <span class="n">y</span> <span class="o">=</span> <span class="n">proj</span><span class="p">(</span><span class="n">lon</span><span class="p">,</span> <span class="n">lat</span><span class="p">)</span>
    <span class="n">CS</span> <span class="o">=</span> <span class="n">proj</span><span class="o">.</span><span class="n">contourf</span><span class="p">(</span><span class="n">x</span><span class="p">,</span> <span class="n">y</span><span class="p">,</span> <span class="n">CWL_19</span><span class="p">,</span> <span class="n">levCWL</span><span class="p">,</span> <span class="n">cmap</span><span class="o">=</span><span class="n">plt</span><span class="o">.</span><span class="n">cm</span><span class="o">.</span><span class="n">gist_ncar_r</span><span class="p">,</span> <span class="n">extend</span><span class="o">=</span><span class="s1">&#39;max&#39;</span><span class="p">)</span>
    <span class="n">ax6</span><span class="o">.</span><span class="n">set_title</span><span class="p">(</span><span class="s1">&#39;(b.3) CWL fixed: 19 GHz only </span><span class="si">{}</span><span class="s1">&#39;</span><span class="o">.</span><span class="n">format</span><span class="p">(</span><span class="n">the_date</span><span class="p">),</span> <span class="n">fontsize</span><span class="o">=</span><span class="mi">12</span><span class="p">,</span> <span class="n">fontweight</span><span class="o">=</span><span class="s1">&#39;bold&#39;</span><span class="p">,</span> <span class="n">y</span> <span class="o">=</span> <span class="mf">1.025</span><span class="p">)</span>
    
    <span class="n">cax</span>  <span class="o">=</span> <span class="n">fig</span><span class="o">.</span><span class="n">add_axes</span><span class="p">([</span><span class="mf">0.6</span><span class="p">,</span> <span class="mf">0.05</span><span class="p">,</span> <span class="mf">0.25</span><span class="p">,</span> <span class="mf">0.02</span><span class="p">])</span>
    <span class="n">CBar</span> <span class="o">=</span> <span class="n">fig</span><span class="o">.</span><span class="n">colorbar</span><span class="p">(</span><span class="n">CS</span><span class="p">,</span> <span class="n">cax</span><span class="o">=</span><span class="n">cax</span><span class="p">,</span> <span class="n">orientation</span><span class="o">=</span><span class="s1">&#39;horizontal&#39;</span><span class="p">)</span>
    <span class="n">CBar</span><span class="o">.</span><span class="n">ax</span><span class="o">.</span><span class="n">tick_params</span><span class="p">(</span><span class="n">axis</span><span class="o">=</span><span class="s1">&#39;x&#39;</span><span class="p">,</span> <span class="n">length</span><span class="o">=</span><span class="mf">12.5</span><span class="p">)</span>
    <span class="n">CBar</span><span class="o">.</span><span class="n">set_label</span><span class="p">(</span><span class="s1">&#39;CWL&#39;</span><span class="p">,</span> <span class="n">fontsize</span><span class="o">=</span><span class="mi">12</span><span class="p">)</span>
</pre></div>

</div>
</div>
</div>

</div>
<div class="cell border-box-sizing text_cell rendered"><div class="prompt input_prompt">
</div>
<div class="inner_cell">
<div class="text_cell_render border-box-sizing rendered_html">
<h2 id="Retrieval-functions">Retrieval functions<a class="anchor-link" href="#Retrieval-functions">&#182;</a></h2><p>SSMI.py including functions calculates emissivity and absorption coefficient at at 19 and 37 GHz SSMI channel.</p>
<p>Code is Python version of <a href='http://www.aos.wisc.edu/~tristan/aos740.php'>**UW-Madison AOS-704**</a> 's FORTRAN77 code.</p>

</div>
</div>
</div>
<div class="cell border-box-sizing text_cell rendered"><div class="prompt input_prompt">
</div>
<div class="inner_cell">
<div class="text_cell_render border-box-sizing rendered_html">
<p>Approximation of windspeed and main retrieval function in Greenwald et al., 1993.</p>

</div>
</div>
</div>
<div class="cell border-box-sizing code_cell rendered">
<div class="input">
<div class="prompt input_prompt">In&nbsp;[7]:</div>
<div class="inner_cell">
    <div class="input_area">
<div class=" highlight hl-ipython3"><pre><span></span><span class="c1"># windspeed</span>
<span class="k">def</span> <span class="nf">wind_speed</span><span class="p">(</span><span class="n">sst</span><span class="p">,</span> <span class="n">t19v</span><span class="p">,</span> <span class="n">t22v</span><span class="p">,</span> <span class="n">t37h</span><span class="p">,</span> <span class="n">t37v</span><span class="p">):</span>
    <span class="sd">&quot;&quot;&quot;</span>
<span class="sd">       input: sst (K), t19v (K), t22v (K), t37h (K)</span>
<span class="sd">       output: windspeed (m/s)</span>
<span class="sd">    &quot;&quot;&quot;</span>
    <span class="n">speed</span><span class="o">=</span><span class="mf">1.0969</span><span class="o">*</span><span class="p">(</span><span class="n">t19v</span><span class="p">)</span><span class="o">-</span><span class="mf">0.4555e0</span><span class="o">*</span><span class="p">(</span><span class="n">t22v</span><span class="p">)</span><span class="o">-</span> <span class="mf">1.76</span><span class="o">*</span><span class="p">(</span><span class="n">t37v</span><span class="p">)</span><span class="o">+</span><span class="mf">0.786</span><span class="o">*</span><span class="p">(</span><span class="n">t37h</span><span class="p">)</span><span class="o">+</span> <span class="mf">147.9</span>
    <span class="k">return</span> <span class="n">speed</span>

<span class="c1"># retrival, based on EOSC 582 Website</span>
<span class="k">def</span> <span class="nf">SSMI_retrieval</span><span class="p">(</span><span class="n">SST</span><span class="p">,</span> <span class="n">theta</span><span class="p">,</span> <span class="n">T19H</span><span class="p">,</span> <span class="n">T19V</span><span class="p">,</span> <span class="n">T22V</span><span class="p">,</span> <span class="n">T37H</span><span class="p">,</span> <span class="n">T37V</span><span class="p">,</span> <span class="n">iter_num</span><span class="o">=</span><span class="mi">5</span><span class="p">,</span> <span class="n">correction</span><span class="o">=</span><span class="s1">&#39;both&#39;</span><span class="p">):</span>
    <span class="sd">&#39;&#39;&#39;</span>
<span class="sd">    Using 4 SSMI channel brightness temperature retrive total precipitable water and liquid water path</span>
<span class="sd">    =========================================================================</span>
<span class="sd">    CMV, CWL = SSMI_retrieval(SST, theta, T19H, T19V, T22V, T37H, T37V, iter_num=5)</span>
<span class="sd">    -------------------------------------------------------------------------</span>
<span class="sd">    Input:</span>
<span class="sd">        SST: Sea Surface Temperature (K)</span>
<span class="sd">        theta: Incidence angle</span>
<span class="sd">        T#H: Brightness temperature in #GHz band with horizontal polarization</span>
<span class="sd">        T#V: Brightness temperature in #GHz band with vertical polarization</span>
<span class="sd">        iter_num: = 0 means no correction, &gt; 0 applies correction to CWV &gt; 25kg/m^2</span>
<span class="sd">    Output:</span>
<span class="sd">        CWV: Total precipitable water</span>
<span class="sd">        CWL: Liquid water path</span>
<span class="sd">    ==========================================================================</span>
<span class="sd">    Author:</span>
<span class="sd">        Yingkai (Kyle) Sha</span>
<span class="sd">        <a href="/cdn-cgi/l/email-protection" class="__cf_email__" data-cfemail="8bf2e2e5ece0eae2cbeee4f8a5fee9e8a5e8ea">[email&#160;protected]</a></span>
<span class="sd">    &#39;&#39;&#39;</span>
    <span class="n">M</span><span class="p">,</span> <span class="n">N</span> <span class="o">=</span> <span class="n">np</span><span class="o">.</span><span class="n">shape</span><span class="p">(</span><span class="n">SST</span><span class="p">)</span>
    <span class="c1"># Parameters</span>
    <span class="n">mu</span> <span class="o">=</span> <span class="n">np</span><span class="o">.</span><span class="n">cos</span><span class="p">(</span><span class="n">theta</span><span class="o">*</span><span class="n">np</span><span class="o">.</span><span class="n">pi</span><span class="o">/</span><span class="mf">180.</span><span class="p">)</span> <span class="c1"># Incidence angle</span>
    <span class="n">GAMMA</span> <span class="o">=</span> <span class="o">-</span><span class="mf">5.8E-3</span>               <span class="c1"># Lapse rate: -5.8 K/km = -5.8E-3 K/m</span>
    <span class="n">Hw</span> <span class="o">=</span> <span class="mf">2.2E3</span>                    <span class="c1"># Water vapor scaling height: 2.2km</span>
    <span class="c1"># Correction for cold bias</span>
    <span class="c1">#    (Greenwald et al., 1993)</span>
    <span class="n">T37H</span><span class="o">=</span> <span class="n">T37H</span> <span class="o">+</span> <span class="mf">3.58</span>  
    <span class="n">T37V</span><span class="o">=</span> <span class="n">T37V</span> <span class="o">+</span> <span class="mf">3.58</span>
    <span class="c1"># delta T</span>
    <span class="n">dT19</span> <span class="o">=</span> <span class="n">T19H</span> <span class="o">-</span> <span class="n">T19V</span>
    <span class="n">dT37</span> <span class="o">=</span> <span class="n">T37H</span> <span class="o">-</span> <span class="n">T37V</span>
    <span class="c1"># Frequency bands (GHz)</span>
    <span class="n">freq</span> <span class="o">=</span> <span class="p">[</span><span class="mi">19</span><span class="p">,</span> <span class="mi">22</span><span class="p">,</span> <span class="mi">37</span><span class="p">,</span> <span class="mi">85</span><span class="p">]</span>
    <span class="c1"># Allocate memorise</span>
    <span class="n">emissv</span> <span class="o">=</span> <span class="n">np</span><span class="o">.</span><span class="n">empty</span><span class="p">([</span><span class="nb">len</span><span class="p">(</span><span class="n">freq</span><span class="p">),</span> <span class="n">M</span><span class="p">,</span> <span class="n">N</span><span class="p">])</span>
    <span class="n">emissh</span> <span class="o">=</span> <span class="n">np</span><span class="o">.</span><span class="n">empty</span><span class="p">([</span><span class="nb">len</span><span class="p">(</span><span class="n">freq</span><span class="p">),</span> <span class="n">M</span><span class="p">,</span> <span class="n">N</span><span class="p">])</span>
    <span class="n">KL19</span>  <span class="o">=</span> <span class="n">np</span><span class="o">.</span><span class="n">empty</span><span class="p">([</span><span class="n">M</span><span class="p">,</span> <span class="n">N</span><span class="p">])</span>
    <span class="n">KL37</span>  <span class="o">=</span> <span class="n">np</span><span class="o">.</span><span class="n">empty</span><span class="p">([</span><span class="n">M</span><span class="p">,</span> <span class="n">N</span><span class="p">])</span>
    <span class="n">KV19</span>  <span class="o">=</span> <span class="n">np</span><span class="o">.</span><span class="n">empty</span><span class="p">([</span><span class="n">M</span><span class="p">,</span> <span class="n">N</span><span class="p">])</span>
    <span class="n">KV37</span>  <span class="o">=</span> <span class="n">np</span><span class="o">.</span><span class="n">empty</span><span class="p">([</span><span class="n">M</span><span class="p">,</span> <span class="n">N</span><span class="p">])</span>
    <span class="n">TOX19</span> <span class="o">=</span> <span class="n">np</span><span class="o">.</span><span class="n">empty</span><span class="p">([</span><span class="n">M</span><span class="p">,</span> <span class="n">N</span><span class="p">])</span>
    <span class="n">TOX37</span> <span class="o">=</span> <span class="n">np</span><span class="o">.</span><span class="n">empty</span><span class="p">([</span><span class="n">M</span><span class="p">,</span> <span class="n">N</span><span class="p">])</span>
    <span class="c1"># Emperical windspeed</span>
    <span class="n">windspeed</span> <span class="o">=</span> <span class="n">wind_speed</span><span class="p">(</span><span class="n">SST</span><span class="p">,</span> <span class="n">T19V</span><span class="p">,</span> <span class="n">T22V</span><span class="p">,</span> <span class="n">T37H</span><span class="o">-</span><span class="mf">3.58</span><span class="p">,</span> <span class="n">T37V</span><span class="o">-</span><span class="mf">3.58</span><span class="p">)</span>
    <span class="c1"># Calculate emission, absorbtion coef. </span>
    <span class="k">for</span> <span class="n">m</span> <span class="ow">in</span> <span class="nb">range</span><span class="p">(</span><span class="n">M</span><span class="p">):</span>
        <span class="k">for</span> <span class="n">n</span> <span class="ow">in</span> <span class="nb">range</span><span class="p">(</span><span class="n">N</span><span class="p">):</span>
            <span class="k">for</span> <span class="n">i</span> <span class="ow">in</span> <span class="nb">range</span><span class="p">(</span><span class="nb">len</span><span class="p">(</span><span class="n">freq</span><span class="p">)):</span>
                <span class="n">emissv</span><span class="p">[</span><span class="n">i</span><span class="p">,</span> <span class="n">m</span><span class="p">,</span> <span class="n">n</span><span class="p">],</span> <span class="n">emissh</span><span class="p">[</span><span class="n">i</span><span class="p">,</span> <span class="n">m</span><span class="p">,</span> <span class="n">n</span><span class="p">]</span> <span class="o">=</span> <span class="n">emiss</span><span class="p">(</span><span class="n">i</span><span class="o">+</span><span class="mi">1</span><span class="p">,</span> <span class="n">windspeed</span><span class="p">[</span><span class="n">m</span><span class="p">,</span> <span class="n">n</span><span class="p">],</span> <span class="n">SST</span><span class="p">[</span><span class="n">m</span><span class="p">,</span> <span class="n">n</span><span class="p">],</span> <span class="n">theta</span><span class="p">)</span>
            <span class="n">KL19</span><span class="p">[</span><span class="n">m</span><span class="p">,</span> <span class="n">n</span><span class="p">],</span> <span class="n">KL37</span><span class="p">[</span><span class="n">m</span><span class="p">,</span> <span class="n">n</span><span class="p">],</span> <span class="n">KV19</span><span class="p">[</span><span class="n">m</span><span class="p">,</span> <span class="n">n</span><span class="p">],</span> <span class="n">KV37</span><span class="p">[</span><span class="n">m</span><span class="p">,</span> <span class="n">n</span><span class="p">],</span> <span class="n">TOX19</span><span class="p">[</span><span class="n">m</span><span class="p">,</span> <span class="n">n</span><span class="p">],</span> <span class="n">TOX37</span><span class="p">[</span><span class="n">m</span><span class="p">,</span> <span class="n">n</span><span class="p">]</span> <span class="o">=</span> <span class="n">coef</span><span class="p">(</span><span class="n">SST</span><span class="p">[</span><span class="n">m</span><span class="p">,</span> <span class="n">n</span><span class="p">])</span>
    <span class="c1"># Retrieve function</span>
    <span class="n">R37V</span><span class="o">=</span><span class="p">(</span><span class="mf">1.0</span> <span class="o">-</span> <span class="n">emissv</span><span class="p">[</span><span class="mi">2</span><span class="p">,</span> <span class="p">:,</span> <span class="p">:])</span>
    <span class="n">R19V</span><span class="o">=</span><span class="p">(</span><span class="mf">1.0</span> <span class="o">-</span> <span class="n">emissv</span><span class="p">[</span><span class="mi">0</span><span class="p">,</span> <span class="p">:,</span> <span class="p">:])</span>
    <span class="n">R37H</span><span class="o">=</span><span class="p">(</span><span class="mf">1.0</span> <span class="o">-</span> <span class="n">emissh</span><span class="p">[</span><span class="mi">2</span><span class="p">,</span> <span class="p">:,</span> <span class="p">:])</span>
    <span class="n">R19H</span><span class="o">=</span><span class="p">(</span><span class="mf">1.0</span> <span class="o">-</span> <span class="n">emissh</span><span class="p">[</span><span class="mi">0</span><span class="p">,</span> <span class="p">:,</span> <span class="p">:])</span>
    <span class="c1"># Iteration correction of F19, F37 for CWV &gt; 25kg/m^2</span>
    <span class="c1">#    Greenwald et al., 1993) equation (4)</span>
    <span class="n">CWV</span> <span class="o">=</span> <span class="n">np</span><span class="o">.</span><span class="n">zeros</span><span class="p">(</span><span class="n">SST</span><span class="o">.</span><span class="n">shape</span><span class="p">)</span>
    <span class="c1">#CWL = np.zeros(SST.shape)</span>
    <span class="n">T019</span> <span class="o">=</span> <span class="n">SST</span>
    <span class="n">T037</span> <span class="o">=</span> <span class="n">SST</span>
    <span class="k">for</span> <span class="n">iteration</span> <span class="ow">in</span> <span class="nb">range</span><span class="p">(</span><span class="n">iter_num</span><span class="p">):</span>
        <span class="n">hit</span> <span class="o">=</span> <span class="n">CWV</span> <span class="o">&gt;</span> <span class="mi">25</span>
        <span class="c1"># transmission</span>
        <span class="n">Tau19V</span> <span class="o">=</span> <span class="n">np</span><span class="o">.</span><span class="n">exp</span><span class="p">(</span><span class="o">-</span><span class="mi">1</span><span class="o">*</span><span class="n">KV19</span><span class="o">*</span><span class="n">CWV</span><span class="o">/</span><span class="n">mu</span><span class="p">)</span>
        <span class="n">Tau37V</span> <span class="o">=</span> <span class="n">np</span><span class="o">.</span><span class="n">exp</span><span class="p">(</span><span class="o">-</span><span class="mi">1</span><span class="o">*</span><span class="n">KV37</span><span class="o">*</span><span class="n">CWV</span><span class="o">/</span><span class="n">mu</span><span class="p">)</span>
        <span class="n">f19</span> <span class="o">=</span> <span class="n">np</span><span class="o">.</span><span class="n">exp</span><span class="p">(</span><span class="mi">50</span><span class="o">*</span><span class="n">KV19</span><span class="o">/</span><span class="n">mu</span><span class="p">)</span>
        <span class="n">f37</span> <span class="o">=</span> <span class="n">np</span><span class="o">.</span><span class="n">exp</span><span class="p">(</span><span class="mi">50</span><span class="o">*</span><span class="n">KV37</span><span class="o">/</span><span class="n">mu</span><span class="p">)</span>
        <span class="k">if</span> <span class="n">iteration</span> <span class="o">&gt;</span> <span class="mi">0</span><span class="p">:</span>
            <span class="c1"># in the first timestep, T019, T037 = SST</span>
            <span class="n">T019</span><span class="p">[</span><span class="n">hit</span><span class="p">]</span> <span class="o">=</span> <span class="n">SST</span><span class="p">[</span><span class="n">hit</span><span class="p">]</span> <span class="o">+</span> <span class="n">GAMMA</span><span class="o">*</span><span class="n">Hw</span><span class="o">*</span><span class="p">(</span><span class="mi">1</span><span class="o">-</span><span class="n">f19</span><span class="p">[</span><span class="n">hit</span><span class="p">]</span><span class="o">*</span><span class="n">Tau19V</span><span class="p">[</span><span class="n">hit</span><span class="p">]</span><span class="o">**</span><span class="mi">2</span><span class="p">)</span><span class="o">*</span><span class="n">TOX19</span><span class="p">[</span><span class="n">hit</span><span class="p">]</span>
            <span class="k">if</span> <span class="n">correction</span> <span class="o">==</span> <span class="s1">&#39;both&#39;</span><span class="p">:</span>
                <span class="n">T037</span><span class="p">[</span><span class="n">hit</span><span class="p">]</span> <span class="o">=</span> <span class="n">SST</span><span class="p">[</span><span class="n">hit</span><span class="p">]</span> <span class="o">+</span> <span class="n">GAMMA</span><span class="o">*</span><span class="n">Hw</span><span class="o">*</span><span class="p">(</span><span class="mi">1</span><span class="o">-</span><span class="n">f37</span><span class="p">[</span><span class="n">hit</span><span class="p">]</span><span class="o">*</span><span class="n">Tau37V</span><span class="p">[</span><span class="n">hit</span><span class="p">]</span><span class="o">**</span><span class="mi">2</span><span class="p">)</span><span class="o">*</span><span class="n">TOX37</span><span class="p">[</span><span class="n">hit</span><span class="p">]</span>
        <span class="c1">#T037[hit] = SST[hit]</span>
        <span class="c1"># Correction </span>
        <span class="n">F19</span> <span class="o">=</span> <span class="p">(</span><span class="n">T19H</span> <span class="o">-</span> <span class="n">T019</span><span class="p">)</span><span class="o">/</span><span class="p">(</span><span class="n">T19V</span> <span class="o">-</span> <span class="n">T019</span><span class="p">)</span>
        <span class="n">F37</span> <span class="o">=</span> <span class="p">(</span><span class="n">T37H</span> <span class="o">-</span> <span class="n">T037</span><span class="p">)</span><span class="o">/</span><span class="p">(</span><span class="n">T37V</span> <span class="o">-</span> <span class="n">T037</span><span class="p">)</span>
        <span class="n">R1</span>  <span class="o">=</span> <span class="o">-</span><span class="mi">1</span><span class="o">*</span><span class="n">mu</span><span class="o">/</span><span class="mf">2.</span><span class="o">*</span><span class="n">np</span><span class="o">.</span><span class="n">log</span><span class="p">(</span><span class="n">dT19</span><span class="o">/</span><span class="p">(</span><span class="n">SST</span><span class="o">*</span><span class="n">R19V</span><span class="o">*</span><span class="p">(</span><span class="mi">1</span><span class="o">-</span><span class="n">F19</span><span class="p">)</span><span class="o">*</span><span class="n">TOX19</span><span class="o">**</span><span class="mf">2.</span><span class="p">))</span>
        <span class="n">R2</span>  <span class="o">=</span> <span class="o">-</span><span class="mi">1</span><span class="o">*</span><span class="n">mu</span><span class="o">/</span><span class="mf">2.</span><span class="o">*</span><span class="n">np</span><span class="o">.</span><span class="n">log</span><span class="p">(</span><span class="n">dT37</span><span class="o">/</span><span class="p">(</span><span class="n">SST</span><span class="o">*</span><span class="n">R37V</span><span class="o">*</span><span class="p">(</span><span class="mi">1</span><span class="o">-</span><span class="n">F37</span><span class="p">)</span><span class="o">*</span><span class="n">TOX37</span><span class="o">**</span><span class="mf">2.</span><span class="p">))</span>
        <span class="c1"># Linear algebra</span>
        <span class="n">M</span>   <span class="o">=</span> <span class="n">KV19</span><span class="o">*</span><span class="n">KL37</span> <span class="o">-</span> <span class="n">KL19</span><span class="o">*</span><span class="n">KV37</span>
        <span class="n">CWV</span> <span class="o">=</span> <span class="p">(</span><span class="n">R1</span><span class="o">*</span><span class="n">KL37</span> <span class="o">-</span> <span class="n">R2</span><span class="o">*</span><span class="n">KL19</span><span class="p">)</span><span class="o">/</span><span class="n">M</span>
        <span class="c1">#print(&#39;iteration step = {}&#39;.format(iteration))</span>
    <span class="c1"># get CWL</span>
    <span class="n">CWL</span> <span class="o">=</span> <span class="p">(</span><span class="n">R2</span><span class="o">*</span><span class="n">KV19</span> <span class="o">-</span> <span class="n">R1</span><span class="o">*</span><span class="n">KV37</span><span class="p">)</span><span class="o">/</span><span class="n">M</span>
    
    <span class="k">return</span> <span class="n">CWV</span><span class="p">,</span> <span class="n">CWL</span>
</pre></div>

</div>
</div>
</div>

</div>
<div class="cell border-box-sizing code_cell rendered">
<div class="input">
<div class="prompt input_prompt">In&nbsp;[8]:</div>
<div class="inner_cell">
    <div class="input_area">
<div class=" highlight hl-ipython3"><pre><span></span><span class="n">theta</span> <span class="o">=</span> <span class="mf">53.1</span>
<span class="c1"># boardcasting because my retrival function supports 2D array</span>
<span class="n">SST</span>   <span class="o">=</span> <span class="mf">271.75</span><span class="o">*</span><span class="n">np</span><span class="o">.</span><span class="n">ones</span><span class="p">([</span><span class="mi">1</span><span class="p">,</span> <span class="mi">1</span><span class="p">])</span> 
<span class="n">T19H</span>  <span class="o">=</span> <span class="mf">113.57</span><span class="o">*</span><span class="n">np</span><span class="o">.</span><span class="n">ones</span><span class="p">([</span><span class="mi">1</span><span class="p">,</span> <span class="mi">1</span><span class="p">])</span>
<span class="n">T19V</span>  <span class="o">=</span> <span class="mf">183.24</span><span class="o">*</span><span class="n">np</span><span class="o">.</span><span class="n">ones</span><span class="p">([</span><span class="mi">1</span><span class="p">,</span> <span class="mi">1</span><span class="p">])</span>
<span class="n">T22V</span>  <span class="o">=</span> <span class="mf">194.80</span><span class="o">*</span><span class="n">np</span><span class="o">.</span><span class="n">ones</span><span class="p">([</span><span class="mi">1</span><span class="p">,</span> <span class="mi">1</span><span class="p">])</span>
<span class="n">T37H</span>  <span class="o">=</span> <span class="mf">148.13</span><span class="o">*</span><span class="n">np</span><span class="o">.</span><span class="n">ones</span><span class="p">([</span><span class="mi">1</span><span class="p">,</span> <span class="mi">1</span><span class="p">])</span>
<span class="n">T37V</span>  <span class="o">=</span> <span class="mf">208.11</span><span class="o">*</span><span class="n">np</span><span class="o">.</span><span class="n">ones</span><span class="p">([</span><span class="mi">1</span><span class="p">,</span> <span class="mi">1</span><span class="p">])</span>

<span class="n">SSMI_retrieval</span><span class="p">(</span><span class="n">SST</span><span class="p">,</span> <span class="n">theta</span><span class="p">,</span> <span class="n">T19H</span><span class="p">,</span> <span class="n">T19V</span><span class="p">,</span> <span class="n">T22V</span><span class="p">,</span> <span class="n">T37H</span><span class="p">,</span> <span class="n">T37V</span><span class="p">,</span> <span class="n">iter_num</span><span class="o">=</span><span class="mi">4</span><span class="p">,</span> <span class="n">correction</span><span class="o">=</span><span class="s1">&#39;both&#39;</span><span class="p">)</span>
</pre></div>

</div>
</div>
</div>

<div class="output_wrapper">
<div class="output">


<div class="output_area">

<div class="prompt output_prompt">Out[8]:</div>




<div class="output_text output_subarea output_execute_result">
<pre>(array([[ 8.55725684]]), array([[ 0.05486357]]))</pre>
</div>

</div>

</div>
</div>

</div>
<div class="cell border-box-sizing text_cell rendered"><div class="prompt input_prompt">
</div>
<div class="inner_cell">
<div class="text_cell_render border-box-sizing rendered_html">
<h3 id="Full-Retrival">Full Retrival<a class="anchor-link" href="#Full-Retrival">&#182;</a></h3>
</div>
</div>
</div>
<div class="cell border-box-sizing text_cell rendered"><div class="prompt input_prompt">
</div>
<div class="inner_cell">
<div class="text_cell_render border-box-sizing rendered_html">
<h4 id="Jan">Jan<a class="anchor-link" href="#Jan">&#182;</a></h4>
</div>
</div>
</div>
<div class="cell border-box-sizing code_cell rendered">
<div class="input">
<div class="prompt input_prompt">In&nbsp;[9]:</div>
<div class="inner_cell">
    <div class="input_area">
<div class=" highlight hl-ipython3"><pre><span></span><span class="k">with</span> <span class="n">h5py</span><span class="o">.</span><span class="n">File</span><span class="p">(</span><span class="n">temp_file</span><span class="p">,</span> <span class="s1">&#39;r&#39;</span><span class="p">)</span> <span class="k">as</span> <span class="n">TB_obj</span><span class="p">:</span>
    <span class="n">lat</span> <span class="o">=</span> <span class="n">TB_obj</span><span class="p">[</span><span class="s1">&#39;lat&#39;</span><span class="p">][:]</span>
    <span class="n">lon</span> <span class="o">=</span> <span class="n">TB_obj</span><span class="p">[</span><span class="s1">&#39;lon&#39;</span><span class="p">][:]</span>
    <span class="n">SST</span> <span class="o">=</span> <span class="n">TB_obj</span><span class="p">[</span><span class="s1">&#39;jan/sst&#39;</span><span class="p">][:]</span>
    <span class="n">T19H</span> <span class="o">=</span> <span class="n">TB_obj</span><span class="p">[</span><span class="s1">&#39;jan/t19h&#39;</span><span class="p">][:]</span>
    <span class="n">T19V</span> <span class="o">=</span> <span class="n">TB_obj</span><span class="p">[</span><span class="s1">&#39;jan/t19v&#39;</span><span class="p">][:]</span>
    <span class="n">T22V</span> <span class="o">=</span> <span class="n">TB_obj</span><span class="p">[</span><span class="s1">&#39;jan/t22v&#39;</span><span class="p">][:]</span>
    <span class="n">T37H</span> <span class="o">=</span> <span class="n">TB_obj</span><span class="p">[</span><span class="s1">&#39;jan/t37h&#39;</span><span class="p">][:]</span>
    <span class="n">T37V</span> <span class="o">=</span> <span class="n">TB_obj</span><span class="p">[</span><span class="s1">&#39;jan/t37v&#39;</span><span class="p">][:]</span>
</pre></div>

</div>
</div>
</div>

</div>
<div class="cell border-box-sizing code_cell rendered">
<div class="input">
<div class="prompt input_prompt">In&nbsp;[10]:</div>
<div class="inner_cell">
    <div class="input_area">
<div class=" highlight hl-ipython3"><pre><span></span><span class="n">theta</span> <span class="o">=</span> <span class="mf">53.1</span>
<span class="n">CWV1_unfixed</span><span class="p">,</span> <span class="n">CWL1_unfixed</span> <span class="o">=</span> <span class="n">SSMI_retrieval</span><span class="p">(</span><span class="n">SST</span><span class="p">,</span> <span class="n">theta</span><span class="p">,</span> <span class="n">T19H</span><span class="p">,</span> <span class="n">T19V</span><span class="p">,</span> <span class="n">T22V</span><span class="p">,</span> <span class="n">T37H</span><span class="p">,</span> <span class="n">T37V</span><span class="p">,</span> <span class="n">iter_num</span><span class="o">=</span><span class="mi">1</span><span class="p">)</span>
<span class="n">CWV1_both</span><span class="p">,</span>    <span class="n">CWL1_both</span>    <span class="o">=</span> <span class="n">SSMI_retrieval</span><span class="p">(</span><span class="n">SST</span><span class="p">,</span> <span class="n">theta</span><span class="p">,</span> <span class="n">T19H</span><span class="p">,</span> <span class="n">T19V</span><span class="p">,</span> <span class="n">T22V</span><span class="p">,</span> <span class="n">T37H</span><span class="p">,</span> <span class="n">T37V</span><span class="p">,</span> <span class="n">iter_num</span><span class="o">=</span><span class="mi">5</span><span class="p">,</span> <span class="n">correction</span><span class="o">=</span><span class="s1">&#39;both&#39;</span><span class="p">)</span>
<span class="n">CWV1_19</span><span class="p">,</span>      <span class="n">CWL1_19</span>      <span class="o">=</span> <span class="n">SSMI_retrieval</span><span class="p">(</span><span class="n">SST</span><span class="p">,</span> <span class="n">theta</span><span class="p">,</span> <span class="n">T19H</span><span class="p">,</span> <span class="n">T19V</span><span class="p">,</span> <span class="n">T22V</span><span class="p">,</span> <span class="n">T37H</span><span class="p">,</span> <span class="n">T37V</span><span class="p">,</span> <span class="n">iter_num</span><span class="o">=</span><span class="mi">5</span><span class="p">,</span> <span class="n">correction</span><span class="o">=</span><span class="s1">&#39;19&#39;</span><span class="p">)</span>
</pre></div>

</div>
</div>
</div>

</div>
<div class="cell border-box-sizing code_cell rendered">
<div class="input">
<div class="prompt input_prompt">In&nbsp;[11]:</div>
<div class="inner_cell">
    <div class="input_area">
<div class=" highlight hl-ipython3"><pre><span></span><span class="n">hist_SSMI</span><span class="p">(</span><span class="n">CWV1_unfixed</span><span class="p">,</span> <span class="n">CWV1_both</span><span class="p">,</span> <span class="n">CWV1_19</span><span class="p">,</span> <span class="n">CWL1_unfixed</span><span class="p">,</span> <span class="n">CWL1_both</span><span class="p">,</span> <span class="n">CWL1_19</span><span class="p">)</span>
</pre></div>

</div>
</div>
</div>

<div class="output_wrapper">
<div class="output">


<div class="output_area">

<div class="prompt"></div>




<div class="output_png output_subarea ">
<img src="data:image/png;base64,iVBORw0KGgoAAAANSUhEUgAAA64AAAEZCAYAAACXVniWAAAABHNCSVQICAgIfAhkiAAAAAlwSFlz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"
>
</div>

</div>

</div>
</div>

</div>
<div class="cell border-box-sizing code_cell rendered">
<div class="input">
<div class="prompt input_prompt">In&nbsp;[12]:</div>
<div class="inner_cell">
    <div class="input_area">
<div class=" highlight hl-ipython3"><pre><span></span><span class="n">SSMI_map</span><span class="p">(</span><span class="n">lon</span><span class="p">,</span> <span class="n">lat</span><span class="p">,</span> <span class="n">CWV1_unfixed</span><span class="p">,</span> <span class="n">CWV1_both</span><span class="p">,</span> <span class="n">CWV1_19</span><span class="p">,</span> <span class="n">CWL1_unfixed</span><span class="p">,</span> <span class="n">CWL1_both</span><span class="p">,</span> <span class="n">CWL1_19</span><span class="p">,</span><span class="n">the_date</span><span class="o">=</span><span class="s1">&#39;(Jan 1990)&#39;</span><span class="p">)</span>
</pre></div>

</div>
</div>
</div>

<div class="output_wrapper">
<div class="output">


<div class="output_area">

<div class="prompt"></div>


<div class="output_subarea output_text output_error">
<pre><span class="ansi-red-fg">---------------------------------------------------------------------------</span>
<span class="ansi-red-fg">TypeError</span>                                 Traceback (most recent call last)
<span class="ansi-green-fg">&lt;ipython-input-12-630d7fec7470&gt;</span> in <span class="ansi-cyan-fg">&lt;module&gt;</span><span class="ansi-blue-fg">()</span>
<span class="ansi-green-fg">----&gt; 1</span><span class="ansi-red-fg"> </span>SSMI_map<span class="ansi-blue-fg">(</span>lon<span class="ansi-blue-fg">,</span> lat<span class="ansi-blue-fg">,</span> CWV1_unfixed<span class="ansi-blue-fg">,</span> CWV1_both<span class="ansi-blue-fg">,</span> CWV1_19<span class="ansi-blue-fg">,</span> CWL1_unfixed<span class="ansi-blue-fg">,</span> CWL1_both<span class="ansi-blue-fg">,</span> CWL1_19<span class="ansi-blue-fg">,</span>the_date<span class="ansi-blue-fg">=</span><span class="ansi-blue-fg">&#39;(Jan 1990)&#39;</span><span class="ansi-blue-fg">)</span>

<span class="ansi-green-fg">&lt;ipython-input-6-7f2d746d95bd&gt;</span> in <span class="ansi-cyan-fg">SSMI_map</span><span class="ansi-blue-fg">(lon, lat, CWV_unfixed, CWV_both, CWV_19, CWL_unfixed, CWL_both, CWL_19, the_date)</span>
<span class="ansi-green-intense-fg ansi-bold">     15</span>     ax5<span class="ansi-blue-fg">=</span>plt<span class="ansi-blue-fg">.</span>subplot2grid<span class="ansi-blue-fg">(</span><span class="ansi-blue-fg">(</span><span class="ansi-cyan-fg">3</span><span class="ansi-blue-fg">,</span> <span class="ansi-cyan-fg">2</span><span class="ansi-blue-fg">)</span><span class="ansi-blue-fg">,</span> <span class="ansi-blue-fg">(</span><span class="ansi-cyan-fg">1</span><span class="ansi-blue-fg">,</span> <span class="ansi-cyan-fg">1</span><span class="ansi-blue-fg">)</span><span class="ansi-blue-fg">,</span> colspan<span class="ansi-blue-fg">=</span><span class="ansi-cyan-fg">1</span><span class="ansi-blue-fg">,</span> rowspan<span class="ansi-blue-fg">=</span><span class="ansi-cyan-fg">1</span><span class="ansi-blue-fg">)</span><span class="ansi-blue-fg">;</span> ax6<span class="ansi-blue-fg">=</span>plt<span class="ansi-blue-fg">.</span>subplot2grid<span class="ansi-blue-fg">(</span><span class="ansi-blue-fg">(</span><span class="ansi-cyan-fg">3</span><span class="ansi-blue-fg">,</span> <span class="ansi-cyan-fg">2</span><span class="ansi-blue-fg">)</span><span class="ansi-blue-fg">,</span> <span class="ansi-blue-fg">(</span><span class="ansi-cyan-fg">2</span><span class="ansi-blue-fg">,</span> <span class="ansi-cyan-fg">1</span><span class="ansi-blue-fg">)</span><span class="ansi-blue-fg">,</span> colspan<span class="ansi-blue-fg">=</span><span class="ansi-cyan-fg">1</span><span class="ansi-blue-fg">,</span> rowspan<span class="ansi-blue-fg">=</span><span class="ansi-cyan-fg">1</span><span class="ansi-blue-fg">)</span>
<span class="ansi-green-intense-fg ansi-bold">     16</span> 
<span class="ansi-green-fg">---&gt; 17</span><span class="ansi-red-fg">     </span>proj<span class="ansi-blue-fg">=</span>single_map<span class="ansi-blue-fg">(</span>ax1<span class="ansi-blue-fg">)</span><span class="ansi-blue-fg">;</span> x<span class="ansi-blue-fg">,</span> y <span class="ansi-blue-fg">=</span> proj<span class="ansi-blue-fg">(</span>lon<span class="ansi-blue-fg">,</span> lat<span class="ansi-blue-fg">)</span>
<span class="ansi-green-intense-fg ansi-bold">     18</span>     CS <span class="ansi-blue-fg">=</span> proj<span class="ansi-blue-fg">.</span>contourf<span class="ansi-blue-fg">(</span>x<span class="ansi-blue-fg">,</span> y<span class="ansi-blue-fg">,</span> CWV_unfixed<span class="ansi-blue-fg">,</span> levCWV<span class="ansi-blue-fg">,</span> cmap<span class="ansi-blue-fg">=</span>plt<span class="ansi-blue-fg">.</span>cm<span class="ansi-blue-fg">.</span>RdYlGn<span class="ansi-blue-fg">,</span> extend<span class="ansi-blue-fg">=</span><span class="ansi-blue-fg">&#39;max&#39;</span><span class="ansi-blue-fg">)</span>
<span class="ansi-green-intense-fg ansi-bold">     19</span>     ax1<span class="ansi-blue-fg">.</span>set_title<span class="ansi-blue-fg">(</span><span class="ansi-blue-fg">&#39;(a.1) CWV unfixed {}&#39;</span><span class="ansi-blue-fg">.</span>format<span class="ansi-blue-fg">(</span>the_date<span class="ansi-blue-fg">)</span><span class="ansi-blue-fg">,</span> fontsize<span class="ansi-blue-fg">=</span><span class="ansi-cyan-fg">12</span><span class="ansi-blue-fg">,</span> fontweight<span class="ansi-blue-fg">=</span><span class="ansi-blue-fg">&#39;bold&#39;</span><span class="ansi-blue-fg">,</span> y <span class="ansi-blue-fg">=</span> <span class="ansi-cyan-fg">1.025</span><span class="ansi-blue-fg">)</span>

<span class="ansi-red-fg">TypeError</span>: single_map() missing 2 required positional arguments: &#39;lat&#39; and &#39;data&#39;</pre>
</div>
</div>

<div class="output_area">

<div class="prompt"></div>




<div class="output_png output_subarea ">
<img src="data:image/png;base64,iVBORw0KGgoAAAANSUhEUgAAAsoAAAHWCAYAAABuaq89AAAABHNCSVQICAgIfAhkiAAAAAlwSFlz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"
>
</div>

</div>

</div>
</div>

</div>
<div class="cell border-box-sizing text_cell rendered"><div class="prompt input_prompt">
</div>
<div class="inner_cell">
<div class="text_cell_render border-box-sizing rendered_html">
<h4 id="Jul">Jul<a class="anchor-link" href="#Jul">&#182;</a></h4>
</div>
</div>
</div>
<div class="cell border-box-sizing code_cell rendered">
<div class="input">
<div class="prompt input_prompt">In&nbsp;[&nbsp;]:</div>
<div class="inner_cell">
    <div class="input_area">
<div class=" highlight hl-ipython3"><pre><span></span><span class="k">with</span> <span class="n">h5py</span><span class="o">.</span><span class="n">File</span><span class="p">(</span><span class="n">temp_file</span><span class="p">,</span> <span class="s1">&#39;r&#39;</span><span class="p">)</span> <span class="k">as</span> <span class="n">TB_obj</span><span class="p">:</span>
    <span class="n">SST</span> <span class="o">=</span> <span class="n">TB_obj</span><span class="p">[</span><span class="s1">&#39;july/sst&#39;</span><span class="p">][:]</span>
    <span class="n">T19H</span> <span class="o">=</span> <span class="n">TB_obj</span><span class="p">[</span><span class="s1">&#39;july/t19h&#39;</span><span class="p">][:]</span>
    <span class="n">T19V</span> <span class="o">=</span> <span class="n">TB_obj</span><span class="p">[</span><span class="s1">&#39;july/t19v&#39;</span><span class="p">][:]</span>
    <span class="n">T22V</span> <span class="o">=</span> <span class="n">TB_obj</span><span class="p">[</span><span class="s1">&#39;july/t22v&#39;</span><span class="p">][:]</span>
    <span class="n">T37H</span> <span class="o">=</span> <span class="n">TB_obj</span><span class="p">[</span><span class="s1">&#39;july/t37h&#39;</span><span class="p">][:]</span>
    <span class="n">T37V</span> <span class="o">=</span> <span class="n">TB_obj</span><span class="p">[</span><span class="s1">&#39;july/t37v&#39;</span><span class="p">][:]</span>
</pre></div>

</div>
</div>
</div>

</div>
<div class="cell border-box-sizing code_cell rendered">
<div class="input">
<div class="prompt input_prompt">In&nbsp;[&nbsp;]:</div>
<div class="inner_cell">
    <div class="input_area">
<div class=" highlight hl-ipython3"><pre><span></span><span class="n">CWV7_unfixed</span><span class="p">,</span> <span class="n">CWL7_unfixed</span> <span class="o">=</span> <span class="n">SSMI_retrieval</span><span class="p">(</span><span class="n">SST</span><span class="p">,</span> <span class="n">theta</span><span class="p">,</span> <span class="n">T19H</span><span class="p">,</span> <span class="n">T19V</span><span class="p">,</span> <span class="n">T22V</span><span class="p">,</span> <span class="n">T37H</span><span class="p">,</span> <span class="n">T37V</span><span class="p">,</span> <span class="n">iter_num</span><span class="o">=</span><span class="mi">1</span><span class="p">)</span>
<span class="n">CWV7_both</span><span class="p">,</span>    <span class="n">CWL7_both</span>    <span class="o">=</span> <span class="n">SSMI_retrieval</span><span class="p">(</span><span class="n">SST</span><span class="p">,</span> <span class="n">theta</span><span class="p">,</span> <span class="n">T19H</span><span class="p">,</span> <span class="n">T19V</span><span class="p">,</span> <span class="n">T22V</span><span class="p">,</span> <span class="n">T37H</span><span class="p">,</span> <span class="n">T37V</span><span class="p">,</span> <span class="n">iter_num</span><span class="o">=</span><span class="mi">5</span><span class="p">,</span> <span class="n">correction</span><span class="o">=</span><span class="s1">&#39;both&#39;</span><span class="p">)</span>
<span class="n">CWV7_19</span><span class="p">,</span>      <span class="n">CWL7_19</span>      <span class="o">=</span> <span class="n">SSMI_retrieval</span><span class="p">(</span><span class="n">SST</span><span class="p">,</span> <span class="n">theta</span><span class="p">,</span> <span class="n">T19H</span><span class="p">,</span> <span class="n">T19V</span><span class="p">,</span> <span class="n">T22V</span><span class="p">,</span> <span class="n">T37H</span><span class="p">,</span> <span class="n">T37V</span><span class="p">,</span> <span class="n">iter_num</span><span class="o">=</span><span class="mi">5</span><span class="p">,</span> <span class="n">correction</span><span class="o">=</span><span class="s1">&#39;19&#39;</span><span class="p">)</span>
</pre></div>

</div>
</div>
</div>

</div>
<div class="cell border-box-sizing code_cell rendered">
<div class="input">
<div class="prompt input_prompt">In&nbsp;[&nbsp;]:</div>
<div class="inner_cell">
    <div class="input_area">
<div class=" highlight hl-ipython3"><pre><span></span><span class="n">hist_SSMI</span><span class="p">(</span><span class="n">CWV7_unfixed</span><span class="p">,</span> <span class="n">CWV7_both</span><span class="p">,</span> <span class="n">CWV7_19</span><span class="p">,</span> <span class="n">CWL7_unfixed</span><span class="p">,</span> <span class="n">CWL7_both</span><span class="p">,</span> <span class="n">CWL7_19</span><span class="p">)</span>
</pre></div>

</div>
</div>
</div>

</div>
<div class="cell border-box-sizing code_cell rendered">
<div class="input">
<div class="prompt input_prompt">In&nbsp;[&nbsp;]:</div>
<div class="inner_cell">
    <div class="input_area">
<div class=" highlight hl-ipython3"><pre><span></span><span class="n">SSMI_map</span><span class="p">(</span><span class="n">lon</span><span class="p">,</span> <span class="n">lat</span><span class="p">,</span> <span class="n">CWV7_unfixed</span><span class="p">,</span> <span class="n">CWV7_both</span><span class="p">,</span> <span class="n">CWV7_19</span><span class="p">,</span> <span class="n">CWL7_unfixed</span><span class="p">,</span> <span class="n">CWL7_both</span><span class="p">,</span> <span class="n">CWL7_19</span><span class="p">,</span><span class="n">the_date</span><span class="o">=</span><span class="s1">&#39;(July 1990)&#39;</span><span class="p">)</span>
</pre></div>

</div>
</div>
</div>

</div>
<div class="cell border-box-sizing text_cell rendered"><div class="prompt input_prompt">
</div>
<div class="inner_cell">
<div class="text_cell_render border-box-sizing rendered_html">
<h2 id="Zonal-mean-results">Zonal mean results<a class="anchor-link" href="#Zonal-mean-results">&#182;</a></h2>
</div>
</div>
</div>
<div class="cell border-box-sizing code_cell rendered">
<div class="input">
<div class="prompt input_prompt">In&nbsp;[&nbsp;]:</div>
<div class="inner_cell">
    <div class="input_area">
<div class=" highlight hl-ipython3"><pre><span></span><span class="n">CWV1z_19</span> <span class="o">=</span> <span class="n">np</span><span class="o">.</span><span class="n">nanmean</span><span class="p">(</span><span class="n">CWV1_19</span><span class="p">,</span> <span class="mi">1</span><span class="p">);</span> <span class="n">CWL1z_19</span> <span class="o">=</span> <span class="n">np</span><span class="o">.</span><span class="n">nanmean</span><span class="p">(</span><span class="n">CWL1_19</span><span class="p">,</span> <span class="mi">1</span><span class="p">)</span>
<span class="n">CWV7z_19</span> <span class="o">=</span> <span class="n">np</span><span class="o">.</span><span class="n">nanmean</span><span class="p">(</span><span class="n">CWV7_19</span><span class="p">,</span> <span class="mi">1</span><span class="p">);</span> <span class="n">CWL7z_19</span> <span class="o">=</span> <span class="n">np</span><span class="o">.</span><span class="n">nanmean</span><span class="p">(</span><span class="n">CWL7_19</span><span class="p">,</span> <span class="mi">1</span><span class="p">)</span>
<span class="n">CWV1z_both</span> <span class="o">=</span> <span class="n">np</span><span class="o">.</span><span class="n">nanmean</span><span class="p">(</span><span class="n">CWV1_both</span><span class="p">,</span> <span class="mi">1</span><span class="p">);</span> <span class="n">CWL1z_both</span> <span class="o">=</span> <span class="n">np</span><span class="o">.</span><span class="n">nanmean</span><span class="p">(</span><span class="n">CWL1_both</span><span class="p">,</span> <span class="mi">1</span><span class="p">)</span>
<span class="n">CWV7z_both</span> <span class="o">=</span> <span class="n">np</span><span class="o">.</span><span class="n">nanmean</span><span class="p">(</span><span class="n">CWV7_both</span><span class="p">,</span> <span class="mi">1</span><span class="p">);</span> <span class="n">CWL7z_both</span> <span class="o">=</span> <span class="n">np</span><span class="o">.</span><span class="n">nanmean</span><span class="p">(</span><span class="n">CWL7_both</span><span class="p">,</span> <span class="mi">1</span><span class="p">)</span>
<span class="n">CWV1z_unfixed</span> <span class="o">=</span> <span class="n">np</span><span class="o">.</span><span class="n">nanmean</span><span class="p">(</span><span class="n">CWV1_unfixed</span><span class="p">,</span> <span class="mi">1</span><span class="p">);</span> <span class="n">CWL1z_unfixed</span> <span class="o">=</span> <span class="n">np</span><span class="o">.</span><span class="n">nanmean</span><span class="p">(</span><span class="n">CWL1_unfixed</span><span class="p">,</span> <span class="mi">1</span><span class="p">)</span>
<span class="n">CWV7z_unfixed</span> <span class="o">=</span> <span class="n">np</span><span class="o">.</span><span class="n">nanmean</span><span class="p">(</span><span class="n">CWV7_unfixed</span><span class="p">,</span> <span class="mi">1</span><span class="p">);</span> <span class="n">CWL7z_unfixed</span> <span class="o">=</span> <span class="n">np</span><span class="o">.</span><span class="n">nanmean</span><span class="p">(</span><span class="n">CWL7_unfixed</span><span class="p">,</span> <span class="mi">1</span><span class="p">)</span>

<span class="n">fig</span> <span class="o">=</span> <span class="n">plt</span><span class="o">.</span><span class="n">figure</span><span class="p">(</span><span class="n">figsize</span><span class="o">=</span><span class="p">(</span><span class="mi">14</span><span class="p">,</span> <span class="mi">12</span><span class="p">))</span>
<span class="n">ax1</span><span class="o">=</span><span class="n">plt</span><span class="o">.</span><span class="n">subplot2grid</span><span class="p">((</span><span class="mi">2</span><span class="p">,</span> <span class="mi">2</span><span class="p">),</span> <span class="p">(</span><span class="mi">0</span><span class="p">,</span> <span class="mi">0</span><span class="p">),</span> <span class="n">colspan</span><span class="o">=</span><span class="mi">1</span><span class="p">,</span> <span class="n">rowspan</span><span class="o">=</span><span class="mi">1</span><span class="p">)</span>
<span class="n">ax2</span><span class="o">=</span><span class="n">plt</span><span class="o">.</span><span class="n">subplot2grid</span><span class="p">((</span><span class="mi">2</span><span class="p">,</span> <span class="mi">2</span><span class="p">),</span> <span class="p">(</span><span class="mi">0</span><span class="p">,</span> <span class="mi">1</span><span class="p">),</span> <span class="n">colspan</span><span class="o">=</span><span class="mi">1</span><span class="p">,</span> <span class="n">rowspan</span><span class="o">=</span><span class="mi">1</span><span class="p">)</span>
<span class="n">ax3</span><span class="o">=</span><span class="n">plt</span><span class="o">.</span><span class="n">subplot2grid</span><span class="p">((</span><span class="mi">2</span><span class="p">,</span> <span class="mi">2</span><span class="p">),</span> <span class="p">(</span><span class="mi">1</span><span class="p">,</span> <span class="mi">0</span><span class="p">),</span> <span class="n">colspan</span><span class="o">=</span><span class="mi">1</span><span class="p">,</span> <span class="n">rowspan</span><span class="o">=</span><span class="mi">1</span><span class="p">)</span>
<span class="n">ax4</span><span class="o">=</span><span class="n">plt</span><span class="o">.</span><span class="n">subplot2grid</span><span class="p">((</span><span class="mi">2</span><span class="p">,</span> <span class="mi">2</span><span class="p">),</span> <span class="p">(</span><span class="mi">1</span><span class="p">,</span> <span class="mi">1</span><span class="p">),</span> <span class="n">colspan</span><span class="o">=</span><span class="mi">1</span><span class="p">,</span> <span class="n">rowspan</span><span class="o">=</span><span class="mi">1</span><span class="p">)</span>

<span class="n">ax1</span><span class="o">.</span><span class="n">plot</span><span class="p">(</span><span class="n">lat</span><span class="p">[:,</span> <span class="mi">0</span><span class="p">],</span> <span class="n">CWV1z_unfixed</span><span class="p">,</span> <span class="n">color</span><span class="o">=</span><span class="p">[</span><span class="mi">0</span><span class="p">,</span> <span class="mf">0.2</span><span class="p">,</span> <span class="mf">0.4</span><span class="p">],</span> <span class="n">linewidth</span><span class="o">=</span><span class="mf">3.5</span><span class="p">,</span> <span class="n">label</span><span class="o">=</span><span class="s1">&#39;Jan unfixed&#39;</span><span class="p">);</span>
<span class="n">ax1</span><span class="o">.</span><span class="n">plot</span><span class="p">(</span><span class="n">lat</span><span class="p">[:,</span> <span class="mi">0</span><span class="p">],</span> <span class="n">CWV1z_both</span><span class="p">,</span> <span class="n">color</span><span class="o">=</span><span class="p">[</span><span class="mi">0</span><span class="p">,</span> <span class="mf">0.5</span><span class="p">,</span> <span class="mf">0.7</span><span class="p">],</span> <span class="n">linewidth</span><span class="o">=</span><span class="mf">3.5</span><span class="p">,</span> <span class="n">label</span><span class="o">=</span><span class="s1">&#39;Jan fixed: both&#39;</span><span class="p">);</span>
<span class="n">ax1</span><span class="o">.</span><span class="n">plot</span><span class="p">(</span><span class="n">lat</span><span class="p">[:,</span> <span class="mi">0</span><span class="p">],</span> <span class="n">CWV1z_19</span><span class="p">,</span> <span class="n">color</span><span class="o">=</span><span class="p">[</span><span class="mi">0</span><span class="p">,</span> <span class="mf">0.8</span><span class="p">,</span> <span class="mi">1</span><span class="p">],</span> <span class="n">linewidth</span><span class="o">=</span><span class="mf">3.5</span><span class="p">,</span> <span class="n">label</span><span class="o">=</span><span class="s1">&#39;Jan fixed: 19 GHz only&#39;</span><span class="p">);</span>
<span class="n">ax1</span><span class="o">.</span><span class="n">grid</span><span class="p">();</span> <span class="n">ax1</span><span class="o">.</span><span class="n">legend</span><span class="p">(</span><span class="n">loc</span><span class="o">=</span><span class="mi">4</span><span class="p">);</span> <span class="n">ax1</span><span class="o">.</span><span class="n">set_xlim</span><span class="p">(</span><span class="o">-</span><span class="mi">90</span><span class="p">,</span> <span class="mi">90</span><span class="p">);</span>
<span class="n">ax1</span><span class="o">.</span><span class="n">set_title</span><span class="p">(</span><span class="s1">&#39;(a) Zonal mean CWV | Jan&#39;</span><span class="p">,</span> <span class="n">fontsize</span><span class="o">=</span><span class="mi">12</span><span class="p">,</span> <span class="n">fontweight</span><span class="o">=</span><span class="s1">&#39;bold&#39;</span><span class="p">)</span>

<span class="n">ax2</span><span class="o">.</span><span class="n">plot</span><span class="p">(</span><span class="n">lat</span><span class="p">[:,</span> <span class="mi">0</span><span class="p">],</span> <span class="n">CWV7z_unfixed</span><span class="p">,</span> <span class="n">color</span><span class="o">=</span><span class="p">[</span><span class="mf">0.4</span><span class="p">,</span> <span class="mf">0.2</span><span class="p">,</span> <span class="mi">0</span><span class="p">],</span> <span class="n">linewidth</span><span class="o">=</span><span class="mf">3.5</span><span class="p">,</span> <span class="n">label</span><span class="o">=</span><span class="s1">&#39;Jul unfixed&#39;</span><span class="p">);</span>
<span class="n">ax2</span><span class="o">.</span><span class="n">plot</span><span class="p">(</span><span class="n">lat</span><span class="p">[:,</span> <span class="mi">0</span><span class="p">],</span> <span class="n">CWV7z_both</span><span class="p">,</span> <span class="n">color</span><span class="o">=</span><span class="p">[</span><span class="mf">0.7</span><span class="p">,</span> <span class="mf">0.5</span><span class="p">,</span> <span class="mi">0</span><span class="p">],</span> <span class="n">linewidth</span><span class="o">=</span><span class="mf">3.5</span><span class="p">,</span> <span class="n">label</span><span class="o">=</span><span class="s1">&#39;Jul fixed: both&#39;</span><span class="p">);</span>
<span class="n">ax2</span><span class="o">.</span><span class="n">plot</span><span class="p">(</span><span class="n">lat</span><span class="p">[:,</span> <span class="mi">0</span><span class="p">],</span> <span class="n">CWV7z_19</span><span class="p">,</span> <span class="n">color</span><span class="o">=</span><span class="p">[</span><span class="mi">1</span><span class="p">,</span> <span class="mf">0.8</span><span class="p">,</span> <span class="mi">0</span><span class="p">],</span> <span class="n">linewidth</span><span class="o">=</span><span class="mf">3.5</span><span class="p">,</span> <span class="n">label</span><span class="o">=</span><span class="s1">&#39;Jul fixed: 19 GHz only&#39;</span><span class="p">);</span>
<span class="n">ax2</span><span class="o">.</span><span class="n">grid</span><span class="p">();</span> <span class="n">ax2</span><span class="o">.</span><span class="n">legend</span><span class="p">(</span><span class="n">loc</span><span class="o">=</span><span class="mi">4</span><span class="p">);</span> <span class="n">ax2</span><span class="o">.</span><span class="n">set_xlim</span><span class="p">(</span><span class="o">-</span><span class="mi">90</span><span class="p">,</span> <span class="mi">90</span><span class="p">);</span> 
<span class="n">ax2</span><span class="o">.</span><span class="n">set_title</span><span class="p">(</span><span class="s1">&#39;(b) Zonal mean CWV | Jul&#39;</span><span class="p">,</span> <span class="n">fontsize</span><span class="o">=</span><span class="mi">12</span><span class="p">,</span> <span class="n">fontweight</span><span class="o">=</span><span class="s1">&#39;bold&#39;</span><span class="p">)</span>

<span class="n">ax3</span><span class="o">.</span><span class="n">plot</span><span class="p">(</span><span class="n">lat</span><span class="p">[:,</span> <span class="mi">0</span><span class="p">],</span> <span class="n">CWL1z_unfixed</span><span class="p">,</span> <span class="n">color</span><span class="o">=</span><span class="p">[</span><span class="mi">0</span><span class="p">,</span> <span class="mf">0.2</span><span class="p">,</span> <span class="mf">0.4</span><span class="p">],</span> <span class="n">linewidth</span><span class="o">=</span><span class="mf">3.5</span><span class="p">,</span> <span class="n">label</span><span class="o">=</span><span class="s1">&#39;Jan unfixed&#39;</span><span class="p">);</span>
<span class="n">ax3</span><span class="o">.</span><span class="n">plot</span><span class="p">(</span><span class="n">lat</span><span class="p">[:,</span> <span class="mi">0</span><span class="p">],</span> <span class="n">CWL1z_both</span><span class="p">,</span> <span class="n">color</span><span class="o">=</span><span class="p">[</span><span class="mi">0</span><span class="p">,</span> <span class="mf">0.5</span><span class="p">,</span> <span class="mf">0.7</span><span class="p">],</span> <span class="n">linewidth</span><span class="o">=</span><span class="mf">3.5</span><span class="p">,</span> <span class="n">label</span><span class="o">=</span><span class="s1">&#39;Jan fixed: both&#39;</span><span class="p">);</span>
<span class="n">ax3</span><span class="o">.</span><span class="n">plot</span><span class="p">(</span><span class="n">lat</span><span class="p">[:,</span> <span class="mi">0</span><span class="p">],</span> <span class="n">CWL1z_19</span><span class="p">,</span> <span class="n">color</span><span class="o">=</span><span class="p">[</span><span class="mi">0</span><span class="p">,</span> <span class="mf">0.8</span><span class="p">,</span> <span class="mi">1</span><span class="p">],</span> <span class="n">linewidth</span><span class="o">=</span><span class="mf">3.5</span><span class="p">,</span> <span class="n">label</span><span class="o">=</span><span class="s1">&#39;Jan fixed: 19 GHz only&#39;</span><span class="p">);</span>
<span class="n">ax3</span><span class="o">.</span><span class="n">grid</span><span class="p">();</span> <span class="n">ax3</span><span class="o">.</span><span class="n">legend</span><span class="p">(</span><span class="n">loc</span><span class="o">=</span><span class="mi">4</span><span class="p">);</span> <span class="n">ax3</span><span class="o">.</span><span class="n">set_xlim</span><span class="p">(</span><span class="o">-</span><span class="mi">90</span><span class="p">,</span> <span class="mi">90</span><span class="p">);</span> 
<span class="n">ax3</span><span class="o">.</span><span class="n">set_title</span><span class="p">(</span><span class="s1">&#39;(c) Zonal mean CWL | Jan&#39;</span><span class="p">,</span> <span class="n">fontsize</span><span class="o">=</span><span class="mi">12</span><span class="p">,</span> <span class="n">fontweight</span><span class="o">=</span><span class="s1">&#39;bold&#39;</span><span class="p">)</span>

<span class="n">ax4</span><span class="o">.</span><span class="n">plot</span><span class="p">(</span><span class="n">lat</span><span class="p">[:,</span> <span class="mi">0</span><span class="p">],</span> <span class="n">CWL7z_unfixed</span><span class="p">,</span> <span class="n">color</span><span class="o">=</span><span class="p">[</span><span class="mf">0.4</span><span class="p">,</span> <span class="mf">0.2</span><span class="p">,</span> <span class="mi">0</span><span class="p">],</span> <span class="n">linewidth</span><span class="o">=</span><span class="mf">3.5</span><span class="p">,</span> <span class="n">label</span><span class="o">=</span><span class="s1">&#39;Jul unfixed&#39;</span><span class="p">);</span>
<span class="n">ax4</span><span class="o">.</span><span class="n">plot</span><span class="p">(</span><span class="n">lat</span><span class="p">[:,</span> <span class="mi">0</span><span class="p">],</span> <span class="n">CWL7z_both</span><span class="p">,</span> <span class="n">color</span><span class="o">=</span><span class="p">[</span><span class="mf">0.7</span><span class="p">,</span> <span class="mf">0.5</span><span class="p">,</span> <span class="mi">0</span><span class="p">],</span> <span class="n">linewidth</span><span class="o">=</span><span class="mf">3.5</span><span class="p">,</span> <span class="n">label</span><span class="o">=</span><span class="s1">&#39;Jul fixed: both&#39;</span><span class="p">);</span>
<span class="n">ax4</span><span class="o">.</span><span class="n">plot</span><span class="p">(</span><span class="n">lat</span><span class="p">[:,</span> <span class="mi">0</span><span class="p">],</span> <span class="n">CWL7z_19</span><span class="p">,</span> <span class="n">color</span><span class="o">=</span><span class="p">[</span><span class="mi">1</span><span class="p">,</span> <span class="mf">0.8</span><span class="p">,</span> <span class="mi">0</span><span class="p">],</span> <span class="n">linewidth</span><span class="o">=</span><span class="mf">3.5</span><span class="p">,</span> <span class="n">label</span><span class="o">=</span><span class="s1">&#39;Jul fixed: 19 GHz only&#39;</span><span class="p">);</span>
<span class="n">ax4</span><span class="o">.</span><span class="n">grid</span><span class="p">();</span> <span class="n">ax4</span><span class="o">.</span><span class="n">legend</span><span class="p">(</span><span class="n">loc</span><span class="o">=</span><span class="mi">4</span><span class="p">);</span> <span class="n">ax4</span><span class="o">.</span><span class="n">set_xlim</span><span class="p">(</span><span class="o">-</span><span class="mi">90</span><span class="p">,</span> <span class="mi">90</span><span class="p">);</span> 
<span class="n">ax4</span><span class="o">.</span><span class="n">set_title</span><span class="p">(</span><span class="s1">&#39;(d) Zonal mean CWL | Jul&#39;</span><span class="p">,</span> <span class="n">fontsize</span><span class="o">=</span><span class="mi">12</span><span class="p">,</span> <span class="n">fontweight</span><span class="o">=</span><span class="s1">&#39;bold&#39;</span><span class="p">)</span>
</pre></div>

</div>
</div>
</div>

</div>
 


    </div>
  </div>

  </div>


  
    <footer class="footer hidden-print">
      <div class="container">
        <div class="col-md-4">
          <p>
            This website does not host notebooks, it only renders notebooks
            available on other websites.
          </p>
        </div>

        <div class="col-md-4">
          <p>
            Delivered by <a href="http://www.fastly.com/">Fastly</a>,
            Rendered by <a href="https://developer.rackspace.com/?nbviewer=awesome">Rackspace</a>
          </p>
          <p>
            nbviewer GitHub <a href="https://github.com/jupyter/nbviewer">repository</a>.
          </p>
        </div>

        <div class="col-md-4">
          
  
            
              <p>
                nbviewer version:
                <a href="https://github.com/jupyter/nbviewer/commit/38e181afeec4b7527a8a13ef7c3814e36045244c">
                  38e181a
                </a>
              </p>
            
          
  
  <p>
    nbconvert version: <a href="https://github.com/jupyter/nbconvert/releases/tag/5.3.1">
      5.3.1
    </a>
  </p>
  

          
  
  
  <p>
    Rendered
    <span class='date' data-date='Fri, 11 May 2018 09:00:34 UTC' title='Fri, 11 May 2018 09:00:34 UTC'>(Fri, 11 May 2018 09:00:34 UTC)</span>
  </p>
  

        </div>
      </div>
    </footer>
  

  <script data-cfasync="false" src="/cdn-cgi/scripts/f2bf09f8/cloudflare-static/email-decode.min.js"></script><script src="/static/components/bootstrap/js/bootstrap.min.js?v=5869c96cc8f19086aee625d670d741f9"></script>
  <script src="/static/components/headroom.js/dist/headroom.min.js?v=b0a311ea668f8e768ea375f4a7abb81c"></script>
  <script src="/static/components/headroom.js/dist/jQuery.headroom.min.js?v=f3a1bae118315d0c234afc74dc6aab71"></script>

  
  
  <script>
    $(function(){ $("#menubar").headroom({
      tolerance: 5,
      offset: 205,
      classes: {
        initial: "animated",
        pinned: "slideInDown",
        unpinned: "slideOutUp"
      }
    })});
  </script>


  
  <script>
    (function(i,s,o,g,r,a,m){i['GoogleAnalyticsObject']=r;i[r]=i[r]||function(){
      (i[r].q=i[r].q||[]).push(arguments)},i[r].l=1*new Date();a=s.createElement(o),
      m=s.getElementsByTagName(o)[0];a.async=1;a.src=g;m.parentNode.insertBefore(a,m)
    })(window,document,'script','https://www.google-analytics.com/analytics.js','ga');
    ga('create', 'UA-52617120-5', 'auto',
       {'storage': 'none'});
    ga('set', 'anonymizeIp', true);
    ga('send', 'pageview');
  </script>
  
  <script>
    require({
        paths: {
          moment: "/static/components/moment/min/moment.min.js?v=89f87298ad94aa1e6b92f42eb66da043"
        }
      }, ["moment"], function(moment){
      var date = $("footer .date"),
        m = moment(new Date(date.data('date'))),
        update = function(){ date.text(m.fromNow()); };
      setInterval(update, 61*1000);
      update();
      var w = $(window).scroll(function(event){
        $("body").toggleClass("scrolled", w.scrollTop() > 0);
      });
    });
  </script>

  <!--NEW RELIC Stop Perf Measurement-->
  
  <!--NEW RELIC End-->
</body>
</html>