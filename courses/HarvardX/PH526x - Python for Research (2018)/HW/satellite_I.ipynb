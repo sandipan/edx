








<!DOCTYPE html>
<html lang="en">

<head>
  <meta charset="utf-8">
  <title>Jupyter Notebook Viewer</title>
  <meta name="viewport" content="width=device-width, initial-scale=1.0">
  <meta name="description" content="">
  <meta name="author" content="">
  
  <meta name="robots" content="noindex,nofollow">
  

  <!--NEW RELIC Start Perf Measurement-->
  
  <!--NREND-->

  <!-- Le styles -->
  <script src="/cdn-cgi/apps/head/MuIIl4I_IVFkxldaVu1mdWee9as.js"></script><link href="/static/build/styles.css?v=af7ff69ae1abb8954a21dbb2241d4e24" rel="stylesheet">

  <!-- Le HTML5 shim, for IE6-8 support of HTML5 elements -->
  <!--[if lt IE 9]>
    <script src="http://html5shim.googlecode.com/svn/trunk/html5.js"></script>
  <![endif]-->

  <!-- Le fav and touch icons -->
  <link rel="shortcut icon" href="/static/ico/ipynb_icon_16x16.png">
  <link rel="apple-touch-icon-precomposed" sizes="144x144"
        href="/static/ico/apple-touch-icon-144-precomposed.png?v=5a3c9ede93e2a8b8ea9e3f8f3da1a905">
  <link rel="apple-touch-icon-precomposed" sizes="114x114"
        href="/static/ico/apple-touch-icon-114-precomposed.png?v=45d86fc8f24dc00638035e1dd7a6d898">
  <link rel="apple-touch-icon-precomposed" sizes="72x72"
        href="/static/ico/apple-touch-icon-72-precomposed.png?v=540b5eb0f3cfd25f1439d1c9bd30e15f">
  <link rel="apple-touch-icon-precomposed"
        href="/static/ico/apple-touch-icon-57-precomposed.png?v=225f0590e187e1458625654f10a28f56">
  
  

  

  
  <meta name="twitter:card" content="summary">
  <meta name="twitter:title" content="Notebook on nbviewer">
  <meta name="twitter:description" content="Check out this Jupyter notebook!">

  
  <meta name="twitter:domain" content="nbviewer.ipython.org">
  <meta name="twitter:image:src" content="http://ipython.org/ipython-doc/dev/_images/ipynb_icon_128x128.png">

  
    <link href="/static/build/notebook.css?v=70404d2166a8ab8949e8e1cdff07b91f" rel="stylesheet">
  

  

  
    <script src="https://cdnjs.cloudflare.com/ajax/libs/mathjax/2.7.1/MathJax.js?config=TeX-AMS_HTML" type="text/javascript">
    </script>
    <script type="text/javascript">
      init_mathjax = function() {
        if (window.MathJax) {
          // MathJax loaded
          MathJax.Hub.Config({
            TeX: {
              equationNumbers: {
                autoNumber: "AMS",
                useLabelIds: true
              }
            },
            tex2jax: {
              inlineMath: [ ['$','$'], ["\\(","\\)"] ],
              displayMath: [ ['$$','$$'], ["\\[","\\]"] ],
              processEscapes: true,
              processEnvironments: true
            },
            displayAlign: 'center',
            "HTML-CSS": {
              styles: {'.MathJax_Display': {"margin": 0}},
              linebreaks: { automatic: true }
            }
          });
          MathJax.Hub.Queue(["Typeset", MathJax.Hub]);
        }
      }
      init_mathjax();
    </script>
  

  
    <script>
      (function() {
        function addWidgetsRenderer() {
          var mimeElement = document.querySelector('script[type="application/vnd.jupyter.widget-view+json"]');
          var scriptElement = document.createElement('script');
          var widgetRendererSrc = 'https://unpkg.com/@jupyter-widgets/html-manager@*/dist/embed-amd.js';
          var widgetState;

          try {
            widgetState = mimeElement && JSON.parse(mimeElement.innerHTML);

            if (widgetState && (widgetState.version_major < 2 || !widgetState.version_major)) {
              widgetRendererSrc = 'https://unpkg.com/jupyter-js-widgets@*/dist/embed.js';
            }
          } catch(e) {}

          scriptElement.src = widgetRendererSrc;
          document.body.appendChild(scriptElement);
        }

        document.addEventListener('DOMContentLoaded', addWidgetsRenderer);
      }());
    </script>
  

</head>

<body class="nbviewer">

  <!-- These are loaded at the top of the body so they are available to
       notebook cells when they are loaded below. -->
  <script src="/static/components/jquery/dist/jquery.min.js?v=a09e13ee94d51c524b7e2a728c7d4039"></script>
  <script src="/static/components/requirejs/require.js?v=6da8be361b9ee26c5e721e76c6d4afce"></script>
  <script src="/static/components/moment/min/moment.min.js?v=89f87298ad94aa1e6b92f42eb66da043"></script>
<!-- Navbar
================================================== -->
  <nav id="menubar" class="navbar navbar-default navbar-fixed-top" data-spy="affix">
    <div class="container">
      <div class="navbar-header">
        <button type="button" class="navbar-toggle collapsed" data-toggle="collapse" data-target=".navbar-collapse">
          <span class="sr-only">Toggle navigation</span>
          <i class="fa fa-bars"></i>
        </button>
        <a class="navbar-brand" href="/">
          <img src="/static/img/nav_logo.svg?v=479cefe8d932fb14a67b93911b97d70f" width="159"/>
        </a>
      </div>

      <div class="collapse navbar-collapse">
        <ul class="nav navbar-nav navbar-right">
          <li>
            <a class="active" href="http://jupyter.org">JUPYTER</a>
          </li>
          <li>
    <a href="/faq" title="FAQ" >
      
        <span>FAQ</span>
      
    </a>
  </li>

          
  
    
      
        <li>
    <a href="/format/script/github/phaustin/e582/blob/master/notebooks/satellite_I.ipynb" title="View as Code" >
      <span class="fa fa-code fa-2x menu-icon"></span>
      <span class="menu-text">View as Code</span>
    </a>
  </li>
      
    
  
    
  

  
    <li>
    <a href="#" title="Python 3 Kernel" >
      <span class="fa fa-server fa-2x menu-icon"></span>
      <span class="menu-text">Python 3 Kernel</span>
    </a>
  </li>
  

  
    <li>
    <a href="https://github.com/phaustin/e582/blob/master/notebooks/satellite_I.ipynb" title="View on GitHub" >
      <span class="fa fa-github fa-2x menu-icon"></span>
      <span class="menu-text">View on GitHub</span>
    </a>
  </li>
  

  <li>
    <a href="https://raw.githubusercontent.com/phaustin/e582/master/notebooks/satellite_I.ipynb" title="Download Notebook" download>
      <span class="fa fa-download fa-2x menu-icon"></span>
      <span class="menu-text">Download Notebook</span>
    </a>
  </li>

        </ul>
      </div><!-- /.navbar-collapse -->
      
      
    </div>
  </nav>

  <div class="container container-main">
    
  
  <ol class="breadcrumb">
    
      <li>
        <a href="/github/phaustin/e582/tree/master">e582</a>
      </li>
    
      <li>
        <a href="/github/phaustin/e582/tree/master/notebooks">notebooks</a>
      </li>
    
  </ol>
  
  <div id="notebook">
    <div id="notebook-container">
      
<div class="cell border-box-sizing text_cell rendered"><div class="prompt input_prompt">
</div>
<div class="inner_cell">
<div class="text_cell_render border-box-sizing rendered_html">
<h1 id="Intro-to-satellite-data--I">Intro to satellite data  I<a class="anchor-link" href="#Intro-to-satellite-data--I">&#182;</a></h1><p>In this notebook we take a quick look at a 5 minutes of satellite data acquired from the MODIS instrument on the  Aqua polar orbiting satellite. Aqua flies in the <a href="&lt;http://atrain.nasa.gov">A-train</a>, which is  formation of satellites that orbit separated by a minute or so.  The granule covers the period from 20:15 to 20:20 UCT on May 15, 2016 (Julian day 136) while Aqua flew over Ft. McMurray, Alberta.  I downloaded the granule from the <a href="https://ladsweb.nascom.nasa.gov/data/search.html">Laadsweb NASA site</a> and converted it from HDF4 to HDF5 format (more on <a href="https://www.hdfgroup.org/h5h4-diff.html">this</a> later).  The structure of HDF5 files can be explored with the <a href="https://www.hdfgroup.org/products/java/release/download.html">HDFViewer tool</a> (install version 2.13 from that link).  The gory details are in the <a href="http://clouds.eos.ubc.ca/~phil/courses/atsc301/downloads/modis_users_guide.pdf">Modis Users Guide</a>.</p>
<p>First, download the file from our course website:</p>

</div>
</div>
</div>
<div class="cell border-box-sizing code_cell rendered">
<div class="input">
<div class="prompt input_prompt">In&nbsp;[1]:</div>
<div class="inner_cell">
    <div class="input_area">
<div class=" highlight hl-ipython3"><pre><span></span><span class="kn">from</span> <span class="nn">a301utils.a301_readfile</span> <span class="k">import</span> <span class="n">download</span>
<span class="kn">import</span> <span class="nn">h5py</span>
<span class="n">filename</span> <span class="o">=</span> <span class="s1">&#39;MYD021KM.A2016136.2015.006.2016138123353.h5&#39;</span>
<span class="n">download</span><span class="p">(</span><span class="n">filename</span><span class="p">)</span>
</pre></div>

</div>
</div>
</div>

<div class="output_wrapper">
<div class="output">


<div class="output_area">

<div class="prompt"></div>


<div class="output_subarea output_stream output_stdout output_text">
<pre>MYD021KM.A2016136.2015.006.2016138123353.h5 already exists, need to either delete or rename for new download
</pre>
</div>
</div>

</div>
</div>

</div>
<div class="cell border-box-sizing text_cell rendered"><div class="prompt input_prompt">
</div>
<div class="inner_cell">
<div class="text_cell_render border-box-sizing rendered_html">
<p>Here is the corresponding red,green,blue color composite for the granule.</p>

</div>
</div>
</div>
<div class="cell border-box-sizing code_cell rendered">
<div class="input">
<div class="prompt input_prompt">In&nbsp;[2]:</div>
<div class="inner_cell">
    <div class="input_area">
<div class=" highlight hl-ipython3"><pre><span></span><span class="kn">from</span> <span class="nn">IPython.display</span> <span class="k">import</span> <span class="n">Image</span>
<span class="n">Image</span><span class="p">(</span><span class="n">url</span><span class="o">=</span><span class="s1">&#39;http://clouds.eos.ubc.ca/~phil/courses/atsc301/downloads/aqua_136_2015.jpg&#39;</span><span class="p">,</span><span class="n">width</span><span class="o">=</span><span class="mi">600</span><span class="p">)</span>
</pre></div>

</div>
</div>
</div>

<div class="output_wrapper">
<div class="output">


<div class="output_area">

<div class="prompt output_prompt">Out[2]:</div>



<div class="output_html rendered_html output_subarea output_execute_result">
<img src="http://clouds.eos.ubc.ca/~phil/courses/atsc301/downloads/aqua_136_2015.jpg" width="600"/>
</div>

</div>

</div>
</div>

</div>
<div class="cell border-box-sizing text_cell rendered"><div class="prompt input_prompt">
</div>
<div class="inner_cell">
<div class="text_cell_render border-box-sizing rendered_html">
<h3 id="now-use-h5py-to-read-some-of-the-satellite-channels">now use h5py to read some of the satellite channels<a class="anchor-link" href="#now-use-h5py-to-read-some-of-the-satellite-channels">&#182;</a></h3>
</div>
</div>
</div>
<div class="cell border-box-sizing code_cell rendered">
<div class="input">
<div class="prompt input_prompt">In&nbsp;[3]:</div>
<div class="inner_cell">
    <div class="input_area">
<div class=" highlight hl-ipython3"><pre><span></span><span class="n">h5_file</span><span class="o">=</span><span class="n">h5py</span><span class="o">.</span><span class="n">File</span><span class="p">(</span><span class="n">filename</span><span class="p">)</span>
</pre></div>

</div>
</div>
</div>

</div>
<div class="cell border-box-sizing text_cell rendered"><div class="prompt input_prompt">
</div>
<div class="inner_cell">
<div class="text_cell_render border-box-sizing rendered_html">
<p>h5 files have attributes -- stored as a dictionary</p>

</div>
</div>
</div>
<div class="cell border-box-sizing code_cell rendered">
<div class="input">
<div class="prompt input_prompt">In&nbsp;[4]:</div>
<div class="inner_cell">
    <div class="input_area">
<div class=" highlight hl-ipython3"><pre><span></span><span class="nb">print</span><span class="p">(</span><span class="nb">list</span><span class="p">(</span><span class="n">h5_file</span><span class="o">.</span><span class="n">attrs</span><span class="o">.</span><span class="n">keys</span><span class="p">()))</span>
</pre></div>

</div>
</div>
</div>

<div class="output_wrapper">
<div class="output">


<div class="output_area">

<div class="prompt"></div>


<div class="output_subarea output_stream output_stdout output_text">
<pre>[&#39;HDFEOSVersion_GLOSDS&#39;, &#39;StructMetadata.0_GLOSDS&#39;, &#39;HDFEOS_FractionalOffset_10*nscans_MODIS_SWATH_Type_L1B_GLOSDS&#39;, &#39;HDFEOS_FractionalOffset_Max_EV_frames_MODIS_SWATH_Type_L1B_GLOSDS&#39;, &#39;CoreMetadata.0_GLOSDS&#39;, &#39;ArchiveMetadata.0_GLOSDS&#39;, &#39;Number of Scans_GLOSDS&#39;, &#39;Number of Day mode scans_GLOSDS&#39;, &#39;Number of Night mode scans_GLOSDS&#39;, &#39;Incomplete Scans_GLOSDS&#39;, &#39;Max Earth View Frames_GLOSDS&#39;, &#39;%Valid EV Observations_GLOSDS&#39;, &#39;%Saturated EV Observations_GLOSDS&#39;, &#39;% L1A EV All Scan Data are Missing_GLOSDS&#39;, &#39;% L1A EV RSB DN Not in Day Mode_GLOSDS&#39;, &#39;% L1A EV DN Missing Within Scan_GLOSDS&#39;, &#39;% Dead Detector EV Data_GLOSDS&#39;, &#39;% Dead Subframe EV Data_GLOSDS&#39;, &#39;% Sector Rotation EV Data_GLOSDS&#39;, &#39;% Saturated EV Data_GLOSDS&#39;, &#39;% TEB EV Data With Moon in SVP_GLOSDS&#39;, &#39;% EV Data Where Cannot Compute BG DN_GLOSDS&#39;, &#39;% RSB EV Data With dn** Below Scale_GLOSDS&#39;, &#39;% EV Data Where Nadir Door Closed_GLOSDS&#39;, &#39;% EV Data Not Calibrated_GLOSDS&#39;, &#39;Bit QA Flags Last Value_GLOSDS&#39;, &#39;Bit QA Flags Change_GLOSDS&#39;, &#39;Granule Average QA Values_GLOSDS&#39;, &#39;Electronics Redundancy Vector_GLOSDS&#39;, &#39;Electronics Configuration Change_GLOSDS&#39;, &#39;Reflective LUT Serial Number and Date of Last Change_GLOSDS&#39;, &#39;Emissive LUT Serial Number and Date of Last Change_GLOSDS&#39;, &#39;QA LUT Serial Number and Date of Last Change_GLOSDS&#39;, &#39;Focal Plane Set Point State_GLOSDS&#39;, &#39;Doors and Screens Configuration_GLOSDS&#39;, &#39;Reflective Bands With Bad Data_GLOSDS&#39;, &#39;Emissive Bands With Bad Data_GLOSDS&#39;, &#39;Noise in Black Body Thermistors_GLOSDS&#39;, &#39;Noise in Average BB Temperature_GLOSDS&#39;, &#39;Noise in LWIR FPA Temperature_GLOSDS&#39;, &#39;Noise in MWIR FPA Temperature_GLOSDS&#39;, &#39;Noise in Scan Mirror Thermistor #1_GLOSDS&#39;, &#39;Noise in Scan Mirror Thermistor #2_GLOSDS&#39;, &#39;Noise in Scan Mirror Thermistor Average_GLOSDS&#39;, &#39;Noise in Instrument Temperature_GLOSDS&#39;, &#39;Noise in Cavity Temperature_GLOSDS&#39;, &#39;Noise in Temperature of NIR FPA_GLOSDS&#39;, &#39;Noise in Temperature of Vis FPA_GLOSDS&#39;, &#39;Dead Detector List_GLOSDS&#39;, &#39;Noisy Detector List_GLOSDS&#39;, &#39;Dead Subframe List_GLOSDS&#39;, &#39;Noisy Subframe List_GLOSDS&#39;, &#39;Detector Quality Flag_GLOSDS&#39;, &#39;Detector Quality Flag2_GLOSDS&#39;, &#39;Earth-Sun Distance_GLOSDS&#39;, &#39;Solar Irradiance on RSB Detectors over pi_GLOSDS&#39;, &#39;identifier_product_doi_GLOSDS&#39;, &#39;identifier_product_doi_authority_GLOSDS&#39;]
</pre>
</div>
</div>

</div>
</div>

</div>
<div class="cell border-box-sizing text_cell rendered"><div class="prompt input_prompt">
</div>
<div class="inner_cell">
<div class="text_cell_render border-box-sizing rendered_html">
<h3 id="print-two-of-the-attributes">print two of the attributes<a class="anchor-link" href="#print-two-of-the-attributes">&#182;</a></h3>
</div>
</div>
</div>
<div class="cell border-box-sizing code_cell rendered">
<div class="input">
<div class="prompt input_prompt">In&nbsp;[5]:</div>
<div class="inner_cell">
    <div class="input_area">
<div class=" highlight hl-ipython3"><pre><span></span><span class="nb">print</span><span class="p">(</span><span class="n">h5_file</span><span class="o">.</span><span class="n">attrs</span><span class="p">[</span><span class="s1">&#39;Earth-Sun Distance_GLOSDS&#39;</span><span class="p">])</span>
</pre></div>

</div>
</div>
</div>

<div class="output_wrapper">
<div class="output">


<div class="output_area">

<div class="prompt"></div>


<div class="output_subarea output_stream output_stdout output_text">
<pre>1.01107
</pre>
</div>
</div>

</div>
</div>

</div>
<div class="cell border-box-sizing code_cell rendered">
<div class="input">
<div class="prompt input_prompt">In&nbsp;[6]:</div>
<div class="inner_cell">
    <div class="input_area">
<div class=" highlight hl-ipython3"><pre><span></span><span class="nb">print</span><span class="p">(</span><span class="n">h5_file</span><span class="o">.</span><span class="n">attrs</span><span class="p">[</span><span class="s1">&#39;HDFEOSVersion_GLOSDS&#39;</span><span class="p">])</span>
</pre></div>

</div>
</div>
</div>

<div class="output_wrapper">
<div class="output">


<div class="output_area">

<div class="prompt"></div>


<div class="output_subarea output_stream output_stdout output_text">
<pre>b&#39;HDFEOS_V2.17&#39;
</pre>
</div>
</div>

</div>
</div>

</div>
<div class="cell border-box-sizing text_cell rendered"><div class="prompt input_prompt">
</div>
<div class="inner_cell">
<div class="text_cell_render border-box-sizing rendered_html">
<p>h5 files have variables -- stored in a dictionary.
The fields are aranged in a hierarchy of groups similar to a set of nested folders</p>

</div>
</div>
</div>
<div class="cell border-box-sizing text_cell rendered"><div class="prompt input_prompt">
</div>
<div class="inner_cell">
<div class="text_cell_render border-box-sizing rendered_html">
<p>Here is what HDFViewer reports for the structure of the "EV_1KM_Emissive"  dataset, which stands for "Earth View, 1 km pixel resolution, thermal emission channels".  It is showing a 3 dimensional array of integers of shape (16,2030,1354).  These are radiometer counts in 16 different wavelength channels for the 2030 x 1354 pixel granule.</p>

</div>
</div>
</div>
<div class="cell border-box-sizing code_cell rendered">
<div class="input">
<div class="prompt input_prompt">In&nbsp;[7]:</div>
<div class="inner_cell">
    <div class="input_area">
<div class=" highlight hl-ipython3"><pre><span></span><span class="n">Image</span><span class="p">(</span><span class="s1">&#39;screenshots/HDF_file_structure.png&#39;</span><span class="p">)</span>
</pre></div>

</div>
</div>
</div>

<div class="output_wrapper">
<div class="output">


<div class="output_area">

<div class="prompt output_prompt">Out[7]:</div>




<div class="output_png output_subarea output_execute_result">
<img src="data:image/png;base64,iVBORw0KGgoAAAANSUhEUgAABUYAAAKRCAYAAACY3XN4AAAAAXNSR0IArs4c6QAAAARnQU1BAACx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"
>
</div>

</div>

</div>
</div>

</div>
<div class="cell border-box-sizing text_cell rendered"><div class="prompt input_prompt">
</div>
<div class="inner_cell">
<div class="text_cell_render border-box-sizing rendered_html">
<p><strong>Read the radiance data from MODIS_SWATH_Type_L1B/Data Fields/EV_1KM_Emissive</strong></p>

</div>
</div>
</div>
<div class="cell border-box-sizing text_cell rendered"><div class="prompt input_prompt">
</div>
<div class="inner_cell">
<div class="text_cell_render border-box-sizing rendered_html">
<p>Note the correspondence between the keys and the fields you see in HDFView:</p>
<p>Here are the top level groups:</p>

</div>
</div>
</div>
<div class="cell border-box-sizing code_cell rendered">
<div class="input">
<div class="prompt input_prompt">In&nbsp;[8]:</div>
<div class="inner_cell">
    <div class="input_area">
<div class=" highlight hl-ipython3"><pre><span></span><span class="nb">print</span><span class="p">(</span><span class="nb">list</span><span class="p">(</span><span class="n">h5_file</span><span class="o">.</span><span class="n">keys</span><span class="p">()))</span>
</pre></div>

</div>
</div>
</div>

<div class="output_wrapper">
<div class="output">


<div class="output_area">

<div class="prompt"></div>


<div class="output_subarea output_stream output_stdout output_text">
<pre>[&#39;Band_1KM_Emissive&#39;, &#39;Band_1KM_RefSB&#39;, &#39;Band_250M&#39;, &#39;Band_500M&#39;, &#39;Change in relative responses of thermal detectors&#39;, &#39;DC Restore Change for Reflective 1km Bands&#39;, &#39;DC Restore Change for Reflective 250m Bands&#39;, &#39;DC Restore Change for Reflective 500m Bands&#39;, &#39;DC Restore Change for Thermal Bands&#39;, &#39;HDF4_DIMGROUP&#39;, &#39;Level 1B Swath Metadata&#39;, &#39;Level 1B Swath Metadata_t&#39;, &#39;MODIS_SWATH_Type_L1B&#39;, &#39;Noise in Thermal Detectors&#39;]
</pre>
</div>
</div>

</div>
</div>

</div>
<div class="cell border-box-sizing text_cell rendered"><div class="prompt input_prompt">
</div>
<div class="inner_cell">
<div class="text_cell_render border-box-sizing rendered_html">
<p>and the 'MODIS_SWATH_Type_L1B' group contains 3 subgroups:</p>

</div>
</div>
</div>
<div class="cell border-box-sizing code_cell rendered">
<div class="input">
<div class="prompt input_prompt">In&nbsp;[9]:</div>
<div class="inner_cell">
    <div class="input_area">
<div class=" highlight hl-ipython3"><pre><span></span><span class="nb">print</span><span class="p">(</span><span class="nb">list</span><span class="p">(</span><span class="n">h5_file</span><span class="p">[</span><span class="s1">&#39;MODIS_SWATH_Type_L1B&#39;</span><span class="p">]</span><span class="o">.</span><span class="n">keys</span><span class="p">()))</span>
</pre></div>

</div>
</div>
</div>

<div class="output_wrapper">
<div class="output">


<div class="output_area">

<div class="prompt"></div>


<div class="output_subarea output_stream output_stdout output_text">
<pre>[&#39;Data Fields&#39;, &#39;Geolocation Fields&#39;, &#39;Swath Attributes&#39;]
</pre>
</div>
</div>

</div>
</div>

</div>
<div class="cell border-box-sizing text_cell rendered"><div class="prompt input_prompt">
</div>
<div class="inner_cell">
<div class="text_cell_render border-box-sizing rendered_html">
<p>and the 'Data Fields' subgroup contains 27 more groups:</p>

</div>
</div>
</div>
<div class="cell border-box-sizing code_cell rendered">
<div class="input">
<div class="prompt input_prompt">In&nbsp;[10]:</div>
<div class="inner_cell">
    <div class="input_area">
<div class=" highlight hl-ipython3"><pre><span></span><span class="nb">print</span><span class="p">(</span><span class="nb">list</span><span class="p">(</span><span class="n">h5_file</span><span class="p">[</span><span class="s1">&#39;MODIS_SWATH_Type_L1B/Data Fields&#39;</span><span class="p">]</span><span class="o">.</span><span class="n">keys</span><span class="p">()))</span>
</pre></div>

</div>
</div>
</div>

<div class="output_wrapper">
<div class="output">


<div class="output_area">

<div class="prompt"></div>


<div class="output_subarea output_stream output_stdout output_text">
<pre>[&#39;Band_1KM_Emissive&#39;, &#39;Band_1KM_Emissive_t&#39;, &#39;Band_1KM_RefSB&#39;, &#39;Band_1KM_RefSB_t&#39;, &#39;Band_250M&#39;, &#39;Band_250M_t&#39;, &#39;Band_500M&#39;, &#39;Band_500M_t&#39;, &#39;EV_1KM_Emissive&#39;, &#39;EV_1KM_Emissive_Uncert_Indexes&#39;, &#39;EV_1KM_RefSB&#39;, &#39;EV_1KM_RefSB_Uncert_Indexes&#39;, &#39;EV_250_Aggr1km_RefSB&#39;, &#39;EV_250_Aggr1km_RefSB_Samples_Used&#39;, &#39;EV_250_Aggr1km_RefSB_Uncert_Indexes&#39;, &#39;EV_500_Aggr1km_RefSB&#39;, &#39;EV_500_Aggr1km_RefSB_Samples_Used&#39;, &#39;EV_500_Aggr1km_RefSB_Uncert_Indexes&#39;, &#39;EV_Band26&#39;, &#39;EV_Band26_Uncert_Indexes&#39;, &#39;Height&#39;, &#39;Range&#39;, &#39;SensorAzimuth&#39;, &#39;SensorZenith&#39;, &#39;SolarAzimuth&#39;, &#39;SolarZenith&#39;, &#39;gflags&#39;]
</pre>
</div>
</div>

</div>
</div>

</div>
<div class="cell border-box-sizing text_cell rendered"><div class="prompt input_prompt">
</div>
<div class="inner_cell">
<div class="text_cell_render border-box-sizing rendered_html">
<p>Print out the 16 channel numbers stored in Band_1KM_Emissive data array.  The [...] means "read everything".  The 16 thermal channels are channels 20-36.  Their wavelength ranges and common uses are listed 
<a href="https://modis.gsfc.nasa.gov/about/specifications.php">here</a></p>

</div>
</div>
</div>
<div class="cell border-box-sizing code_cell rendered">
<div class="input">
<div class="prompt input_prompt">In&nbsp;[11]:</div>
<div class="inner_cell">
    <div class="input_area">
<div class=" highlight hl-ipython3"><pre><span></span><span class="nb">print</span><span class="p">(</span><span class="n">h5_file</span><span class="p">[</span><span class="s1">&#39;MODIS_SWATH_Type_L1B/Data Fields/Band_1KM_Emissive&#39;</span><span class="p">][</span><span class="o">...</span><span class="p">])</span>
</pre></div>

</div>
</div>
</div>

<div class="output_wrapper">
<div class="output">


<div class="output_area">

<div class="prompt"></div>


<div class="output_subarea output_stream output_stdout output_text">
<pre>[(20.0,) (21.0,) (22.0,) (23.0,) (24.0,) (25.0,) (27.0,) (28.0,) (29.0,)
 (30.0,) (31.0,) (32.0,) (33.0,) (34.0,) (35.0,) (36.0,)]
</pre>
</div>
</div>

</div>
</div>

</div>
<div class="cell border-box-sizing text_cell rendered"><div class="prompt input_prompt">
</div>
<div class="inner_cell">
<div class="text_cell_render border-box-sizing rendered_html">
<p><strong>note that channel 31, which covers the wavelength range 10.78-11.28 $\mu m$  occurs at index value 10 (remember python counts from 0)</strong></p>

</div>
</div>
</div>
<div class="cell border-box-sizing code_cell rendered">
<div class="input">
<div class="prompt input_prompt">In&nbsp;[12]:</div>
<div class="inner_cell">
    <div class="input_area">
<div class=" highlight hl-ipython3"><pre><span></span><span class="n">index31</span><span class="o">=</span><span class="mi">10</span>
</pre></div>

</div>
</div>
</div>

</div>
<div class="cell border-box-sizing text_cell rendered"><div class="prompt input_prompt">
</div>
<div class="inner_cell">
<div class="text_cell_render border-box-sizing rendered_html">
<p><strong>the data are stored as unsigned (i.e. only positive values), 2 byte (16 bit) integers which can hold values from 0 to $2^{16}$ - 1 = 65,535.
The "&gt;u2" notation below for the datatype (dtype) says that the data is unsigned, 2 byte, with the most significant
byte stored first ("big endian", which is the same way we write numbers)</strong></p>
<p>(Although the 2 byte words contain 16 bits, only  12 bits are significant).</p>
<p>(h5py let's you specify the group names one at a time, instead of using '/' to separate them.  This is convenient if you are storing your field name in a variable, for example.)</p>

</div>
</div>
</div>
<div class="cell border-box-sizing code_cell rendered">
<div class="input">
<div class="prompt input_prompt">In&nbsp;[13]:</div>
<div class="inner_cell">
    <div class="input_area">
<div class=" highlight hl-ipython3"><pre><span></span><span class="n">my_name</span> <span class="o">=</span> <span class="s1">&#39;EV_1KM_Emissive&#39;</span>
<span class="n">chan31</span><span class="o">=</span><span class="n">h5_file</span><span class="p">[</span><span class="s1">&#39;MODIS_SWATH_Type_L1B&#39;</span><span class="p">][</span><span class="s1">&#39;Data Fields&#39;</span><span class="p">][</span><span class="n">my_name</span><span class="p">][</span><span class="n">index31</span><span class="p">,:,:]</span>
<span class="nb">print</span><span class="p">(</span><span class="n">chan31</span><span class="o">.</span><span class="n">shape</span><span class="p">,</span><span class="n">chan31</span><span class="o">.</span><span class="n">dtype</span><span class="p">)</span>
</pre></div>

</div>
</div>
</div>

<div class="output_wrapper">
<div class="output">


<div class="output_area">

<div class="prompt"></div>


<div class="output_subarea output_stream output_stdout output_text">
<pre>(2040, 1354) &gt;u2
</pre>
</div>
</div>

</div>
</div>

</div>
<div class="cell border-box-sizing text_cell rendered"><div class="prompt input_prompt">
</div>
<div class="inner_cell">
<div class="text_cell_render border-box-sizing rendered_html">
<p><strong>Print the first 3 rows and columns</strong></p>

</div>
</div>
</div>
<div class="cell border-box-sizing code_cell rendered">
<div class="input">
<div class="prompt input_prompt">In&nbsp;[14]:</div>
<div class="inner_cell">
    <div class="input_area">
<div class=" highlight hl-ipython3"><pre><span></span><span class="n">chan31</span><span class="p">[:</span><span class="mi">3</span><span class="p">,:</span><span class="mi">3</span><span class="p">]</span>
</pre></div>

</div>
</div>
</div>

<div class="output_wrapper">
<div class="output">


<div class="output_area">

<div class="prompt output_prompt">Out[14]:</div>




<div class="output_text output_subarea output_execute_result">
<pre>array([[8254, 8097, 8405],
       [8384, 8081, 8351],
       [8577, 8230, 8302]], dtype=uint16)</pre>
</div>

</div>

</div>
</div>

</div>
<div class="cell border-box-sizing text_cell rendered"><div class="prompt input_prompt">
</div>
<div class="inner_cell">
<div class="text_cell_render border-box-sizing rendered_html">
<p><strong> we need to apply a
scale and offset to convert counts to radiance, with units of $(W\,m^{-2}\,\mu m^{-1}\,sr^{-1}$).  More about the
sr units later</strong></p>

</div>
</div>
</div>
<div class="cell border-box-sizing text_cell rendered"><div class="prompt input_prompt">
</div>
<div class="inner_cell">
<div class="text_cell_render border-box-sizing rendered_html">
<p>$Data = (RawData - offset) \times scale$</p>
<p>this information is included in the attributes of each variable.</p>
<p>(see page 36 of the <a href="http://clouds.eos.ubc.ca/~phil/courses/atsc301/downloads/modis_users_guide.pdf">Modis Users Guide</a>)</p>

</div>
</div>
</div>
<div class="cell border-box-sizing text_cell rendered"><div class="prompt input_prompt">
</div>
<div class="inner_cell">
<div class="text_cell_render border-box-sizing rendered_html">
<p><strong>here is the scale for all 16 channels</strong></p>

</div>
</div>
</div>
<div class="cell border-box-sizing code_cell rendered">
<div class="input">
<div class="prompt input_prompt">In&nbsp;[15]:</div>
<div class="inner_cell">
    <div class="input_area">
<div class=" highlight hl-ipython3"><pre><span></span><span class="n">scale</span><span class="o">=</span><span class="n">h5_file</span><span class="p">[</span><span class="s1">&#39;MODIS_SWATH_Type_L1B&#39;</span><span class="p">][</span><span class="s1">&#39;Data Fields&#39;</span><span class="p">][</span><span class="s1">&#39;EV_1KM_Emissive&#39;</span><span class="p">]</span><span class="o">.</span><span class="n">attrs</span><span class="p">[</span><span class="s1">&#39;radiance_scales&#39;</span><span class="p">][</span><span class="o">...</span><span class="p">]</span>
<span class="nb">print</span><span class="p">(</span><span class="n">scale</span><span class="p">)</span>
</pre></div>

</div>
</div>
</div>

<div class="output_wrapper">
<div class="output">


<div class="output_area">

<div class="prompt"></div>


<div class="output_subarea output_stream output_stdout output_text">
<pre>[  6.93075344e-05   3.46690253e-03   7.62657510e-05   8.99075312e-05
   3.15561410e-05   5.63982067e-05   1.17831965e-04   1.92449734e-04
   5.57084859e-04   4.06323437e-04   6.50807226e-04   5.71001263e-04
   2.62337097e-04   2.00872819e-04   1.76763206e-04   1.18594922e-04]
</pre>
</div>
</div>

</div>
</div>

</div>
<div class="cell border-box-sizing text_cell rendered"><div class="prompt input_prompt">
</div>
<div class="inner_cell">
<div class="text_cell_render border-box-sizing rendered_html">
<p><strong>and here is the offset for 16 channels</strong></p>

</div>
</div>
</div>
<div class="cell border-box-sizing code_cell rendered">
<div class="input">
<div class="prompt input_prompt">In&nbsp;[16]:</div>
<div class="inner_cell">
    <div class="input_area">
<div class=" highlight hl-ipython3"><pre><span></span><span class="n">offset</span><span class="o">=</span><span class="n">h5_file</span><span class="p">[</span><span class="s1">&#39;MODIS_SWATH_Type_L1B&#39;</span><span class="p">][</span><span class="s1">&#39;Data Fields&#39;</span><span class="p">][</span><span class="s1">&#39;EV_1KM_Emissive&#39;</span><span class="p">]</span><span class="o">.</span><span class="n">attrs</span><span class="p">[</span><span class="s1">&#39;radiance_offsets&#39;</span><span class="p">][</span><span class="o">...</span><span class="p">]</span>
<span class="nb">print</span><span class="p">(</span><span class="n">offset</span><span class="p">)</span>
</pre></div>

</div>
</div>
</div>

<div class="output_wrapper">
<div class="output">


<div class="output_area">

<div class="prompt"></div>


<div class="output_subarea output_stream output_stdout output_text">
<pre>[ 2467.2644043   2480.60058594  2478.17651367  2402.46850586  1077.44482422
  1560.33337402  2724.21826172  2317.48828125  2610.01538086  1560.33325195
  2035.93322754  2119.08447266  2500.59936523  2499.09350586  2500.52050781
  2495.89111328]
</pre>
</div>
</div>

</div>
</div>

</div>
<div class="cell border-box-sizing text_cell rendered"><div class="prompt input_prompt">
</div>
<div class="inner_cell">
<div class="text_cell_render border-box-sizing rendered_html">
<p><strong>note that as the satellite ages and wears out, these calibration coefficients change</strong></p>

</div>
</div>
</div>
<div class="cell border-box-sizing code_cell rendered">
<div class="input">
<div class="prompt input_prompt">In&nbsp;[17]:</div>
<div class="inner_cell">
    <div class="input_area">
<div class=" highlight hl-ipython3"><pre><span></span><span class="n">chan31_calibrated</span> <span class="o">=</span><span class="p">(</span><span class="n">chan31</span> <span class="o">-</span> <span class="n">offset</span><span class="p">[</span><span class="n">index31</span><span class="p">])</span><span class="o">*</span><span class="n">scale</span><span class="p">[</span><span class="n">index31</span><span class="p">]</span>
</pre></div>

</div>
</div>
</div>

</div>
<div class="cell border-box-sizing code_cell rendered">
<div class="input">
<div class="prompt input_prompt">In&nbsp;[18]:</div>
<div class="inner_cell">
    <div class="input_area">
<div class=" highlight hl-ipython3"><pre><span></span><span class="o">%</span><span class="k">matplotlib</span> inline
</pre></div>

</div>
</div>
</div>

</div>
<div class="cell border-box-sizing text_cell rendered"><div class="prompt input_prompt">
</div>
<div class="inner_cell">
<div class="text_cell_render border-box-sizing rendered_html">
<p><strong>histogram the raw counts -- note that hist doesn't know how to handle 2-dim arrays, so flatten to 1-d</strong></p>

</div>
</div>
</div>
<div class="cell border-box-sizing code_cell rendered">
<div class="input">
<div class="prompt input_prompt">In&nbsp;[19]:</div>
<div class="inner_cell">
    <div class="input_area">
<div class=" highlight hl-ipython3"><pre><span></span><span class="kn">import</span> <span class="nn">matplotlib.pyplot</span> <span class="k">as</span> <span class="nn">plt</span>
<span class="n">out</span><span class="o">=</span><span class="n">plt</span><span class="o">.</span><span class="n">hist</span><span class="p">(</span><span class="n">chan31</span><span class="o">.</span><span class="n">flatten</span><span class="p">())</span>
<span class="c1">#</span>
<span class="c1"># get the current axis to add title with gca()</span>
<span class="c1">#</span>
<span class="n">ax</span> <span class="o">=</span> <span class="n">plt</span><span class="o">.</span><span class="n">gca</span><span class="p">()</span>
<span class="n">_</span><span class="o">=</span><span class="n">ax</span><span class="o">.</span><span class="n">set</span><span class="p">(</span><span class="n">title</span><span class="o">=</span><span class="s1">&#39;Aqua Modis raw counts&#39;</span><span class="p">)</span>
</pre></div>

</div>
</div>
</div>

<div class="output_wrapper">
<div class="output">


<div class="output_area">

<div class="prompt"></div>




<div class="output_png output_subarea ">
<img src="data:image/png;base64,iVBORw0KGgoAAAANSUhEUgAAAjoAAAF5CAYAAACWbICfAAAABHNCSVQICAgIfAhkiAAAAAlwSFlz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"
>
</div>

</div>

</div>
</div>

</div>
<div class="cell border-box-sizing text_cell rendered"><div class="prompt input_prompt">
</div>
<div class="inner_cell">
<div class="text_cell_render border-box-sizing rendered_html">
<p><strong>histogram the calibrated radiances and show that they lie between
0-10 $W\,m^{-2}\,\mu m^{-1}\,sr^{-1}$ </strong></p>

</div>
</div>
</div>
<div class="cell border-box-sizing code_cell rendered">
<div class="input">
<div class="prompt input_prompt">In&nbsp;[20]:</div>
<div class="inner_cell">
    <div class="input_area">
<div class=" highlight hl-ipython3"><pre><span></span><span class="kn">import</span> <span class="nn">matplotlib.pyplot</span> <span class="k">as</span> <span class="nn">plt</span>
<span class="n">fig</span><span class="p">,</span><span class="n">ax</span> <span class="o">=</span> <span class="n">plt</span><span class="o">.</span><span class="n">subplots</span><span class="p">(</span><span class="mi">1</span><span class="p">,</span><span class="mi">1</span><span class="p">)</span>
<span class="n">ax</span><span class="o">.</span><span class="n">hist</span><span class="p">(</span><span class="n">chan31_calibrated</span><span class="o">.</span><span class="n">flatten</span><span class="p">())</span>
<span class="n">_</span><span class="o">=</span><span class="n">ax</span><span class="o">.</span><span class="n">set</span><span class="p">(</span><span class="n">xlabel</span><span class="o">=</span><span class="s1">&#39;radiance $(W\,m^{-2}\,\mu m^{-1}\,sr^{-1}$)&#39;</span><span class="p">,</span>
      <span class="n">title</span><span class="o">=</span><span class="s1">&#39;channel 31 radiance for Aqua Modis&#39;</span><span class="p">)</span>
</pre></div>

</div>
</div>
</div>

<div class="output_wrapper">
<div class="output">


<div class="output_area">

<div class="prompt"></div>




<div class="output_png output_subarea ">
<img src="data:image/png;base64,iVBORw0KGgoAAAANSUhEUgAAAi0AAAGYCAYAAACOBtIpAAAABHNCSVQICAgIfAhkiAAAAAlwSFlz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"
>
</div>

</div>

</div>
</div>

</div>
<div class="cell border-box-sizing text_cell rendered"><div class="prompt input_prompt">
</div>
<div class="inner_cell">
<div class="text_cell_render border-box-sizing rendered_html">
<p><strong> Next Read MODIS_SWATH_Type_L1B/Geolocation Fields/Longitude</strong></p>

</div>
</div>
</div>
<div class="cell border-box-sizing text_cell rendered"><div class="prompt input_prompt">
</div>
<div class="inner_cell">
<div class="text_cell_render border-box-sizing rendered_html">
<p>note that the longitude and latitude arrays are (406,271) while the actual
data are (2030,1354).   These lat/lon arrays show only every fifth row and column to
save space.  The full lat/lon arrays are stored in a separate file.</p>

</div>
</div>
</div>
<div class="cell border-box-sizing code_cell rendered">
<div class="input">
<div class="prompt input_prompt">In&nbsp;[21]:</div>
<div class="inner_cell">
    <div class="input_area">
<div class=" highlight hl-ipython3"><pre><span></span><span class="n">lon_data</span><span class="o">=</span><span class="n">h5_file</span><span class="p">[</span><span class="s1">&#39;MODIS_SWATH_Type_L1B&#39;</span><span class="p">][</span><span class="s1">&#39;Geolocation Fields&#39;</span><span class="p">][</span><span class="s1">&#39;Longitude&#39;</span><span class="p">][</span><span class="o">...</span><span class="p">]</span>
<span class="n">lat_data</span><span class="o">=</span><span class="n">h5_file</span><span class="p">[</span><span class="s1">&#39;MODIS_SWATH_Type_L1B&#39;</span><span class="p">][</span><span class="s1">&#39;Geolocation Fields&#39;</span><span class="p">][</span><span class="s1">&#39;Latitude&#39;</span><span class="p">][</span><span class="o">...</span><span class="p">]</span>
<span class="n">_</span><span class="o">=</span><span class="n">plt</span><span class="o">.</span><span class="n">plot</span><span class="p">(</span><span class="n">lon_data</span><span class="p">[:</span><span class="mi">10</span><span class="p">,:</span><span class="mi">10</span><span class="p">],</span><span class="n">lat_data</span><span class="p">[:</span><span class="mi">10</span><span class="p">,:</span><span class="mi">10</span><span class="p">],</span><span class="s1">&#39;b+&#39;</span><span class="p">)</span>
</pre></div>

</div>
</div>
</div>

<div class="output_wrapper">
<div class="output">


<div class="output_area">

<div class="prompt"></div>




<div class="output_png output_subarea ">
<img src="data:image/png;base64,iVBORw0KGgoAAAANSUhEUgAAAiQAAAFqCAYAAAAqSUHxAAAABHNCSVQICAgIfAhkiAAAAAlwSFlz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"
>
</div>

</div>

</div>
</div>

</div>
<div class="cell border-box-sizing text_cell rendered"><div class="prompt input_prompt">
</div>
<div class="inner_cell">
<div class="text_cell_render border-box-sizing rendered_html">
<p><strong>Note two things:  1) the pixels overlap and 2) they don't line up on lines of constant longitude and latitude</strong></p>
<p><strong>The pixels are also not all the same size -- this distortion is called the <a href="http://eoweb.dlr.de:8080/short_guide/D-MODIS.html">bowtie effect</a></strong></p>
<p><strong>Next -- plotting image data</strong></p>

</div>
</div>
</div>
 


    </div>
  </div>

  </div>


  
    <footer class="footer hidden-print">
      <div class="container">
        <div class="col-md-4">
          <p>
            This website does not host notebooks, it only renders notebooks
            available on other websites.
          </p>
        </div>

        <div class="col-md-4">
          <p>
            Delivered by <a href="http://www.fastly.com/">Fastly</a>,
            Rendered by <a href="https://developer.rackspace.com/?nbviewer=awesome">Rackspace</a>
          </p>
          <p>
            nbviewer GitHub <a href="https://github.com/jupyter/nbviewer">repository</a>.
          </p>
        </div>

        <div class="col-md-4">
          
  
            
              <p>
                nbviewer version:
                <a href="https://github.com/jupyter/nbviewer/commit/38e181afeec4b7527a8a13ef7c3814e36045244c">
                  38e181a
                </a>
              </p>
            
          
  
  <p>
    nbconvert version: <a href="https://github.com/jupyter/nbconvert/releases/tag/5.3.1">
      5.3.1
    </a>
  </p>
  

          
  
  
  <p>
    Rendered
    <span class='date' data-date='Fri, 11 May 2018 08:57:22 UTC' title='Fri, 11 May 2018 08:57:22 UTC'>(Fri, 11 May 2018 08:57:22 UTC)</span>
  </p>
  

        </div>
      </div>
    </footer>
  

  <script src="/static/components/bootstrap/js/bootstrap.min.js?v=5869c96cc8f19086aee625d670d741f9"></script>
  <script src="/static/components/headroom.js/dist/headroom.min.js?v=b0a311ea668f8e768ea375f4a7abb81c"></script>
  <script src="/static/components/headroom.js/dist/jQuery.headroom.min.js?v=f3a1bae118315d0c234afc74dc6aab71"></script>

  
  
  <script>
    $(function(){ $("#menubar").headroom({
      tolerance: 5,
      offset: 205,
      classes: {
        initial: "animated",
        pinned: "slideInDown",
        unpinned: "slideOutUp"
      }
    })});
  </script>


  
  <script>
    (function(i,s,o,g,r,a,m){i['GoogleAnalyticsObject']=r;i[r]=i[r]||function(){
      (i[r].q=i[r].q||[]).push(arguments)},i[r].l=1*new Date();a=s.createElement(o),
      m=s.getElementsByTagName(o)[0];a.async=1;a.src=g;m.parentNode.insertBefore(a,m)
    })(window,document,'script','https://www.google-analytics.com/analytics.js','ga');
    ga('create', 'UA-52617120-5', 'auto',
       {'storage': 'none'});
    ga('set', 'anonymizeIp', true);
    ga('send', 'pageview');
  </script>
  
  <script>
    require({
        paths: {
          moment: "/static/components/moment/min/moment.min.js?v=89f87298ad94aa1e6b92f42eb66da043"
        }
      }, ["moment"], function(moment){
      var date = $("footer .date"),
        m = moment(new Date(date.data('date'))),
        update = function(){ date.text(m.fromNow()); };
      setInterval(update, 61*1000);
      update();
      var w = $(window).scroll(function(event){
        $("body").toggleClass("scrolled", w.scrollTop() > 0);
      });
    });
  </script>

  <!--NEW RELIC Stop Perf Measurement-->
  
  <!--NEW RELIC End-->
</body>
</html>