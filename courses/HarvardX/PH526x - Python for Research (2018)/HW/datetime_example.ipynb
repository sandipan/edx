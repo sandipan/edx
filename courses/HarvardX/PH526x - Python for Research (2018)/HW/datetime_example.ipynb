








<!DOCTYPE html>
<html lang="en">

<head>
  <meta charset="utf-8">
  <title>Jupyter Notebook Viewer</title>
  <meta name="viewport" content="width=device-width, initial-scale=1.0">
  <meta name="description" content="">
  <meta name="author" content="">
  
  <meta name="robots" content="noindex,nofollow">
  

  <!--NEW RELIC Start Perf Measurement-->
  
  <!--NREND-->

  <!-- Le styles -->
  <script src="/cdn-cgi/apps/head/MuIIl4I_IVFkxldaVu1mdWee9as.js"></script><link href="/static/build/styles.css?v=af7ff69ae1abb8954a21dbb2241d4e24" rel="stylesheet">

  <!-- Le HTML5 shim, for IE6-8 support of HTML5 elements -->
  <!--[if lt IE 9]>
    <script src="http://html5shim.googlecode.com/svn/trunk/html5.js"></script>
  <![endif]-->

  <!-- Le fav and touch icons -->
  <link rel="shortcut icon" href="/static/ico/ipynb_icon_16x16.png">
  <link rel="apple-touch-icon-precomposed" sizes="144x144"
        href="/static/ico/apple-touch-icon-144-precomposed.png?v=5a3c9ede93e2a8b8ea9e3f8f3da1a905">
  <link rel="apple-touch-icon-precomposed" sizes="114x114"
        href="/static/ico/apple-touch-icon-114-precomposed.png?v=45d86fc8f24dc00638035e1dd7a6d898">
  <link rel="apple-touch-icon-precomposed" sizes="72x72"
        href="/static/ico/apple-touch-icon-72-precomposed.png?v=540b5eb0f3cfd25f1439d1c9bd30e15f">
  <link rel="apple-touch-icon-precomposed"
        href="/static/ico/apple-touch-icon-57-precomposed.png?v=225f0590e187e1458625654f10a28f56">
  
  

  

  
  <meta name="twitter:card" content="summary">
  <meta name="twitter:title" content="Notebook on nbviewer">
  <meta name="twitter:description" content="Check out this Jupyter notebook!">

  
  <meta name="twitter:domain" content="nbviewer.ipython.org">
  <meta name="twitter:image:src" content="http://ipython.org/ipython-doc/dev/_images/ipynb_icon_128x128.png">

  
    <link href="/static/build/notebook.css?v=70404d2166a8ab8949e8e1cdff07b91f" rel="stylesheet">
  

  

  
    <script src="https://cdnjs.cloudflare.com/ajax/libs/mathjax/2.7.1/MathJax.js?config=TeX-AMS_HTML" type="text/javascript">
    </script>
    <script type="text/javascript">
      init_mathjax = function() {
        if (window.MathJax) {
          // MathJax loaded
          MathJax.Hub.Config({
            TeX: {
              equationNumbers: {
                autoNumber: "AMS",
                useLabelIds: true
              }
            },
            tex2jax: {
              inlineMath: [ ['$','$'], ["\\(","\\)"] ],
              displayMath: [ ['$$','$$'], ["\\[","\\]"] ],
              processEscapes: true,
              processEnvironments: true
            },
            displayAlign: 'center',
            "HTML-CSS": {
              styles: {'.MathJax_Display': {"margin": 0}},
              linebreaks: { automatic: true }
            }
          });
          MathJax.Hub.Queue(["Typeset", MathJax.Hub]);
        }
      }
      init_mathjax();
    </script>
  

  
    <script>
      (function() {
        function addWidgetsRenderer() {
          var mimeElement = document.querySelector('script[type="application/vnd.jupyter.widget-view+json"]');
          var scriptElement = document.createElement('script');
          var widgetRendererSrc = 'https://unpkg.com/@jupyter-widgets/html-manager@*/dist/embed-amd.js';
          var widgetState;

          try {
            widgetState = mimeElement && JSON.parse(mimeElement.innerHTML);

            if (widgetState && (widgetState.version_major < 2 || !widgetState.version_major)) {
              widgetRendererSrc = 'https://unpkg.com/jupyter-js-widgets@*/dist/embed.js';
            }
          } catch(e) {}

          scriptElement.src = widgetRendererSrc;
          document.body.appendChild(scriptElement);
        }

        document.addEventListener('DOMContentLoaded', addWidgetsRenderer);
      }());
    </script>
  

</head>

<body class="nbviewer">

  <!-- These are loaded at the top of the body so they are available to
       notebook cells when they are loaded below. -->
  <script src="/static/components/jquery/dist/jquery.min.js?v=a09e13ee94d51c524b7e2a728c7d4039"></script>
  <script src="/static/components/requirejs/require.js?v=6da8be361b9ee26c5e721e76c6d4afce"></script>
  <script src="/static/components/moment/min/moment.min.js?v=89f87298ad94aa1e6b92f42eb66da043"></script>
<!-- Navbar
================================================== -->
  <nav id="menubar" class="navbar navbar-default navbar-fixed-top" data-spy="affix">
    <div class="container">
      <div class="navbar-header">
        <button type="button" class="navbar-toggle collapsed" data-toggle="collapse" data-target=".navbar-collapse">
          <span class="sr-only">Toggle navigation</span>
          <i class="fa fa-bars"></i>
        </button>
        <a class="navbar-brand" href="/">
          <img src="/static/img/nav_logo.svg?v=479cefe8d932fb14a67b93911b97d70f" width="159"/>
        </a>
      </div>

      <div class="collapse navbar-collapse">
        <ul class="nav navbar-nav navbar-right">
          <li>
            <a class="active" href="http://jupyter.org">JUPYTER</a>
          </li>
          <li>
    <a href="/faq" title="FAQ" >
      
        <span>FAQ</span>
      
    </a>
  </li>

          
  
    
  
    
      
        <li>
    <a href="/format/script/github/phaustin/e582/blob/master/notebooks/datetime_example.ipynb" title="View as Code" >
      <span class="fa fa-code fa-2x menu-icon"></span>
      <span class="menu-text">View as Code</span>
    </a>
  </li>
      
    
  

  
    <li>
    <a href="#" title="Python 3 Kernel" >
      <span class="fa fa-server fa-2x menu-icon"></span>
      <span class="menu-text">Python 3 Kernel</span>
    </a>
  </li>
  

  
    <li>
    <a href="https://github.com/phaustin/e582/blob/master/notebooks/datetime_example.ipynb" title="View on GitHub" >
      <span class="fa fa-github fa-2x menu-icon"></span>
      <span class="menu-text">View on GitHub</span>
    </a>
  </li>
  

  <li>
    <a href="https://raw.githubusercontent.com/phaustin/e582/master/notebooks/datetime_example.ipynb" title="Download Notebook" download>
      <span class="fa fa-download fa-2x menu-icon"></span>
      <span class="menu-text">Download Notebook</span>
    </a>
  </li>

        </ul>
      </div><!-- /.navbar-collapse -->
      
      
    </div>
  </nav>

  <div class="container container-main">
    
  
  <ol class="breadcrumb">
    
      <li>
        <a href="/github/phaustin/e582/tree/master">e582</a>
      </li>
    
      <li>
        <a href="/github/phaustin/e582/tree/master/notebooks">notebooks</a>
      </li>
    
  </ol>
  
  <div id="notebook">
    <div id="notebook-container">
      
<div class="cell border-box-sizing text_cell rendered"><div class="prompt input_prompt">
</div>
<div class="inner_cell">
<div class="text_cell_render border-box-sizing rendered_html">
<h3 id="Read-the-start-and-end-times-for-a-1-day-par-file-and-find-files-1-day-before-and-1-day-after">Read the start and end times for a 1 day par file and find files 1 day before and 1 day after<a class="anchor-link" href="#Read-the-start-and-end-times-for-a-1-day-par-file-and-find-files-1-day-before-and-1-day-after">&#182;</a></h3>
</div>
</div>
</div>
<div class="cell border-box-sizing code_cell rendered">
<div class="input">
<div class="prompt input_prompt">In&nbsp;[1]:</div>
<div class="inner_cell">
    <div class="input_area">
<div class=" highlight hl-ipython3"><pre><span></span><span class="kn">from</span> <span class="nn">netCDF4</span> <span class="k">import</span> <span class="n">Dataset</span>
<span class="kn">from</span> <span class="nn">e582utils.data_read</span> <span class="k">import</span> <span class="n">download</span>
<span class="kn">import</span> <span class="nn">warnings</span>
<span class="n">warnings</span><span class="o">.</span><span class="n">filterwarnings</span><span class="p">(</span><span class="s2">&quot;ignore&quot;</span><span class="p">)</span>
<span class="kn">import</span> <span class="nn">pdir</span>
<span class="kn">import</span> <span class="nn">pytz</span>
<span class="kn">import</span> <span class="nn">dateutil</span> <span class="k">as</span> <span class="nn">du</span>
<span class="kn">import</span> <span class="nn">datetime</span>
<span class="kn">import</span> <span class="nn">json</span>

<span class="n">l3file</span><span class="o">=</span><span class="s1">&#39;A2007008.L3m_DAY_PAR_par_9km.nc&#39;</span>
<span class="n">download</span><span class="p">(</span><span class="n">l3file</span><span class="p">)</span>
</pre></div>

</div>
</div>
</div>

<div class="output_wrapper">
<div class="output">


<div class="output_area">

<div class="prompt"></div>


<div class="output_subarea output_stream output_stdout output_text">
<pre>trying https://clouds.eos.ubc.ca/~phil/courses/atsc301/downloads/A2007008.L3m_DAY_PAR_par_9km.nc
writing to: A2007008.L3m_DAY_PAR_par_9km.nc

A2007008.L3m_DAY_PAR_par_9km.nc already exists
and is 14345758 bytes
will not overwrite

</pre>
</div>
</div>

</div>
</div>

</div>
<div class="cell border-box-sizing text_cell rendered"><div class="prompt input_prompt">
</div>
<div class="inner_cell">
<div class="text_cell_render border-box-sizing rendered_html">
<h3 id="get-the-time-string-from-the-netcdf-attributes">get the time string from the netcdf attributes<a class="anchor-link" href="#get-the-time-string-from-the-netcdf-attributes">&#182;</a></h3>
</div>
</div>
</div>
<div class="cell border-box-sizing code_cell rendered">
<div class="input">
<div class="prompt input_prompt">In&nbsp;[2]:</div>
<div class="inner_cell">
    <div class="input_area">
<div class=" highlight hl-ipython3"><pre><span></span><span class="k">with</span> <span class="n">Dataset</span><span class="p">(</span><span class="n">l3file</span><span class="p">,</span><span class="s1">&#39;r&#39;</span><span class="p">)</span> <span class="k">as</span> <span class="n">ncdat</span><span class="p">:</span>
    <span class="n">start</span><span class="o">=</span><span class="nb">getattr</span><span class="p">(</span><span class="n">ncdat</span><span class="p">,</span><span class="s1">&#39;time_coverage_start&#39;</span><span class="p">)</span>
    <span class="n">end</span><span class="o">=</span><span class="nb">getattr</span><span class="p">(</span><span class="n">ncdat</span><span class="p">,</span><span class="s1">&#39;time_coverage_end&#39;</span><span class="p">)</span> 
    <span class="nb">print</span><span class="p">(</span><span class="s1">&#39;start: </span><span class="si">{}</span><span class="se">\n</span><span class="s1">end: </span><span class="si">{}</span><span class="s1">&#39;</span><span class="o">.</span><span class="n">format</span><span class="p">(</span><span class="n">start</span><span class="p">,</span><span class="n">end</span><span class="p">))</span>
</pre></div>

</div>
</div>
</div>

<div class="output_wrapper">
<div class="output">


<div class="output_area">

<div class="prompt"></div>


<div class="output_subarea output_stream output_stdout output_text">
<pre>start: 2007-01-07T23:15:08.000Z
end: 2007-01-09T02:30:06.000Z
</pre>
</div>
</div>

</div>
</div>

</div>
<div class="cell border-box-sizing text_cell rendered"><div class="prompt input_prompt">
</div>
<div class="inner_cell">
<div class="text_cell_render border-box-sizing rendered_html">
<h3 id="convert-strings-to-datetime-objects-and-find-the-middle-of-the-period">convert strings to datetime objects and find the middle of the period<a class="anchor-link" href="#convert-strings-to-datetime-objects-and-find-the-middle-of-the-period">&#182;</a></h3>
</div>
</div>
</div>
<div class="cell border-box-sizing code_cell rendered">
<div class="input">
<div class="prompt input_prompt">In&nbsp;[3]:</div>
<div class="inner_cell">
    <div class="input_area">
<div class=" highlight hl-ipython3"><pre><span></span><span class="n">start_dt</span><span class="o">=</span><span class="n">du</span><span class="o">.</span><span class="n">parser</span><span class="o">.</span><span class="n">parse</span><span class="p">(</span><span class="n">start</span><span class="p">)</span>
<span class="n">end_dt</span><span class="o">=</span><span class="n">du</span><span class="o">.</span><span class="n">parser</span><span class="o">.</span><span class="n">parse</span><span class="p">(</span><span class="n">end</span><span class="p">)</span>
<span class="n">interval</span><span class="o">=</span><span class="n">end_dt</span> <span class="o">-</span> <span class="n">start_dt</span>
<span class="n">mid_dt</span><span class="o">=</span><span class="n">start_dt</span> <span class="o">+</span> <span class="n">interval</span><span class="o">/</span><span class="mf">2.</span>
<span class="c1">#</span>
<span class="c1">#  remove the hours and minutes, leaving the day</span>
<span class="c1">#</span>
<span class="n">mid_dt</span> <span class="o">=</span> <span class="n">datetime</span><span class="o">.</span><span class="n">datetime</span><span class="p">(</span><span class="n">mid_dt</span><span class="o">.</span><span class="n">year</span><span class="p">,</span><span class="n">mid_dt</span><span class="o">.</span><span class="n">month</span><span class="p">,</span><span class="n">mid_dt</span><span class="o">.</span><span class="n">day</span><span class="p">,</span><span class="n">tzinfo</span><span class="o">=</span><span class="n">pytz</span><span class="o">.</span><span class="n">utc</span><span class="p">)</span>
<span class="c1">#</span>
<span class="c1"># make a 1 day timedelta and subtract and add to get before and after</span>
<span class="c1">#</span>
<span class="n">one_day</span><span class="o">=</span><span class="n">datetime</span><span class="o">.</span><span class="n">timedelta</span><span class="p">(</span><span class="n">days</span><span class="o">=</span><span class="mi">1</span><span class="p">)</span>
<span class="n">before</span> <span class="o">=</span> <span class="n">mid_dt</span> <span class="o">-</span> <span class="n">one_day</span>
<span class="n">after</span> <span class="o">=</span> <span class="n">mid_dt</span> <span class="o">+</span> <span class="n">one_day</span>
</pre></div>

</div>
</div>
</div>

</div>
<div class="cell border-box-sizing text_cell rendered"><div class="prompt input_prompt">
</div>
<div class="inner_cell">
<div class="text_cell_render border-box-sizing rendered_html">
<h3 id="write-functions-to-get-day-of-year-from-datetime,-and-make-url">write functions to get day of year from datetime, and make url<a class="anchor-link" href="#write-functions-to-get-day-of-year-from-datetime,-and-make-url">&#182;</a></h3>
</div>
</div>
</div>
<div class="cell border-box-sizing code_cell rendered">
<div class="input">
<div class="prompt input_prompt">In&nbsp;[4]:</div>
<div class="inner_cell">
    <div class="input_area">
<div class=" highlight hl-ipython3"><pre><span></span><span class="k">def</span> <span class="nf">day_of_year</span><span class="p">(</span><span class="n">the_dt</span><span class="p">):</span>
    <span class="n">year</span><span class="p">,</span><span class="n">month</span><span class="p">,</span><span class="n">day</span><span class="o">=</span><span class="n">the_dt</span><span class="o">.</span><span class="n">year</span><span class="p">,</span><span class="n">the_dt</span><span class="o">.</span><span class="n">month</span><span class="p">,</span><span class="n">the_dt</span><span class="o">.</span><span class="n">day</span>
    <span class="n">start_of_year</span><span class="o">=</span><span class="n">datetime</span><span class="o">.</span><span class="n">datetime</span><span class="p">(</span><span class="n">year</span><span class="o">-</span><span class="mi">1</span><span class="p">,</span><span class="mi">12</span><span class="p">,</span><span class="mi">31</span><span class="p">,</span><span class="n">tzinfo</span><span class="o">=</span><span class="n">pytz</span><span class="o">.</span><span class="n">utc</span><span class="p">)</span>
    <span class="n">days</span><span class="o">=</span><span class="p">(</span><span class="n">the_dt</span> <span class="o">-</span> <span class="n">start_of_year</span><span class="p">)</span><span class="o">.</span><span class="n">days</span>
    <span class="k">return</span><span class="p">(</span><span class="n">year</span><span class="p">,</span><span class="n">days</span><span class="p">)</span>

<span class="k">def</span> <span class="nf">make_url</span><span class="p">(</span><span class="n">satellite</span><span class="p">,</span><span class="n">year</span><span class="p">,</span><span class="n">julian_day</span><span class="p">):</span>
    <span class="n">url_file</span><span class="o">=</span><span class="s1">&#39;</span><span class="si">{}{}{:0&gt;3}</span><span class="s1">.L3m_DAY_PAR_par_4km.nc&#39;</span><span class="o">.</span><span class="n">format</span><span class="p">(</span><span class="n">satellite</span><span class="p">,</span><span class="n">year</span><span class="p">,</span><span class="n">julian_day</span><span class="p">)</span>
    <span class="k">return</span> <span class="n">url_file</span>

<span class="n">day_before</span><span class="p">,</span><span class="n">day_mid</span><span class="p">,</span><span class="n">day_after</span><span class="o">=</span><span class="n">day_of_year</span><span class="p">(</span><span class="n">before</span><span class="p">),</span><span class="n">day_of_year</span><span class="p">(</span><span class="n">mid_dt</span><span class="p">),</span><span class="n">day_of_year</span><span class="p">(</span><span class="n">after</span><span class="p">)</span>
<span class="nb">print</span><span class="p">(</span><span class="n">make_url</span><span class="p">(</span><span class="s1">&#39;A&#39;</span><span class="p">,</span><span class="o">*</span><span class="n">day_before</span><span class="p">))</span>
<span class="nb">print</span><span class="p">(</span><span class="n">make_url</span><span class="p">(</span><span class="s1">&#39;A&#39;</span><span class="p">,</span><span class="o">*</span><span class="n">day_after</span><span class="p">))</span>
</pre></div>

</div>
</div>
</div>

<div class="output_wrapper">
<div class="output">


<div class="output_area">

<div class="prompt"></div>


<div class="output_subarea output_stream output_stdout output_text">
<pre>A2007007.L3m_DAY_PAR_par_4km.nc
A2007009.L3m_DAY_PAR_par_4km.nc
</pre>
</div>
</div>

</div>
</div>

</div>
<div class="cell border-box-sizing text_cell rendered"><div class="prompt input_prompt">
</div>
<div class="inner_cell">
<div class="text_cell_render border-box-sizing rendered_html">
<h3 id="storing-the-bad-days">storing the bad days<a class="anchor-link" href="#storing-the-bad-days">&#182;</a></h3><p>suppose you have two sites 'baja' and 'barb'  (barbados) with missing days</p>
<p>keep the year,day,site tuples in a list and save the list to a json file</p>

</div>
</div>
</div>
<div class="cell border-box-sizing code_cell rendered">
<div class="input">
<div class="prompt input_prompt">In&nbsp;[5]:</div>
<div class="inner_cell">
    <div class="input_area">
<div class=" highlight hl-ipython3"><pre><span></span><span class="n">bad_list</span><span class="o">=</span><span class="p">[(</span><span class="mi">2007</span><span class="p">,</span><span class="mi">235</span><span class="p">,</span><span class="s1">&#39;baja&#39;</span><span class="p">),(</span><span class="mi">2007</span><span class="p">,</span><span class="mi">235</span><span class="p">,</span><span class="s1">&#39;barb&#39;</span><span class="p">)]</span>
<span class="n">filename</span><span class="o">=</span><span class="s1">&#39;bad_days.json&#39;</span>
<span class="k">with</span> <span class="nb">open</span><span class="p">(</span><span class="n">filename</span><span class="p">,</span><span class="s1">&#39;w&#39;</span><span class="p">)</span> <span class="k">as</span> <span class="n">out</span><span class="p">:</span>
    <span class="n">json</span><span class="o">.</span><span class="n">dump</span><span class="p">(</span><span class="n">bad_list</span><span class="p">,</span><span class="n">out</span><span class="p">,</span><span class="n">indent</span><span class="o">=</span><span class="mi">4</span><span class="p">)</span>
</pre></div>

</div>
</div>
</div>

</div>
<div class="cell border-box-sizing text_cell rendered"><div class="prompt input_prompt">
</div>
<div class="inner_cell">
<div class="text_cell_render border-box-sizing rendered_html">
<h3 id="here-is-what-the-file-looks-like">here is what the file looks like<a class="anchor-link" href="#here-is-what-the-file-looks-like">&#182;</a></h3>
</div>
</div>
</div>
<div class="cell border-box-sizing code_cell rendered">
<div class="input">
<div class="prompt input_prompt">In&nbsp;[6]:</div>
<div class="inner_cell">
    <div class="input_area">
<div class=" highlight hl-ipython3"><pre><span></span><span class="c1"># %load bad_days.json</span>
<span class="p">[</span>
    <span class="p">[</span>
        <span class="mi">2007</span><span class="p">,</span>
        <span class="mi">235</span><span class="p">,</span>
        <span class="s2">&quot;baja&quot;</span>
    <span class="p">],</span>
    <span class="p">[</span>
        <span class="mi">2007</span><span class="p">,</span>
        <span class="mi">235</span><span class="p">,</span>
        <span class="s2">&quot;barb&quot;</span>
    <span class="p">]</span>
<span class="p">]</span>
</pre></div>

</div>
</div>
</div>

<div class="output_wrapper">
<div class="output">


<div class="output_area">

<div class="prompt output_prompt">Out[6]:</div>




<div class="output_text output_subarea output_execute_result">
<pre>[[2007, 235, &#39;baja&#39;], [2007, 235, &#39;barb&#39;]]</pre>
</div>

</div>

</div>
</div>

</div>
<div class="cell border-box-sizing text_cell rendered"><div class="prompt input_prompt">
</div>
<div class="inner_cell">
<div class="text_cell_render border-box-sizing rendered_html">
<h3 id="read-it-back-in">read it back in<a class="anchor-link" href="#read-it-back-in">&#182;</a></h3>
</div>
</div>
</div>
<div class="cell border-box-sizing code_cell rendered">
<div class="input">
<div class="prompt input_prompt">In&nbsp;[7]:</div>
<div class="inner_cell">
    <div class="input_area">
<div class=" highlight hl-ipython3"><pre><span></span><span class="k">with</span> <span class="nb">open</span><span class="p">(</span><span class="n">filename</span><span class="p">,</span><span class="s1">&#39;r&#39;</span><span class="p">)</span> <span class="k">as</span> <span class="n">infile</span><span class="p">:</span>
    <span class="n">bad_list</span><span class="o">=</span><span class="n">json</span><span class="o">.</span><span class="n">load</span><span class="p">(</span><span class="n">infile</span><span class="p">)</span>
<span class="nb">print</span><span class="p">(</span><span class="n">bad_list</span><span class="p">)</span>
</pre></div>

</div>
</div>
</div>

<div class="output_wrapper">
<div class="output">


<div class="output_area">

<div class="prompt"></div>


<div class="output_subarea output_stream output_stdout output_text">
<pre>[[2007, 235, &#39;baja&#39;], [2007, 235, &#39;barb&#39;]]
</pre>
</div>
</div>

</div>
</div>

</div>
 


    </div>
  </div>

  </div>


  
    <footer class="footer hidden-print">
      <div class="container">
        <div class="col-md-4">
          <p>
            This website does not host notebooks, it only renders notebooks
            available on other websites.
          </p>
        </div>

        <div class="col-md-4">
          <p>
            Delivered by <a href="http://www.fastly.com/">Fastly</a>,
            Rendered by <a href="https://developer.rackspace.com/?nbviewer=awesome">Rackspace</a>
          </p>
          <p>
            nbviewer GitHub <a href="https://github.com/jupyter/nbviewer">repository</a>.
          </p>
        </div>

        <div class="col-md-4">
          
  
            
              <p>
                nbviewer version:
                <a href="https://github.com/jupyter/nbviewer/commit/38e181afeec4b7527a8a13ef7c3814e36045244c">
                  38e181a
                </a>
              </p>
            
          
  
  <p>
    nbconvert version: <a href="https://github.com/jupyter/nbconvert/releases/tag/5.3.1">
      5.3.1
    </a>
  </p>
  

          
  
  
  <p>
    Rendered
    <span class='date' data-date='Fri, 11 May 2018 09:00:44 UTC' title='Fri, 11 May 2018 09:00:44 UTC'>(Fri, 11 May 2018 09:00:44 UTC)</span>
  </p>
  

        </div>
      </div>
    </footer>
  

  <script src="/static/components/bootstrap/js/bootstrap.min.js?v=5869c96cc8f19086aee625d670d741f9"></script>
  <script src="/static/components/headroom.js/dist/headroom.min.js?v=b0a311ea668f8e768ea375f4a7abb81c"></script>
  <script src="/static/components/headroom.js/dist/jQuery.headroom.min.js?v=f3a1bae118315d0c234afc74dc6aab71"></script>

  
  
  <script>
    $(function(){ $("#menubar").headroom({
      tolerance: 5,
      offset: 205,
      classes: {
        initial: "animated",
        pinned: "slideInDown",
        unpinned: "slideOutUp"
      }
    })});
  </script>


  
  <script>
    (function(i,s,o,g,r,a,m){i['GoogleAnalyticsObject']=r;i[r]=i[r]||function(){
      (i[r].q=i[r].q||[]).push(arguments)},i[r].l=1*new Date();a=s.createElement(o),
      m=s.getElementsByTagName(o)[0];a.async=1;a.src=g;m.parentNode.insertBefore(a,m)
    })(window,document,'script','https://www.google-analytics.com/analytics.js','ga');
    ga('create', 'UA-52617120-5', 'auto',
       {'storage': 'none'});
    ga('set', 'anonymizeIp', true);
    ga('send', 'pageview');
  </script>
  
  <script>
    require({
        paths: {
          moment: "/static/components/moment/min/moment.min.js?v=89f87298ad94aa1e6b92f42eb66da043"
        }
      }, ["moment"], function(moment){
      var date = $("footer .date"),
        m = moment(new Date(date.data('date'))),
        update = function(){ date.text(m.fromNow()); };
      setInterval(update, 61*1000);
      update();
      var w = $(window).scroll(function(event){
        $("body").toggleClass("scrolled", w.scrollTop() > 0);
      });
    });
  </script>

  <!--NEW RELIC Stop Perf Measurement-->
  
  <!--NEW RELIC End-->
</body>
</html>