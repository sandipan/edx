








<!DOCTYPE html>
<html lang="en">

<head>
  <meta charset="utf-8">
  <title>Jupyter Notebook Viewer</title>
  <meta name="viewport" content="width=device-width, initial-scale=1.0">
  <meta name="description" content="">
  <meta name="author" content="">
  
  <meta name="robots" content="noindex,nofollow">
  

  <!--NEW RELIC Start Perf Measurement-->
  
  <!--NREND-->

  <!-- Le styles -->
  <script src="/cdn-cgi/apps/head/MuIIl4I_IVFkxldaVu1mdWee9as.js"></script><link href="/static/build/styles.css?v=af7ff69ae1abb8954a21dbb2241d4e24" rel="stylesheet">

  <!-- Le HTML5 shim, for IE6-8 support of HTML5 elements -->
  <!--[if lt IE 9]>
    <script src="http://html5shim.googlecode.com/svn/trunk/html5.js"></script>
  <![endif]-->

  <!-- Le fav and touch icons -->
  <link rel="shortcut icon" href="/static/ico/ipynb_icon_16x16.png">
  <link rel="apple-touch-icon-precomposed" sizes="144x144"
        href="/static/ico/apple-touch-icon-144-precomposed.png?v=5a3c9ede93e2a8b8ea9e3f8f3da1a905">
  <link rel="apple-touch-icon-precomposed" sizes="114x114"
        href="/static/ico/apple-touch-icon-114-precomposed.png?v=45d86fc8f24dc00638035e1dd7a6d898">
  <link rel="apple-touch-icon-precomposed" sizes="72x72"
        href="/static/ico/apple-touch-icon-72-precomposed.png?v=540b5eb0f3cfd25f1439d1c9bd30e15f">
  <link rel="apple-touch-icon-precomposed"
        href="/static/ico/apple-touch-icon-57-precomposed.png?v=225f0590e187e1458625654f10a28f56">
  
  

  

  
  <meta name="twitter:card" content="summary">
  <meta name="twitter:title" content="Notebook on nbviewer">
  <meta name="twitter:description" content="Check out this Jupyter notebook!">

  
  <meta name="twitter:domain" content="nbviewer.ipython.org">
  <meta name="twitter:image:src" content="http://ipython.org/ipython-doc/dev/_images/ipynb_icon_128x128.png">

  
    <link href="/static/build/notebook.css?v=70404d2166a8ab8949e8e1cdff07b91f" rel="stylesheet">
  

  

  
    <script src="https://cdnjs.cloudflare.com/ajax/libs/mathjax/2.7.1/MathJax.js?config=TeX-AMS_HTML" type="text/javascript">
    </script>
    <script type="text/javascript">
      init_mathjax = function() {
        if (window.MathJax) {
          // MathJax loaded
          MathJax.Hub.Config({
            TeX: {
              equationNumbers: {
                autoNumber: "AMS",
                useLabelIds: true
              }
            },
            tex2jax: {
              inlineMath: [ ['$','$'], ["\\(","\\)"] ],
              displayMath: [ ['$$','$$'], ["\\[","\\]"] ],
              processEscapes: true,
              processEnvironments: true
            },
            displayAlign: 'center',
            "HTML-CSS": {
              styles: {'.MathJax_Display': {"margin": 0}},
              linebreaks: { automatic: true }
            }
          });
          MathJax.Hub.Queue(["Typeset", MathJax.Hub]);
        }
      }
      init_mathjax();
    </script>
  

  
    <script>
      (function() {
        function addWidgetsRenderer() {
          var mimeElement = document.querySelector('script[type="application/vnd.jupyter.widget-view+json"]');
          var scriptElement = document.createElement('script');
          var widgetRendererSrc = 'https://unpkg.com/@jupyter-widgets/html-manager@*/dist/embed-amd.js';
          var widgetState;

          try {
            widgetState = mimeElement && JSON.parse(mimeElement.innerHTML);

            if (widgetState && (widgetState.version_major < 2 || !widgetState.version_major)) {
              widgetRendererSrc = 'https://unpkg.com/jupyter-js-widgets@*/dist/embed.js';
            }
          } catch(e) {}

          scriptElement.src = widgetRendererSrc;
          document.body.appendChild(scriptElement);
        }

        document.addEventListener('DOMContentLoaded', addWidgetsRenderer);
      }());
    </script>
  

</head>

<body class="nbviewer">

  <!-- These are loaded at the top of the body so they are available to
       notebook cells when they are loaded below. -->
  <script src="/static/components/jquery/dist/jquery.min.js?v=a09e13ee94d51c524b7e2a728c7d4039"></script>
  <script src="/static/components/requirejs/require.js?v=6da8be361b9ee26c5e721e76c6d4afce"></script>
  <script src="/static/components/moment/min/moment.min.js?v=89f87298ad94aa1e6b92f42eb66da043"></script>
<!-- Navbar
================================================== -->
  <nav id="menubar" class="navbar navbar-default navbar-fixed-top" data-spy="affix">
    <div class="container">
      <div class="navbar-header">
        <button type="button" class="navbar-toggle collapsed" data-toggle="collapse" data-target=".navbar-collapse">
          <span class="sr-only">Toggle navigation</span>
          <i class="fa fa-bars"></i>
        </button>
        <a class="navbar-brand" href="/">
          <img src="/static/img/nav_logo.svg?v=479cefe8d932fb14a67b93911b97d70f" width="159"/>
        </a>
      </div>

      <div class="collapse navbar-collapse">
        <ul class="nav navbar-nav navbar-right">
          <li>
            <a class="active" href="http://jupyter.org">JUPYTER</a>
          </li>
          <li>
    <a href="/faq" title="FAQ" >
      
        <span>FAQ</span>
      
    </a>
  </li>

          
  
    
  
    
      
        <li>
    <a href="/format/script/github/phaustin/e582/blob/master/notebooks/calc_chlor.ipynb" title="View as Code" >
      <span class="fa fa-code fa-2x menu-icon"></span>
      <span class="menu-text">View as Code</span>
    </a>
  </li>
      
    
  

  
    <li>
    <a href="#" title="Python 3 Kernel" >
      <span class="fa fa-server fa-2x menu-icon"></span>
      <span class="menu-text">Python 3 Kernel</span>
    </a>
  </li>
  

  
    <li>
    <a href="https://github.com/phaustin/e582/blob/master/notebooks/calc_chlor.ipynb" title="View on GitHub" >
      <span class="fa fa-github fa-2x menu-icon"></span>
      <span class="menu-text">View on GitHub</span>
    </a>
  </li>
  

  <li>
    <a href="https://raw.githubusercontent.com/phaustin/e582/master/notebooks/calc_chlor.ipynb" title="Download Notebook" download>
      <span class="fa fa-download fa-2x menu-icon"></span>
      <span class="menu-text">Download Notebook</span>
    </a>
  </li>

        </ul>
      </div><!-- /.navbar-collapse -->
      
      
    </div>
  </nav>

  <div class="container container-main">
    
  
  <ol class="breadcrumb">
    
      <li>
        <a href="/github/phaustin/e582/tree/master">e582</a>
      </li>
    
      <li>
        <a href="/github/phaustin/e582/tree/master/notebooks">notebooks</a>
      </li>
    
  </ol>
  
  <div id="notebook">
    <div id="notebook-container">
      
<div class="cell border-box-sizing text_cell rendered"><div class="prompt input_prompt">
</div>
<div class="inner_cell">
<div class="text_cell_render border-box-sizing rendered_html">
<h3 id="Calculate-mean-and-variance-of-monthly-chlorophyll-data-from-the-Ocean-Color-repository">Calculate mean and variance of monthly chlorophyll data from the Ocean Color repository<a class="anchor-link" href="#Calculate-mean-and-variance-of-monthly-chlorophyll-data-from-the-Ocean-Color-repository">&#182;</a></h3><h4 id="Resources">Resources<a class="anchor-link" href="#Resources">&#182;</a></h4><p><a href="https://oceancolor.gsfc.nasa.gov/about">NASA Ocean Biology Processing Group</a></p>
<p><a href="https://oceancolor.gsfc.nasa.gov/docs/format/Ocean_Level-3_Binned_Data_Products.pdf">https://oceancolor.gsfc.nasa.gov/docs/format/Ocean_Level-3_Binned_Data_Products.pdf</a></p>
<p><a href="http://www.oceanopticsbook.info/view/absorption/physics_of_absorption">Ocean color web site</a></p>

</div>
</div>
</div>
<div class="cell border-box-sizing text_cell rendered"><div class="prompt input_prompt">
</div>
<div class="inner_cell">
<div class="text_cell_render border-box-sizing rendered_html">
<h4 id="Write-the-bin-number,-mean-and-variance-out-as-a-dataframe">Write the bin number, mean and variance out as a dataframe<a class="anchor-link" href="#Write-the-bin-number,-mean-and-variance-out-as-a-dataframe">&#182;</a></h4><p>This notebook reads in data vectors from the level3 binned chlorophyll-A file, which gives  monthly averaged 
chlorophyll concentrations at 4km resolution for the month of June, 2010.  It writes the bin number, mean and variance out as three columns in a Pandas DataFrame</p>
<p>For a brief intro to dataframes see <a href="http://nbviewer.jupyter.org/github/jakevdp/PythonDataScienceHandbook/blob/master/notebooks/03.01-Introducing-Pandas-Objects.ipynb">Pandas DataFrames -- chapter 3</a>.</p>
<p>For more information two good books are:</p>
<p><a href="http://shop.oreilly.com/product/0636920034919.do">The Python Data Science Handbook</a></p>
<p>and</p>
<p><a href="http://shop.oreilly.com/product/0636920023784.do">Python for Data Analysis</a></p>

</div>
</div>
</div>
<div class="cell border-box-sizing code_cell rendered">
<div class="input">
<div class="prompt input_prompt">In&nbsp;[1]:</div>
<div class="inner_cell">
    <div class="input_area">
<div class=" highlight hl-ipython3"><pre><span></span><span class="kn">from</span> <span class="nn">e582utils.data_read</span> <span class="k">import</span> <span class="n">download</span>
<span class="kn">from</span> <span class="nn">contexttimer</span> <span class="k">import</span> <span class="n">Timer</span>
<span class="kn">import</span> <span class="nn">h5py</span>
<span class="kn">import</span> <span class="nn">pandas</span> <span class="k">as</span> <span class="nn">pd</span>
<span class="kn">import</span> <span class="nn">datetime</span> <span class="k">as</span> <span class="nn">dt</span>
<span class="kn">import</span> <span class="nn">numpy</span> <span class="k">as</span> <span class="nn">np</span>
<span class="kn">import</span> <span class="nn">time</span>

<span class="n">chlor_file</span><span class="o">=</span><span class="s1">&#39;A20101522010181.L3b_MO_CHL.h5&#39;</span>
<span class="n">download</span><span class="p">(</span><span class="n">chlor_file</span><span class="p">)</span>
</pre></div>

</div>
</div>
</div>

<div class="output_wrapper">
<div class="output">


<div class="output_area">

<div class="prompt"></div>


<div class="output_subarea output_stream output_stdout output_text">
<pre>A20101522010181.L3b_MO_CHL.h5 already exists
and is 307569656 bytes
will not overwrite

</pre>
</div>
</div>

</div>
</div>

</div>
<div class="cell border-box-sizing text_cell rendered"><div class="prompt input_prompt">
</div>
<div class="inner_cell">
<div class="text_cell_render border-box-sizing rendered_html">
<h3 id="dump-the-monthly-level3-binned-chlorophyll-metadata">dump the monthly level3 binned chlorophyll metadata<a class="anchor-link" href="#dump-the-monthly-level3-binned-chlorophyll-metadata">&#182;</a></h3>
</div>
</div>
</div>
<div class="cell border-box-sizing code_cell rendered">
<div class="input">
<div class="prompt input_prompt">In&nbsp;[2]:</div>
<div class="inner_cell">
    <div class="input_area">
<div class=" highlight hl-ipython3"><pre><span></span><span class="kn">from</span> <span class="nn">e582utils.h5dump</span> <span class="k">import</span> <span class="n">dumph5</span>
<span class="n">outstring</span><span class="o">=</span><span class="n">dumph5</span><span class="p">(</span><span class="n">chlor_file</span><span class="p">)</span>
<span class="nb">print</span><span class="p">(</span><span class="n">outstring</span><span class="p">)</span>
</pre></div>

</div>
</div>
</div>

<div class="output_wrapper">
<div class="output">


<div class="output_area">

<div class="prompt"></div>


<div class="output_subarea output_stream output_stdout output_text">
<pre>++++++++++++++++++++
found the following top-level items: 
Level-3 Binned Data: &lt;HDF5 group &#34;/Level-3 Binned Data&#34; (8 members)&gt;
++++++++++++++++++++
_______________
root group object &lt;HDF5 group &#34;/Level-3 Binned Data&#34; (8 members)&gt;
_______________
    HDF4_OBJECT_TYPE: b&#39;Vgroup&#39;
    HDF4_OBJECT_NAME: b&#39;Level-3 Binned Data&#39;
    HDF4_REF_NUM: 2
member of group: /Level-3 Binned Data: &lt;HDF5 dataset &#34;BinIndex&#34;: shape (4320,), type &#34;|V36&#34;&gt;
    TITLE: b&#39;BinIndex&#39;
    CLASS: b&#39;TABLE&#39;
    VERSION: b&#39;1.0&#39;
    FIELD_0_NAME: b&#39;row_num&#39;
    FIELD_1_NAME: b&#39;vsize&#39;
    FIELD_2_NAME: b&#39;hsize&#39;
    FIELD_3_NAME: b&#39;start_num&#39;
    FIELD_4_NAME: b&#39;begin&#39;
    FIELD_5_NAME: b&#39;extent&#39;
    FIELD_6_NAME: b&#39;max&#39;
    HDF4_OBJECT_TYPE: b&#39;Vdata&#39;
    HDF4_OBJECT_NAME: b&#39;BinIndex&#39;
    HDF4_REF_NUM: 13295
member of group: /Level-3 Binned Data: &lt;HDF5 named type &#34;BinIndex_t&#34; (dtype |V36)&gt;
member of group: /Level-3 Binned Data: &lt;HDF5 dataset &#34;BinList&#34;: shape (11384896,), type &#34;|V19&#34;&gt;
    TITLE: b&#39;BinList&#39;
    CLASS: b&#39;TABLE&#39;
    VERSION: b&#39;1.0&#39;
    FIELD_0_NAME: b&#39;bin_num&#39;
    FIELD_1_NAME: b&#39;nobs&#39;
    FIELD_2_NAME: b&#39;nscenes&#39;
    FIELD_3_NAME: b&#39;time_rec&#39;
    FIELD_4_NAME: b&#39;weights&#39;
    FIELD_5_NAME: b&#39;sel_cat&#39;
    FIELD_6_NAME: b&#39;flags_set&#39;
    HDF4_OBJECT_TYPE: b&#39;Vdata&#39;
    HDF4_OBJECT_NAME: b&#39;BinList&#39;
    HDF4_REF_NUM: 4
member of group: /Level-3 Binned Data: &lt;HDF5 named type &#34;BinList_t&#34; (dtype |V19)&gt;
member of group: /Level-3 Binned Data: &lt;HDF5 dataset &#34;SEAGrid&#34;: shape (1,), type &#34;|V44&#34;&gt;
    TITLE: b&#39;SEAGrid&#39;
    CLASS: b&#39;TABLE&#39;
    VERSION: b&#39;1.0&#39;
    FIELD_0_NAME: b&#39;registration&#39;
    FIELD_1_NAME: b&#39;straddle&#39;
    FIELD_2_NAME: b&#39;bins&#39;
    FIELD_3_NAME: b&#39;radius&#39;
    FIELD_4_NAME: b&#39;max_north&#39;
    FIELD_5_NAME: b&#39;max_south&#39;
    FIELD_6_NAME: b&#39;seam_lon&#39;
    HDF4_OBJECT_TYPE: b&#39;Vdata&#39;
    HDF4_OBJECT_NAME: b&#39;SEAGrid&#39;
    HDF4_REF_NUM: 3
member of group: /Level-3 Binned Data: &lt;HDF5 named type &#34;SEAGrid_t&#34; (dtype |V44)&gt;
member of group: /Level-3 Binned Data: &lt;HDF5 dataset &#34;chlor_a&#34;: shape (11384896,), type &#34;|V8&#34;&gt;
    TITLE: b&#39;chlor_a&#39;
    CLASS: b&#39;TABLE&#39;
    FIELD_0_NAME: b&#39;chlor_a_sum&#39;
    FIELD_1_NAME: b&#39;chlor_a_sum_sq&#39;
    HDF4_OBJECT_TYPE: b&#39;Vdata&#39;
    HDF4_OBJECT_NAME: b&#39;chlor_a&#39;
    HDF4_REF_NUM: 5
    VERSION: b&#39;1.0&#39;
member of group: /Level-3 Binned Data: &lt;HDF5 named type &#34;chlor_a_t&#34; (dtype |V8)&gt;
-------------------
attributes for the root file
-------------------
attribute name:  Product Name_GLOSDS --- value:  b&#39;A20101522010181.L3b_MO_CHL.main&#39;
attribute name:  Title_GLOSDS --- value:  b&#39;HMODISA Level-3 Binned Data&#39;
attribute name:  Sensor Name_GLOSDS --- value:  b&#39;HMODISA&#39;
attribute name:  Mission_GLOSDS --- value:  b&#39;&#39;
attribute name:  Mission Characteristics_GLOSDS --- value:  b&#39;&#39;
attribute name:  Sensor_GLOSDS --- value:  b&#39;&#39;
attribute name:  Sensor Characteristics_GLOSDS --- value:  b&#39;&#39;
attribute name:  Product Type_GLOSDS --- value:  b&#39;other&#39;
attribute name:  Processing Version_GLOSDS --- value:  b&#39;2012.0&#39;
attribute name:  Software Name_GLOSDS --- value:  b&#39;L3BIN&#39;
attribute name:  Software Version_GLOSDS --- value:  b&#39;3.41&#39;
attribute name:  Orbit_GLOSDS --- value:  43175
attribute name:  Start Orbit_GLOSDS --- value:  42956
attribute name:  End Orbit_GLOSDS --- value:  43395
attribute name:  Processing Time_GLOSDS --- value:  b&#39;2012131024617000&#39;
attribute name:  Processing Control_GLOSDS --- value:  b&#39;l3bin par=A20101522010181.L3b_MO_CHL.param&#39;
attribute name:  Input Parameters_GLOSDS --- value:  b&#39;INFILE = /data2/sdpsoper/vdc/vpu1/workbuf/l3inlist.dat|OFILE = A20101522010181.L3b_MO_CHL.main|PFILE = A20101522010181.L3b_MO_CHL.main|SYEAR = 2010|EYEAR = 2010|SDAY = 152|EDAY = 181|SORBIT = -1|EORBIT = -1|OUT_PARM = DEFAULT|TFLAG = O|PROCESSING VERSION = 2012.0|REDUCE_FAC = 1|MERGED = |LONEAST = 180.000000|LONWEST = -180.000000|LATNORTH = 90.000000|LATSOUTH = -90.000000|VERBOSE = 0|UNIT_WGT = 0|MEDIAN = 0|&#39;
attribute name:  Input Files_GLOSDS --- value:  b&#39;/data2/sdpsoper/vdc/vpu1/workbuf/A20101532010160.L3b_8D_CHL.main,/data2/sdpsoper/vdc/vpu1/workbuf/A20101612010168.L3b_8D_CHL.main,/data2/sdpsoper/vdc/vpu1/workbuf/A20101692010176.L3b_8D_CHL.main,/data2/sdpsoper/vdc/vpu1/workbuf/A2010152.L3b_DAY_CHL.main,/data2/sdpsoper/vdc/vpu1/workbuf/A2010177.L3b_DAY_CHL.main,/data2/sdpsoper/vdc/vpu1/workbuf/A2010178.L3b_DAY_CHL.main,/data2/sdpsoper/vdc/vpu1/workbuf/A2010179.L3b_DAY_CHL.main,/data2/sdpsoper/vdc/vpu1/workbuf/A2010180.L3b_DAY_CHL.main,/data2/sdpsoper/vdc/vpu1/workbuf/A2010181.L3b_DAY_CHL.main&#39;
attribute name:  L2 Flag Names_GLOSDS --- value:  b&#39;ATMFAIL,LAND,HILT,HISATZEN,STRAYLIGHT,CLDICE,COCCOLITH,LOWLW,CHLWARN,CHLFAIL,NAVWARN,MAXAERITER,ATMWARN,HISOLZEN,NAVFAIL,FILTER,HIGLINT&#39;
attribute name:  Period Start Year_GLOSDS --- value:  2010
attribute name:  Period Start Day_GLOSDS --- value:  152
attribute name:  Period End Year_GLOSDS --- value:  2010
attribute name:  Period End Day_GLOSDS --- value:  181
attribute name:  Start Time_GLOSDS --- value:  b&#39;2010152004008543&#39;
attribute name:  End Time_GLOSDS --- value:  b&#39;2010153022006350&#39;
attribute name:  Start Year_GLOSDS --- value:  2010
attribute name:  Start Day_GLOSDS --- value:  152
attribute name:  Start Millisec_GLOSDS --- value:  2408543
attribute name:  End Year_GLOSDS --- value:  2010
attribute name:  End Day_GLOSDS --- value:  182
attribute name:  End Millisec_GLOSDS --- value:  10807133
attribute name:  Latitude Units_GLOSDS --- value:  b&#39;degrees North&#39;
attribute name:  Longitude Units_GLOSDS --- value:  b&#39;degrees East&#39;
attribute name:  Northernmost Latitude_GLOSDS --- value:  82.3125
attribute name:  Southernmost Latitude_GLOSDS --- value:  -45.3542
attribute name:  Easternmost Longitude_GLOSDS --- value:  179.979
attribute name:  Westernmost Longitude_GLOSDS --- value:  -179.979
attribute name:  Data Bins_GLOSDS --- value:  11384896
attribute name:  Percent Data Bins_GLOSDS --- value:  47.9128
attribute name:  Units_GLOSDS --- value:  b&#39;chlor_a:mg m^-3&#39;
attribute name:  Bin Resolution_GLOSDS --- value:  b&#39;4 km&#39;

</pre>
</div>
</div>

</div>
</div>

</div>
<div class="cell border-box-sizing text_cell rendered"><div class="prompt input_prompt">
</div>
<div class="inner_cell">
<div class="text_cell_render border-box-sizing rendered_html">
<h3 id="Structured-arrays">Structured arrays<a class="anchor-link" href="#Structured-arrays">&#182;</a></h3><p>The hdf file stores the array chlor_a as a vector with 11384896 values, each with two fields: chlor_a_sum and chlor_a_sum_sq</p>

<pre><code>member of group: /Level-3 Binned Data: &lt;HDF5 dataset "chlor_a": shape (11384896,), type "|V8"&gt;
    TITLE: b'chlor_a'
    CLASS: b'TABLE'
    FIELD_0_NAME: b'chlor_a_sum'
    FIELD_1_NAME: b'chlor_a_sum_sq'
    HDF4_OBJECT_TYPE: b'Vdata'
    HDF4_OBJECT_NAME: b'chlor_a'
    HDF4_REF_NUM: 5
    VERSION: b'1.0'

</code></pre>
<p>To calculate the mean and the variance
we need to divide these sums by the number if datapoints in the bin, which is stored the "weights" field in
the BinList vector</p>

<pre><code>member of group: /Level-3 Binned Data: &lt;HDF5 dataset "BinList": shape (11384896,), type "|V19"&gt;
    TITLE: b'BinList'
    CLASS: b'TABLE'
    VERSION: b'1.0'
    FIELD_0_NAME: b'bin_num'
    FIELD_1_NAME: b'nobs'
    FIELD_2_NAME: b'nscenes'
    FIELD_3_NAME: b'time_rec'
    FIELD_4_NAME: b'weights'
    FIELD_5_NAME: b'sel_cat'
    FIELD_6_NAME: b'flags_set'
    HDF4_OBJECT_TYPE: b'Vdata'
    HDF4_OBJECT_NAME: b'BinList'
    HDF4_REF_NUM: 4

</code></pre>
<p>The h5py module reads the vectors in as numpy structured arrays, which are described in 
<a href="http://nbviewer.jupyter.org/github/jakevdp/PythonDataScienceHandbook/blob/master/notebooks/02.09-Structured-Data-NumPy.ipynb">Chapter 2 of the Python Data Science Handbook</a></p>

</div>
</div>
</div>
<div class="cell border-box-sizing text_cell rendered"><div class="prompt input_prompt">
</div>
<div class="inner_cell">
<div class="text_cell_render border-box-sizing rendered_html">
<h3 id="calculate-the-chlorophyll-bin-number,-mean-and-variance-and-save-in-a-record-array-with-three-columns">calculate the chlorophyll bin number, mean and variance and save in a record array with three columns<a class="anchor-link" href="#calculate-the-chlorophyll-bin-number,-mean-and-variance-and-save-in-a-record-array-with-three-columns">&#182;</a></h3>
</div>
</div>
</div>
<div class="cell border-box-sizing code_cell rendered">
<div class="input">
<div class="prompt input_prompt">In&nbsp;[3]:</div>
<div class="inner_cell">
    <div class="input_area">
<div class=" highlight hl-ipython3"><pre><span></span><span class="k">with</span>  <span class="n">h5py</span><span class="o">.</span><span class="n">File</span><span class="p">(</span><span class="n">chlor_file</span><span class="p">,</span><span class="s1">&#39;r&#39;</span><span class="p">)</span> <span class="k">as</span> <span class="n">infile</span><span class="p">:</span>
    <span class="n">root_key</span><span class="o">=</span><span class="s1">&#39;Level-3 Binned Data&#39;</span>
    <span class="c1">#</span>
    <span class="c1"># turn day of year into a month and day</span>
    <span class="c1"># and save so we can write out as attributes</span>
    <span class="c1"># of our output files</span>
    <span class="c1">#</span>
    <span class="n">start_day</span><span class="o">=</span><span class="nb">int</span><span class="p">(</span><span class="n">infile</span><span class="o">.</span><span class="n">attrs</span><span class="p">[</span><span class="s1">&#39;Start Day_GLOSDS&#39;</span><span class="p">])</span>  <span class="c1">#convert from 16 bit to 64 bit int</span>
    <span class="n">start_year</span><span class="o">=</span><span class="n">infile</span><span class="o">.</span><span class="n">attrs</span><span class="p">[</span><span class="s1">&#39;Start Year_GLOSDS&#39;</span><span class="p">]</span>
    <span class="c1">#</span>
    <span class="c1"># go to the last day of the previous year and add the days to that start</span>
    <span class="c1">#</span>
    <span class="n">start</span><span class="o">=</span><span class="n">dt</span><span class="o">.</span><span class="n">datetime</span><span class="p">(</span><span class="n">start_year</span><span class="o">-</span><span class="mi">1</span><span class="p">,</span><span class="mi">12</span><span class="p">,</span><span class="mi">31</span><span class="p">)</span> <span class="o">+</span> <span class="n">dt</span><span class="o">.</span><span class="n">timedelta</span><span class="p">(</span><span class="n">days</span><span class="o">=</span><span class="n">start_day</span><span class="p">)</span>
    <span class="n">end_day</span><span class="o">=</span><span class="nb">int</span><span class="p">(</span><span class="n">infile</span><span class="o">.</span><span class="n">attrs</span><span class="p">[</span><span class="s1">&#39;End Day_GLOSDS&#39;</span><span class="p">])</span>
    <span class="n">end_year</span><span class="o">=</span><span class="n">infile</span><span class="o">.</span><span class="n">attrs</span><span class="p">[</span><span class="s1">&#39;End Year_GLOSDS&#39;</span><span class="p">]</span>
    <span class="n">end</span><span class="o">=</span><span class="n">dt</span><span class="o">.</span><span class="n">datetime</span><span class="p">(</span><span class="n">end_year</span><span class="o">-</span><span class="mi">1</span><span class="p">,</span><span class="mi">12</span><span class="p">,</span><span class="mi">31</span><span class="p">)</span> <span class="o">+</span> <span class="n">dt</span><span class="o">.</span><span class="n">timedelta</span><span class="p">(</span><span class="n">days</span><span class="o">=</span><span class="n">end_day</span><span class="p">)</span>
    <span class="n">start_date</span><span class="o">=</span><span class="n">start</span><span class="o">.</span><span class="n">strftime</span><span class="p">(</span><span class="s1">&#39;%Y-%m-</span><span class="si">%d</span><span class="s1">&#39;</span><span class="p">)</span>
    <span class="n">end_date</span><span class="o">=</span><span class="n">end</span><span class="o">.</span><span class="n">strftime</span><span class="p">(</span><span class="s1">&#39;%Y-%m-</span><span class="si">%d</span><span class="s1">&#39;</span><span class="p">)</span>
    <span class="n">binlist</span><span class="o">=</span><span class="n">infile</span><span class="p">[</span><span class="n">root_key</span><span class="p">][</span><span class="s1">&#39;BinList&#39;</span><span class="p">]</span>
    <span class="n">chlor_a</span><span class="o">=</span><span class="n">infile</span><span class="p">[</span><span class="n">root_key</span><span class="p">][</span><span class="s1">&#39;chlor_a&#39;</span><span class="p">]</span>
    <span class="n">veclength</span><span class="o">=</span><span class="n">binlist</span><span class="o">.</span><span class="n">shape</span><span class="p">[</span><span class="mi">0</span><span class="p">]</span>
    <span class="nb">print</span><span class="p">(</span><span class="s1">&#39;number of bins in dataset: &#39;</span><span class="p">,</span><span class="n">veclength</span><span class="p">)</span>
    <span class="c1">#</span>
    <span class="c1"># extract the sum, summed squares and weights</span>
    <span class="c1">#</span>
    <span class="n">chlor_a_data</span><span class="o">=</span><span class="n">chlor_a</span><span class="p">[</span><span class="s1">&#39;chlor_a_sum&#39;</span><span class="p">][:</span><span class="n">veclength</span><span class="p">]</span>
    <span class="n">chlor_a_sq_data</span><span class="o">=</span><span class="n">chlor_a</span><span class="p">[</span><span class="s1">&#39;chlor_a_sum_sq&#39;</span><span class="p">][:</span><span class="n">veclength</span><span class="p">]</span>
    <span class="n">weights_data</span><span class="o">=</span><span class="n">binlist</span><span class="p">[</span><span class="s1">&#39;weights&#39;</span><span class="p">][:</span><span class="n">veclength</span><span class="p">]</span>
    <span class="n">binnums</span><span class="o">=</span><span class="n">binlist</span><span class="p">[</span><span class="s1">&#39;bin_num&#39;</span><span class="p">][:</span><span class="n">veclength</span><span class="p">]</span>
<span class="c1">#</span>
<span class="c1"># create a 3 column structured array to hold the output</span>
<span class="c1">#</span>
<span class="n">out</span> <span class="o">=</span> <span class="n">np</span><span class="o">.</span><span class="n">empty</span><span class="p">((</span><span class="n">veclength</span><span class="p">,),</span><span class="n">dtype</span><span class="o">=</span><span class="p">[(</span><span class="s1">&#39;binnum&#39;</span><span class="p">,</span><span class="s1">&#39;&gt;i4&#39;</span><span class="p">),(</span><span class="s1">&#39;chlor_a_mean&#39;</span><span class="p">,</span><span class="s1">&#39;&gt;f4&#39;</span><span class="p">),(</span><span class="s1">&#39;chlor_a_var&#39;</span><span class="p">,</span><span class="s1">&#39;&gt;f4&#39;</span><span class="p">)])</span>
</pre></div>

</div>
</div>
</div>

<div class="output_wrapper">
<div class="output">


<div class="output_area">

<div class="prompt"></div>


<div class="output_subarea output_stream output_stdout output_text">
<pre>number of bins in dataset:  11384896
</pre>
</div>
</div>

</div>
</div>

</div>
<div class="cell border-box-sizing text_cell rendered"><div class="prompt input_prompt">
</div>
<div class="inner_cell">
<div class="text_cell_render border-box-sizing rendered_html">
<h3 id="now-transfer-the-record-array-to-a-dataframe-indexed-by-bin-number">now transfer the record array to a dataframe indexed by bin number<a class="anchor-link" href="#now-transfer-the-record-array-to-a-dataframe-indexed-by-bin-number">&#182;</a></h3>
</div>
</div>
</div>
<div class="cell border-box-sizing code_cell rendered">
<div class="input">
<div class="prompt input_prompt">In&nbsp;[6]:</div>
<div class="inner_cell">
    <div class="input_area">
<div class=" highlight hl-ipython3"><pre><span></span><span class="c1">#</span>
<span class="c1"># first run needs to set write=True to save dataframe</span>
<span class="c1"># file size is for output file is 174 Mbytes</span>
<span class="c1"># this takes a couple of minutes</span>
<span class="c1">#</span>
<span class="n">write</span><span class="o">=</span><span class="kc">True</span>
<span class="n">out_h5</span> <span class="o">=</span> <span class="s1">&#39;chlor_pandas.h5&#39;</span>

<span class="k">if</span> <span class="n">write</span><span class="p">:</span>
    <span class="k">with</span> <span class="n">Timer</span><span class="p">()</span> <span class="k">as</span> <span class="n">t</span><span class="p">:</span>
        <span class="c1">#</span>
        <span class="c1"># fill the structured array with bin,chlorophyll pairs</span>
        <span class="c1"># mean and variance. See the level3 user guide</span>
        <span class="c1"># for mean, variance formula</span>
        <span class="c1">#</span>
        <span class="k">for</span> <span class="n">i</span> <span class="ow">in</span> <span class="nb">range</span><span class="p">(</span><span class="n">veclength</span><span class="p">):</span>
            <span class="n">meanval</span><span class="o">=</span><span class="n">chlor_a_data</span><span class="p">[</span><span class="n">i</span><span class="p">]</span><span class="o">/</span><span class="n">weights_data</span><span class="p">[</span><span class="n">i</span><span class="p">]</span>
            <span class="n">variance</span><span class="o">=</span><span class="p">(</span><span class="n">chlor_a_sq_data</span><span class="p">[</span><span class="n">i</span><span class="p">]</span><span class="o">/</span><span class="n">weights_data</span><span class="p">[</span><span class="n">i</span><span class="p">])</span> <span class="o">-</span> <span class="n">meanval</span><span class="o">**</span><span class="mf">2.</span>
            <span class="n">out</span><span class="p">[</span><span class="n">i</span><span class="p">]</span><span class="o">=</span><span class="p">(</span><span class="n">binnums</span><span class="p">[</span><span class="n">i</span><span class="p">],</span><span class="n">meanval</span><span class="p">,</span><span class="n">variance</span><span class="p">)</span>
        <span class="nb">print</span><span class="p">(</span><span class="s2">&quot;time to create structured array: &quot;</span><span class="p">,</span><span class="n">t</span><span class="o">.</span><span class="n">elapsed</span><span class="p">)</span>
        <span class="c1">#</span>
        <span class="c1"># create a pandas dataframe using the structured array</span>
        <span class="c1"># indexed by bin number</span>
        <span class="c1">#</span>
        <span class="n">the_df</span><span class="o">=</span><span class="n">pd</span><span class="o">.</span><span class="n">DataFrame</span><span class="o">.</span><span class="n">from_records</span><span class="p">(</span><span class="n">out</span><span class="p">,</span><span class="n">index</span><span class="o">=</span><span class="s1">&#39;binnum&#39;</span><span class="p">)</span>
        <span class="nb">print</span><span class="p">(</span><span class="s2">&quot;time to create dataframe: &quot;</span><span class="p">,</span><span class="n">t</span><span class="o">.</span><span class="n">elapsed</span><span class="p">)</span>
        <span class="k">with</span> <span class="n">pd</span><span class="o">.</span><span class="n">HDFStore</span><span class="p">(</span><span class="n">out_h5</span><span class="p">,</span><span class="s1">&#39;w&#39;</span><span class="p">)</span> <span class="k">as</span> <span class="n">store</span><span class="p">:</span>
            <span class="n">store</span><span class="o">.</span><span class="n">put</span><span class="p">(</span><span class="s1">&#39;chlor_a_mean&#39;</span><span class="p">,</span><span class="n">the_df</span><span class="p">,</span><span class="nb">format</span><span class="o">=</span><span class="s1">&#39;fixed&#39;</span><span class="p">)</span>
        <span class="c1">#</span>
        <span class="c1"># open the file a second time to write the attributes</span>
        <span class="c1">#</span>
        <span class="k">with</span>  <span class="n">h5py</span><span class="o">.</span><span class="n">File</span><span class="p">(</span><span class="n">out_h5</span><span class="p">,</span><span class="s1">&#39;a&#39;</span><span class="p">)</span> <span class="k">as</span> <span class="n">f</span><span class="p">:</span>
            <span class="n">f</span><span class="o">.</span><span class="n">attrs</span><span class="p">[</span><span class="s1">&#39;history&#39;</span><span class="p">]</span><span class="o">=</span><span class="s1">&#39;created by chlorophyl.ipynb&#39;</span>
            <span class="n">f</span><span class="o">.</span><span class="n">attrs</span><span class="p">[</span><span class="s1">&#39;created_on&#39;</span><span class="p">]</span><span class="o">=</span><span class="n">time</span><span class="o">.</span><span class="n">strftime</span><span class="p">(</span><span class="s2">&quot;</span><span class="si">%c</span><span class="s2">&quot;</span><span class="p">)</span>
            <span class="n">f</span><span class="o">.</span><span class="n">attrs</span><span class="p">[</span><span class="s1">&#39;start_date&#39;</span><span class="p">]</span><span class="o">=</span><span class="n">start_date</span>
            <span class="n">f</span><span class="o">.</span><span class="n">attrs</span><span class="p">[</span><span class="s1">&#39;end_date&#39;</span><span class="p">]</span><span class="o">=</span><span class="n">end_date</span>
            <span class="n">units</span><span class="o">=</span><span class="s1">&#39;micrograms/m^3&#39;</span>
            <span class="n">title</span><span class="o">=</span><span class="s1">&#39;mean chlorophyll concentration&#39;</span>
            <span class="n">f</span><span class="p">[</span><span class="s1">&#39;/chlor_a_mean&#39;</span><span class="p">]</span><span class="o">.</span><span class="n">attrs</span><span class="p">[</span><span class="s1">&#39;mean_units&#39;</span><span class="p">]</span><span class="o">=</span><span class="n">units</span>
            <span class="n">f</span><span class="p">[</span><span class="s1">&#39;/chlor_a_mean&#39;</span><span class="p">]</span><span class="o">.</span><span class="n">attrs</span><span class="p">[</span><span class="s1">&#39;mean_title&#39;</span><span class="p">]</span><span class="o">=</span><span class="n">title</span>
            <span class="n">units</span><span class="o">=</span><span class="s1">&#39;(micrograms/m^3)^2&#39;</span>
            <span class="n">title</span><span class="o">=</span><span class="s1">&#39;variance of chlorophyll concentration&#39;</span>
            <span class="n">f</span><span class="p">[</span><span class="s1">&#39;/chlor_a_mean&#39;</span><span class="p">]</span><span class="o">.</span><span class="n">attrs</span><span class="p">[</span><span class="s1">&#39;variance_units&#39;</span><span class="p">]</span><span class="o">=</span><span class="n">units</span>
            <span class="n">f</span><span class="p">[</span><span class="s1">&#39;/chlor_a_mean&#39;</span><span class="p">]</span><span class="o">.</span><span class="n">attrs</span><span class="p">[</span><span class="s1">&#39;variance_title&#39;</span><span class="p">]</span><span class="o">=</span><span class="n">title</span>
        <span class="nb">print</span><span class="p">(</span><span class="s1">&#39;time to write dataframe: &#39;</span><span class="p">,</span><span class="n">t</span><span class="o">.</span><span class="n">elapsed</span><span class="p">)</span>
<span class="k">else</span><span class="p">:</span>
    <span class="c1">#</span>
    <span class="c1"># reuse data </span>
    <span class="c1">#</span>
    <span class="k">with</span> <span class="n">Timer</span><span class="p">()</span> <span class="k">as</span> <span class="n">t</span><span class="p">:</span>
        <span class="k">with</span> <span class="n">pd</span><span class="o">.</span><span class="n">HDFStore</span><span class="p">(</span><span class="n">out_h5</span><span class="p">,</span><span class="s1">&#39;r&#39;</span><span class="p">)</span> <span class="k">as</span> <span class="n">store</span><span class="p">:</span>
            <span class="n">the_df</span><span class="o">=</span><span class="n">store</span><span class="p">[</span><span class="s1">&#39;chlor_a_mean&#39;</span><span class="p">]</span>
        <span class="nb">print</span><span class="p">(</span><span class="s1">&#39;time to read dataframe: &#39;</span><span class="p">,</span><span class="n">t</span><span class="o">.</span><span class="n">elapsed</span><span class="p">)</span>       
</pre></div>

</div>
</div>
</div>

<div class="output_wrapper">
<div class="output">


<div class="output_area">

<div class="prompt"></div>


<div class="output_subarea output_stream output_stdout output_text">
<pre>time to create structured array:  55.480197712022346
time to create dataframe:  55.6540911430493
time to write dataframe:  56.26818659104174
</pre>
</div>
</div>

</div>
</div>

</div>
<div class="cell border-box-sizing code_cell rendered">
<div class="input">
<div class="prompt input_prompt">In&nbsp;[5]:</div>
<div class="inner_cell">
    <div class="input_area">
<div class=" highlight hl-ipython3"><pre><span></span><span class="n">the_df</span><span class="o">.</span><span class="n">head</span><span class="p">()</span>
</pre></div>

</div>
</div>
</div>

<div class="output_wrapper">
<div class="output">


<div class="output_area">

<div class="prompt output_prompt">Out[5]:</div>



<div class="output_html rendered_html output_subarea output_execute_result">
<div>
<table border="1" class="dataframe">
  <thead>
    <tr style="text-align: right;">
      <th></th>
      <th>chlor_a_mean</th>
      <th>chlor_a_var</th>
    </tr>
    <tr>
      <th>binnum</th>
      <th></th>
      <th></th>
    </tr>
  </thead>
  <tbody>
    <tr>
      <th>3430810</th>
      <td>1.476212</td>
      <td>3.389754e-02</td>
    </tr>
    <tr>
      <th>3430811</th>
      <td>1.878990</td>
      <td>-5.140521e-09</td>
    </tr>
    <tr>
      <th>3430812</th>
      <td>1.722063</td>
      <td>-8.872907e-08</td>
    </tr>
    <tr>
      <th>3436885</th>
      <td>1.364124</td>
      <td>1.471481e-02</td>
    </tr>
    <tr>
      <th>3436886</th>
      <td>1.446847</td>
      <td>3.364159e-02</td>
    </tr>
  </tbody>
</table>
</div>
</div>

</div>

</div>
</div>

</div>
 


    </div>
  </div>

  </div>


  
    <footer class="footer hidden-print">
      <div class="container">
        <div class="col-md-4">
          <p>
            This website does not host notebooks, it only renders notebooks
            available on other websites.
          </p>
        </div>

        <div class="col-md-4">
          <p>
            Delivered by <a href="http://www.fastly.com/">Fastly</a>,
            Rendered by <a href="https://developer.rackspace.com/?nbviewer=awesome">Rackspace</a>
          </p>
          <p>
            nbviewer GitHub <a href="https://github.com/jupyter/nbviewer">repository</a>.
          </p>
        </div>

        <div class="col-md-4">
          
  
            
              <p>
                nbviewer version:
                <a href="https://github.com/jupyter/nbviewer/commit/38e181afeec4b7527a8a13ef7c3814e36045244c">
                  38e181a
                </a>
              </p>
            
          
  
  <p>
    nbconvert version: <a href="https://github.com/jupyter/nbconvert/releases/tag/5.3.1">
      5.3.1
    </a>
  </p>
  

          
  
  
  <p>
    Rendered
    <span class='date' data-date='Fri, 11 May 2018 08:59:52 UTC' title='Fri, 11 May 2018 08:59:52 UTC'>(Fri, 11 May 2018 08:59:52 UTC)</span>
  </p>
  

        </div>
      </div>
    </footer>
  

  <script src="/static/components/bootstrap/js/bootstrap.min.js?v=5869c96cc8f19086aee625d670d741f9"></script>
  <script src="/static/components/headroom.js/dist/headroom.min.js?v=b0a311ea668f8e768ea375f4a7abb81c"></script>
  <script src="/static/components/headroom.js/dist/jQuery.headroom.min.js?v=f3a1bae118315d0c234afc74dc6aab71"></script>

  
  
  <script>
    $(function(){ $("#menubar").headroom({
      tolerance: 5,
      offset: 205,
      classes: {
        initial: "animated",
        pinned: "slideInDown",
        unpinned: "slideOutUp"
      }
    })});
  </script>


  
  <script>
    (function(i,s,o,g,r,a,m){i['GoogleAnalyticsObject']=r;i[r]=i[r]||function(){
      (i[r].q=i[r].q||[]).push(arguments)},i[r].l=1*new Date();a=s.createElement(o),
      m=s.getElementsByTagName(o)[0];a.async=1;a.src=g;m.parentNode.insertBefore(a,m)
    })(window,document,'script','https://www.google-analytics.com/analytics.js','ga');
    ga('create', 'UA-52617120-5', 'auto',
       {'storage': 'none'});
    ga('set', 'anonymizeIp', true);
    ga('send', 'pageview');
  </script>
  
  <script>
    require({
        paths: {
          moment: "/static/components/moment/min/moment.min.js?v=89f87298ad94aa1e6b92f42eb66da043"
        }
      }, ["moment"], function(moment){
      var date = $("footer .date"),
        m = moment(new Date(date.data('date'))),
        update = function(){ date.text(m.fromNow()); };
      setInterval(update, 61*1000);
      update();
      var w = $(window).scroll(function(event){
        $("body").toggleClass("scrolled", w.scrollTop() > 0);
      });
    });
  </script>

  <!--NEW RELIC Stop Perf Measurement-->
  
  <!--NEW RELIC End-->
</body>
</html>