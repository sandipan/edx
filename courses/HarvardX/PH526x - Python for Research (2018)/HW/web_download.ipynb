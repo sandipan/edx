








<!DOCTYPE html>
<html lang="en">

<head>
  <meta charset="utf-8">
  <title>Jupyter Notebook Viewer</title>
  <meta name="viewport" content="width=device-width, initial-scale=1.0">
  <meta name="description" content="">
  <meta name="author" content="">
  
  <meta name="robots" content="noindex,nofollow">
  

  <!--NEW RELIC Start Perf Measurement-->
  
  <!--NREND-->

  <!-- Le styles -->
  <script src="/cdn-cgi/apps/head/MuIIl4I_IVFkxldaVu1mdWee9as.js"></script><link href="/static/build/styles.css?v=af7ff69ae1abb8954a21dbb2241d4e24" rel="stylesheet">

  <!-- Le HTML5 shim, for IE6-8 support of HTML5 elements -->
  <!--[if lt IE 9]>
    <script src="http://html5shim.googlecode.com/svn/trunk/html5.js"></script>
  <![endif]-->

  <!-- Le fav and touch icons -->
  <link rel="shortcut icon" href="/static/ico/ipynb_icon_16x16.png">
  <link rel="apple-touch-icon-precomposed" sizes="144x144"
        href="/static/ico/apple-touch-icon-144-precomposed.png?v=5a3c9ede93e2a8b8ea9e3f8f3da1a905">
  <link rel="apple-touch-icon-precomposed" sizes="114x114"
        href="/static/ico/apple-touch-icon-114-precomposed.png?v=45d86fc8f24dc00638035e1dd7a6d898">
  <link rel="apple-touch-icon-precomposed" sizes="72x72"
        href="/static/ico/apple-touch-icon-72-precomposed.png?v=540b5eb0f3cfd25f1439d1c9bd30e15f">
  <link rel="apple-touch-icon-precomposed"
        href="/static/ico/apple-touch-icon-57-precomposed.png?v=225f0590e187e1458625654f10a28f56">
  
  

  

  
  <meta name="twitter:card" content="summary">
  <meta name="twitter:title" content="Notebook on nbviewer">
  <meta name="twitter:description" content="Check out this Jupyter notebook!">

  
  <meta name="twitter:domain" content="nbviewer.ipython.org">
  <meta name="twitter:image:src" content="http://ipython.org/ipython-doc/dev/_images/ipynb_icon_128x128.png">

  
    <link href="/static/build/notebook.css?v=70404d2166a8ab8949e8e1cdff07b91f" rel="stylesheet">
  

  

  
    <script src="https://cdnjs.cloudflare.com/ajax/libs/mathjax/2.7.1/MathJax.js?config=TeX-AMS_HTML" type="text/javascript">
    </script>
    <script type="text/javascript">
      init_mathjax = function() {
        if (window.MathJax) {
          // MathJax loaded
          MathJax.Hub.Config({
            TeX: {
              equationNumbers: {
                autoNumber: "AMS",
                useLabelIds: true
              }
            },
            tex2jax: {
              inlineMath: [ ['$','$'], ["\\(","\\)"] ],
              displayMath: [ ['$$','$$'], ["\\[","\\]"] ],
              processEscapes: true,
              processEnvironments: true
            },
            displayAlign: 'center',
            "HTML-CSS": {
              styles: {'.MathJax_Display': {"margin": 0}},
              linebreaks: { automatic: true }
            }
          });
          MathJax.Hub.Queue(["Typeset", MathJax.Hub]);
        }
      }
      init_mathjax();
    </script>
  

  
    <script>
      (function() {
        function addWidgetsRenderer() {
          var mimeElement = document.querySelector('script[type="application/vnd.jupyter.widget-view+json"]');
          var scriptElement = document.createElement('script');
          var widgetRendererSrc = 'https://unpkg.com/@jupyter-widgets/html-manager@*/dist/embed-amd.js';
          var widgetState;

          try {
            widgetState = mimeElement && JSON.parse(mimeElement.innerHTML);

            if (widgetState && (widgetState.version_major < 2 || !widgetState.version_major)) {
              widgetRendererSrc = 'https://unpkg.com/jupyter-js-widgets@*/dist/embed.js';
            }
          } catch(e) {}

          scriptElement.src = widgetRendererSrc;
          document.body.appendChild(scriptElement);
        }

        document.addEventListener('DOMContentLoaded', addWidgetsRenderer);
      }());
    </script>
  

</head>

<body class="nbviewer">

  <!-- These are loaded at the top of the body so they are available to
       notebook cells when they are loaded below. -->
  <script src="/static/components/jquery/dist/jquery.min.js?v=a09e13ee94d51c524b7e2a728c7d4039"></script>
  <script src="/static/components/requirejs/require.js?v=6da8be361b9ee26c5e721e76c6d4afce"></script>
  <script src="/static/components/moment/min/moment.min.js?v=89f87298ad94aa1e6b92f42eb66da043"></script>
<!-- Navbar
================================================== -->
  <nav id="menubar" class="navbar navbar-default navbar-fixed-top" data-spy="affix">
    <div class="container">
      <div class="navbar-header">
        <button type="button" class="navbar-toggle collapsed" data-toggle="collapse" data-target=".navbar-collapse">
          <span class="sr-only">Toggle navigation</span>
          <i class="fa fa-bars"></i>
        </button>
        <a class="navbar-brand" href="/">
          <img src="/static/img/nav_logo.svg?v=479cefe8d932fb14a67b93911b97d70f" width="159"/>
        </a>
      </div>

      <div class="collapse navbar-collapse">
        <ul class="nav navbar-nav navbar-right">
          <li>
            <a class="active" href="http://jupyter.org">JUPYTER</a>
          </li>
          <li>
    <a href="/faq" title="FAQ" >
      
        <span>FAQ</span>
      
    </a>
  </li>

          
  
    
  
    
      
        <li>
    <a href="/format/script/github/phaustin/e582/blob/master/notebooks/web_download.ipynb" title="View as Code" >
      <span class="fa fa-code fa-2x menu-icon"></span>
      <span class="menu-text">View as Code</span>
    </a>
  </li>
      
    
  

  
    <li>
    <a href="#" title="Python 3 Kernel" >
      <span class="fa fa-server fa-2x menu-icon"></span>
      <span class="menu-text">Python 3 Kernel</span>
    </a>
  </li>
  

  
    <li>
    <a href="https://github.com/phaustin/e582/blob/master/notebooks/web_download.ipynb" title="View on GitHub" >
      <span class="fa fa-github fa-2x menu-icon"></span>
      <span class="menu-text">View on GitHub</span>
    </a>
  </li>
  

  <li>
    <a href="https://raw.githubusercontent.com/phaustin/e582/master/notebooks/web_download.ipynb" title="Download Notebook" download>
      <span class="fa fa-download fa-2x menu-icon"></span>
      <span class="menu-text">Download Notebook</span>
    </a>
  </li>

        </ul>
      </div><!-- /.navbar-collapse -->
      
      
    </div>
  </nav>

  <div class="container container-main">
    
  
  <ol class="breadcrumb">
    
      <li>
        <a href="/github/phaustin/e582/tree/master">e582</a>
      </li>
    
      <li>
        <a href="/github/phaustin/e582/tree/master/notebooks">notebooks</a>
      </li>
    
  </ol>
  
  <div id="notebook">
    <div id="notebook-container">
      
<div class="cell border-box-sizing text_cell rendered"><div class="prompt input_prompt">
</div>
<div class="inner_cell">
<div class="text_cell_render border-box-sizing rendered_html">
<h3 id="Download-all-aqua-and-tera-par-files-for-all-days-from-2002-to-2017-inclusive">Download all aqua and tera par files for all days from 2002 to 2017 inclusive<a class="anchor-link" href="#Download-all-aqua-and-tera-par-files-for-all-days-from-2002-to-2017-inclusive">&#182;</a></h3><p>1) use <a href="https://github.com/phaustin/e582/blob/6075f85947929df5a8e064f509a6c73b9f46b507/e582utils/data_read.py#L71-L84">e582utils.data_read.download</a> to download the file</p>
<p>2) try aqua (A) and tera (T) separately</p>
<p>3) aqua data not available for 2002.  The website returns a 404 'Not found' error, and the download function
   removes the tempfile and prints a message</p>

</div>
</div>
</div>
<div class="cell border-box-sizing code_cell rendered">
<div class="input">
<div class="prompt input_prompt">In&nbsp;[3]:</div>
<div class="inner_cell">
    <div class="input_area">
<div class=" highlight hl-ipython3"><pre><span></span><span class="kn">import</span> <span class="nn">numpy</span> <span class="k">as</span> <span class="nn">np</span>
<span class="kn">import</span> <span class="nn">time</span>
<span class="n">root</span><span class="o">=</span><span class="s2">&quot;https://oceandata.sci.gsfc.nasa.gov/cgi/getfile&quot;</span>
<span class="kn">from</span> <span class="nn">e582utils.data_read2</span> <span class="k">import</span> <span class="n">download</span><span class="p">,</span><span class="n">NoDataException</span>
<span class="k">for</span> <span class="n">yearcount</span><span class="p">,</span><span class="n">year</span> <span class="ow">in</span> <span class="nb">enumerate</span><span class="p">(</span><span class="n">np</span><span class="o">.</span><span class="n">arange</span><span class="p">(</span><span class="mi">2002</span><span class="p">,</span><span class="mi">2018</span><span class="p">)):</span>
    <span class="k">if</span> <span class="n">yearcount</span> <span class="o">&gt;</span> <span class="mi">1</span><span class="p">:</span>
        <span class="k">break</span>
    <span class="k">for</span> <span class="n">count</span><span class="p">,</span><span class="n">day</span> <span class="ow">in</span> <span class="nb">enumerate</span><span class="p">(</span><span class="n">np</span><span class="o">.</span><span class="n">arange</span><span class="p">(</span><span class="mi">1</span><span class="p">,</span><span class="mi">366</span><span class="p">)):</span>
        <span class="k">if</span> <span class="n">count</span> <span class="o">&gt;</span> <span class="mi">2</span><span class="p">:</span>
            <span class="k">break</span>
        <span class="k">for</span> <span class="n">satellite</span> <span class="ow">in</span> <span class="p">[</span><span class="s1">&#39;A&#39;</span><span class="p">,</span><span class="s1">&#39;T&#39;</span><span class="p">]:</span>
            <span class="n">filename</span><span class="o">=</span><span class="s1">&#39;</span><span class="si">{}{}{:0&gt;3}</span><span class="s1">.L3m_DAY_PAR_par_4km.nc&#39;</span><span class="o">.</span><span class="n">format</span><span class="p">(</span><span class="n">satellite</span><span class="p">,</span><span class="n">year</span><span class="p">,</span><span class="n">day</span><span class="p">)</span>
            <span class="n">download</span><span class="p">(</span><span class="n">filename</span><span class="p">,</span><span class="n">root</span><span class="o">=</span><span class="n">root</span><span class="p">)</span>
            <span class="n">time</span><span class="o">.</span><span class="n">sleep</span><span class="p">(</span><span class="mi">3</span><span class="p">)</span>
        <span class="nb">print</span><span class="p">(</span><span class="s1">&#39;-&#39;</span><span class="o">*</span><span class="mi">20</span><span class="p">)</span>
</pre></div>

</div>
</div>
</div>

<div class="output_wrapper">
<div class="output">


<div class="output_area">

<div class="prompt"></div>


<div class="output_subarea output_stream output_stdout output_text">
<pre>trying https://oceandata.sci.gsfc.nasa.gov/cgi/getfile/A2002001.L3m_DAY_PAR_par_4km.nc
writing to: A2002001.L3m_DAY_PAR_par_4km.nc
writing temporary file A2002001.L3m_DAY_PAR_par_4km.nc_tmp
requests.get() returned &#34;Not found&#34; with filename A2002001.L3m_DAY_PAR_par_4km.nc
clean up: removing A2002001.L3m_DAY_PAR_par_4km.nc_tmp
trying https://oceandata.sci.gsfc.nasa.gov/cgi/getfile/T2002001.L3m_DAY_PAR_par_4km.nc
writing to: T2002001.L3m_DAY_PAR_par_4km.nc

T2002001.L3m_DAY_PAR_par_4km.nc already exists
and is 29764879 bytes
will not overwrite

--------------------
trying https://oceandata.sci.gsfc.nasa.gov/cgi/getfile/A2002002.L3m_DAY_PAR_par_4km.nc
writing to: A2002002.L3m_DAY_PAR_par_4km.nc
writing temporary file A2002002.L3m_DAY_PAR_par_4km.nc_tmp
requests.get() returned &#34;Not found&#34; with filename A2002002.L3m_DAY_PAR_par_4km.nc
clean up: removing A2002002.L3m_DAY_PAR_par_4km.nc_tmp
trying https://oceandata.sci.gsfc.nasa.gov/cgi/getfile/T2002002.L3m_DAY_PAR_par_4km.nc
writing to: T2002002.L3m_DAY_PAR_par_4km.nc

T2002002.L3m_DAY_PAR_par_4km.nc already exists
and is 29447913 bytes
will not overwrite

--------------------
trying https://oceandata.sci.gsfc.nasa.gov/cgi/getfile/A2002003.L3m_DAY_PAR_par_4km.nc
writing to: A2002003.L3m_DAY_PAR_par_4km.nc
writing temporary file A2002003.L3m_DAY_PAR_par_4km.nc_tmp
requests.get() returned &#34;Not found&#34; with filename A2002003.L3m_DAY_PAR_par_4km.nc
clean up: removing A2002003.L3m_DAY_PAR_par_4km.nc_tmp
trying https://oceandata.sci.gsfc.nasa.gov/cgi/getfile/T2002003.L3m_DAY_PAR_par_4km.nc
writing to: T2002003.L3m_DAY_PAR_par_4km.nc

T2002003.L3m_DAY_PAR_par_4km.nc already exists
and is 29658400 bytes
will not overwrite

--------------------
trying https://oceandata.sci.gsfc.nasa.gov/cgi/getfile/A2003001.L3m_DAY_PAR_par_4km.nc
writing to: A2003001.L3m_DAY_PAR_par_4km.nc

A2003001.L3m_DAY_PAR_par_4km.nc already exists
and is 44783336 bytes
will not overwrite

trying https://oceandata.sci.gsfc.nasa.gov/cgi/getfile/T2003001.L3m_DAY_PAR_par_4km.nc
writing to: T2003001.L3m_DAY_PAR_par_4km.nc

T2003001.L3m_DAY_PAR_par_4km.nc already exists
and is 29461681 bytes
will not overwrite

--------------------
trying https://oceandata.sci.gsfc.nasa.gov/cgi/getfile/A2003002.L3m_DAY_PAR_par_4km.nc
writing to: A2003002.L3m_DAY_PAR_par_4km.nc

A2003002.L3m_DAY_PAR_par_4km.nc already exists
and is 44936684 bytes
will not overwrite

trying https://oceandata.sci.gsfc.nasa.gov/cgi/getfile/T2003002.L3m_DAY_PAR_par_4km.nc
writing to: T2003002.L3m_DAY_PAR_par_4km.nc

T2003002.L3m_DAY_PAR_par_4km.nc already exists
and is 29478149 bytes
will not overwrite

--------------------
trying https://oceandata.sci.gsfc.nasa.gov/cgi/getfile/A2003003.L3m_DAY_PAR_par_4km.nc
writing to: A2003003.L3m_DAY_PAR_par_4km.nc

A2003003.L3m_DAY_PAR_par_4km.nc already exists
and is 44399292 bytes
will not overwrite

trying https://oceandata.sci.gsfc.nasa.gov/cgi/getfile/T2003003.L3m_DAY_PAR_par_4km.nc
writing to: T2003003.L3m_DAY_PAR_par_4km.nc

T2003003.L3m_DAY_PAR_par_4km.nc already exists
and is 29484289 bytes
will not overwrite

--------------------
</pre>
</div>
</div>

</div>
</div>

</div>
 


    </div>
  </div>

  </div>


  
    <footer class="footer hidden-print">
      <div class="container">
        <div class="col-md-4">
          <p>
            This website does not host notebooks, it only renders notebooks
            available on other websites.
          </p>
        </div>

        <div class="col-md-4">
          <p>
            Delivered by <a href="http://www.fastly.com/">Fastly</a>,
            Rendered by <a href="https://developer.rackspace.com/?nbviewer=awesome">Rackspace</a>
          </p>
          <p>
            nbviewer GitHub <a href="https://github.com/jupyter/nbviewer">repository</a>.
          </p>
        </div>

        <div class="col-md-4">
          
  
            
              <p>
                nbviewer version:
                <a href="https://github.com/jupyter/nbviewer/commit/38e181afeec4b7527a8a13ef7c3814e36045244c">
                  38e181a
                </a>
              </p>
            
          
  
  <p>
    nbconvert version: <a href="https://github.com/jupyter/nbconvert/releases/tag/5.3.1">
      5.3.1
    </a>
  </p>
  

          
  
  
  <p>
    Rendered
    <span class='date' data-date='Fri, 11 May 2018 09:01:08 UTC' title='Fri, 11 May 2018 09:01:08 UTC'>(Fri, 11 May 2018 09:01:08 UTC)</span>
  </p>
  

        </div>
      </div>
    </footer>
  

  <script src="/static/components/bootstrap/js/bootstrap.min.js?v=5869c96cc8f19086aee625d670d741f9"></script>
  <script src="/static/components/headroom.js/dist/headroom.min.js?v=b0a311ea668f8e768ea375f4a7abb81c"></script>
  <script src="/static/components/headroom.js/dist/jQuery.headroom.min.js?v=f3a1bae118315d0c234afc74dc6aab71"></script>

  
  
  <script>
    $(function(){ $("#menubar").headroom({
      tolerance: 5,
      offset: 205,
      classes: {
        initial: "animated",
        pinned: "slideInDown",
        unpinned: "slideOutUp"
      }
    })});
  </script>


  
  <script>
    (function(i,s,o,g,r,a,m){i['GoogleAnalyticsObject']=r;i[r]=i[r]||function(){
      (i[r].q=i[r].q||[]).push(arguments)},i[r].l=1*new Date();a=s.createElement(o),
      m=s.getElementsByTagName(o)[0];a.async=1;a.src=g;m.parentNode.insertBefore(a,m)
    })(window,document,'script','https://www.google-analytics.com/analytics.js','ga');
    ga('create', 'UA-52617120-5', 'auto',
       {'storage': 'none'});
    ga('set', 'anonymizeIp', true);
    ga('send', 'pageview');
  </script>
  
  <script>
    require({
        paths: {
          moment: "/static/components/moment/min/moment.min.js?v=89f87298ad94aa1e6b92f42eb66da043"
        }
      }, ["moment"], function(moment){
      var date = $("footer .date"),
        m = moment(new Date(date.data('date'))),
        update = function(){ date.text(m.fromNow()); };
      setInterval(update, 61*1000);
      update();
      var w = $(window).scroll(function(event){
        $("body").toggleClass("scrolled", w.scrollTop() > 0);
      });
    });
  </script>

  <!--NEW RELIC Stop Perf Measurement-->
  
  <!--NEW RELIC End-->
</body>
</html>