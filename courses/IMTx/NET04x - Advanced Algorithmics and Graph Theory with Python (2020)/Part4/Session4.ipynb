{
 "cells": [
  {
   "cell_type": "markdown",
   "metadata": {
    "nbgrader": {
     "grade": false,
     "grade_id": "cell-b667cc761d9fedd4",
     "locked": true,
     "schema_version": 1,
     "solution": false
    }
   },
   "source": [
    "Welcome to the fourth Lab session of the \"Advanced algorithmics and graph theory with Python\" MOOC. In this exercise you will learn how to find solutions to the Traveling Salesman Problem.\n",
    "\n",
    "The main objective of this exercise is to:\n",
    "* Describe the classic traveling salesman problem and use it as a reduction for other problems.\n",
    "* Write functions to solve a problem NP-complete using backtracking.\n",
    "\n",
    "Based on what we learned in the previous exercices, we will define advanced functions and use them to define the Traveling Salesman algorithm."
   ]
  },
  {
   "cell_type": "markdown",
   "metadata": {
    "nbgrader": {
     "grade": false,
     "grade_id": "cell-1e0c5823e19785c1",
     "locked": true,
     "schema_version": 1,
     "solution": false
    }
   },
   "source": [
    "## List manipulation\n",
    "\n",
    "Before starting this session we will do a quick recap on list manipulation with python.\n",
    "\n",
    "We would like to point out a major difference between the '+' operator that concatenate two lists and the append function. As a matter of fact, using '+' operator creates a new list that is the concatenation of the two given lists and therefore does not modify the input list, whereas the append function modifies the initial list.\n",
    "\n",
    "Let us illustrate:"
   ]
  },
  {
   "cell_type": "code",
   "execution_count": 3,
   "metadata": {
    "nbgrader": {
     "grade": false,
     "grade_id": "cell-0aa3e0a8ffa55899",
     "locked": true,
     "schema_version": 1,
     "solution": false
    }
   },
   "outputs": [
    {
     "name": "stdout",
     "output_type": "stream",
     "text": [
      "We first use '+' to generate a new list containing the new element and the input list\n",
      "the output list is: \n",
      "[3, 5, 4, 1, 0, 7, 8]\n",
      "input list is: \n",
      "[3, 5, 4, 1, 0, 7]\n",
      "The element was added only to the output_list not to the input list\n",
      "Now we use append function to add an element to the list\n",
      "input list is: \n",
      "[3, 5, 4, 1, 0, 7, 8]\n",
      "The element was added to input_list\n"
     ]
    }
   ],
   "source": [
    "input_list=[3,5,4,1,0,7]\n",
    "\n",
    "#add a new element to the list using both methods\n",
    "print(\"We first use '+' to generate a new list containing the new element and the input list\")\n",
    "output_list=input_list+[8]\n",
    "print(\"the output list is: \")\n",
    "print(output_list)\n",
    "print(\"input list is: \")\n",
    "print(input_list)\n",
    "print(\"The element was added only to the output_list not to the input list\")\n",
    "\n",
    "input_list=[3,5,4,1,0,7]\n",
    "print(\"Now we use append function to add an element to the list\")\n",
    "input_list.append(8)\n",
    "print(\"input list is: \")\n",
    "print(input_list)\n",
    "print(\"The element was added to input_list\")\n"
   ]
  },
  {
   "cell_type": "markdown",
   "metadata": {
    "nbgrader": {
     "grade": false,
     "grade_id": "cell-86f5d50f35d68a27",
     "locked": true,
     "schema_version": 1,
     "solution": false
    }
   },
   "source": [
    "## Exercise A (1pt)\n",
    "\n",
    "We will first define our metagraph. To do this the first thing we need to define are the vertices of our metagraph. These vertices are the positions of the cheeses in the maze and the player position. \n",
    "\n",
    "The function we are going to define is create_vertices_meta_graph. This function takes two inputs, a list of vertices 'pieces_of_cheese', which contains the positions of cheeses in the maze, and a vertex 'player_position' which contains the position of the player in the maze. \n",
    "\n",
    "This function returns a list containing 'piece_of_cheese' elements and 'player_position', but does not modify the list 'piece_of_cheese'."
   ]
  },
  {
   "cell_type": "code",
   "execution_count": 4,
   "metadata": {
    "collapsed": true,
    "nbgrader": {
     "grade": false,
     "grade_id": "Exercice A ",
     "locked": false,
     "points": "1",
     "schema_version": 1,
     "solution": true
    }
   },
   "outputs": [],
   "source": [
    "def create_vertices_meta_graph(piece_of_cheese, player_location):\n",
    "    #\n",
    "    # YOUR CODE HERE\n",
    "    #\n",
    "    return [player_location] + piece_of_cheese"
   ]
  },
  {
   "cell_type": "code",
   "execution_count": 5,
   "metadata": {
    "deletable": false,
    "nbgrader": {
     "grade": true,
     "grade_id": "Exercice A ",
     "locked": true,
     "points": "1",
     "schema_version": 1,
     "solution": false
    }
   },
   "outputs": [
    {
     "name": "stdout",
     "output_type": "stream",
     "text": [
      "Positions of pieces of cheese are:\n",
      "[(0, 3), (1, 2), (3, 4), (5, 4), (8, 9)]\n",
      "Player position is:\n",
      "(0, 1)\n",
      "The vertices of the meta graph are:\n",
      "[(0, 1), (0, 3), (1, 2), (3, 4), (5, 4), (8, 9)]\n"
     ]
    }
   ],
   "source": [
    "#\n",
    "# AUTOGRADER TEST - DO NOT REMOVE\n",
    "#\n",
    "\n",
    "piece_of_cheese=[(3,4),(1,2),(5,4),(0,3),(8,9)]\n",
    "player_position=(0,1)\n",
    "vertices_meta_graph=create_vertices_meta_graph(piece_of_cheese, player_position)\n",
    "\n",
    "print(\"Positions of pieces of cheese are:\")\n",
    "print(sorted(piece_of_cheese)) # we add sorted in order to always get the same result.\n",
    "print(\"Player position is:\")\n",
    "print(player_position)\n",
    "print(\"The vertices of the meta graph are:\")\n",
    "print(sorted(vertices_meta_graph)) #  The player position can be add at any position in the list, so we add sorted in order to always get the same result. "
   ]
  },
  {
   "cell_type": "markdown",
   "metadata": {
    "nbgrader": {
     "grade": false,
     "grade_id": "cell-5258dd471bb3115b",
     "locked": true,
     "schema_version": 1,
     "solution": false
    }
   },
   "source": [
    "The obtained result after executing the cell above should be:\n",
    "```\n",
    "Positions of pieces of cheese are:\n",
    "[(0, 3), (1, 2), (3, 4), (5, 4), (8, 9)]\n",
    "Player position is:\n",
    "(0, 1)\n",
    "The vertices of the meta graph are:\n",
    "[(0, 1), (0, 3), (1, 2), (3, 4), (5, 4), (8, 9)]\n",
    "```"
   ]
  },
  {
   "cell_type": "markdown",
   "metadata": {
    "nbgrader": {
     "grade": false,
     "grade_id": "cell-a3525880891028c3",
     "locked": true,
     "schema_version": 1,
     "solution": false
    }
   },
   "source": [
    "## Exercice B (1pt)\n",
    "\n",
    "With the vertices defined we now need to connect them with weighted edges. To do this we are going to define the create_edge_weight_maze_graph function.\n",
    "\n",
    "This function has two inputs, 'maze_graph' and 'vertices', and returns an adjacency matrix containing distances between each pair of vertices in the meta graph. Note that for the moment we are only interested in the shortest distance, but we disregard the corresponding shortest path.\n",
    "\n",
    "Tip: You don't need to recode the Dijkstra function or to copy the code from Lab 3. The Dijkstra functions is already defined in the utils package and can be called as follows:\n",
    "\n",
    "utils.Dijkstra(maze_graph,initial_vertex).\n",
    "\n",
    "This function returns an array containing three elements:\n",
    "\n",
    "    1. an array containing the explored vertices in the order that they were explored\n",
    "    2. the parent dictionary containing the source vertex for each one of the vertices of the maze.\n",
    "    3. a dictionary where each key is a vertex on the maze graph and each value is the distance from the initial vertex to the given vertex"
   ]
  },
  {
   "cell_type": "code",
   "execution_count": 6,
   "metadata": {
    "collapsed": true,
    "nbgrader": {
     "grade": false,
     "grade_id": "exercice_B",
     "locked": false,
     "points": "1",
     "schema_version": 1,
     "solution": true
    }
   },
   "outputs": [],
   "source": [
    "import utils\n",
    "\n",
    "def create_edge_weight_maze_graph(maze_graph,vertices):\n",
    "    adjacency_matrix={}\n",
    "    # for each initial_vertex in vertices:\n",
    "    #     considere this vertex as source vertex\n",
    "    #     use this source vertex and maze_graph to browse the graph with dijkstra algorithm\n",
    "    #     for each vertex in vertices:\n",
    "        #     use adjacency_matrix to store distances between source vertex and each vertex in the graph.\n",
    "        #     remember to not store the distance from the source vertex to itself.\n",
    "    #\n",
    "    # YOUR CODE HERE\n",
    "    #\n",
    "    for initial_vertex in vertices:\n",
    "        explored_vertices, parent_dict, distances = utils.Dijkstra(maze_graph, initial_vertex)\n",
    "        #print(distances)\n",
    "        adjacency_matrix[initial_vertex] = {}\n",
    "        #for vertex, distance in zip(explored_vertices, distances):\n",
    "        for vertex in vertices:\n",
    "            if vertex != initial_vertex:\n",
    "                adjacency_matrix[initial_vertex][vertex] = distances[vertex]\n",
    "    return adjacency_matrix"
   ]
  },
  {
   "cell_type": "code",
   "execution_count": 7,
   "metadata": {
    "deletable": false,
    "nbgrader": {
     "grade": true,
     "grade_id": "exercice_B",
     "locked": true,
     "points": "1",
     "schema_version": 1,
     "solution": false
    }
   },
   "outputs": [
    {
     "name": "stdout",
     "output_type": "stream",
     "text": [
      "the adjacency matrix is:\n",
      "(0, 0):{(2, 0): 2, (2, 1): 3, (0, 1): 3}\n",
      "(0, 1):{(0, 0): 3, (2, 0): 3, (2, 1): 3}\n",
      "(2, 0):{(0, 0): 2, (2, 1): 1, (0, 1): 3}\n",
      "(2, 1):{(0, 0): 3, (2, 0): 1, (0, 1): 3}\n"
     ]
    }
   ],
   "source": [
    "from imports import maze\n",
    "#\n",
    "# AUTOGRADER TEST - DO NOT REMOVE\n",
    "#\n",
    "\n",
    "width = 3\n",
    "height = 3\n",
    "number_of_cheeses = 3\n",
    "_,_,_,maze_graph = maze.generate_maze(width,height,0,True,False,0.5,5,\"\",0)\n",
    "pieces_of_cheese,player1_location,_ = maze.generate_pieces_of_cheese(\n",
    "                                        number_of_cheeses, width, height, False, None, None, False)\n",
    "vertices=create_vertices_meta_graph(pieces_of_cheese, player1_location)\n",
    "adjacency_matrix=create_edge_weight_maze_graph(maze_graph,vertices)\n",
    "print(\"the adjacency matrix is:\")\n",
    "for key,value in sorted(adjacency_matrix.items()):\n",
    "    print(\"{}:{}\".format(key,value))"
   ]
  },
  {
   "cell_type": "markdown",
   "metadata": {
    "nbgrader": {
     "grade": false,
     "grade_id": "cell-f884f22bfb2cb990",
     "locked": true,
     "schema_version": 1,
     "solution": false
    }
   },
   "source": [
    "After coding create_edge_weight_maze_graph and runing the test code, the result should be:\n",
    "\n",
    "```\n",
    "the adjacency matrix is:\n",
    "(0, 0):{(0, 1): 3, (2, 0): 2, (2, 1): 3}\n",
    "(0, 1):{(2, 0): 3, (0, 0): 3, (2, 1): 3}\n",
    "(2, 0):{(0, 1): 3, (0, 0): 2, (2, 1): 1}\n",
    "(2, 1):{(0, 1): 3, (2, 0): 1, (0, 0): 3}\n",
    "```"
   ]
  },
  {
   "cell_type": "markdown",
   "metadata": {
    "nbgrader": {
     "grade": false,
     "grade_id": "cell-8f27c563cb61f679",
     "locked": true,
     "schema_version": 1,
     "solution": false
    }
   },
   "source": [
    "## Exercice C (1pt)\n",
    "\n",
    "With the metagraph in hand you are now ready to program a bruteforce search for the Traveling Salesman Problem (TSP).\n",
    "\n",
    "You will define the bruteforceTSP function which uses bruteforce search to find the shortest walk going through all vertices. Note that these are the vertices from the metagraph, which represent positions of the player and cheeses in the maze.\n",
    "\n",
    "To implement this algorithm, you will be using a recursive function as introduced in the lessons. The function bruteforceTSP defines all the variables needed, computes the metagraph and then execute a recursive function called auxbf to find the shortest walk through vertices. \n",
    "\n",
    "The auxbf function is responsible for searching the shortest walk possible in a recursive way given an already started, but preliminary, walk."
   ]
  },
  {
   "cell_type": "code",
   "execution_count": 8,
   "metadata": {
    "collapsed": true,
    "nbgrader": {
     "grade": false,
     "grade_id": "exercice_C",
     "locked": false,
     "points": "1",
     "schema_version": 1,
     "solution": true
    }
   },
   "outputs": [],
   "source": [
    "def auxbf(current_walk,best_walk,adjacency_matrix,vertices,current_distance,best_distance):\n",
    "    # if length of current walk is larger than the order of the graph:\n",
    "    #    if moreover the current distance is shorter than the best distance obtained so far:\n",
    "    #        update the value of the best distance\n",
    "    #        update the corresponding best walk\n",
    "    # otherwise:\n",
    "    #    for any vertex in the graph:\n",
    "    #        if the vertex is not in the current walk:\n",
    "    #            obtain potential values for best walk and best distance by recursively calling auxbf() with updated current walk and current distance\n",
    "    #            if potential distance is shorter than best distance:\n",
    "    #                update the value of the best distance\n",
    "    #                update the corresponding best walk\n",
    "    #\n",
    "    # YOUR CODE HERE\n",
    "    #\n",
    "    if len(current_walk) >= len(vertices):\n",
    "        if current_distance < best_distance:\n",
    "            best_distance = current_distance\n",
    "            best_walk = current_walk\n",
    "    else:\n",
    "        for vertex in vertices:\n",
    "            if not vertex in current_walk:\n",
    "                #current_distance = 0 if len(current_walk) == 0 else current_distance + adjacency_matrix[current_walk[-1]][vertex]\n",
    "                #current_walk = current_walk + [vertex]\n",
    "                last_vertex = current_walk[-1]\n",
    "                temp_walk = current_walk + [vertex]\n",
    "                temp_distance = current_distance + adjacency_matrix[last_vertex][vertex]\n",
    "                pot_walk, pot_distance = auxbf(temp_walk,best_walk,adjacency_matrix,vertices,temp_distance,best_distance)\n",
    "                if pot_distance < best_distance:\n",
    "                    best_distance = pot_distance\n",
    "                    best_walk = pot_walk\n",
    "        \n",
    "    return best_walk,best_distance\n",
    "                    \n",
    "def bruteforceTSP(maze_graph,pieces_of_cheese,player_location):\n",
    "    # first we compute the vertices of the meta_graph:\n",
    "    vertices=create_vertices_meta_graph(pieces_of_cheese, player_location)\n",
    "\n",
    "    # then we create the adjacency matrix of the meta graph\n",
    "    adjacency_matrix = create_edge_weight_maze_graph(maze_graph,vertices)\n",
    "    \n",
    "    # now we can start defining our variables\n",
    "    # current_distance is the length of the walk for the current exploration branch\n",
    "    current_distance = 0\n",
    "    # current_walk is a container for the current exploration branch\n",
    "    current_walk = [player_location]\n",
    "    # best_distance is an indicator of the shortest walk found so far\n",
    "    best_distance = float('inf')\n",
    "    # best_walk is a container for the corresponding walk\n",
    "    best_walk = []\n",
    "    \n",
    "    # we start the exploration:\n",
    "    best_walk, best_distance = auxbf(current_walk,best_walk,adjacency_matrix,vertices,current_distance,best_distance)\n",
    "    return best_walk, best_distance"
   ]
  },
  {
   "cell_type": "code",
   "execution_count": 9,
   "metadata": {
    "deletable": false,
    "nbgrader": {
     "grade": true,
     "grade_id": "exercice_C",
     "locked": true,
     "points": "1",
     "schema_version": 1,
     "solution": false
    }
   },
   "outputs": [
    {
     "name": "stdout",
     "output_type": "stream",
     "text": [
      "one best walk is: [(0, 0), (2, 0), (2, 1), (0, 1)]\n",
      "the best distance is: 6\n"
     ]
    }
   ],
   "source": [
    "#\n",
    "# AUTOGRADER TEST - DO NOT REMOVE\n",
    "#\n",
    "width = 3\n",
    "height = 3\n",
    "number_of_cheeses = 3\n",
    "_,_,_,maze_graph = maze.generate_maze(width,height,0,True,False,0.5,5,\"\",0)\n",
    "pieces_of_cheese,player1_location,_ = maze.generate_pieces_of_cheese(\n",
    "    number_of_cheeses, width, height, False, None, None, False)\n",
    "best_walk,best_distance = bruteforceTSP(maze_graph,pieces_of_cheese,player1_location)\n",
    "print(\"one best walk is: {}\".format(best_walk))\n",
    "print(\"the best distance is: {}\".format(best_distance))\n"
   ]
  },
  {
   "cell_type": "markdown",
   "metadata": {
    "nbgrader": {
     "grade": false,
     "grade_id": "cell-87adf01675171a7a",
     "locked": true,
     "schema_version": 1,
     "solution": false
    }
   },
   "source": [
    "The result of test cell above should be:\n",
    "```\n",
    "one best walk is: [(0, 0), (2, 0), (2, 1), (0, 1)]\n",
    "the best distance is: 6\n",
    "```"
   ]
  },
  {
   "cell_type": "markdown",
   "metadata": {
    "nbgrader": {
     "grade": false,
     "grade_id": "cell-f920e5188fb21b75",
     "locked": true,
     "schema_version": 1,
     "solution": false
    }
   },
   "source": [
    "## Exercice D (1pt)\n",
    "\n",
    "With the travelling salesman problem solved with a bruteforce solution, we can now generate lists of movement that traverse the graph collecting all the cheeses in an optimal way. To do this we are going to define a A_to_all function.\n",
    "\n",
    "We have seen in both Lab 2 and Lab 3 the A_to_B function which receives an initial vertex A and a target vertex B and returns the list of movements needed to reach B starting from A. We will use this function and the bruteforceTSP function from the last exercise to define the A_to_all function. The A_to_all function receives an initial vertex A and the ordered list of vertices of the meta graph to visit and returns a list of all movements needed to grab all pieces of cheese starting from the initial vertex A.\n",
    "\n",
    "Tip: A_to_B function is defined in utils.py,and uses Dijkstra algorithm to find the list of movements to do to move optimally from point A to B. We use the following format to call it:\n",
    "\n",
    "utils.A_to_B(maze_graph,initial_vertex,target_vertex):"
   ]
  },
  {
   "cell_type": "code",
   "execution_count": 10,
   "metadata": {
    "collapsed": true,
    "nbgrader": {
     "grade": false,
     "grade_id": "exercice_D",
     "locked": false,
     "points": "1",
     "schema_version": 1,
     "solution": true
    }
   },
   "outputs": [],
   "source": [
    "def A_to_all(maze_graph,initial_vertex,vertices):\n",
    "    list_of_movement=list()\n",
    "    #\n",
    "    # YOUR CODE HERE\n",
    "    #\n",
    "    best_walk, best_distance = bruteforceTSP(maze_graph, vertices, initial_vertex)\n",
    "    for i in range(len(best_walk)-1):\n",
    "        initial_vertex, target_vertex = best_walk[i], best_walk[i+1]\n",
    "        list_of_movement += utils.A_to_B(maze_graph,initial_vertex,target_vertex)\n",
    "    return list_of_movement"
   ]
  },
  {
   "cell_type": "code",
   "execution_count": 11,
   "metadata": {
    "deletable": false,
    "nbgrader": {
     "grade": true,
     "grade_id": "exercice_D",
     "locked": true,
     "points": "1",
     "schema_version": 1,
     "solution": false
    }
   },
   "outputs": [
    {
     "name": "stdout",
     "output_type": "stream",
     "text": [
      "the list of movements to do is:  ['R', 'R', 'U', 'L', 'L']\n"
     ]
    }
   ],
   "source": [
    "#\n",
    "# AUTOGRADER TEST - DO NOT REMOVE\n",
    "#\n",
    "\n",
    "width=3\n",
    "height=3\n",
    "number_of_cheeses=3\n",
    "_,_,_,maze_graph=maze.generate_maze(width,height,0,True,False,0.5,5,\"\",0)\n",
    "pieces_of_cheese,player1_location,_=maze.generate_pieces_of_cheese(number_of_cheeses, width, height, False, None, None, False)\n",
    "list_of_movement=A_to_all(maze_graph,player1_location,pieces_of_cheese)\n",
    "print(\"the list of movements to do is: \",list_of_movement)"
   ]
  },
  {
   "cell_type": "markdown",
   "metadata": {
    "nbgrader": {
     "grade": false,
     "grade_id": "cell-b8e583b67851c18b",
     "locked": true,
     "schema_version": 1,
     "solution": false
    }
   },
   "source": [
    "The result obtained when A_to_all function is correctly defined corresponds to:\n",
    "\n",
    "the list of movements to do is:  ['R', 'R', 'U', 'L', 'L']"
   ]
  },
  {
   "cell_type": "markdown",
   "metadata": {
    "nbgrader": {
     "grade": false,
     "grade_id": "cell-9fbe467ee15b7a64",
     "locked": true,
     "schema_version": 1,
     "solution": false
    }
   },
   "source": [
    "## Exercice E (1pt)\n",
    "\n",
    "Now with the A_to_all function you have all the tools needed to be able to play pyrat and find all the cheeses on the maze with the minimum distance. You are going to have to define two functions:\n",
    "\n",
    "The first one is the preprocessing function which will generate a FIFO queue and store in it the movements variable using the A_to_all function.\n",
    "\n",
    "The second one is the turn function which will use that FIFO queue to recover the movements from the movement list, one at a time.\n",
    "\n"
   ]
  },
  {
   "cell_type": "code",
   "execution_count": 12,
   "metadata": {
    "collapsed": true,
    "nbgrader": {
     "grade": false,
     "grade_id": "exercice_E",
     "locked": false,
     "points": "1",
     "schema_version": 1,
     "solution": true
    }
   },
   "outputs": [],
   "source": [
    "def FIFO_pop(FIFO_queue):\n",
    "    return FIFO_queue.pop(0)\n",
    "\n",
    "movements = list()\n",
    "\n",
    "def preprocessing(maze_graph, mazeWidth, mazeHeight, playerLocation, opponentLocation, piecesOfCheese, timeAllowed):\n",
    "    global movements\n",
    "    # this function computes the list of movements from the previous exercise\n",
    "    # and store them in the variable movements\n",
    "    #\n",
    "    # YOUR CODE HERE\n",
    "    #\n",
    "    movements = A_to_all(maze_graph, playerLocation, piecesOfCheese)\n",
    "    \n",
    "def turn(maze_graph, mazeWidth, mazeHeight, playerLocation, opponentLocation, playerScore, opponentScore, piecesOfCheese, timeAllowed):    \n",
    "    # this function returns the first movement in the variable movements\n",
    "    # and removes it\n",
    "    #\n",
    "    # YOUR CODE HERE\n",
    "    #\n",
    "    return movements.pop(0)\n"
   ]
  },
  {
   "cell_type": "code",
   "execution_count": 13,
   "metadata": {
    "deletable": false,
    "nbgrader": {
     "grade": true,
     "grade_id": "exercice_E",
     "locked": true,
     "points": "1",
     "schema_version": 1,
     "solution": false
    }
   },
   "outputs": [
    {
     "data": {
      "text/html": [
       "\n",
       "        <style type=text/css>\n",
       "            #gjs-canvas{\n",
       "                border: 1px solid #ccc;\n",
       "                width: 800px;\n",
       "                height: 300px;      \n",
       "                display: block;\n",
       "                position: fixed;\n",
       "                bottom: 0;\n",
       "                left: 0;\n",
       "                right: 0;\n",
       "                margin-left: auto;\n",
       "                margin-right: auto;\n",
       "            }\n",
       "            \n",
       "            \n",
       "            \n",
       "        </style>\n",
       "        <script src=\"gamejs-2.0.1.js\"></script>\n",
       "        <script>\n",
       "        header = parseInt(document.getElementById(\"header\").clientHeight);\n",
       "        height = document.body.clientHeight;\n",
       "        new_height = height-300-header;\n",
       "        window.onresize = function(event) {\n",
       "                height = document.body.clientHeight;\n",
       "                header = parseInt(document.getElementById(\"header\").clientHeight);\n",
       "            if(do_resize)\n",
       "            {\n",
       "                new_height = height-300-header;\n",
       "            }\n",
       "            else\n",
       "            {\n",
       "                new_height = height-header;\n",
       "            }\n",
       "                document.getElementById(\"site\").style.height = String(new_height)+\"px\"\n",
       "        };\n",
       "            console.log(height,header,300,new_height)\n",
       "            document.getElementById(\"site\").style.height = String(new_height)+\"px\"\n",
       "\n",
       "                var resize = false;\n",
       "                var myEle = document.getElementById(\"gjs-canvas\");\n",
       "                var do_resize = true;\n",
       "                if(!myEle){\n",
       "                var squares_height = 15;\n",
       "                var squares_width = 21;\n",
       "\n",
       "                var score1 = 0;\n",
       "                var moves1 = 0;\n",
       "                var miss1 = 0;\n",
       "                var stuck1 = 0;\n",
       "                var p1name = \"RatName\"\n",
       "\n",
       "                var score2 = 0;\n",
       "                var moves2 = 0;\n",
       "                var miss2 = 0;\n",
       "                var stuck2 = 0;\n",
       "                var p2name = \"PythonName\"\n",
       "\n",
       "                var labyrinth = \"1 3 3 1 1 1 3 3 1 3 1 1 1 9 3###1 0 2 4 1 3 9 0 1 0 2 1 2 2 2###1 0 0 0 2 1 2 1 0 3 2 1 3 2 2###2 1 0 3 0 1 0 3 3 0 1 2 6 2 2###2 0 1 3 3 1 2 3 0 1 2 3 3 2 2###1 2 3 1 0 2 0 2 1 1 3 0 0 0 3###0 1 2 0 1 3 0 1 3 2 0 0 3 0 3###6 3 1 3 0 3 2 2 3 2 8 1 2 2 2###0 0 0 3 0 9 3 0 4 3 1 3 4 1 3###1 2 2 2 2 9 1 1 2 1 3 0 3 0 3###0 1 3 3 2 0 1 3 0 0 3 2 0 2 6###0 0 1 0 3 2 2 1 3 3 0 3 2 1 3###2 1 1 2 2 2 2 0 1 0 3 3 2 0 3###0 1 3 2 3 3 8 0 3 2 0 2 0 2 2###2 2 3 1 2 0 0 1 3 3 2 2 6 2 2###3 0 0 0 1 3 6 2 1 0 2 9 2 0 3###0 0 1 3 2 0 3 1 2 2 2 1 9 3 2###0 3 2 1 3 2 2 2 2 0 3 2 2 0 3###1 0 1 0 3 3 0 3 3 3 0 2 2 2 6###2 0 6 1 3 4 2 0 2 6 3 0 3 1 2###1 9 0 2 8 3 0 3 8 0 8 3 1 2 2###\";\n",
       "                var pieces_of_cheese = ['8, 8; 9, 4'];\n",
       "                var player1_location = [[0,0]];\n",
       "                var player2_location = [[-1,-1]];\n",
       "                var turn = 0;\n",
       "                var max_turn = 0;\n",
       "\n",
       "                    require.setModuleRoot('./');\n",
       "                    require.run('display');\n",
       "                }\n",
       "\n",
       "\n",
       "\n",
       "        </script>\n",
       "        \n",
       "        "
      ],
      "text/plain": [
       "<IPython.core.display.HTML object>"
      ]
     },
     "metadata": {},
     "output_type": "display_data"
    },
    {
     "data": {
      "text/html": [
       "\n",
       "                <script>\n",
       "                squares_height = 10;\n",
       "                squares_width = 10;\n",
       "\n",
       "                score1 = 7;\n",
       "                moves1 = 45;\n",
       "                miss1 = 0;\n",
       "                stuck1 = 0;\n",
       "                p1name = \"RatName\"\n",
       "\n",
       "                score2 = 0;\n",
       "                moves2 = 0;\n",
       "                miss2 = 0;\n",
       "                stuck2 = 0;\n",
       "                p2name = \"PythonName\"\n",
       "\n",
       "                labyrinth = \"1 1 1 1 1 1 1 3 1 3###1 3 1 12 1 1 1 1 1 2###0 3 0 2 3 2 2 1 2 2###1 4 3 0 0 1 1 3 3 2###1 8 0 0 3 0 3 0 2 3###0 1 1 3 2 2 3 0 1 2###2 2 2 1 0 1 2 2 3 2###2 2 1 1 2 2 0 1 2 2###2 2 3 1 1 0 3 2 6 2###2 0 6 1 2 2 2 0 3 6###\";\n",
       "                pieces_of_cheese = ['2, 0; 1, 3; 6, 7; 4, 4; 1, 0; 7, 1; 9, 2', '2, 0; 1, 3; 6, 7; 4, 4; 1, 0; 7, 1; 9, 2', '2, 0; 1, 3; 6, 7; 4, 4; 1, 0; 7, 1; 9, 2', '2, 0; 1, 3; 6, 7; 4, 4; 1, 0; 7, 1; 9, 2', '2, 0; 1, 3; 6, 7; 4, 4; 1, 0; 7, 1; 9, 2', '2, 0; 1, 3; 6, 7; 4, 4; 1, 0; 7, 1; 9, 2', '2, 0; 6, 7; 4, 4; 1, 0; 7, 1; 9, 2', '2, 0; 6, 7; 4, 4; 1, 0; 7, 1; 9, 2', '2, 0; 6, 7; 4, 4; 1, 0; 7, 1; 9, 2', '2, 0; 6, 7; 4, 4; 1, 0; 7, 1; 9, 2', '2, 0; 6, 7; 4, 4; 1, 0; 7, 1; 9, 2', '2, 0; 6, 7; 4, 4; 1, 0; 7, 1; 9, 2', '2, 0; 6, 7; 4, 4; 1, 0; 7, 1; 9, 2', '2, 0; 6, 7; 4, 4; 1, 0; 7, 1; 9, 2', '2, 0; 6, 7; 4, 4; 1, 0; 7, 1; 9, 2', '2, 0; 4, 4; 1, 0; 7, 1; 9, 2', '2, 0; 4, 4; 1, 0; 7, 1; 9, 2', '2, 0; 4, 4; 1, 0; 7, 1; 9, 2', '2, 0; 4, 4; 1, 0; 7, 1; 9, 2', '2, 0; 4, 4; 1, 0; 7, 1; 9, 2', '2, 0; 4, 4; 1, 0; 7, 1; 9, 2', '2, 0; 4, 4; 1, 0; 7, 1; 9, 2', '2, 0; 4, 4; 1, 0; 7, 1; 9, 2', '2, 0; 4, 4; 1, 0; 7, 1; 9, 2', '2, 0; 1, 0; 7, 1; 9, 2', '2, 0; 1, 0; 7, 1; 9, 2', '2, 0; 1, 0; 7, 1; 9, 2', '2, 0; 1, 0; 7, 1; 9, 2', '2, 0; 1, 0; 7, 1; 9, 2', '2, 0; 1, 0; 7, 1; 9, 2', '2, 0; 1, 0; 7, 1; 9, 2', '2, 0; 1, 0; 7, 1; 9, 2', '2, 0; 1, 0; 7, 1; 9, 2', '2, 0; 1, 0; 9, 2', '2, 0; 1, 0; 9, 2', '2, 0; 1, 0; 9, 2', '2, 0; 1, 0', '2, 0; 1, 0', '2, 0; 1, 0', '2, 0; 1, 0', '2, 0; 1, 0', '2, 0; 1, 0', '2, 0; 1, 0', '2, 0; 1, 0', '2, 0; 1, 0', '2, 0; 1, 0', '2, 0; 1, 0', '2, 0; 1, 0', '2, 0; 1, 0', '2, 0; 1, 0', '2, 0; 1, 0', '2, 0; 1, 0', '2, 0; 1, 0', '2, 0; 1, 0', '2, 0; 1, 0', '2, 0; 1, 0', '1, 0'];\n",
       "                player1_location = [[0, 0], [0, 1], [0, 2], [0, 3], [0, 3], [1, 3], [2, 3], [3, 3], [3, 4], [3, 5], [3, 6], [3, 7], [4, 7], [5, 7], [6, 7], [5, 7], [4, 7], [3, 7], [3, 6], [3, 5], [3, 4], [3, 3], [4, 3], [4, 4], [4, 3], [4, 2], [4, 2], [4, 1], [4, 0], [5, 0], [5, 1], [6, 1], [7, 1], [8, 1], [9, 1], [9, 2], [9, 1], [8, 1], [7, 1], [6, 1], [5, 1], [5, 0], [4, 0], [4, 1], [3, 1], [3, 1], [3, 1], [3, 1], [3, 1], [3, 1], [3, 1], [3, 1], [3, 1], [3, 1], [2, 1], [2, 0], [1, 0]];\n",
       "                player2_location = [[-1, -1], [-1, -1], [-1, -1], [-1, -1], [-1, -1], [-1, -1], [-1, -1], [-1, -1], [-1, -1], [-1, -1], [-1, -1], [-1, -1], [-1, -1], [-1, -1], [-1, -1], [-1, -1], [-1, -1], [-1, -1], [-1, -1], [-1, -1], [-1, -1], [-1, -1], [-1, -1], [-1, -1], [-1, -1], [-1, -1], [-1, -1], [-1, -1], [-1, -1], [-1, -1], [-1, -1], [-1, -1], [-1, -1], [-1, -1], [-1, -1], [-1, -1], [-1, -1], [-1, -1], [-1, -1], [-1, -1], [-1, -1], [-1, -1], [-1, -1], [-1, -1], [-1, -1], [-1, -1], [-1, -1], [-1, -1], [-1, -1], [-1, -1], [-1, -1], [-1, -1], [-1, -1], [-1, -1], [-1, -1], [-1, -1], [-1, -1]];\n",
       "                turn = 0;\n",
       "                max_turn = 57;\n",
       "                resize = true;\n",
       "                </script>\n",
       "\n",
       "            "
      ],
      "text/plain": [
       "<IPython.core.display.HTML object>"
      ]
     },
     "metadata": {},
     "output_type": "display_data"
    }
   ],
   "source": [
    "import pyrat\n",
    "\n",
    "#\n",
    "# AUTOGRADER TEST - DO NOT REMOVE\n",
    "#\n",
    "\n",
    "pyrat.start_display()\n",
    "game = pyrat.Game(preprocess_1=preprocessing,turn_1=turn)\n",
    "game.play_match()\n",
    "pyrat.display_game(game)\n"
   ]
  },
  {
   "cell_type": "markdown",
   "metadata": {
    "nbgrader": {
     "grade": false,
     "grade_id": "cell-25448f3fbea5e306",
     "locked": true,
     "schema_version": 1,
     "solution": false
    }
   },
   "source": [
    "## Extra\n",
    "\n",
    "In the lecture you saw the backtracking algorithm which allow us to solve the TSP with a smaller complexity than the bruteforce\n",
    "\n",
    "In the next cell you will define the backtrackingTSP function which uses backtraking search to find the optimal walk between vertexs, and then to compare its complexity with bruteforceTSP one. Note that backtraking search stops when the distance obtained is already bigger then the best one even if we still have not visited all the vertexs."
   ]
  },
  {
   "cell_type": "code",
   "execution_count": null,
   "metadata": {
    "collapsed": true,
    "nbgrader": {
     "grade": false,
     "grade_id": "cell-91075efdeb34aa77",
     "locked": false,
     "schema_version": 1,
     "solution": false
    }
   },
   "outputs": [],
   "source": [
    "def auxbt(current_walk,best_walk,adjacency_matrix,vertices,current_distance,best_distance):\n",
    "    # First we test if the current walk have gone through all vertices\n",
    "    # if that is the case, we compare the current distance to the best distance\n",
    "    # and in the case it is better we update the best distance and the best walk\n",
    "    # if the current_walk is not finished we see if the current distance is lower than best distance\n",
    "    # if that is the case, for each possible vertex not explored,\n",
    "    # we add it and call ourself recursively    \n",
    "    #\n",
    "    # YOUR CODE HERE\n",
    "    #\n",
    "    return best_walk,best_distance\n",
    "                    \n",
    "                    \n",
    "def backtrackingTSP(maze_graph,pieces_of_cheese,player_location):\n",
    "    \n",
    "    # first we compute the vertices of the meta_graph:\n",
    "    vertices=create_vertices_meta_graph(pieces_of_cheese, player_location)\n",
    "\n",
    "    # then we create the adjacency matrix of the meta graph\n",
    "    adjacency_matrix = create_edge_weight_maze_graph(maze_graph,vertices)\n",
    "    \n",
    "    # now we can start defining our variables\n",
    "    # current_distance is the length of the walk for the current exploration branch\n",
    "    current_distance = 0\n",
    "    # current_walk is a container for the current exploration branch\n",
    "    current_walk = [player_location]\n",
    "    # best_distance is an indicator of the shortest walk found so far\n",
    "    best_distance = float('inf')\n",
    "    # best_walk is a container for the corresponding walk\n",
    "    best_walk = []\n",
    "    \n",
    "    # we start the exploration:\n",
    "    best_walk, best_distance = auxbt(current_walk,best_walk,adjacency_matrix,pieces_of_cheese,current_distance,best_distance)\n",
    "    return best_walk, best_distance"
   ]
  },
  {
   "cell_type": "code",
   "execution_count": null,
   "metadata": {
    "collapsed": true,
    "nbgrader": {
     "grade": false,
     "grade_id": "cell-3c3589429576e873",
     "locked": true,
     "schema_version": 1,
     "solution": false
    }
   },
   "outputs": [],
   "source": [
    "import time\n",
    "%matplotlib inline\n",
    "import matplotlib.pyplot as plt\n",
    "\n",
    "maze_shape = [(3,3),(5,6),(6,7),(9,10),(11,13)]\n",
    "poc = [2,3,4,5,6]\n",
    "\n",
    "bruteforce_time = list()\n",
    "backtracking_time = list()\n",
    "maze_size=list()\n",
    "for i in range(len(maze_shape)):\n",
    "    width,height = maze_shape[i]\n",
    "    _,_,_,maze_graph = maze.generate_maze(width,height,0,True,False,0.5,5,\"\",0)\n",
    "    pieces_of_cheese,player1_location,_ = maze.generate_pieces_of_cheese(\n",
    "        poc[i], width, height, False, None, None, False)\n",
    "    start = time.time()\n",
    "    bruteforceTSP(maze_graph,pieces_of_cheese,player1_location)\n",
    "    bruteforce_time.append(time.time()-start)\n",
    "    start = time.time()\n",
    "    backtrackingTSP(maze_graph,pieces_of_cheese,player1_location)\n",
    "    backtracking_time.append(time.time() - start)\n",
    "    maze_size.append(width*height)\n",
    "    \n",
    "plt.plot(maze_size,bruteforce_time,color=\"blue\")\n",
    "plt.plot(maze_size,backtracking_time,color=\"green\")"
   ]
  },
  {
   "cell_type": "markdown",
   "metadata": {
    "nbgrader": {
     "grade": false,
     "grade_id": "cell-58ace75adfb29a00",
     "locked": true,
     "schema_version": 1,
     "solution": false
    }
   },
   "source": [
    "From the figure above we can see that backtracking search (green curve) is less affected by the total number of vertices when compared to the bruteforce search (blue curve), which corresponds to the expected result as the complexity of the backtracking algorithm is in average smaller than the one from the brute force algorithm."
   ]
  }
 ],
 "metadata": {
  "kernelspec": {
   "display_name": "Python 3 [3.6]",
   "language": "python",
   "name": "python3"
  },
  "language_info": {
   "codemirror_mode": {
    "name": "ipython",
    "version": 3
   },
   "file_extension": ".py",
   "mimetype": "text/x-python",
   "name": "python",
   "nbconvert_exporter": "python",
   "pygments_lexer": "ipython3",
   "version": "3.6.4"
  }
 },
 "nbformat": 4,
 "nbformat_minor": 2
}
