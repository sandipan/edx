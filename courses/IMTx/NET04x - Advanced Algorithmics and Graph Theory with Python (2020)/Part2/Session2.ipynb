{
 "cells": [
  {
   "cell_type": "markdown",
   "metadata": {
    "nbgrader": {
     "grade": false,
     "grade_id": "cell-9e3aa2054048d9c4",
     "locked": true,
     "schema_version": 1,
     "solution": false
    }
   },
   "source": [
    "Welcome to the second Lab session of the Advanced algorithmics and graph theory with Python. In this session you will learn how to create stack and queue structures using lists in python and then use these data structures to create walks on the PyRat Maze.\n",
    "\n",
    "The main objectives of this exercise are to:\n",
    "* Write functions to follow a shortest walk in a non weighted graph\n",
    "* Measure latency of the execution of a code\n",
    "\n",
    "The idea here is to show you how to use simpler structures in order to create more advanced ones. All of the structures used here are already available by default with python, but doing them using list manipulation is a very good exercise."
   ]
  },
  {
   "cell_type": "markdown",
   "metadata": {
    "nbgrader": {
     "grade": false,
     "grade_id": "cell-ed20eb2a06f8c5f9",
     "locked": true,
     "schema_version": 1,
     "solution": false
    }
   },
   "source": [
    "# List manipulation\n",
    "\n",
    "The first thing we want you to know is list manipulation. Lists in python are containers of objects which can be accessed by a numerical index (starting by 0), which can be accessed in reverse order (-1 is the last element of the list).\n",
    "\n",
    "The two main methods for list manipulation are append and pop. Append adds an element at the end of the list. Pop removes the element at the specified index. \n",
    "\n",
    "Finally lists have an interesting property, an empty list is treated as False in a if statement"
   ]
  },
  {
   "cell_type": "code",
   "execution_count": 7,
   "metadata": {
    "nbgrader": {
     "grade": false,
     "grade_id": "cell-649afa0ec6299b1e",
     "locked": true,
     "schema_version": 1,
     "solution": false
    }
   },
   "outputs": [
    {
     "name": "stdout",
     "output_type": "stream",
     "text": [
      "Appending 1,2,3 to the list\n",
      "[1]\n",
      "[1, 2]\n",
      "[1, 2, 3]\n",
      "Access element 0\n",
      "1\n",
      "Access all elements starting by index 1\n",
      "[2, 3]\n",
      "Removing all elements on the list in the order of middle, last, first\n",
      "2 [1, 3]\n",
      "3 [1]\n",
      "1 []\n",
      "Appending 3,2,1 to the list\n",
      "[3]\n",
      "[3, 2]\n",
      "[3, 2, 1]\n",
      "Non empty lists are considered as true in a if statement\n",
      "The test list now contains: []\n",
      "Empty lists are considered as false in a if statement\n"
     ]
    }
   ],
   "source": [
    "test_list = list()\n",
    "\n",
    "print(\"Appending 1,2,3 to the list\")\n",
    "\n",
    "# Appending to the list\n",
    "test_list.append(1)\n",
    "print(test_list)\n",
    "\n",
    "test_list.append(2)\n",
    "print(test_list)\n",
    "\n",
    "test_list.append(3)\n",
    "print(test_list)\n",
    "\n",
    "print(\"Access element 0\")\n",
    "element_zero = test_list[0]\n",
    "print(element_zero)\n",
    "\n",
    "print(\"Access all elements starting by index 1\")\n",
    "element_one_and_after = test_list[1:]\n",
    "print(element_one_and_after)\n",
    "\n",
    "print(\"Removing all elements on the list in the order of middle, last, first\")\n",
    "\n",
    "\n",
    "removed_element = test_list.pop(1)\n",
    "print(removed_element,test_list)\n",
    "\n",
    "removed_element = test_list.pop(-1)\n",
    "print(removed_element,test_list)\n",
    "\n",
    "removed_element = test_list.pop(0)\n",
    "print(removed_element,test_list)\n",
    "\n",
    "print(\"Appending 3,2,1 to the list\")\n",
    "\n",
    "test_list.append(3)\n",
    "print(test_list)\n",
    "\n",
    "test_list.append(2)\n",
    "print(test_list)\n",
    "\n",
    "test_list.append(1)\n",
    "print(test_list)\n",
    "\n",
    "if test_list:\n",
    "    print(\"Non empty lists are considered as true in a if statement\")\n",
    "    \n",
    "test_list = list()\n",
    "print(\"The test list now contains: {}\".format(test_list))\n",
    "\n",
    "if not test_list:\n",
    "    print(\"Empty lists are considered as false in a if statement\")\n",
    "    "
   ]
  },
  {
   "cell_type": "markdown",
   "metadata": {
    "collapsed": true,
    "nbgrader": {
     "grade": false,
     "grade_id": "cell-b359dfb2d5be22d3",
     "locked": true,
     "schema_version": 1,
     "solution": false
    }
   },
   "source": [
    "# LIFO Stack\n",
    "\n",
    "LIFO (Last In, First Out) is a stack where the most recent elements are the first ones to be removed from the stack. In the next cell you can see one of the many possible implementations of LIFO using lists. There are two main functions:\n",
    "\n",
    "1. Push: responsable for inserting a new element on the correct position of the stack\n",
    "2. Pop: responsable for removing the correct element from the stack\n"
   ]
  },
  {
   "cell_type": "code",
   "execution_count": 8,
   "metadata": {
    "collapsed": true,
    "nbgrader": {
     "grade": false,
     "grade_id": "cell-680b78a07319c382",
     "locked": true,
     "schema_version": 1,
     "solution": false
    }
   },
   "outputs": [],
   "source": [
    "LIFO_list = list()\n",
    "\n",
    "def LIFO_push(LIFO_list,element):\n",
    "    LIFO_list.append(element)\n",
    "\n",
    "def LIFO_pop(LIFO_list):\n",
    "    return LIFO_list.pop(-1)"
   ]
  },
  {
   "cell_type": "markdown",
   "metadata": {
    "nbgrader": {
     "grade": false,
     "grade_id": "cell-151345187be88af4",
     "locked": true,
     "schema_version": 1,
     "solution": false
    }
   },
   "source": [
    "We are going to test LIFO by adding three values (1,2,3) and verifying that when we do a pop operation they come out in the opposite order (3,2,1). We are also going to print the list at the intermediate steps to ensure that everything is working as desired."
   ]
  },
  {
   "cell_type": "code",
   "execution_count": 9,
   "metadata": {
    "nbgrader": {
     "grade": false,
     "grade_id": "cell-caacf02ddc108428",
     "locked": true,
     "schema_version": 1,
     "solution": false
    }
   },
   "outputs": [
    {
     "name": "stdout",
     "output_type": "stream",
     "text": [
      "[]\n",
      "Push 1\n",
      "[1]\n",
      "Push 2\n",
      "[1, 2]\n",
      "Push 3\n",
      "[1, 2, 3]\n",
      "Pop 3\n",
      "3 [1, 2]\n",
      "Pop 2\n",
      "2 [1]\n",
      "Pop 1\n",
      "1 []\n"
     ]
    }
   ],
   "source": [
    "print(LIFO_list)\n",
    "print(\"Push 1\")\n",
    "LIFO_push(LIFO_list,1)\n",
    "print(LIFO_list)\n",
    "print(\"Push 2\")\n",
    "LIFO_push(LIFO_list,2)\n",
    "print(LIFO_list)\n",
    "print(\"Push 3\")\n",
    "LIFO_push(LIFO_list,3)\n",
    "print(LIFO_list)\n",
    "print(\"Pop 3\")\n",
    "print(LIFO_pop(LIFO_list),LIFO_list)\n",
    "print(\"Pop 2\")\n",
    "print(LIFO_pop(LIFO_list),LIFO_list)\n",
    "print(\"Pop 1\")\n",
    "print(LIFO_pop(LIFO_list),LIFO_list)\n"
   ]
  },
  {
   "cell_type": "markdown",
   "metadata": {
    "collapsed": true,
    "nbgrader": {
     "grade": false,
     "grade_id": "cell-3678e2c2314587ee",
     "locked": true,
     "schema_version": 1,
     "solution": false
    }
   },
   "source": [
    "Now that you are familiarized with lists and the LIFO stack you can use them to create a Depth-First Search\n",
    "\n",
    "# Depth-First Search (DFS)\n",
    "\n",
    "Depth-First search is a traversal/search algorithm for trees and graphs that starts at a root vertex and explores as far as possible along each branch before backtracking.   \n",
    "\n",
    "## Exercise A (1pt)\n",
    "\n",
    "Complete the DFS function which performs a DFS over a graph using a LIFO stack. It receives the maze map, which is a graph represented in a dictionary, in the same way we used in Lab 1, and a starting position. It should return a list with the order of explored vertices and a dictionary containing the vertices as the keys and their parents as the values. Note that we use a list for keeping track of explored vertices, where a set would be more efficient in practice."
   ]
  },
  {
   "cell_type": "code",
   "execution_count": 13,
   "metadata": {
    "nbgrader": {
     "grade": false,
     "grade_id": "exercise_a",
     "locked": false,
     "points": "1",
     "schema_version": 1,
     "solution": true
    }
   },
   "outputs": [],
   "source": [
    "def add_to_explored_vertices(explored_vertices,vertex):\n",
    "    explored_vertices.append(vertex)\n",
    "\n",
    "def is_explored(explored_vertices,vertex):\n",
    "    return vertex in list(explored_vertices)\n",
    "    \n",
    "def DFS(maze_graph, initial_vertex) :\n",
    "    \n",
    "    # explored vertices list\n",
    "    explored_vertices = list()\n",
    "    \n",
    "    #LIFO stack\n",
    "    queuing_structure = list()\n",
    "    \n",
    "    #Parent Dictionary\n",
    "    parent_dict = dict()\n",
    "        \n",
    "    LIFO_push(queuing_structure,(initial_vertex,None)) # push the initial vertex to the queuing_structure\n",
    "    while len(queuing_structure) > 0: #   while queuing_structure is not empty:\n",
    "        # current_vertex,parent = queuing_structure.pop()\n",
    "        # if the current vertex is not explored\n",
    "            # add current_vertex to explored vertices\n",
    "            # use parent_dict to map the parent of the current vertex\n",
    "            # for each neighbor of the current vertex in the maze graph:\n",
    "                # if neighbor is not explored:\n",
    "                    # push the tuple (neighbor,current_vertex) to the queuing_structure\n",
    "        current_vertex, parent = LIFO_pop(queuing_structure)\n",
    "        if not current_vertex in explored_vertices:\n",
    "            explored_vertices += [current_vertex]\n",
    "            parent_dict[current_vertex] = parent\n",
    "            for neighbor in maze_graph[current_vertex].keys():\n",
    "                if not neighbor in explored_vertices:\n",
    "                    queuing_structure.append((neighbor,current_vertex)) # push the tuple (neighbor,current_vertex) to the queuing_structure\n",
    "                    \n",
    "    return explored_vertices,parent_dict    \n",
    "###################################################################"
   ]
  },
  {
   "cell_type": "code",
   "execution_count": 14,
   "metadata": {
    "deletable": false,
    "nbgrader": {
     "grade": true,
     "grade_id": "exercise_a",
     "locked": true,
     "points": "1",
     "schema_version": 1,
     "solution": false
    }
   },
   "outputs": [
    {
     "name": "stdout",
     "output_type": "stream",
     "text": [
      "Explored vertices order: [(0, 0), (1, 0), (1, 1), (1, 2), (0, 2), (0, 1)]\n",
      "Vertex None is the parent of vertex (0, 0)\n",
      "Vertex (0, 2) is the parent of vertex (0, 1)\n",
      "Vertex (1, 2) is the parent of vertex (0, 2)\n",
      "Vertex (0, 0) is the parent of vertex (1, 0)\n",
      "Vertex (1, 0) is the parent of vertex (1, 1)\n",
      "Vertex (1, 1) is the parent of vertex (1, 2)\n"
     ]
    }
   ],
   "source": [
    "from operator import itemgetter\n",
    "#\n",
    "# AUTOGRADER TEST - DO NOT REMOVE\n",
    "#\n",
    "\n",
    "\n",
    "maze_graph = {\n",
    "    (0,0): {(0,1):1,(1,0):1}, \n",
    "    (0,1): {(0,2):1,(0,0):1},\n",
    "    (1,0): {(1,1):1,(0,0):1},\n",
    "    (1,1): {(1,2):1,(1,0):1},\n",
    "    (0,2): {(0,1):1,(1,2):1},\n",
    "    (1,2): {(0,2):1,(1,1):1}\n",
    "}\n",
    "explored_vertices,parent_dict = DFS(maze_graph, (0,0))\n",
    "print(\"Explored vertices order: {}\".format(explored_vertices))\n",
    "for vertex,parent in sorted(parent_dict.items(),key=itemgetter(0,0)):\n",
    "    print(\"Vertex {} is the parent of vertex {}\".format(parent,vertex))"
   ]
  },
  {
   "cell_type": "markdown",
   "metadata": {
    "nbgrader": {
     "grade": false,
     "grade_id": "cell-41616063dd5d63cd",
     "locked": true,
     "schema_version": 1,
     "solution": false
    }
   },
   "source": [
    "You should see one of the following:\n",
    "\n",
    "```\n",
    "Explored vertices order: [(0, 0), (1, 0), (1, 1), (1, 2), (0, 2), (0, 1)]\n",
    "Vertex None is the parent of vertex (0, 0)\n",
    "Vertex (0, 2) is the parent of vertex (0, 1)\n",
    "Vertex (1, 2) is the parent of vertex (0, 2)\n",
    "Vertex (0, 0) is the parent of vertex (1, 0)\n",
    "Vertex (1, 0) is the parent of vertex (1, 1)\n",
    "Vertex (1, 1) is the parent of vertex (1, 2)\n",
    "```\n",
    "or \n",
    "```\n",
    "Explored vertices order: [(0, 0), (0, 1), (0, 2), (1, 2), (1, 1), (1, 0)]\n",
    "Vertex None is the parent of vertex (0, 0)\n",
    "Vertex (0, 0) is the parent of vertex (0, 1)\n",
    "Vertex (0, 1) is the parent of vertex (0, 2)\n",
    "Vertex (1, 1) is the parent of vertex (1, 0)\n",
    "Vertex (0, 2) is the parent of vertex (1, 2)\n",
    "Vertex (1, 2) is the parent of vertex (1, 1)\n",
    "```"
   ]
  },
  {
   "cell_type": "markdown",
   "metadata": {
    "nbgrader": {
     "grade": false,
     "grade_id": "cell-d97ee434a71b8f8b",
     "locked": true,
     "schema_version": 1,
     "solution": false
    }
   },
   "source": [
    "## FIFO queue\n",
    "\n",
    "FIFO (First In, First Out) is a queue where the oldest elements of the queue are the first ones to be removed. This type of queue has various applications including the Breadth-First search that we will code next.\n",
    "\n",
    "## Exercise B (1pt)\n",
    "\n",
    "Based on the LIFO stack that we defined at the start of this session, create the auxiliary functions push and pop for a FIFO (first in first out) queue "
   ]
  },
  {
   "cell_type": "code",
   "execution_count": 19,
   "metadata": {
    "collapsed": true,
    "nbgrader": {
     "grade": false,
     "grade_id": "exercise_b",
     "locked": false,
     "points": "1",
     "schema_version": 1,
     "solution": true
    }
   },
   "outputs": [],
   "source": [
    "FIFO_list = list()\n",
    "\n",
    "def FIFO_push(FIFO_list,element):\n",
    "    #\n",
    "    # YOUR CODE HERE\n",
    "    #\n",
    "    FIFO_list = FIFO_list.append(element)\n",
    "\n",
    "def FIFO_pop(FIFO_list):\n",
    "    #\n",
    "    # YOUR CODE HERE\n",
    "    #\n",
    "    return FIFO_list.pop(0)"
   ]
  },
  {
   "cell_type": "code",
   "execution_count": 20,
   "metadata": {
    "deletable": false,
    "nbgrader": {
     "grade": true,
     "grade_id": "exercise_b",
     "locked": true,
     "points": "1",
     "schema_version": 1,
     "solution": false
    }
   },
   "outputs": [
    {
     "name": "stdout",
     "output_type": "stream",
     "text": [
      "[]\n",
      "Push 4\n",
      "[4]\n",
      "Push 2\n",
      "[4, 2]\n",
      "Push 3\n",
      "[4, 2, 3]\n",
      "Pop 4\n",
      "4 [2, 3]\n",
      "Pop 2\n",
      "2 [3]\n",
      "Pop 3\n",
      "3 []\n"
     ]
    }
   ],
   "source": [
    "#\n",
    "# AUTOGRADER TEST - DO NOT REMOVE\n",
    "#\n",
    "\n",
    "print(FIFO_list)\n",
    "print(\"Push 4\")\n",
    "FIFO_push(FIFO_list,4)\n",
    "print(FIFO_list)\n",
    "print(\"Push 2\")\n",
    "FIFO_push(FIFO_list,2)\n",
    "print(FIFO_list)\n",
    "print(\"Push 3\")\n",
    "FIFO_push(FIFO_list,3)\n",
    "print(FIFO_list)\n",
    "print(\"Pop 4\")\n",
    "print(FIFO_pop(FIFO_list),FIFO_list)\n",
    "print(\"Pop 2\")\n",
    "print(FIFO_pop(FIFO_list),FIFO_list)\n",
    "print(\"Pop 3\")\n",
    "print(FIFO_pop(FIFO_list),FIFO_list)"
   ]
  },
  {
   "cell_type": "markdown",
   "metadata": {
    "nbgrader": {
     "grade": false,
     "grade_id": "cell-9d81443019f517e1",
     "locked": true,
     "schema_version": 1,
     "solution": false
    }
   },
   "source": [
    "After adding your code and correctly executing the last two cells you should see:\n",
    "\n",
    "```\n",
    "[]\n",
    "Push 4\n",
    "[4]\n",
    "Push 2\n",
    "[4, 2]\n",
    "Push 3\n",
    "[4, 2, 3]\n",
    "Pop 4\n",
    "4 [2, 3]\n",
    "Pop 2\n",
    "2 [3]\n",
    "Pop 3\n",
    "3 []\n",
    "\n",
    "```"
   ]
  },
  {
   "cell_type": "markdown",
   "metadata": {
    "nbgrader": {
     "grade": false,
     "grade_id": "cell-f60acacc650a23fc",
     "locked": true,
     "schema_version": 1,
     "solution": false
    }
   },
   "source": [
    "## Breadth-first search (BFS)\n",
    "\n",
    "Breadth-First search is another traversal/search algorithm for trees and graphs that unlike DFS tries to explore all the vertices at the present \"depth\" before going deeper in the data structure. \n",
    "\n",
    "## Exercise C (1pt)\n",
    "\n",
    "Complete the BFS function which performs a BFS over a graph using a FIFO queue. As an input it receives the maze map that is a graph represented in a dictionary, in the same way we used in Lab 1 and a starting position. It should return a list with the order of executed vertices and a dictionary containing the vertices as the keys and its parents as the value. You should not visit the same vertex twice."
   ]
  },
  {
   "cell_type": "code",
   "execution_count": 21,
   "metadata": {
    "collapsed": true,
    "nbgrader": {
     "grade": false,
     "grade_id": "exercise_c",
     "locked": false,
     "points": "1",
     "schema_version": 1,
     "solution": true
    }
   },
   "outputs": [],
   "source": [
    "def BFS(maze_graph, initial_vertex) :\n",
    "    \n",
    "    # explored vertices list\n",
    "    explored_vertices = list()\n",
    "    \n",
    "    #LIFO stack\n",
    "    queuing_structure = list()\n",
    "    \n",
    "    #Parent Dictionary\n",
    "    parent_dict = dict()\n",
    "        \n",
    "\n",
    "    FIFO_push(queuing_structure,(initial_vertex,None)) # push the initial vertex to the queuing_structure\n",
    "    while len(queuing_structure) > 0: #   while queuing_structure is not empty:\n",
    "        # current_vertex,parent = queuing_structure.pop()\n",
    "        # if the current vertex is not explored\n",
    "            # add current_vertex to explored vertices\n",
    "            # use parent_dict to map the parent of the current vertex\n",
    "            # for each neighbor of the current vertex in the maze graph:\n",
    "                # if neighbor is not explored:\n",
    "                    # push the tuple (neighbor,current_vertex) to the queuing_structure\n",
    "        current_vertex,parent = FIFO_pop(queuing_structure)\n",
    "        if not current_vertex in explored_vertices:\n",
    "            explored_vertices += [current_vertex]\n",
    "            parent_dict[current_vertex] = parent\n",
    "            for neighbor in maze_graph[current_vertex].keys():\n",
    "                if not neighbor in explored_vertices:\n",
    "                    queuing_structure.append((neighbor,current_vertex)) # push the tuple (neighbor,current_vertex) to the queuing_structure\n",
    "\n",
    "    return explored_vertices,parent_dict    \n",
    "###################################################################"
   ]
  },
  {
   "cell_type": "code",
   "execution_count": 22,
   "metadata": {
    "deletable": false,
    "nbgrader": {
     "grade": true,
     "grade_id": "exercise_c",
     "locked": true,
     "points": "1",
     "schema_version": 1,
     "solution": false
    }
   },
   "outputs": [
    {
     "name": "stdout",
     "output_type": "stream",
     "text": [
      "explored vertices order: [(0, 0), (0, 1), (1, 0), (0, 2), (1, 1), (1, 2)]\n",
      "vertex None is the parent of vertex (0, 0)\n",
      "vertex (0, 0) is the parent of vertex (0, 1)\n",
      "vertex (0, 1) is the parent of vertex (0, 2)\n",
      "vertex (0, 0) is the parent of vertex (1, 0)\n",
      "vertex (1, 0) is the parent of vertex (1, 1)\n",
      "vertex (0, 2) is the parent of vertex (1, 2)\n"
     ]
    }
   ],
   "source": [
    "#\n",
    "# AUTOGRADER TEST - DO NOT REMOVE\n",
    "#\n",
    "\n",
    "maze_graph = {\n",
    "    (0,0): {(0,1):1,(1,0):1}, \n",
    "    (0,1): {(0,2):1,(0,0):1},\n",
    "    (1,0): {(1,1):1,(0,0):1},\n",
    "    (1,1): {(1,2):1,(1,0):1},\n",
    "    (0,2): {(0,1):1,(1,2):1},\n",
    "    (1,2): {(0,2):1,(1,1):1}\n",
    "}\n",
    "\n",
    "explored_vertices,parent_dict = BFS(maze_graph, (0,0))\n",
    "print(\"explored vertices order: {}\".format(explored_vertices))\n",
    "for vertex,parent in sorted(parent_dict.items(),key=itemgetter(0,0)):\n",
    "    print(\"vertex {} is the parent of vertex {}\".format(parent,vertex))"
   ]
  },
  {
   "cell_type": "markdown",
   "metadata": {
    "nbgrader": {
     "grade": false,
     "grade_id": "cell-d050cea19a5755a4",
     "locked": true,
     "schema_version": 1,
     "solution": false
    }
   },
   "source": [
    "After correctly adding your code and executing the two last cells you should see one of the following:\n",
    "\n",
    "```\n",
    "explored vertices order: [(0, 0), (0, 1), (1, 0), (0, 2), (1, 1), (1, 2)]\n",
    "vertex None is the parent of vertex (0, 0)\n",
    "vertex (0, 0) is the parent of vertex (0, 1)\n",
    "vertex (0, 1) is the parent of vertex (0, 2)\n",
    "vertex (0, 0) is the parent of vertex (1, 0)\n",
    "vertex (1, 0) is the parent of vertex (1, 1)\n",
    "vertex (0, 2) is the parent of vertex (1, 2)\n",
    "```\n",
    "\n",
    "```\n",
    "explored vertices order: [(0, 0), (1, 0), (0, 1), (1, 1), (0, 2), (1, 2)]\n",
    "vertex None is the parent of vertex (0, 0)\n",
    "vertex (0, 0) is the parent of vertex (0, 1)\n",
    "vertex (0, 1) is the parent of vertex (0, 2)\n",
    "vertex (0, 0) is the parent of vertex (1, 0)\n",
    "vertex (1, 0) is the parent of vertex (1, 1)\n",
    "vertex (1, 1) is the parent of vertex (1, 2)\n",
    "```\n"
   ]
  },
  {
   "cell_type": "markdown",
   "metadata": {
    "nbgrader": {
     "grade": false,
     "grade_id": "cell-b3de370af313d821",
     "locked": true,
     "schema_version": 1,
     "solution": false
    }
   },
   "source": [
    "## Exercise D (1pt)\n",
    "\n",
    "Using the parent_dictionary generated by running one of the searches, complete the function create_walk_from_parents, which receives the parent dictionary as input, an initial vertex and an target vertex. It returns a list which contains a walk between two points. "
   ]
  },
  {
   "cell_type": "code",
   "execution_count": 31,
   "metadata": {
    "collapsed": true,
    "nbgrader": {
     "grade": false,
     "grade_id": "exercise_d",
     "locked": false,
     "points": "1",
     "schema_version": 1,
     "solution": true
    }
   },
   "outputs": [],
   "source": [
    "def create_walk_from_parents(parent_dict,initial_vertex,target_vertex):\n",
    "    #\n",
    "    # YOUR CODE HERE\n",
    "    #\n",
    "    v = target_vertex\n",
    "    walk = []\n",
    "    while v != initial_vertex:\n",
    "        walk = [v] + walk\n",
    "        v = parent_dict[v]\n",
    "    return walk"
   ]
  },
  {
   "cell_type": "code",
   "execution_count": 32,
   "metadata": {
    "deletable": false,
    "nbgrader": {
     "grade": true,
     "grade_id": "exercise_d",
     "locked": true,
     "points": "1",
     "schema_version": 1,
     "solution": false
    }
   },
   "outputs": [
    {
     "name": "stdout",
     "output_type": "stream",
     "text": [
      "The route to go from vertex (0, 0) to (0, 0) is: []\n",
      "The route to go from vertex (0, 0) to (0, 2) is: [(1, 0), (1, 1), (1, 2), (0, 2)]\n"
     ]
    }
   ],
   "source": [
    "#\n",
    "# AUTOGRADER TEST - DO NOT REMOVE\n",
    "#\n",
    "\n",
    "initial_vertex = (0,0)\n",
    "target_vertex = (0,0)\n",
    "explored_vertices,parent_dict = DFS(maze_graph,initial_vertex)\n",
    "route = create_walk_from_parents(parent_dict,initial_vertex,target_vertex)\n",
    "print(\"The route to go from vertex {} to {} is: {}\".format(initial_vertex,target_vertex,route))\n",
    "\n",
    "\n",
    "initial_vertex = (0,0)\n",
    "target_vertex = (0,2)\n",
    "explored_vertices,parent_dict = DFS(maze_graph,initial_vertex)\n",
    "route = create_walk_from_parents(parent_dict,initial_vertex,target_vertex)\n",
    "print(\"The route to go from vertex {} to {} is: {}\".format(initial_vertex,target_vertex,route))"
   ]
  },
  {
   "cell_type": "markdown",
   "metadata": {
    "nbgrader": {
     "grade": false,
     "grade_id": "cell-4b0fd8835bd0bfa2",
     "locked": true,
     "schema_version": 1,
     "solution": false
    }
   },
   "source": [
    "After correctly adding your code and executing the two last cells you should see one of the following:\n",
    "\n",
    "```\n",
    "The route to go from vertex (0, 0) to (0, 0) is: []\n",
    "The route to go from vertex (0, 0) to (0, 2) is: [(1, 0), (1, 1), (1, 2), (0, 2)]\n",
    "\n",
    "or\n",
    "\n",
    "The route to go from vertex (0, 0) to (0, 0) is: []\n",
    "The route to go from vertex (0, 0) to (0, 2) is: [(0, 1), (0, 2)]\n",
    "```"
   ]
  },
  {
   "cell_type": "markdown",
   "metadata": {
    "nbgrader": {
     "grade": false,
     "grade_id": "cell-95c38bfd5e899cf2",
     "locked": true,
     "schema_version": 1,
     "solution": false
    }
   },
   "source": [
    "## Exercise E (1pt)\n",
    "\n",
    "Using the walk generated by the create_walk_from_parents function, complete the function walk_to_route, which receives the walk as input and a vertex and returns a list of movements using the get_direction function"
   ]
  },
  {
   "cell_type": "code",
   "execution_count": 37,
   "metadata": {
    "collapsed": true,
    "nbgrader": {
     "grade": false,
     "grade_id": "exercise_e",
     "locked": false,
     "points": "1",
     "schema_version": 1,
     "solution": true
    }
   },
   "outputs": [],
   "source": [
    "from utils import get_position_above,get_position_left,get_position_below,get_position_right\n",
    "from utils import MOVE_UP,MOVE_DOWN,MOVE_LEFT,MOVE_RIGHT\n",
    "\n",
    "def get_direction(initial_vertex,target_vertex):\n",
    "    if get_position_above(initial_vertex) == target_vertex:\n",
    "        return MOVE_UP\n",
    "    elif get_position_below(initial_vertex) == target_vertex:\n",
    "        return MOVE_DOWN\n",
    "    elif get_position_left(initial_vertex) == target_vertex:\n",
    "        return MOVE_LEFT\n",
    "    elif get_position_right(initial_vertex) == target_vertex:\n",
    "        return MOVE_RIGHT\n",
    "    else:\n",
    "        raise Exception(\"vertices are not connected\")\n",
    "\n",
    "def walk_to_route(walk,initial_vertex):\n",
    "    #\n",
    "    # YOUR CODE HERE\n",
    "    #\n",
    "    route = []\n",
    "    walk = [initial_vertex] + walk\n",
    "    for i in range(len(walk)-1):\n",
    "        route.append(get_direction(walk[i], walk[i+1]))\n",
    "    return route"
   ]
  },
  {
   "cell_type": "code",
   "execution_count": 38,
   "metadata": {
    "deletable": false,
    "nbgrader": {
     "grade": true,
     "grade_id": "exercise_e",
     "locked": true,
     "points": "1",
     "schema_version": 1,
     "solution": false
    }
   },
   "outputs": [
    {
     "name": "stdout",
     "output_type": "stream",
     "text": [
      "The route to walk [(0, 1), (1, 1), (2, 1)] is ['U', 'R', 'R']\n"
     ]
    }
   ],
   "source": [
    "#\n",
    "# AUTOGRADER TEST - DO NOT REMOVE\n",
    "#\n",
    "\n",
    "\n",
    "walk = [(0, 1), (1, 1), (2, 1)]\n",
    "print(\"The route to walk {} is {}\".format(walk,walk_to_route(walk,(0,0))))"
   ]
  },
  {
   "cell_type": "markdown",
   "metadata": {
    "nbgrader": {
     "grade": false,
     "grade_id": "cell-361e904691cdf48a",
     "locked": true,
     "schema_version": 1,
     "solution": false
    }
   },
   "source": [
    "After correctly adding your code and executing the two last cells you should see:\n",
    "\n",
    "```\n",
    "The route to walk [(0, 1), (1, 1), (2, 1)] is ['U', 'R', 'R']\n",
    "```"
   ]
  },
  {
   "cell_type": "markdown",
   "metadata": {
    "nbgrader": {
     "grade": false,
     "grade_id": "cell-5ab0d079b74bc925",
     "locked": true,
     "schema_version": 1,
     "solution": false
    }
   },
   "source": [
    "## Exercise F (1pt)\n",
    "\n",
    "Using the BFS search and all of the auxiliary functions that we implemented in this notebook, complete the function A_to_B which receives a initial vertex A and a target vertex B and returns the list of movements that should be done."
   ]
  },
  {
   "cell_type": "code",
   "execution_count": 39,
   "metadata": {
    "collapsed": true,
    "nbgrader": {
     "grade": false,
     "grade_id": "exercise_f",
     "locked": false,
     "points": "1",
     "schema_version": 1,
     "solution": true
    }
   },
   "outputs": [],
   "source": [
    "def A_to_B(maze_graph,initial_vertex,target_vertex):\n",
    "    #\n",
    "    # YOUR CODE HERE\n",
    "    #\n",
    "    #\n",
    "    explored_vertices,parent_dict = BFS(maze_graph,initial_vertex)\n",
    "    route = create_walk_from_parents(parent_dict,initial_vertex,target_vertex)\n",
    "    directions = walk_to_route(route, initial_vertex)\n",
    "    return directions"
   ]
  },
  {
   "cell_type": "code",
   "execution_count": 40,
   "metadata": {
    "deletable": false,
    "nbgrader": {
     "grade": true,
     "grade_id": "exercise_f",
     "locked": true,
     "points": "1",
     "schema_version": 1,
     "solution": false
    }
   },
   "outputs": [
    {
     "name": "stdout",
     "output_type": "stream",
     "text": [
      "The route from (0, 0) to (1, 2) is ['U', 'U', 'R']\n",
      "The route from (1, 2) to (0, 0) is ['L', 'D', 'D']\n"
     ]
    }
   ],
   "source": [
    "#\n",
    "# AUTOGRADER TEST - DO NOT REMOVE\n",
    "#\n",
    "\n",
    "a = (0,0)\n",
    "b = (1,2)\n",
    "print(\"The route from {} to {} is {}\".format(a,b,A_to_B(maze_graph,a,b)))\n",
    "print(\"The route from {} to {} is {}\".format(b,a,A_to_B(maze_graph,b,a)))\n"
   ]
  },
  {
   "cell_type": "markdown",
   "metadata": {
    "nbgrader": {
     "grade": false,
     "grade_id": "cell-62aeb26aca0d35a2",
     "locked": true,
     "schema_version": 1,
     "solution": false
    }
   },
   "source": [
    "After correctly adding your code and executing the two last cells you should see one of the following:\n",
    "\n",
    "```\n",
    "The route from (0, 0) to (1, 2) is ['U', 'U', 'R']\n",
    "or\n",
    "The route from (0, 0) to (1, 2) is ['R', 'U', 'U']\n",
    "```\n",
    "\n",
    "and also one of the following\n",
    "\n",
    "```\n",
    "The route from (1, 2) to (0, 0) is ['L', 'D', 'D']\n",
    "or\n",
    "The route from (1, 2) to (0, 0) is ['D', 'D', 'L']\n",
    "```\n"
   ]
  },
  {
   "cell_type": "markdown",
   "metadata": {
    "nbgrader": {
     "grade": false,
     "grade_id": "cell-5c0fd4a3c9b45804",
     "locked": true,
     "schema_version": 1,
     "solution": false
    }
   },
   "source": [
    "# Extra\n",
    "\n",
    "Now that you have created the A_to_B function, we can use it to search cheeses in the PyRat maze, execute the cells below to see an example of how to do it. You can then add your own cells and try it by yourself!"
   ]
  },
  {
   "cell_type": "markdown",
   "metadata": {
    "nbgrader": {
     "grade": false,
     "grade_id": "cell-ad7dee6f6c550e42",
     "locked": true,
     "schema_version": 1,
     "solution": false
    }
   },
   "source": [
    "The first thing is to start the display"
   ]
  },
  {
   "cell_type": "code",
   "execution_count": 41,
   "metadata": {
    "nbgrader": {
     "grade": false,
     "grade_id": "cell-52080d00d863eba5",
     "locked": true,
     "schema_version": 1,
     "solution": false
    }
   },
   "outputs": [
    {
     "data": {
      "text/html": [
       "\n",
       "        <style type=text/css>\n",
       "            #gjs-canvas{\n",
       "                border: 1px solid #ccc;\n",
       "                width: 800px;\n",
       "                height: 300px;      \n",
       "                display: block;\n",
       "                position: fixed;\n",
       "                bottom: 0;\n",
       "                left: 0;\n",
       "                right: 0;\n",
       "                margin-left: auto;\n",
       "                margin-right: auto;\n",
       "            }\n",
       "            \n",
       "            \n",
       "            \n",
       "        </style>\n",
       "        <script src=\"gamejs-2.0.1.js\"></script>\n",
       "        <script>\n",
       "        header = parseInt(document.getElementById(\"header\").clientHeight);\n",
       "        height = document.body.clientHeight;\n",
       "        new_height = height-300-header;\n",
       "        window.onresize = function(event) {\n",
       "                height = document.body.clientHeight;\n",
       "                header = parseInt(document.getElementById(\"header\").clientHeight);\n",
       "            if(do_resize)\n",
       "            {\n",
       "                new_height = height-300-header;\n",
       "            }\n",
       "            else\n",
       "            {\n",
       "                new_height = height-header;\n",
       "            }\n",
       "                document.getElementById(\"site\").style.height = String(new_height)+\"px\"\n",
       "        };\n",
       "            console.log(height,header,300,new_height)\n",
       "            document.getElementById(\"site\").style.height = String(new_height)+\"px\"\n",
       "\n",
       "                var resize = false;\n",
       "                var myEle = document.getElementById(\"gjs-canvas\");\n",
       "                var do_resize = true;\n",
       "                if(!myEle){\n",
       "                var squares_height = 15;\n",
       "                var squares_width = 21;\n",
       "\n",
       "                var score1 = 0;\n",
       "                var moves1 = 0;\n",
       "                var miss1 = 0;\n",
       "                var stuck1 = 0;\n",
       "                var p1name = \"RatName\"\n",
       "\n",
       "                var score2 = 0;\n",
       "                var moves2 = 0;\n",
       "                var miss2 = 0;\n",
       "                var stuck2 = 0;\n",
       "                var p2name = \"PythonName\"\n",
       "\n",
       "                var labyrinth = \"1 3 3 1 1 1 3 3 1 3 1 1 1 9 3###1 0 2 4 1 3 9 0 1 0 2 1 2 2 2###1 0 0 0 2 1 2 1 0 3 2 1 3 2 2###2 1 0 3 0 1 0 3 3 0 1 2 6 2 2###2 0 1 3 3 1 2 3 0 1 2 3 3 2 2###1 2 3 1 0 2 0 2 1 1 3 0 0 0 3###0 1 2 0 1 3 0 1 3 2 0 0 3 0 3###6 3 1 3 0 3 2 2 3 2 8 1 2 2 2###0 0 0 3 0 9 3 0 4 3 1 3 4 1 3###1 2 2 2 2 9 1 1 2 1 3 0 3 0 3###0 1 3 3 2 0 1 3 0 0 3 2 0 2 6###0 0 1 0 3 2 2 1 3 3 0 3 2 1 3###2 1 1 2 2 2 2 0 1 0 3 3 2 0 3###0 1 3 2 3 3 8 0 3 2 0 2 0 2 2###2 2 3 1 2 0 0 1 3 3 2 2 6 2 2###3 0 0 0 1 3 6 2 1 0 2 9 2 0 3###0 0 1 3 2 0 3 1 2 2 2 1 9 3 2###0 3 2 1 3 2 2 2 2 0 3 2 2 0 3###1 0 1 0 3 3 0 3 3 3 0 2 2 2 6###2 0 6 1 3 4 2 0 2 6 3 0 3 1 2###1 9 0 2 8 3 0 3 8 0 8 3 1 2 2###\";\n",
       "                var pieces_of_cheese = ['8, 8; 9, 4'];\n",
       "                var player1_location = [[0,0]];\n",
       "                var player2_location = [[-1,-1]];\n",
       "                var turn = 0;\n",
       "                var max_turn = 0;\n",
       "\n",
       "                    require.setModuleRoot('./');\n",
       "                    require.run('display');\n",
       "                }\n",
       "\n",
       "\n",
       "\n",
       "        </script>\n",
       "        \n",
       "        "
      ],
      "text/plain": [
       "<IPython.core.display.HTML object>"
      ]
     },
     "metadata": {},
     "output_type": "display_data"
    }
   ],
   "source": [
    "import pyrat\n",
    "pyrat.start_display()"
   ]
  },
  {
   "cell_type": "markdown",
   "metadata": {
    "nbgrader": {
     "grade": false,
     "grade_id": "cell-909dee8d5c9255c6",
     "locked": true,
     "schema_version": 1,
     "solution": false
    }
   },
   "source": [
    "Now we define the starting point and the target point. The target point will be represented by a cheese and your player will be represented by the rat."
   ]
  },
  {
   "cell_type": "code",
   "execution_count": 42,
   "metadata": {
    "collapsed": true
   },
   "outputs": [],
   "source": [
    "starting_vertex = (2,2)\n",
    "target_vertex = (4,4)"
   ]
  },
  {
   "cell_type": "markdown",
   "metadata": {
    "nbgrader": {
     "grade": false,
     "grade_id": "cell-ab2ebf6ad787a99d",
     "locked": true,
     "schema_version": 1,
     "solution": false
    }
   },
   "source": [
    "Finally we can create a turn function using the A_to_B function and run a game to see our agent moving in the direction of the cheese. "
   ]
  },
  {
   "cell_type": "code",
   "execution_count": 43,
   "metadata": {
    "nbgrader": {
     "grade": false,
     "grade_id": "cell-d130a95f89c0a419",
     "locked": true,
     "schema_version": 1,
     "solution": false
    }
   },
   "outputs": [
    {
     "data": {
      "text/html": [
       "\n",
       "                <script>\n",
       "                squares_height = 10;\n",
       "                squares_width = 10;\n",
       "\n",
       "                score1 = 1;\n",
       "                moves1 = 12;\n",
       "                miss1 = 0;\n",
       "                stuck1 = 0;\n",
       "                p1name = \"RatName\"\n",
       "\n",
       "                score2 = 0;\n",
       "                moves2 = 0;\n",
       "                miss2 = 0;\n",
       "                stuck2 = 0;\n",
       "                p2name = \"PythonName\"\n",
       "\n",
       "                labyrinth = \"1 1 3 3 1 1 3 3 3 3###3 2 0 0 0 3 0 0 0 2###0 1 1 2 1 3 2 2 0 3###2 2 1 1 0 1 0 3 1 2###2 2 2 2 2 0 0 1 3 3###2 3 2 1 2 1 2 0 3 2###1 2 1 2 3 0 3 0 1 2###2 0 3 1 2 2 2 2 2 2###1 0 1 0 1 1 2 1 3 2###0 1 3 0 3 1 0 2 2 2###\";\n",
       "                pieces_of_cheese = ['4, 4', '4, 4', '4, 4', '4, 4', '4, 4', '4, 4', '4, 4', '4, 4', '4, 4', '4, 4', '4, 4', '4, 4', '4, 4'];\n",
       "                player1_location = [[2, 2], [2, 3], [1, 3], [1, 4], [0, 4], [0, 5], [0, 6], [1, 6], [2, 6], [3, 6], [3, 5], [3, 4], [4, 4]];\n",
       "                player2_location = [[-1, -1], [-1, -1], [-1, -1], [-1, -1], [-1, -1], [-1, -1], [-1, -1], [-1, -1], [-1, -1], [-1, -1], [-1, -1], [-1, -1], [-1, -1]];\n",
       "                turn = 0;\n",
       "                max_turn = 13;\n",
       "                resize = true;\n",
       "                </script>\n",
       "\n",
       "            "
      ],
      "text/plain": [
       "<IPython.core.display.HTML object>"
      ]
     },
     "metadata": {},
     "output_type": "display_data"
    }
   ],
   "source": [
    "def turn(mazeMap, mazeWidth, mazeHeight, playerLocation, opponentLocation, playerScore, opponentScore, piecesOfCheese, timeAllowed):    \n",
    "    return A_to_B(maze_graph=mazeMap,initial_vertex=playerLocation,target_vertex=piecesOfCheese[0])[0]\n",
    "\n",
    "\n",
    "game = pyrat.Game(turn_1=turn,player1_start=starting_vertex,cheeses_start=[target_vertex])\n",
    "game.play_match()\n",
    "pyrat.display_game(game)"
   ]
  },
  {
   "cell_type": "markdown",
   "metadata": {
    "nbgrader": {
     "grade": false,
     "grade_id": "cell-be9cd4ddf5adc563",
     "locked": true,
     "schema_version": 1,
     "solution": false
    }
   },
   "source": [
    "This is not the most optimal way to use the function A_to_B, because it is called once for every turn. \n",
    "\n",
    "Considering that it is possible to specify a function called preprocessing as preprocess_1 in the creation of the game and that this function will then be executed only at the beginning of a match, do you think it is possible to do it in a way that you only call the A_to_B function once? "
   ]
  },
  {
   "cell_type": "code",
   "execution_count": null,
   "metadata": {
    "collapsed": true
   },
   "outputs": [],
   "source": [
    "def preprocessing(mazeMap, mazeWidth, mazeHeight, playerLocation, opponentLocation, piecesOfCheese, timeAllowed):\n",
    "    pass\n",
    "    \n",
    "def new_turn(mazeMap, mazeWidth, mazeHeight, playerLocation, opponentLocation, playerScore, opponentScore, piecesOfCheese, timeAllowed):    \n",
    "    pass"
   ]
  },
  {
   "cell_type": "code",
   "execution_count": null,
   "metadata": {
    "collapsed": true
   },
   "outputs": [],
   "source": [
    "game = pyrat.Game(preprocess_1=preprocessing,turn_1=new_turn,player1_start=starting_vertex,cheeses_start=[target_vertex])\n",
    "game.play_match();\n",
    "#Uncomment the next line after correctly adding the code for preprocessing and new_turn\n",
    "#pyrat.display_game(game)"
   ]
  },
  {
   "cell_type": "code",
   "execution_count": null,
   "metadata": {
    "collapsed": true
   },
   "outputs": [],
   "source": []
  }
 ],
 "metadata": {
  "kernelspec": {
   "display_name": "Python 3",
   "language": "python",
   "name": "python3"
  },
  "language_info": {
   "codemirror_mode": {
    "name": "ipython",
    "version": 3
   },
   "file_extension": ".py",
   "mimetype": "text/x-python",
   "name": "python",
   "nbconvert_exporter": "python",
   "pygments_lexer": "ipython3",
   "version": "3.7.6"
  }
 },
 "nbformat": 4,
 "nbformat_minor": 2
}
