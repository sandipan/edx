{
    "cells": [
        {
            "cell_type": "markdown",
            "metadata": {
                "nbgrader": {
                    "grade": false,
                    "grade_id": "introduction",
                    "locked": true,
                    "schema_version": 1,
                    "solution": false
                }
            },
            "source": [
                "Welcome to the first lab session of the MOOC \"Advanced algorithmics and graph theory with Python\".\n",
                "\n",
                "Throughout the labs, you will program an AI to play a game in a maze where two players, a rat and a python, compete for grabbing pieces of cheese before their opponent. This game is called PyRat.\n",
                "\n",
                "In this first lab you will learn how to navigate on the PyRat Maze.\n",
                "\n",
                "The main objective of this exercise is to:\n",
                "* Write basic functions in Python to manipulate graphs (choose the appropriate data-structure, iterate on neighbors...)\n",
                "\n",
                "To achieve this objective you will have to add code in order to complete several functions. Everytime you see `YOUR CODE HERE` you will have to insert your code so that the function implements the specification correctly.\n",
                "\n",
                "For example, in the following cell you are going to see the get_position_above function, which is already completed for you. This function takes a vertex which is tuple of coordinates (x,y) and returns the position above those coordinates. \n",
                "\n",
                "<img src=\"axis_example.png\" height=\"400px\" width=\"400px\">\n",
                "\n",
                "In PyRat, we index cells of the maze with tuples (x,y), where x refers to the horizontal axis and y refers to the vertical axis. So, the position (0,0) is the bottom left corner, while (width - 1, height - 1) is the top right corner. This means that increasing the value of the x coordinate, we are going to move right, while decreasing the value moves to the left. In the same way, increasing the value of the y coordinate you are going to move up, while decreasing the value moves down.\n",
                "\n",
                "Note that in practice it is not possible to move left if x is 0, or to move right if x is width - 1. Similarly it is not possible to move down if y is 0, or to move up if y is height - 1. Nevertheless, we will ignore this for the moment. Also, we consider a maze with no wall to begin with."
            ]
        },
        {
            "cell_type": "code",
            "execution_count": 1,
            "metadata": {
                "nbgrader": {
                    "grade": false,
                    "grade_id": "position-above",
                    "locked": true,
                    "schema_version": 1,
                    "solution": false
                }
            },
            "outputs": [],
            "source": [
                "# Function get_position_above\n",
                "# inputs: original_position which is a couple of ints\n",
                "# outputs: coordinates of the position above original_position\n",
                "def get_position_above(original_position):\n",
                "    \"\"\"\n",
                "    Given a position (x,y) returns the position above the original position, defined as (x,y+1)\n",
                "    \"\"\"\n",
                "    (x,y) = original_position\n",
                "    return (x,y+1)\n",
                "\n",
                "# Tests:\n",
                "initial_position = 4,8\n",
                "print(\"Our initial position is {}\".format(initial_position))\n",
                "position_above = get_position_above(initial_position)\n",
                "print(\"The position above ours is {}\".format(position_above))"
            ]
        },
        {
            "cell_type": "markdown",
            "metadata": {
                "nbgrader": {
                    "grade": false,
                    "grade_id": "result-position-above",
                    "locked": true,
                    "schema_version": 1,
                    "solution": false
                }
            },
            "source": [
                "After executing the cell above you should see:\n",
                "```\n",
                "Our initial position is (4, 8)\n",
                "The position above ours is (4, 9)\n",
                "```\n",
                "\n",
                "as the output."
            ]
        },
        {
            "cell_type": "markdown",
            "metadata": {
                "nbgrader": {
                    "grade": false,
                    "grade_id": "exercise-a-markdown",
                    "locked": true,
                    "schema_version": 1,
                    "solution": false
                }
            },
            "source": [
                "# Exercise A (3pt)\n",
                "\n",
                "Now it is your turn. Code the remaining three directions:\n",
                "\n",
                "1. get_position_below\n",
                "2. get_position_right\n",
                "3. get_position_left"
            ]
        },
        {
            "cell_type": "code",
            "execution_count": 2,
            "metadata": {
                "nbgrader": {
                    "grade": false,
                    "grade_id": "exercise-a-code",
                    "locked": false,
                    "schema_version": 1,
                    "solution": false
                }
            },
            "outputs": [],
            "source": [
                "def get_position_below(original_position):\n",
                "    \"\"\"\n",
                "    Given a position (x,y) returns the position below the original position, defined as (x,y-1)\n",
                "    \"\"\"\n",
                "    #\n",
                "    # YOUR CODE HERE\n",
                "    (x, y) = original_position\n",
                "    return (x, y-1)\n",
                "    # END YOUR CODE\n",
                "def get_position_right(original_position):\n",
                "    \"\"\"\n",
                "    Given a position (x,y) returns the position to the right of the original position, defined as (x+1,y)\n",
                "    \"\"\"\n",
                "    #\n",
                "    # YOUR CODE HERE\n",
                "    (x, y) = original_position\n",
                "    return (x+1, y)\n",
                "    # END YOUR CODE\n",
                "\n",
                "def get_position_left(original_position):\n",
                "    \"\"\"\n",
                "    Given a position (x,y) returns the position to the left of the original position, defined as (x-1,y)\n",
                "    \"\"\"\n",
                "    #\n",
                "    # YOUR CODE HERE\n",
                "    (x, y) = original_position\n",
                "    return (x-1, y)\n",
                "    # END YOUR CODE\n",
                "    \n",
                "print(\"Our initial position is {}\".format(initial_position))"
            ]
        },
        {
            "cell_type": "code",
            "execution_count": 3,
            "metadata": {
                "deletable": false,
                "nbgrader": {
                    "grade": true,
                    "grade_id": "positionbelow",
                    "locked": true,
                    "points": 1,
                    "schema_version": 1,
                    "solution": false
                }
            },
            "outputs": [],
            "source": [
                "#\n",
                "# AUTOGRADER TEST - DO NOT REMOVE\n",
                "#\n",
                "position_below = get_position_below(initial_position)\n",
                "print(\"The position directly below ours is {}\".format(position_below))"
            ]
        },
        {
            "cell_type": "code",
            "execution_count": 4,
            "metadata": {
                "deletable": false,
                "nbgrader": {
                    "grade": true,
                    "grade_id": "positionright",
                    "locked": true,
                    "points": 1,
                    "schema_version": 1,
                    "solution": false
                }
            },
            "outputs": [],
            "source": [
                "#\n",
                "# AUTOGRADER TEST - DO NOT REMOVE\n",
                "#\n",
                "position_right = get_position_right(initial_position)\n",
                "print(\"The position directly to the right of ours is {}\".format(position_right))\n"
            ]
        },
        {
            "cell_type": "code",
            "execution_count": 5,
            "metadata": {
                "deletable": false,
                "nbgrader": {
                    "grade": true,
                    "grade_id": "positionleft",
                    "locked": true,
                    "points": 1,
                    "schema_version": 1,
                    "solution": false
                }
            },
            "outputs": [],
            "source": [
                "#\n",
                "# AUTOGRADER TEST - DO NOT REMOVE\n",
                "#\n",
                "position_left = get_position_left(initial_position)\n",
                "print(\"The position directly to the left of ours is {}\".format(position_left))"
            ]
        },
        {
            "cell_type": "markdown",
            "metadata": {
                "nbgrader": {
                    "grade": false,
                    "grade_id": "result",
                    "locked": true,
                    "schema_version": 1,
                    "solution": false
                }
            },
            "source": [
                "After adding your code and correctly executing the four cells above you should see:\n",
                "```\n",
                "Our initial position is (4, 8)\n",
                "\n",
                "The position directly below ours is (4, 7)\n",
                "\n",
                "The position directly to the right of ours is (5, 8)\n",
                "\n",
                "The position directly to the left of ours is (3, 8)\n",
                "```\n",
                "\n",
                "as the output."
            ]
        },
        {
            "cell_type": "markdown",
            "metadata": {
                "nbgrader": {
                    "grade": false,
                    "grade_id": "cell-9827fc870b3dd3fe",
                    "locked": true,
                    "schema_version": 1,
                    "solution": false
                }
            },
            "source": [
                "# Exercise B (1pt)\n",
                "\n",
                "Another useful function to navigate on a maze is to be able to recognize if two positions (cells) are adjacent, which means that the first one is above, below, left or right of the other one. Complete the function are_adjacent to return True if two nodes are adjacent and False if not."
            ]
        },
        {
            "cell_type": "code",
            "execution_count": 6,
            "metadata": {
                "collapsed": true,
                "nbgrader": {
                    "grade": false,
                    "grade_id": "are_neighbors",
                    "locked": false,
                    "points": "1",
                    "schema_version": 1,
                    "solution": true
                }
            },
            "outputs": [],
            "source": [
                "def are_adjacent(position1,position2):\n",
                "    \"\"\"\n",
                "    Given two positions (x1,y1) and (x2,y2) returns True if they are adjacent and False if not\n",
                "    \"\"\"   \n",
                "    #\n",
                "    # YOUR CODE HERE\n",
                "    return position2 in [get_position_below(position1), get_position_above(position1), get_position_left(position1), get_position_right(position1)]\n",
                "    # END YOUR CODE"
            ]
        },
        {
            "cell_type": "code",
            "execution_count": 7,
            "metadata": {
                "deletable": false,
                "nbgrader": {
                    "grade": true,
                    "grade_id": "are_neighbors",
                    "locked": true,
                    "points": 1,
                    "schema_version": 1,
                    "solution": false
                }
            },
            "outputs": [],
            "source": [
                "#\n",
                "# AUTOGRADER TEST - DO NOT REMOVE\n",
                "#\n",
                "position2 = (4,7)\n",
                "position3 = (5,8)\n",
                "print(\"Are positions {} and {} adjacent? {}.\".format(position2,position3,are_adjacent(position2,position3)))\n",
                "print(\"Are positions {} and {} adjacent? {}.\".format(initial_position,position3,are_adjacent(initial_position,position3)))\n",
                "print(\"Are positions {} and {} adjacent? {}.\".format(position2,initial_position,are_adjacent(position2,initial_position)))\n"
            ]
        },
        {
            "cell_type": "markdown",
            "metadata": {
                "nbgrader": {
                    "grade": false,
                    "grade_id": "cell-899c99789265eb7f",
                    "locked": true,
                    "schema_version": 1,
                    "solution": false
                }
            },
            "source": [
                "After adding your code and correctly executing the two cells above you should see:\n",
                "```\n",
                "Are positions (4, 7) and (5, 8) neighbors? False.\n",
                "Are positions (4, 8) and (5, 8) neighbors? True.\n",
                "Are positions (4, 7) and (4, 8) neighbors? True.\n",
                "```\n",
                "\n",
                "as the output."
            ]
        },
        {
            "cell_type": "markdown",
            "metadata": {
                "nbgrader": {
                    "grade": false,
                    "grade_id": "cell-42f651aa6b136b5d",
                    "locked": true,
                    "schema_version": 1,
                    "solution": false
                }
            },
            "source": [
                "# Exercise C (1pt)\n",
                "\n",
                "When we add walls to a maze, it is important to know where the walls are to avoid trying to move through them.\n",
                "\n",
                "Given a maze (graph dictionary), a starting position (x,y) and a move, complete the possible_move function, which returns True if it is possible to do the move and False if it is not possible.\n",
                "\n",
                "The graph dictionary definition can be read as \n",
                "```\n",
                "maze_graph = {\n",
                "    (position now): [(connected position 1,cost of moving to connected position 1),(connected position 2,cost of moving to connected position 2)...]\n",
                "}\n",
                "```\n",
                "\n",
                "For example, consider the following graph\n",
                "\n",
                "```\n",
                "maze_graph = {\n",
                "    (0,0): {(1,0):1},\n",
                "    (1,0): {(0,0):1,(1,1):1},\n",
                "    (1,1): {(1,0):1}\n",
                "}\n",
                "```\n",
                "\n",
                "This would lead to the following maze:\n",
                "\n",
                "<img src=\"graphexample.png\" height=\"200px\" width=\"200px\">\n",
                "\n",
                "To define a move we have four variables (MOVE_RIGHT, MOVE_LEFT, MOVE_UP, MOVE_DOWN), these are the same variables that you will have to use when you create your AI for the pyrat game. They are encoded as one character representing the direction\n",
                "```\n",
                "MOVE_RIGHT = \"R\"\n",
                "MOVE_LEFT = \"L\"\n",
                "MOVE_UP = \"U\"\n",
                "MOVE_DOWN = \"D\"\n",
                "```"
            ]
        },
        {
            "cell_type": "code",
            "execution_count": null,
            "metadata": {
                "collapsed": true,
                "nbgrader": {
                    "grade": false,
                    "grade_id": "cell-070b6185fa763e9c",
                    "locked": true,
                    "schema_version": 1,
                    "solution": false
                }
            },
            "outputs": [],
            "source": [
                "maze_graph = {\n",
                "    (0,0): {(1,0):1},\n",
                "    (1,0): {(0,0):1,(1,1):1},\n",
                "    (1,1): {(1,0):1}\n",
                "}\n",
                "\n",
                "MOVE_RIGHT = \"R\"\n",
                "MOVE_LEFT = \"L\"\n",
                "MOVE_UP = \"U\"\n",
                "MOVE_DOWN = \"D\""
            ]
        },
        {
            "cell_type": "code",
            "execution_count": 8,
            "metadata": {
                "collapsed": true,
                "nbgrader": {
                    "grade": false,
                    "grade_id": "exercise_c",
                    "locked": false,
                    "points": "1",
                    "schema_version": 1,
                    "solution": true
                }
            },
            "outputs": [],
            "source": [
                "def possible_move(maze_graph,initial_position,move):\n",
                "    # Example to check if moving up is possible\n",
                "    if move == MOVE_UP:\n",
                "        if get_position_above(initial_position) in maze_graph[initial_position].keys():\n",
                "            return True\n",
                "        else:\n",
                "            return False\n",
                "    # Check the other directions now\n",
                "    #\n",
                "    elif move == MOVE_DOWN:\n",
                "        if get_position_below(initial_position) in maze_graph[initial_position].keys():\n",
                "            return True\n",
                "        else:\n",
                "            return False\n",
                "        \n",
                "    elif move == MOVE_LEFT:\n",
                "        if get_position_left(initial_position) in maze_graph[initial_position].keys():\n",
                "            return True\n",
                "        else:\n",
                "            return False\n",
                "\n",
                "    elif move == MOVE_RIGHT:\n",
                "        if get_position_right(initial_position) in maze_graph[initial_position].keys():\n",
                "            return True\n",
                "        else:\n",
                "            return False\n",
                "\n",
                "    # END YOUR CODE\n",
                "    else:\n",
                "        raise ValueError(\"Invalid or unimplemented move\")"
            ]
        },
        {
            "cell_type": "code",
            "execution_count": 9,
            "metadata": {
                "deletable": false,
                "nbgrader": {
                    "grade": true,
                    "grade_id": "exercise_c",
                    "locked": true,
                    "points": 1,
                    "schema_version": 1,
                    "solution": false
                }
            },
            "outputs": [],
            "source": [
                "#\n",
                "# AUTOGRADER TEST - DO NOT REMOVE\n",
                "#\n",
                "\n",
                "\n",
                "result1 = possible_move(maze_graph,(1,0),MOVE_UP)\n",
                "result2 = possible_move(maze_graph,(0,0),MOVE_UP)\n",
                "print(\"Testing move up, first is {} and second is {}\".format(result1,result2))\n",
                "\n",
                "result1 = possible_move(maze_graph,(1,0),MOVE_LEFT)\n",
                "result2 = possible_move(maze_graph,(0,0),MOVE_LEFT)\n",
                "print(\"Testing move left, first is {} and second is {}\".format(result1,result2))\n",
                "\n",
                "result1 = possible_move(maze_graph,(0,0),MOVE_RIGHT)\n",
                "result2 = possible_move(maze_graph,(1,0),MOVE_RIGHT)\n",
                "print(\"Testing move right, first is {} and second is {}\".format(result1,result2))\n",
                "\n",
                "result1 = possible_move(maze_graph,(1,1),MOVE_DOWN)\n",
                "result2 = possible_move(maze_graph,(0,0),MOVE_DOWN)\n",
                "print(\"Testing move down, first is {} and second is {}\".format(result1,result2))\n",
                "\n"
            ]
        },
        {
            "cell_type": "markdown",
            "metadata": {
                "nbgrader": {
                    "grade": false,
                    "grade_id": "cell-8c1489e6966c9167",
                    "locked": true,
                    "schema_version": 1,
                    "solution": false
                }
            },
            "source": [
                "After adding your code and correctly executing the cell above you should see:\n",
                "```\n",
                "Testing move up, first is True and second is False\n",
                "Testing move left, first is True and second is False\n",
                "Testing move right, first is True and second is False\n",
                "Testing move down, first is True and second is False\n",
                "```\n",
                "\n",
                "as the output."
            ]
        },
        {
            "cell_type": "markdown",
            "metadata": {
                "nbgrader": {
                    "grade": false,
                    "grade_id": "cell-91b00faf131e2ff1",
                    "locked": true,
                    "schema_version": 1,
                    "solution": false
                }
            },
            "source": [
                "# Exercise D (1pt)\n",
                "\n",
                "Now that you get the basics about manipulating the maze and moving aronud, let us explain how an AI actually works.\n",
                "\n",
                "An AI for PyRat is made of three functions in python, preprocessing, turn and postprocessing. For the most part of this course you are only going to use the turn function.\n",
                "\n",
                "Preprocessing and postprocessing are functions that we do not need for now. It will be of use in more advanced labs to perform intensive computations once and for all.\n",
                "\n",
                "The function turn is what we will concentrate on for now. Each time the game wants to know the decision move of your AI, the function turn will be called. The function turn has many parameters that are pretty simple to understand:\n",
                "* the map of the maze (mazeMap), which follows the same structure as in the previous example,\n",
                "* the width (mazeWidth) and the height (mazeHeight)of the maze, which are integers,\n",
                "* your player location (playerLocation) and the location of the opponent (opponentLocation) which are couples of integers,\n",
                "* your score (playerScore) and that of the opponent (opponentScore) which are integers, initially 0,\n",
                "* the locations of the pieces of cheese in the maze (piecesOfCheese) which we ignore for now,\n",
                "* the number of milliseconds you have to take your decision (timeAllowed) which is an integer.\n",
                "\n",
                "The turn function should return one of MOVE_RIGHT, MOVE_LEFT, MOVE_UP or MOVE_DOWN. Any other output would be considered a will to stay still.\n",
                "\n",
                "As a first trivial example, code a turn function that always go right."
            ]
        },
        {
            "cell_type": "code",
            "execution_count": 10,
            "metadata": {
                "deletable": false,
                "nbgrader": {
                    "grade": false,
                    "grade_id": "exercise_d",
                    "locked": false,
                    "points": "1",
                    "schema_version": 1,
                    "solution": true
                }
            },
            "outputs": [],
            "source": [
                "MOVE_DOWN = 'D'\n",
                "MOVE_LEFT = 'L'\n",
                "MOVE_RIGHT = 'R'\n",
                "MOVE_UP = 'U'\n",
                "def turn(mazeMap, mazeWidth, mazeHeight, playerLocation, opponentLocation, playerScore, opponentScore, piecesOfCheese, timeAllowed):    \n",
                "    #\n",
                "    # YOUR CODE HERE\n",
                "    #\n",
                "    # END YOUR CODE    \n"
            ]
        },
        {
            "cell_type": "markdown",
            "metadata": {},
            "source": [
                "The first thing we have to do is initialize the display of the pyrat game. Every game that we want to display in this lesson will be shown in the cell bellow."
            ]
        },
        {
            "cell_type": "code",
            "execution_count": 11,
            "metadata": {
                "nbgrader": {
                    "grade": false,
                    "grade_id": "cell-34636364a1a03ec3",
                    "locked": true,
                    "solution": false
                }
            },
            "outputs": [],
            "source": [
                "import pyrat\n",
                "pyrat.start_display()"
            ]
        },
        {
            "cell_type": "markdown",
            "metadata": {
                "nbgrader": {
                    "grade": false,
                    "grade_id": "cell-eaaa06cd2b6a29f6",
                    "locked": true,
                    "schema_version": 1,
                    "solution": false
                }
            },
            "source": [
                "Now let's test the function turn on PyRat. We will first start by defining a small maze (7x1) with only one piece of cheese and without walls or mud. We will also initialize the display."
            ]
        },
        {
            "cell_type": "code",
            "execution_count": null,
            "metadata": {
                "collapsed": true,
                "deletable": false,
                "nbgrader": {
                    "grade": true,
                    "grade_id": "exercise_d",
                    "locked": true,
                    "points": 1,
                    "schema_version": 1,
                    "solution": false
                }
            },
            "outputs": [],
            "source": [
                "#\n",
                "# AUTOGRADER TEST - DO NOT REMOVE\n",
                "#\n",
                "pyrat.density = 0\n",
                "pyrat.mud_density = 0\n",
                "pyrat.width = 7\n",
                "pyrat.height = 1\n",
                "pyrat.pieces = 1\n",
                "pyrat.random_seed = 5\n",
                "game = pyrat.Game(turn_1=turn)\n",
                "game.play_match()\n",
                "pyrat.display_game(game)"
            ]
        },
        {
            "cell_type": "markdown",
            "metadata": {
                "nbgrader": {
                    "grade": false,
                    "grade_id": "cell-c8fa38405c9b4235",
                    "locked": true,
                    "schema_version": 1,
                    "solution": false
                }
            },
            "source": [
                "# Exercise E (1pt)\n",
                "\n",
                "Now let us try something a bit more elaborate.\n",
                "\n",
                "Code a turn function that plays at random: it selects any move at random with probability 1/4 at each turn.\n",
                "\n",
                "It will be capable of always finding all the cheeses on the maze, but it may take a while. Use the function random.choice which performs a random choice over a list. The list MOVES contains all the possible moves."
            ]
        },
        {
            "cell_type": "code",
            "execution_count": null,
            "metadata": {
                "collapsed": true,
                "nbgrader": {
                    "grade": false,
                    "grade_id": "exercise_e",
                    "locked": false,
                    "points": "1",
                    "schema_version": 1,
                    "solution": true
                }
            },
            "outputs": [],
            "source": [
                "MOVE_DOWN = 'D'\n",
                "MOVE_LEFT = 'L'\n",
                "MOVE_RIGHT = 'R'\n",
                "MOVE_UP = 'U'\n",
                "MOVES = [MOVE_DOWN,MOVE_LEFT,MOVE_RIGHT,MOVE_UP]\n",
                "import random\n",
                "\n",
                "def turn(mazeMap, mazeWidth, mazeHeight, playerLocation, opponentLocation, playerScore, opponentScore, piecesOfCheese, timeAllowed):    \n",
                "    #\n",
                "    # YOUR CODE HERE\n",
                "    #\n",
                "    # END YOUR CODE    "
            ]
        },
        {
            "cell_type": "code",
            "execution_count": null,
            "metadata": {
                "collapsed": true,
                "deletable": false,
                "nbgrader": {
                    "grade": true,
                    "grade_id": "exercise_e",
                    "locked": true,
                    "points": 1,
                    "schema_version": 1,
                    "solution": false
                },
                "scrolled": true
            },
            "outputs": [],
            "source": [
                "#\n",
                "# AUTOGRADER TEST - DO NOT REMOVE\n",
                "#\n",
                "pyrat.density = 0\n",
                "pyrat.mud_density = 0\n",
                "pyrat.width = 3\n",
                "pyrat.height = 5\n",
                "pyrat.pieces = 1\n",
                "pyrat.random_seed = 8\n",
                "game = pyrat.Game(turn_1=turn)\n",
                "game.play_match()\n",
                "pyrat.display_game(game)"
            ]
        },
        {
            "cell_type": "code",
            "execution_count": null,
            "metadata": {
                "collapsed": true
            },
            "outputs": [],
            "source": []
        },
        {
            "cell_type": "markdown",
            "metadata": {},
            "source": [
                "Do not forget to submit your results before exiting!"
            ]
        },
        {
            "cell_type": "code",
            "execution_count": null,
            "metadata": {
                "collapsed": true
            },
            "outputs": [],
            "source": [
                "pyrat.stop_display()"
            ]
        },
        {
            "cell_type": "code",
            "execution_count": null,
            "metadata": {
                "collapsed": true
            },
            "outputs": [],
            "source": [
                "pyrat.redisplay()"
            ]
        },
        {
            "cell_type": "code",
            "execution_count": null,
            "metadata": {
                "collapsed": true
            },
            "outputs": [],
            "source": []
        }
    ],
    "metadata": {
        "kernelspec": {
            "display_name": "Python 3 [3.6]",
            "language": "python",
            "name": "python3"
        },
        "language_info": {
            "codemirror_mode": {
                "name": "ipython",
                "version": 3
            },
            "file_extension": ".py",
            "mimetype": "text/x-python",
            "name": "python",
            "nbconvert_exporter": "python",
            "pygments_lexer": "ipython3",
            "version": "3.6.4"
        }
    },
    "nbformat": 4,
    "nbformat_minor": 2
}