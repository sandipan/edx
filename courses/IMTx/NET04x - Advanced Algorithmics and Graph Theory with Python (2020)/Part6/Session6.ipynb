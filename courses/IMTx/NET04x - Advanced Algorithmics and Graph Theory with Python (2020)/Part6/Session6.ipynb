{
 "cells": [
  {
   "cell_type": "markdown",
   "metadata": {
    "nbgrader": {
     "grade": false,
     "grade_id": "cell-6408cb30501c91fb",
     "locked": true,
     "schema_version": 1,
     "solution": false
    }
   },
   "source": [
    "Welcome to the last lab session of the Advanced algorithmics and graph theory with Python course. In this session you will learn how to simulate games against a defined opponent and use combinatorial game theory to play \"perfect games\" against those opponents.\n",
    "\n",
    "The main objectives of this exercise are to:\n",
    "* Write functions to ensure winning in a combinatorial game\n",
    "\n",
    "The first thing we have to do is to use the functions we coded in the last exercise to simulate the move of the opponent. We are going to be controlling all the variables of the game."
   ]
  },
  {
   "cell_type": "markdown",
   "metadata": {
    "nbgrader": {
     "grade": false,
     "grade_id": "cell-039c24823464f038",
     "locked": true,
     "schema_version": 1,
     "solution": false
    }
   },
   "source": [
    "To ensure a win in a combinatorial game the simplest approach is to simulate all the possible playouts of the game. As this is too computationally expensive in this laboratory we are going to exploit all the possible playouts against a deterministic adversary. A deterministic adversary is an adversary that given a game state will always execute the same move. This simplification greatly reduces the amount of playouts to simulate.\n",
    "\n",
    "One example of deterministic adversary is the greedy agent you programmed in Lab 5. To avoid recoding we will give you the greedy turn function which will be available as greedy.turn or turn_greedy.\n",
    "\n",
    "The first thing we will do is create the game. To create a game we need to define the game state variables, including height, width, the maze, the pieces of cheese, etc. We will also set pyrat to use the same values as the ones we will use for our simulations.\n",
    "\n",
    "PS: In this lab session we will consider games without mud in order to reduce the complexity of the solution. "
   ]
  },
  {
   "cell_type": "code",
   "execution_count": 1,
   "metadata": {
    "collapsed": true,
    "nbgrader": {
     "grade": false,
     "grade_id": "cell-57200099720daec2",
     "locked": true,
     "schema_version": 1,
     "solution": false
    }
   },
   "outputs": [],
   "source": [
    "# Import definitions\n",
    "from imports import maze\n",
    "import utils\n",
    "import greedy\n",
    "import pyrat\n",
    "\n",
    "# Define the game variables\n",
    "width = 9\n",
    "height = 9 \n",
    "density = 0.95\n",
    "pieces = 7\n",
    "nonconnected = False\n",
    "nonsymmetric = False\n",
    "mud_density = 0.0\n",
    "mud_range = 2\n",
    "maze_file = \"\" \n",
    "random_seed = 20\n",
    "player1_location,player2_location = (0,0),(8,8)\n",
    "player1_score,player2_score = 0,0\n",
    "time_allowed = 100000\n",
    "new_player1_location,new_player2_location = None,None\n",
    "start_random = False\n",
    "turn_greedy = greedy.turn\n",
    "\n",
    "# Copy those variables to pyrat\n",
    "pyrat.width = width\n",
    "pyrat.height = height\n",
    "pyrat.density = density\n",
    "pyrat.nonconnected = nonconnected\n",
    "pyrat.nonsymmetric = nonsymmetric\n",
    "pyrat.mud_density = mud_density\n",
    "pyrat.mud_range = mud_range\n",
    "pyrat.maze_file = maze_file\n",
    "pyrat.random_seed = random_seed\n",
    "pyrat.pieces = pieces\n",
    "pyrat.time_allowed = time_allowed\n",
    "pyrat.start_random = start_random\n",
    "\n",
    "\n",
    "# Generate the maze and pieces of cheese that are going to be used in this section\n",
    "width, height, pieces_of_cheese, maze_graph = maze.generate_maze(\n",
    "    width, height, density, not nonconnected, not nonsymmetric, mud_density, mud_range, maze_file, random_seed\n",
    ")\n",
    "\n",
    "\n",
    "\n",
    "pieces_of_cheese, player1_location,player2_location = maze.generate_pieces_of_cheese(\n",
    "    pieces, width, height, not nonsymmetric, player1_location, player2_location, start_random\n",
    ")\n",
    "\n",
    "maze_start = 9, 9, [(1, 0), (7, 8), (4, 4), (2, 4), (6, 4), (4, 3), (4, 5)], {(0, 0): {(1, 0): 1, (0, 1): 1}, (0, 1): {(0, 0): 1}, (0, 2): {(1, 2): 1, (0, 3): 1}, (0, 3): {(1, 3): 1, (0, 2): 1}, (0, 4): {(1, 4): 1}, (0, 5): {(0, 6): 1, (1, 5): 1}, (0, 6): {(0, 5): 1, (0, 7): 1}, (0, 7): {(0, 6): 1, (1, 7): 1}, (0, 8): {(1, 8): 1}, (1, 0): {(0, 0): 1, (2, 0): 1, (1, 1): 1}, (1, 1): {(1, 0): 1}, (1, 2): {(0, 2): 1}, (1, 3): {(0, 3): 1, (2, 3): 1, (1, 4): 1}, (1, 4): {(0, 4): 1, (1, 3): 1}, (1, 5): {(0, 5): 1}, (1, 6): {(1, 7): 1, (2, 6): 1}, (1, 7): {(1, 8): 1, (1, 6): 1, (0, 7): 1}, (1, 8): {(0, 8): 1, (1, 7): 1, (2, 8): 1}, (2, 0): {(3, 0): 1, (1, 0): 1}, (2, 1): {(3, 1): 1}, (2, 2): {(3, 2): 1}, (2, 3): {(3, 3): 1, (1, 3): 1}, (2, 4): {(2, 5): 1}, (2, 5): {(2, 6): 1, (2, 4): 1}, (2, 6): {(1, 6): 1, (3, 6): 1, (2, 5): 1}, (2, 7): {(2, 8): 1}, (2, 8): {(3, 8): 1, (1, 8): 1, (2, 7): 1}, (3, 0): {(2, 0): 1, (4, 0): 1}, (3, 1): {(4, 1): 1, (2, 1): 1}, (3, 2): {(4, 2): 1, (2, 2): 1}, (3, 3): {(4, 3): 1, (3, 4): 1, (2, 3): 1}, (3, 4): {(3, 3): 1, (3, 5): 1, (4, 4): 1}, (3, 5): {(3, 6): 1, (4, 5): 1, (3, 4): 1}, (3, 6): {(3, 5): 1, (2, 6): 1}, (3, 7): {(3, 8): 1}, (3, 8): {(2, 8): 1, (4, 8): 1, (3, 7): 1}, (4, 0): {(5, 0): 1, (4, 1): 1, (3, 0): 1}, (4, 1): {(4, 0): 1, (3, 1): 1}, (4, 2): {(3, 2): 1, (4, 3): 1}, (4, 3): {(5, 3): 1, (4, 2): 1, (3, 3): 1}, (4, 4): {(5, 4): 1, (3, 4): 1}, (4, 5): {(3, 5): 1, (4, 6): 1, (5, 5): 1}, (4, 6): {(5, 6): 1, (4, 5): 1}, (4, 7): {(4, 8): 1, (5, 7): 1}, (4, 8): {(3, 8): 1, (4, 7): 1, (5, 8): 1}, (5, 0): {(6, 0): 1, (4, 0): 1, (5, 1): 1}, (5, 1): {(5, 0): 1}, (5, 2): {(5, 3): 1, (6, 2): 1}, (5, 3): {(5, 2): 1, (4, 3): 1, (5, 4): 1}, (5, 4): {(5, 5): 1, (5, 3): 1, (4, 4): 1}, (5, 5): {(4, 5): 1, (5, 4): 1, (6, 5): 1}, (5, 6): {(4, 6): 1, (6, 6): 1}, (5, 7): {(4, 7): 1, (6, 7): 1}, (5, 8): {(6, 8): 1, (4, 8): 1}, (6, 0): {(5, 0): 1, (7, 0): 1, (6, 1): 1}, (6, 1): {(6, 0): 1}, (6, 2): {(7, 2): 1, (5, 2): 1, (6, 3): 1}, (6, 3): {(6, 2): 1, (6, 4): 1}, (6, 4): {(6, 3): 1}, (6, 5): {(5, 5): 1, (7, 5): 1}, (6, 6): {(5, 6): 1}, (6, 7): {(5, 7): 1}, (6, 8): {(5, 8): 1, (7, 8): 1}, (7, 0): {(8, 0): 1, (7, 1): 1, (6, 0): 1}, (7, 1): {(7, 0): 1, (7, 2): 1, (8, 1): 1}, (7, 2): {(7, 1): 1, (6, 2): 1}, (7, 3): {(8, 3): 1}, (7, 4): {(8, 4): 1, (7, 5): 1}, (7, 5): {(8, 5): 1, (6, 5): 1, (7, 4): 1}, (7, 6): {(8, 6): 1}, (7, 7): {(7, 8): 1}, (7, 8): {(8, 8): 1, (6, 8): 1, (7, 7): 1}, (8, 0): {(7, 0): 1}, (8, 1): {(8, 2): 1, (7, 1): 1}, (8, 2): {(8, 3): 1, (8, 1): 1}, (8, 3): {(8, 2): 1, (7, 3): 1}, (8, 4): {(7, 4): 1}, (8, 5): {(7, 5): 1, (8, 6): 1}, (8, 6): {(7, 6): 1, (8, 5): 1}, (8, 7): {(8, 8): 1}, (8, 8): {(7, 8): 1, (8, 7): 1}}\n",
    "width, height, pieces_of_cheese, maze_graph = maze_start\n"
   ]
  },
  {
   "cell_type": "markdown",
   "metadata": {},
   "source": [
    "# Exercise A (1pt)\n",
    "\n",
    "Your first exercise is to create a control function that will determine if a piece of cheese has been eaten and update the state of the game accordingly. To do this you will define the check_eat_cheese function. This function receives the location of both players, the score of both players and a list containing the location of the pieces of cheese\n",
    "\n",
    "It will then check if one or more players have collected a piece of cheese. The rules are as follow:\n",
    "\n",
    "- If both players are at the same location and there is a piece of cheese in that location, add 0.5 points to each player's score and remove the location from the list of pieces of cheese locations.\n",
    "- If the first condition is false and the player is on the same location as a piece of cheese, add 1 point to the player's score and remove the player location from the list of pieces of cheese locations.\n",
    "- If the first condition is false and the opponent is on the same location as a piece of cheese, add 1 point to the opponent's score and remove the opponent location from the list of pieces of cheese locations.\n",
    "\n",
    "It returns the updated scores of both players. The list should be modified in place.\n",
    "\n",
    "Tip: You can use the method pieces_of_cheese.remove(location) to remove a location from the list of pieces of cheese\n"
   ]
  },
  {
   "cell_type": "code",
   "execution_count": 8,
   "metadata": {
    "collapsed": true,
    "deletable": false,
    "nbgrader": {
     "grade": false,
     "grade_id": "cell-e12cc09346eb924b",
     "locked": false,
     "schema_version": 1,
     "solution": false
    }
   },
   "outputs": [],
   "source": [
    "def check_eat_cheese(player_location,opponent_location,player_score,opponent_score,pieces_of_cheese):\n",
    "    if player_location in pieces_of_cheese and player_location == opponent_location:\n",
    "        # Add 0.5 to each player score\n",
    "        # Remove the piece of cheese of the player location from the pieces_of_cheese list \n",
    "        player_score += 0.5\n",
    "        opponent_score += 0.5\n",
    "        pieces_of_cheese.remove(player_location)\n",
    "    else:\n",
    "        if player_location in pieces_of_cheese:\n",
    "            # Add 1.0 to the player score\n",
    "            # Remove the piece of cheese of the player location from the pieces_of_cheese list \n",
    "            player_score += 1\n",
    "            pieces_of_cheese.remove(player_location)\n",
    "        if opponent_location in pieces_of_cheese:\n",
    "            # Add 1.0 to the opponent score\n",
    "            # Remove the piece of cheese of the opponent location from the pieces_of_cheese list \n",
    "            opponent_score += 1\n",
    "            pieces_of_cheese.remove(opponent_location)\n",
    "    return player_score,opponent_score"
   ]
  },
  {
   "cell_type": "code",
   "execution_count": 9,
   "metadata": {
    "nbgrader": {
     "grade": true,
     "grade_id": "exercise_a",
     "locked": true,
     "points": "1",
     "solution": false
    }
   },
   "outputs": [
    {
     "name": "stdout",
     "output_type": "stream",
     "text": [
      "Player and opponent are at positions (0, 0) and (0, 0) respectively. While their scores are 3 and 4 respectively\n",
      "The list of pieces of cheese locations has 2 cheeses in positions [(0, 0), (1, 0)]\n",
      "After the function execution the scores are 3.5 and 4.5 and the list of pieces of cheese locations has 1 cheeses in positions [(1, 0)]\n",
      "After another function execution the scores are 3.5 and 4.5 and the list of pieces of cheese locations has 1 cheeses in positions [(1, 0)]\n",
      "\n",
      "Player and opponent are at positions (1, 0) and (0, 0) respectively. While their scores are 3 and 2 respectively\n",
      "The list of pieces of cheese locations has 2 cheeses in positions [(1, 0), (0, 0)]\n",
      "After the function execution the scores are 4 and 3 and the list of pieces of cheese locations has 0 cheeses in positions []\n",
      "\n",
      "Player and opponent are at positions (4, 3) and (1, 2) respectively. While their scores are 3 and 3 respectively\n",
      "The list of pieces of cheese locations has 2 cheeses in positions [(8, 8), (1, 2)]\n",
      "After the function execution the scores are 3 and 4 and the list of pieces of cheese locations has 1 cheeses in positions [(8, 8)]\n"
     ]
    }
   ],
   "source": [
    "#\n",
    "# AUTOGRADER TEST - DO NOT REMOVE\n",
    "#\n",
    "\n",
    "\n",
    "local_pieces_of_cheese = [(0,0),(1,0)]\n",
    "local_player_location, local_opponent_location = [(0,0),(0,0)]\n",
    "local_player_score, local_opponent_score = 3,4\n",
    "\n",
    "print(\"Player and opponent are at positions {} and {} respectively. While their scores are {} and {} respectively\".format(local_player_location,local_opponent_location,local_player_score,local_opponent_score))\n",
    "print(\"The list of pieces of cheese locations has {} cheeses in positions {}\".format(len(local_pieces_of_cheese),local_pieces_of_cheese))\n",
    "local_player_score,local_opponent_score = check_eat_cheese(local_player_location,local_opponent_location,local_player_score,local_opponent_score,local_pieces_of_cheese)\n",
    "print(\"After the function execution the scores are {} and {} and the list of pieces of cheese locations has {} cheeses in positions {}\".format(local_player_score,local_opponent_score,len(local_pieces_of_cheese),local_pieces_of_cheese))\n",
    "local_player_score,local_opponent_score = check_eat_cheese(local_player_location,local_opponent_location,local_player_score,local_opponent_score,local_pieces_of_cheese)\n",
    "print(\"After another function execution the scores are {} and {} and the list of pieces of cheese locations has {} cheeses in positions {}\".format(local_player_score,local_opponent_score,len(local_pieces_of_cheese),local_pieces_of_cheese))\n",
    "\n",
    "print()\n",
    "\n",
    "local_pieces_of_cheese = [(1,0),(0,0)]\n",
    "local_player_location, local_opponent_location = [(1,0),(0,0)]\n",
    "local_player_score, local_opponent_score = 3,2\n",
    "\n",
    "print(\"Player and opponent are at positions {} and {} respectively. While their scores are {} and {} respectively\".format(local_player_location,local_opponent_location,local_player_score,local_opponent_score))\n",
    "print(\"The list of pieces of cheese locations has {} cheeses in positions {}\".format(len(local_pieces_of_cheese),local_pieces_of_cheese))\n",
    "local_player_score,local_opponent_score = check_eat_cheese(local_player_location,local_opponent_location,local_player_score,local_opponent_score,local_pieces_of_cheese)\n",
    "print(\"After the function execution the scores are {} and {} and the list of pieces of cheese locations has {} cheeses in positions {}\".format(local_player_score,local_opponent_score,len(local_pieces_of_cheese),local_pieces_of_cheese))\n",
    "\n",
    "print()\n",
    "\n",
    "\n",
    "local_pieces_of_cheese = [(8,8),(1,2)]\n",
    "local_player_location, local_opponent_location = [(4,3),(1,2)]\n",
    "local_player_score, local_opponent_score = 3,3\n",
    "\n",
    "print(\"Player and opponent are at positions {} and {} respectively. While their scores are {} and {} respectively\".format(local_player_location,local_opponent_location,local_player_score,local_opponent_score))\n",
    "print(\"The list of pieces of cheese locations has {} cheeses in positions {}\".format(len(local_pieces_of_cheese),local_pieces_of_cheese))\n",
    "local_player_score,local_opponent_score = check_eat_cheese(local_player_location,local_opponent_location,local_player_score,local_opponent_score,local_pieces_of_cheese)\n",
    "print(\"After the function execution the scores are {} and {} and the list of pieces of cheese locations has {} cheeses in positions {}\".format(local_player_score,local_opponent_score,len(local_pieces_of_cheese),local_pieces_of_cheese))"
   ]
  },
  {
   "cell_type": "markdown",
   "metadata": {
    "nbgrader": {
     "grade": false,
     "locked": true,
     "solution": false
    }
   },
   "source": [
    "After correctly adding your code, and executing the cells you should see\n",
    "\n",
    "```\n",
    "Player and opponent are at positions (0, 0) and (0, 0) respectively. While their scores are 3 and 4 respectively\n",
    "The list of pieces of cheese locations has 2 cheeses in positions [(0, 0), (1, 0)]\n",
    "After the function execution the scores are 3.5 and 4.5 and the list of pieces of cheese locations has 1 cheeses in positions [(1, 0)]\n",
    "After another function execution the scores are 3.5 and 4.5 and the list of pieces of cheese locations has 1 cheeses in positions [(1, 0)]\n",
    "\n",
    "Player and opponent are at positions (1, 0) and (0, 0) respectively. While their scores are 3 and 2 respectively\n",
    "The list of pieces of cheese locations has 2 cheeses in positions [(1, 0), (0, 0)]\n",
    "After the function execution the scores are 4 and 3 and the list of pieces of cheese locations has 0 cheeses in positions []\n",
    "\n",
    "Player and opponent are at positions (4, 3) and (1, 2) respectively. While their scores are 3 and 3 respectively\n",
    "The list of pieces of cheese locations has 2 cheeses in positions [(8, 8), (1, 2)]\n",
    "After the function execution the scores are 3 and 4 and the list of pieces of cheese locations has 1 cheeses in positions [(8, 8)]\n",
    "```"
   ]
  },
  {
   "cell_type": "markdown",
   "metadata": {
    "nbgrader": {
     "grade": false,
     "grade_id": "cell-b40eaa366d893223",
     "locked": true,
     "schema_version": 1,
     "solution": false
    }
   },
   "source": [
    "# Exercise B (1pt)\n",
    "\n",
    "Your second exercise is going to be to simulate a move in a pyrat game. To do this you will define the simulate_move function. This function needs the full state of the game (maze_graph,width,height,player1_location,player2_location,player1_score,player2_score,pieces_of_cheese,time_allowed) and also the turn functions for both players.\n",
    "\n",
    "It will get the decisions of both players by calling their turn functions with the full state of the game and will then use the move function from the utils module to get the new position of the player. It should then update the respective player_location variable\n",
    "\n",
    "Finally it should verify if a cheese has been eaten and update the scores accordingly using the check_eat_cheese function and return the new state of the game (player1_location,player2_location,player1_score,player2_score,pieces_of_cheese)"
   ]
  },
  {
   "cell_type": "code",
   "execution_count": 10,
   "metadata": {
    "collapsed": true,
    "nbgrader": {
     "grade": false,
     "grade_id": "exercise_b",
     "locked": false,
     "points": "1",
     "schema_version": 1,
     "solution": true
    }
   },
   "outputs": [],
   "source": [
    "def move(maze,player_location,decision):\n",
    "    new_location = utils.get_new_location(player_location,decision)\n",
    "    if new_location in maze[player_location]:\n",
    "        return new_location\n",
    "    else:\n",
    "        return player_location\n",
    "    \n",
    "def simulate_move(\n",
    "    maze_graph,width,height,player1_location,player2_location,\n",
    "    player1_score,player2_score,pieces_of_cheese,\n",
    "    turn_player1,turn_player2,time_allowed):    \n",
    "    pieces_of_cheese = pieces_of_cheese.copy()\n",
    "    # Get the decision of both players using the turn functions\n",
    "    # Use the decisions to move the players using the move function\n",
    "    # Update the player1_location and player2_location variable after the move\n",
    "    decision1 = turn_player1(maze_graph, width, height, player1_location, player2_location, player1_score, player2_score, pieces_of_cheese, time_allowed)\n",
    "    decision2 = turn_player2(maze_graph, width, height, player2_location, player1_location, player2_score, player1_score, pieces_of_cheese, time_allowed)\n",
    "    player1_location = move(maze_graph,player1_location,decision1)\n",
    "    player2_location = move(maze_graph,player2_location,decision2)\n",
    "    player1_score,player2_score = check_eat_cheese(\n",
    "        player1_location,player2_location,player1_score,player2_score,pieces_of_cheese\n",
    "    )\n",
    "    return player1_location,player2_location,player1_score,player2_score,pieces_of_cheese"
   ]
  },
  {
   "cell_type": "code",
   "execution_count": 11,
   "metadata": {
    "deletable": false,
    "nbgrader": {
     "grade": true,
     "grade_id": "exercise_b",
     "locked": true,
     "points": "1",
     "schema_version": 1,
     "solution": false
    }
   },
   "outputs": [
    {
     "name": "stdout",
     "output_type": "stream",
     "text": [
      "Start of the game:\n",
      "Player 1 location and score: (0, 0), 0\n",
      "Player 2 location and score: (8, 8), 0\n",
      "Amount of cheeses left is 7 and their locations are [(1, 0), (7, 8), (4, 4), (2, 4), (6, 4), (4, 3), (4, 5)]\n",
      "After first move:\n",
      "Player 1 location and score: (1, 0), 1\n",
      "Player 2 location and score: (7, 8), 1\n",
      "Amount of cheeses left is 5 and their locations are [(4, 4), (2, 4), (6, 4), (4, 3), (4, 5)]\n",
      "After second move:\n",
      "Player 1 location and score: (2, 0), 1\n",
      "Player 2 location and score: (6, 8), 1\n",
      "Amount of cheeses left is 5 and their locations are [(4, 4), (2, 4), (6, 4), (4, 3), (4, 5)]\n"
     ]
    }
   ],
   "source": [
    "#\n",
    "# AUTOGRADER TEST - DO NOT REMOVE\n",
    "#\n",
    "\n",
    "print(\"Start of the game:\")\n",
    "print(\"Player 1 location and score: {}, {}\".format(player1_location,player1_score))\n",
    "print(\"Player 2 location and score: {}, {}\".format(player2_location,player2_score))\n",
    "print(\"Amount of cheeses left is {} and their locations are {}\".format(len(pieces_of_cheese),pieces_of_cheese))\n",
    "newplayer1_location,newplayer2_location,newplayer1_score,newplayer2_score,newpieces_of_cheese = simulate_move(maze_graph,width,height,player1_location,player2_location,player1_score,player2_score,pieces_of_cheese,turn_greedy,turn_greedy,time_allowed)\n",
    "\n",
    "print(\"After first move:\")\n",
    "print(\"Player 1 location and score: {}, {}\".format(newplayer1_location,newplayer1_score))\n",
    "print(\"Player 2 location and score: {}, {}\".format(newplayer2_location,newplayer2_score))\n",
    "print(\"Amount of cheeses left is {} and their locations are {}\".format(len(newpieces_of_cheese),newpieces_of_cheese))\n",
    "\n",
    "newplayer1_location,newplayer2_location,newplayer1_score,newplayer2_score,newpieces_of_cheese = simulate_move(maze_graph,width,height,newplayer1_location,newplayer2_location,newplayer1_score,newplayer2_score,newpieces_of_cheese,turn_greedy,turn_greedy,time_allowed)\n",
    "print(\"After second move:\")\n",
    "print(\"Player 1 location and score: {}, {}\".format(newplayer1_location,newplayer1_score))\n",
    "print(\"Player 2 location and score: {}, {}\".format(newplayer2_location,newplayer2_score))\n",
    "print(\"Amount of cheeses left is {} and their locations are {}\".format(len(newpieces_of_cheese),newpieces_of_cheese))\n"
   ]
  },
  {
   "cell_type": "markdown",
   "metadata": {},
   "source": [
    "After correctly adding your code, and executing the cells you should see\n",
    "\n",
    "```\n",
    "Start of the game:\n",
    "Player 1 location and score: (0, 0), 0\n",
    "Player 2 location and score: (8, 8), 0\n",
    "Amount of cheeses left is 7 and their locations are [(1, 0), (7, 8), (4, 4), (2, 4), (6, 4), (4, 3), (4, 5)]\n",
    "After first move:\n",
    "Player 1 location and score: (1, 0), 1\n",
    "Player 2 location and score: (7, 8), 1\n",
    "Amount of cheeses left is 5 and their locations are [(4, 4), (2, 4), (6, 4), (4, 3), (4, 5)]\n",
    "After second move:\n",
    "Player 1 location and score: (2, 0), 1\n",
    "Player 2 location and score: (6, 8), 1\n",
    "Amount of cheeses left is 5 and their locations are [(4, 4), (2, 4), (6, 4), (4, 3), (4, 5)]\n",
    "```"
   ]
  },
  {
   "cell_type": "markdown",
   "metadata": {
    "nbgrader": {
     "grade": false,
     "grade_id": "cell-471019b4735c2db3",
     "locked": true,
     "schema_version": 1,
     "solution": false
    }
   },
   "source": [
    "# Exercise C (1pt)\n",
    "\n",
    "Now that you have a function that allows you to simulate one move for two deterministic players it is now possible to simulate entire games. Complete the simulate_game using the simulate_move function from exercise B and end_game function to verify if the game is already over."
   ]
  },
  {
   "cell_type": "code",
   "execution_count": 16,
   "metadata": {
    "collapsed": true,
    "nbgrader": {
     "grade": false,
     "locked": false,
     "solution": false
    }
   },
   "outputs": [],
   "source": [
    "def end_game(pieces_of_cheese,player1_score,player2_score,rounds,max_rounds = 1000):\n",
    "    totalPieces = len(pieces_of_cheese) + player1_score + player2_score\n",
    "    if rounds > max_rounds or player1_score > totalPieces / 2 or player2_score > totalPieces / 2 or len(pieces_of_cheese) == 0:\n",
    "        return True\n",
    "    else:\n",
    "        return False\n",
    "\n",
    "def simulate_game(maze_graph,width,height,player1_location,player2_location,\n",
    "    player1_score,player2_score,pieces_of_cheese,\n",
    "    turn_player1,turn_player2,time_allowed):\n",
    "    \n",
    "    pieces_of_cheese = pieces_of_cheese.copy()\n",
    "    rounds = 0\n",
    "    \n",
    "    while not end_game(pieces_of_cheese,player1_score,player2_score,rounds):\n",
    "        \n",
    "        rounds += 1\n",
    "        player1_location,player2_location,player1_score,player2_score,pieces_of_cheese = simulate_move(maze_graph,width,height,player1_location,player2_location, player1_score,player2_score,\n",
    "                      pieces_of_cheese, turn_player1,turn_player2,time_allowed)\n",
    "    \n",
    "    rounds += 1\n",
    "    return player1_location,player2_location,player1_score,player2_score,pieces_of_cheese,rounds"
   ]
  },
  {
   "cell_type": "code",
   "execution_count": 17,
   "metadata": {
    "deletable": false,
    "nbgrader": {
     "grade": true,
     "grade_id": "exercise_c",
     "locked": true,
     "points": "1",
     "schema_version": 1,
     "solution": false
    }
   },
   "outputs": [
    {
     "name": "stdout",
     "output_type": "stream",
     "text": [
      "At the end of the game:\n",
      "Player 1 location and score: (4, 4), 3.5\n",
      "Player 2 location and score: (4, 4), 3.5\n",
      "Cheeses left 0\n",
      "Number of rounds 21\n"
     ]
    }
   ],
   "source": [
    "#\n",
    "# AUTOGRADER TEST - DO NOT REMOVE\n",
    "#\n",
    "\n",
    "newplayer1_location,newplayer2_location,newplayer1_score,newplayer2_score,newpieces_of_cheese,new_rounds = simulate_game(maze_graph,width,height,player1_location,player2_location,\n",
    "    player1_score,player2_score,pieces_of_cheese,\n",
    "    turn_greedy,turn_greedy,time_allowed)\n",
    "print(\"At the end of the game:\")\n",
    "print(\"Player 1 location and score: {}, {}\".format(newplayer1_location,newplayer1_score))\n",
    "print(\"Player 2 location and score: {}, {}\".format(newplayer2_location,newplayer2_score))\n",
    "print(\"Cheeses left {}\".format(len(newpieces_of_cheese)))\n",
    "print(\"Number of rounds {}\".format(new_rounds))"
   ]
  },
  {
   "cell_type": "markdown",
   "metadata": {
    "nbgrader": {
     "grade": false,
     "grade_id": "cell-f77d664714def2f2",
     "locked": true,
     "schema_version": 1,
     "solution": false
    }
   },
   "source": [
    "After correctly adding your code, and executing the cells you should see\n",
    "\n",
    "```\n",
    "At the end of the game:\n",
    "Player 1 location and score: (4, 4), 3.5\n",
    "Player 2 location and score: (4, 4), 3.5\n",
    "Cheeses left 0\n",
    "Number of rounds 21\n",
    "```\n",
    "\n",
    "Since the maze is symmetric and the players use the same function, the game is a tie."
   ]
  },
  {
   "cell_type": "markdown",
   "metadata": {
    "nbgrader": {
     "grade": false,
     "grade_id": "cell-7543a1ccca471380",
     "locked": true,
     "schema_version": 1,
     "solution": false
    }
   },
   "source": [
    "# Exercise D (1pt)\n",
    "\n",
    "Given that now we can simulate deterministic games, we have to create a function that will generate a deterministic turn function using an arbitrarily defined order of pieces of cheese to pick and therefore allow us to test all the possible games.\n",
    "\n",
    "Again in the interest of reducing the complexity, instead of trying all the possible moves we are going to consider all the possible sequences of cheeses. Said otherwise, we consider that a player strategy is to choose which piece of cheese to chase next. Then we simulate the game until this piece of cheese is taken (either by the player or its opponent) before we make a new decision. This greatly reduces the number of simulations needed for the brute force algorithm.\n",
    "\n",
    "You are given an auxiliary function that given an ordered list of locations, returns the first one that is present in the list of pieces of cheese. This function allow us to test different orders of searching for the pieces of cheese.\n",
    "\n",
    "You will define the create_turn_target_function which is a function generator. It receives a targets list which is an ordered list of pieces of cheese to visit. It defines and returns a turn function that uses the targets list that was passed as a parameter of the function generator.\n",
    "\n",
    "You will complete the internal_turn_target function which will use the target_choice function to choose the next target and then use the A_to_B function defined on the utils module to generate the full list of movements needed to go to the chosen piece of cheese. You will then return the first movement of this list. The function generator then returns this internal_turn_target which is defined with the correct targets list. \n",
    "\n",
    "Tip: The A_to_B function from the utils module receives three arguments the maze_graph, the player_location and the target vertex to visit."
   ]
  },
  {
   "cell_type": "code",
   "execution_count": 20,
   "metadata": {
    "collapsed": true,
    "nbgrader": {
     "grade": false,
     "grade_id": "exercise_d",
     "locked": false,
     "points": "1",
     "schema_version": 1,
     "solution": true
    }
   },
   "outputs": [],
   "source": [
    "def target_choice(targets,pieces_of_cheese):\n",
    "    for target in targets:\n",
    "        if target in pieces_of_cheese:\n",
    "            return target\n",
    "    return None\n",
    "\n",
    "def create_turn_target_function(targets):\n",
    "    targets = targets.copy()\n",
    "\n",
    "    def internal_turn_target(maze_graph, width,height, player_location, opponent_location, player_score, \n",
    "            opponent_score, pieces_of_cheese, time_allowed):\n",
    "        target = target_choice(targets, pieces_of_cheese)\n",
    "        movements = utils.A_to_B(maze_graph, player_location, target)\n",
    "        return movements[0]\n",
    "    return internal_turn_target"
   ]
  },
  {
   "cell_type": "code",
   "execution_count": 21,
   "metadata": {
    "deletable": false,
    "nbgrader": {
     "grade": true,
     "grade_id": "exercise_d",
     "locked": true,
     "points": "1",
     "schema_version": 1,
     "solution": false
    }
   },
   "outputs": [
    {
     "name": "stdout",
     "output_type": "stream",
     "text": [
      "At the end of the game:\n",
      "Player 1 (target_choice) location and score: (6, 4), 4\n",
      "Player 2 (greedy) location and score: (6, 2), 3\n",
      "Cheeses left 0\n",
      "Number of rounds 23\n"
     ]
    }
   ],
   "source": [
    "#\n",
    "# AUTOGRADER TEST - DO NOT REMOVE\n",
    "#\n",
    "turn_target = create_turn_target_function([(1, 0), (7, 8), (4, 4), (2, 4), (4, 3), (6, 4), (4, 5)])\n",
    "\n",
    "newplayer1_location,newplayer2_location,newplayer1_score,newplayer2_score,newpieces_of_cheese,new_rounds = simulate_game(\n",
    "    maze_graph,width,height,player1_location,player2_location,\n",
    "    player1_score,player2_score,pieces_of_cheese,\n",
    "    turn_target,turn_greedy,time_allowed)\n",
    "print(\"At the end of the game:\")\n",
    "print(\"Player 1 (target_choice) location and score: {}, {}\".format(newplayer1_location,newplayer1_score))\n",
    "print(\"Player 2 (greedy) location and score: {}, {}\".format(newplayer2_location,newplayer2_score))\n",
    "print(\"Cheeses left {}\".format(len(newpieces_of_cheese)))\n",
    "print(\"Number of rounds {}\".format(new_rounds))"
   ]
  },
  {
   "cell_type": "markdown",
   "metadata": {
    "nbgrader": {
     "grade": false,
     "grade_id": "cell-062b7222b30c2558",
     "locked": true,
     "points": 0,
     "schema_version": 1,
     "solution": false
    }
   },
   "source": [
    "After correctly adding your code, and executing the cells you should see\n",
    "\n",
    "```\n",
    "At the end of the game:\n",
    "Player 1 (target_choice) location and score: (6, 4), 4\n",
    "Player 2 (greedy) location and score: (6, 2), 3\n",
    "Cheeses left 0\n",
    "Number of rounds 23\n",
    "```\n",
    "\n",
    "Note that in the first line we have defined by hand an order that is guaranteed to win the game. In the next exercise we will show you how to search for the best possible order"
   ]
  },
  {
   "cell_type": "markdown",
   "metadata": {
    "nbgrader": {
     "grade": false,
     "grade_id": "cell-e67bbbf648515a13",
     "locked": true,
     "schema_version": 1,
     "solution": false
    }
   },
   "source": [
    "# Exercise E (1pt)\n",
    "\n",
    "With the arbitrarily ordered turn function creator defined, we can now use this to test all the possible games and therefore search for the optimal game.\n",
    "\n",
    "In this exercise you will define the full_combinatorial_game function which takes an initial game state (maze_graph,width,height,pieces_of_cheese,player1_location,player2_location) and the deterministic turn function of the adversary and use those informations to test all the possible permutations of the order of pieces of cheese to pick. It returns the best target order, the difference of scores following that order and the amount of turns needed to win the game using that order.\n",
    "\n",
    "Testing all the possibilities (brute force) allows us to guarantee that we can find the best solution (greatest difference between scores with the least amount of rounds needed). However a lot of improvement could be made in this function to avoid performing computation for all of the possibilities. This version probably works with at most 7 pieces of cheese (Almost two minutes per execution)."
   ]
  },
  {
   "cell_type": "code",
   "execution_count": 59,
   "metadata": {
    "collapsed": true,
    "nbgrader": {
     "grade": false,
     "grade_id": "exercise_e",
     "locked": false,
     "points": "1",
     "schema_version": 1,
     "solution": true
    }
   },
   "outputs": [],
   "source": [
    "import itertools\n",
    "import tqdm\n",
    "def full_combinatorial_game(maze_graph,width,height,pieces_of_cheese,player1_location,player2_location,turn_opponent,time_allowed):\n",
    "    all_possible_permutations = list(itertools.permutations(pieces_of_cheese.copy()))\n",
    "    best_order = None\n",
    "    best_difference = -float(\"inf\")\n",
    "    best_rounds = float(\"inf\")\n",
    "    for order in tqdm.tqdm(all_possible_permutations):\n",
    "        targets = list(order)\n",
    "        # Create the turn function using the targets order\n",
    "        # Simulate a game using the simulate_game function\n",
    "        # Calculate the difference of scores from player1_score to player2_score\n",
    "        # If this difference is greater than the best difference, or equal with a smaller number of rounds player\n",
    "            #Save the current difference as the best_difference\n",
    "            #Save the current targets list as the best_order\n",
    "            #Save the current number of rounds as best_rounds\n",
    "        turn = create_turn_target_function(targets)\n",
    "        new_player1_location,new_player2_location,player1_score,player2_score,new_pieces_of_cheese,rounds = simulate_game(\n",
    "            maze_graph,width,height,player1_location,player2_location,\n",
    "            0,0,pieces_of_cheese,\n",
    "            turn,turn_opponent,time_allowed)\n",
    "        current_difference = player1_score - player2_score\n",
    "        if (current_difference > best_difference) or (current_difference == best_difference and rounds < best_rounds):\n",
    "            best_difference = current_difference\n",
    "            best_order = targets\n",
    "            best_rounds = rounds\n",
    "        \n",
    "    return best_order,best_difference,best_rounds"
   ]
  },
  {
   "cell_type": "code",
   "execution_count": 60,
   "metadata": {
    "deletable": false,
    "nbgrader": {
     "grade": true,
     "grade_id": "exercise_e",
     "locked": true,
     "points": "1",
     "schema_version": 1,
     "solution": false
    }
   },
   "outputs": [
    {
     "name": "stderr",
     "output_type": "stream",
     "text": [
      "100%|██████████| 5040/5040 [01:12<00:00, 69.81it/s]"
     ]
    },
    {
     "name": "stdout",
     "output_type": "stream",
     "text": [
      "Order: [(1, 0), (7, 8), (4, 4), (2, 4), (4, 3), (6, 4), (4, 5)]\n",
      "Best difference: 1\n",
      "Quickest route: 23\n"
     ]
    },
    {
     "name": "stderr",
     "output_type": "stream",
     "text": [
      "\n"
     ]
    }
   ],
   "source": [
    "#\n",
    "# AUTOGRADER TEST - DO NOT REMOVE\n",
    "#\n",
    "\n",
    "order,best_difference,best_rounds = full_combinatorial_game(maze_graph,width,height,pieces_of_cheese,\n",
    "                                                            player1_location,player2_location,turn_greedy,time_allowed)\n",
    "print(\"Order: {}\".format(order))\n",
    "print(\"Best difference: {}\".format(best_difference))\n",
    "print(\"Quickest route: {}\".format(best_rounds))"
   ]
  },
  {
   "cell_type": "markdown",
   "metadata": {
    "nbgrader": {
     "grade": false,
     "grade_id": "cell-fcf7c4039f8e39d1",
     "locked": true,
     "schema_version": 1,
     "solution": false
    }
   },
   "source": [
    "After correctly adding your code, and executing the cells you should see\n",
    "\n",
    "```\n",
    "Order: [(1, 0), (7, 8), (4, 4), (2, 4), (4, 3), (6, 4), (4, 5)]\n",
    "Best difference: 1\n",
    "Quickest route: 23\n",
    "```"
   ]
  },
  {
   "cell_type": "markdown",
   "metadata": {
    "nbgrader": {
     "grade": false,
     "grade_id": "cell-264db8003061f838",
     "locked": true,
     "schema_version": 1,
     "solution": false
    }
   },
   "source": [
    "# Extra\n",
    "\n",
    "Now that we can simulate games and search for the best game, we can use this function to ensure playing the best possible pyrat game against a greedy algorithm. \n",
    "\n",
    "In the next cell we define the create_preprocessing function which takes an opponent deterministic turn function and creates a preprocessing function that will generate perfect turn functions against that opponent. "
   ]
  },
  {
   "cell_type": "code",
   "execution_count": 62,
   "metadata": {
    "nbgrader": {
     "grade": false,
     "grade_id": "cell-5703ad749c91a3c3",
     "locked": true,
     "schema_version": 1,
     "solution": false
    }
   },
   "outputs": [
    {
     "data": {
      "text/html": [
       "\n",
       "        <style type=text/css>\n",
       "            #gjs-canvas{\n",
       "                border: 1px solid #ccc;\n",
       "                width: 800px;\n",
       "                height: 300px;      \n",
       "                display: block;\n",
       "                position: fixed;\n",
       "                bottom: 0;\n",
       "                left: 0;\n",
       "                right: 0;\n",
       "                margin-left: auto;\n",
       "                margin-right: auto;\n",
       "            }\n",
       "            \n",
       "            \n",
       "            \n",
       "        </style>\n",
       "        <script src=\"gamejs-2.0.1.js\"></script>\n",
       "        <script>\n",
       "        header = parseInt(document.getElementById(\"header\").clientHeight);\n",
       "        height = document.body.clientHeight;\n",
       "        new_height = height-300-header;\n",
       "        window.onresize = function(event) {\n",
       "                height = document.body.clientHeight;\n",
       "                header = parseInt(document.getElementById(\"header\").clientHeight);\n",
       "            if(do_resize)\n",
       "            {\n",
       "                new_height = height-300-header;\n",
       "            }\n",
       "            else\n",
       "            {\n",
       "                new_height = height-header;\n",
       "            }\n",
       "                document.getElementById(\"site\").style.height = String(new_height)+\"px\"\n",
       "        };\n",
       "            console.log(height,header,300,new_height)\n",
       "            document.getElementById(\"site\").style.height = String(new_height)+\"px\"\n",
       "\n",
       "                var resize = false;\n",
       "                var myEle = document.getElementById(\"gjs-canvas\");\n",
       "                var do_resize = true;\n",
       "                if(!myEle){\n",
       "                var squares_height = 15;\n",
       "                var squares_width = 21;\n",
       "\n",
       "                var score1 = 0;\n",
       "                var moves1 = 0;\n",
       "                var miss1 = 0;\n",
       "                var stuck1 = 0;\n",
       "                var p1name = \"RatName\"\n",
       "\n",
       "                var score2 = 0;\n",
       "                var moves2 = 0;\n",
       "                var miss2 = 0;\n",
       "                var stuck2 = 0;\n",
       "                var p2name = \"PythonName\"\n",
       "\n",
       "                var labyrinth = \"1 3 3 1 1 1 3 3 1 3 1 1 1 9 3###1 0 2 4 1 3 9 0 1 0 2 1 2 2 2###1 0 0 0 2 1 2 1 0 3 2 1 3 2 2###2 1 0 3 0 1 0 3 3 0 1 2 6 2 2###2 0 1 3 3 1 2 3 0 1 2 3 3 2 2###1 2 3 1 0 2 0 2 1 1 3 0 0 0 3###0 1 2 0 1 3 0 1 3 2 0 0 3 0 3###6 3 1 3 0 3 2 2 3 2 8 1 2 2 2###0 0 0 3 0 9 3 0 4 3 1 3 4 1 3###1 2 2 2 2 9 1 1 2 1 3 0 3 0 3###0 1 3 3 2 0 1 3 0 0 3 2 0 2 6###0 0 1 0 3 2 2 1 3 3 0 3 2 1 3###2 1 1 2 2 2 2 0 1 0 3 3 2 0 3###0 1 3 2 3 3 8 0 3 2 0 2 0 2 2###2 2 3 1 2 0 0 1 3 3 2 2 6 2 2###3 0 0 0 1 3 6 2 1 0 2 9 2 0 3###0 0 1 3 2 0 3 1 2 2 2 1 9 3 2###0 3 2 1 3 2 2 2 2 0 3 2 2 0 3###1 0 1 0 3 3 0 3 3 3 0 2 2 2 6###2 0 6 1 3 4 2 0 2 6 3 0 3 1 2###1 9 0 2 8 3 0 3 8 0 8 3 1 2 2###\";\n",
       "                var pieces_of_cheese = ['8, 8; 9, 4'];\n",
       "                var player1_location = [[0,0]];\n",
       "                var player2_location = [[-1,-1]];\n",
       "                var turn = 0;\n",
       "                var max_turn = 0;\n",
       "\n",
       "                    require.setModuleRoot('./');\n",
       "                    require.run('display');\n",
       "                }\n",
       "\n",
       "\n",
       "\n",
       "        </script>\n",
       "        \n",
       "        "
      ],
      "text/plain": [
       "<IPython.core.display.HTML object>"
      ]
     },
     "metadata": {},
     "output_type": "display_data"
    }
   ],
   "source": [
    "pyrat.start_display()\n",
    "\n",
    "def create_preprocessing(turn_opponent):\n",
    "    def preprocessing(maze_graph, width, height, player1_location, player2_location, pieces_of_cheese, time_allowed):\n",
    "        targets, best_difference,rounds = full_combinatorial_game(maze_graph,width,height,pieces_of_cheese,\n",
    "                                                                  player1_location,player2_location,turn_opponent,time_allowed)\n",
    "        print(\"Should have a {} point difference with {} movements\".format(best_difference,rounds))\n",
    "        return create_turn_target_function(targets)\n",
    "    return preprocessing\n",
    "preprocessing = create_preprocessing(turn_greedy)\n"
   ]
  },
  {
   "cell_type": "code",
   "execution_count": 63,
   "metadata": {
    "nbgrader": {
     "grade": false,
     "grade_id": "cell-6a92d6ef31262bc4",
     "locked": true,
     "schema_version": 1,
     "solution": false
    }
   },
   "outputs": [
    {
     "name": "stderr",
     "output_type": "stream",
     "text": [
      "100%|██████████| 5040/5040 [01:11<00:00, 70.14it/s]"
     ]
    },
    {
     "name": "stdout",
     "output_type": "stream",
     "text": [
      "Should have a 1 point difference with 23 movements\n"
     ]
    },
    {
     "name": "stderr",
     "output_type": "stream",
     "text": [
      "\n"
     ]
    },
    {
     "data": {
      "text/html": [
       "\n",
       "                <script>\n",
       "                squares_height = 9;\n",
       "                squares_width = 9;\n",
       "\n",
       "                score1 = 4;\n",
       "                moves1 = 22;\n",
       "                miss1 = 0;\n",
       "                stuck1 = 0;\n",
       "                p1name = \"RatName\"\n",
       "\n",
       "                score2 = 3;\n",
       "                moves2 = 22;\n",
       "                miss2 = 0;\n",
       "                stuck2 = 0;\n",
       "                p2name = \"PythonName\"\n",
       "\n",
       "                labyrinth = \"1 3 1 3 3 1 1 3 3###0 3 2 0 2 2 1 0 2###2 3 3 2 1 1 2 1 2###2 2 2 0 1 1 2 1 2###0 2 0 2 2 0 3 1 2###0 3 1 0 0 2 2 2 2###0 3 0 1 3 2 2 2 2###0 1 2 3 1 2 3 1 2###2 0 1 2 2 0 2 1 2###\";\n",
       "                pieces_of_cheese = ['1, 0; 7, 8; 4, 4; 2, 4; 6, 4; 4, 3; 4, 5', '1, 0; 7, 8; 4, 4; 2, 4; 6, 4; 4, 3; 4, 5', '4, 4; 2, 4; 6, 4; 4, 3; 4, 5', '4, 4; 2, 4; 6, 4; 4, 3; 4, 5', '4, 4; 2, 4; 6, 4; 4, 3; 4, 5', '4, 4; 2, 4; 6, 4; 4, 3; 4, 5', '4, 4; 2, 4; 6, 4; 4, 3; 4, 5', '4, 4; 2, 4; 6, 4; 4, 3; 4, 5', '4, 4; 2, 4; 6, 4; 4, 3; 4, 5', '4, 4; 2, 4; 6, 4; 4, 3; 4, 5', '4, 4; 2, 4; 6, 4; 4, 3; 4, 5', '4, 4; 2, 4; 6, 4; 4, 3; 4, 5', '4, 4; 2, 4; 6, 4; 4, 3; 4, 5', '4, 4; 6, 4; 4, 3; 4, 5', '4, 4; 6, 4; 4, 3; 4, 5', '6, 4; 4, 3; 4, 5', '6, 4; 4, 3; 4, 5', '6, 4; 4, 3; 4, 5', '6, 4', '6, 4', '6, 4', '6, 4', '6, 4'];\n",
       "                player1_location = [[0, 0], [1, 0], [2, 0], [3, 0], [4, 0], [5, 0], [6, 0], [7, 0], [7, 1], [7, 2], [6, 2], [5, 2], [5, 3], [5, 4], [4, 4], [5, 4], [5, 3], [4, 3], [5, 3], [5, 2], [6, 2], [6, 3], [6, 4]];\n",
       "                player2_location = [[8, 8], [7, 8], [6, 8], [5, 8], [4, 8], [3, 8], [2, 8], [1, 8], [1, 7], [1, 6], [2, 6], [2, 5], [2, 4], [2, 5], [2, 6], [3, 6], [3, 5], [4, 5], [5, 5], [5, 4], [5, 3], [5, 2], [6, 2]];\n",
       "                turn = 0;\n",
       "                max_turn = 23;\n",
       "                resize = true;\n",
       "                </script>\n",
       "\n",
       "            "
      ],
      "text/plain": [
       "<IPython.core.display.HTML object>"
      ]
     },
     "metadata": {},
     "output_type": "display_data"
    },
    {
     "name": "stdout",
     "output_type": "stream",
     "text": [
      "Result: 1 point difference with 23 movements\n"
     ]
    }
   ],
   "source": [
    "pyrat.pieces = pieces\n",
    "maze_start = 9, 9, [(1, 0), (7, 8), (4, 4), (2, 4), (6, 4), (4, 3), (4, 5)], {(0, 0): {(1, 0): 1, (0, 1): 1}, (0, 1): {(0, 0): 1}, (0, 2): {(1, 2): 1, (0, 3): 1}, (0, 3): {(1, 3): 1, (0, 2): 1}, (0, 4): {(1, 4): 1}, (0, 5): {(0, 6): 1, (1, 5): 1}, (0, 6): {(0, 5): 1, (0, 7): 1}, (0, 7): {(0, 6): 1, (1, 7): 1}, (0, 8): {(1, 8): 1}, (1, 0): {(0, 0): 1, (2, 0): 1, (1, 1): 1}, (1, 1): {(1, 0): 1}, (1, 2): {(0, 2): 1}, (1, 3): {(0, 3): 1, (2, 3): 1, (1, 4): 1}, (1, 4): {(0, 4): 1, (1, 3): 1}, (1, 5): {(0, 5): 1}, (1, 6): {(1, 7): 1, (2, 6): 1}, (1, 7): {(1, 8): 1, (1, 6): 1, (0, 7): 1}, (1, 8): {(0, 8): 1, (1, 7): 1, (2, 8): 1}, (2, 0): {(3, 0): 1, (1, 0): 1}, (2, 1): {(3, 1): 1}, (2, 2): {(3, 2): 1}, (2, 3): {(3, 3): 1, (1, 3): 1}, (2, 4): {(2, 5): 1}, (2, 5): {(2, 6): 1, (2, 4): 1}, (2, 6): {(1, 6): 1, (3, 6): 1, (2, 5): 1}, (2, 7): {(2, 8): 1}, (2, 8): {(3, 8): 1, (1, 8): 1, (2, 7): 1}, (3, 0): {(2, 0): 1, (4, 0): 1}, (3, 1): {(4, 1): 1, (2, 1): 1}, (3, 2): {(4, 2): 1, (2, 2): 1}, (3, 3): {(4, 3): 1, (3, 4): 1, (2, 3): 1}, (3, 4): {(3, 3): 1, (3, 5): 1, (4, 4): 1}, (3, 5): {(3, 6): 1, (4, 5): 1, (3, 4): 1}, (3, 6): {(3, 5): 1, (2, 6): 1}, (3, 7): {(3, 8): 1}, (3, 8): {(2, 8): 1, (4, 8): 1, (3, 7): 1}, (4, 0): {(5, 0): 1, (4, 1): 1, (3, 0): 1}, (4, 1): {(4, 0): 1, (3, 1): 1}, (4, 2): {(3, 2): 1, (4, 3): 1}, (4, 3): {(5, 3): 1, (4, 2): 1, (3, 3): 1}, (4, 4): {(5, 4): 1, (3, 4): 1}, (4, 5): {(3, 5): 1, (4, 6): 1, (5, 5): 1}, (4, 6): {(5, 6): 1, (4, 5): 1}, (4, 7): {(4, 8): 1, (5, 7): 1}, (4, 8): {(3, 8): 1, (4, 7): 1, (5, 8): 1}, (5, 0): {(6, 0): 1, (4, 0): 1, (5, 1): 1}, (5, 1): {(5, 0): 1}, (5, 2): {(5, 3): 1, (6, 2): 1}, (5, 3): {(5, 2): 1, (4, 3): 1, (5, 4): 1}, (5, 4): {(5, 5): 1, (5, 3): 1, (4, 4): 1}, (5, 5): {(4, 5): 1, (5, 4): 1, (6, 5): 1}, (5, 6): {(4, 6): 1, (6, 6): 1}, (5, 7): {(4, 7): 1, (6, 7): 1}, (5, 8): {(6, 8): 1, (4, 8): 1}, (6, 0): {(5, 0): 1, (7, 0): 1, (6, 1): 1}, (6, 1): {(6, 0): 1}, (6, 2): {(7, 2): 1, (5, 2): 1, (6, 3): 1}, (6, 3): {(6, 2): 1, (6, 4): 1}, (6, 4): {(6, 3): 1}, (6, 5): {(5, 5): 1, (7, 5): 1}, (6, 6): {(5, 6): 1}, (6, 7): {(5, 7): 1}, (6, 8): {(5, 8): 1, (7, 8): 1}, (7, 0): {(8, 0): 1, (7, 1): 1, (6, 0): 1}, (7, 1): {(7, 0): 1, (7, 2): 1, (8, 1): 1}, (7, 2): {(7, 1): 1, (6, 2): 1}, (7, 3): {(8, 3): 1}, (7, 4): {(8, 4): 1, (7, 5): 1}, (7, 5): {(8, 5): 1, (6, 5): 1, (7, 4): 1}, (7, 6): {(8, 6): 1}, (7, 7): {(7, 8): 1}, (7, 8): {(8, 8): 1, (6, 8): 1, (7, 7): 1}, (8, 0): {(7, 0): 1}, (8, 1): {(8, 2): 1, (7, 1): 1}, (8, 2): {(8, 3): 1, (8, 1): 1}, (8, 3): {(8, 2): 1, (7, 3): 1}, (8, 4): {(7, 4): 1}, (8, 5): {(7, 5): 1, (8, 6): 1}, (8, 6): {(7, 6): 1, (8, 5): 1}, (8, 7): {(8, 8): 1}, (8, 8): {(7, 8): 1, (8, 7): 1}}\n",
    "\n",
    "\n",
    "game = pyrat.Game(preprocess_1=preprocessing,preprocess_1_turn=True,turn_2=turn_greedy,maze_start=maze_start,player1_start=(0,0),player2_start=(8,8))\n",
    "game.play_match()\n",
    "pyrat.display_game(game)\n",
    "print(\"Result: {} point difference with {} movements\".format(game.score1 - game.score2,game.turn_count))"
   ]
  },
  {
   "cell_type": "markdown",
   "metadata": {
    "nbgrader": {
     "grade": false,
     "grade_id": "cell-4a93ab3d05059de2",
     "locked": true,
     "schema_version": 1,
     "solution": false
    }
   },
   "source": [
    "If you finished all the exercises correctly you should now see a pyrat game where the rat wins against the python and also \n",
    "```\n",
    "Should have a 1 point difference with 23 movements\n",
    "Result: 1 point difference with 23 movements\n",
    "```"
   ]
  },
  {
   "cell_type": "markdown",
   "metadata": {},
   "source": [
    "**Please note that it is expected that the grader takes more time to generate the grading report for this lab. You might have to wait a couple of minutes before being able to access the report.**"
   ]
  }
 ],
 "metadata": {
  "kernelspec": {
   "display_name": "Python 3 [3.6]",
   "language": "python",
   "name": "python3"
  },
  "language_info": {
   "codemirror_mode": {
    "name": "ipython",
    "version": 3
   },
   "file_extension": ".py",
   "mimetype": "text/x-python",
   "name": "python",
   "nbconvert_exporter": "python",
   "pygments_lexer": "ipython3",
   "version": "3.6.4"
  }
 },
 "nbformat": 4,
 "nbformat_minor": 2
}
