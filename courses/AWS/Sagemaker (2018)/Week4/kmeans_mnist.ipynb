{
 "cells": [
  {
   "cell_type": "markdown",
   "metadata": {},
   "source": [
    "# End-to-End Example #1\n",
    "\n",
    "1. [Introduction](#Introduction)\n",
    "2. [Prerequisites and Preprocessing](#Prequisites-and-Preprocessing)\n",
    "  1. [Permissions and environment variables](#Permissions-and-environment-variables)\n",
    "  2. [Data ingestion](#Data-ingestion)\n",
    "  3. [Data inspection](#Data-inspection)\n",
    "  4. [Data conversion](#Data-conversion)\n",
    "3. [Training the K-Means model](#Training-the-K-Means-model)\n",
    "4. [Set up hosting for the model](#Set-up-hosting-for-the-model)\n",
    "5. [Validate the model for use](#Validate-the-model-for-use)\n"
   ]
  },
  {
   "cell_type": "markdown",
   "metadata": {},
   "source": [
    "## Introduction\n",
    "\n",
    "Welcome to our first end-to-end example! Today, we're working through a classification problem, specifically of images of handwritten digits, from zero to nine. Let's imagine that this dataset doesn't have labels, so we don't know for sure what the true answer is. In later examples, we'll show the value of \"ground truth\", as it's commonly known.\n",
    "\n",
    "Today, however, we need to get these digits classified without ground truth. A common method for doing this is a set of methods known as \"clustering\", and in particular, the method that we'll look at today is called k-means clustering. In this method, each point belongs to the cluster with the closest mean, and the data is partitioned into a number of clusters that is specified when framing the problem. In this case, since we know there are 10 clusters, and we have no labeled data (in the way we framed the problem), this is a good fit.\n",
    "\n",
    "To get started, we need to set up the environment with a few prerequisite steps, for permissions, configurations, and so on."
   ]
  },
  {
   "cell_type": "markdown",
   "metadata": {},
   "source": [
    "## Prequisites and Preprocessing\n",
    "\n",
    "### Permissions and environment variables\n",
    "\n",
    "Here we set up the linkage and authentication to AWS services. There are two parts to this:\n",
    "\n",
    "1. The role(s) used to give learning and hosting access to your data. Here we extract the role you created earlier for accessing your notebook. See the documentation if you want to specify a different role.\n",
    "1. The S3 bucket name that you want to use for training and model data. Here we use a default in the form of `sagemaker-{region}-{AWS account ID}`, but you may specify a different one if you wish."
   ]
  },
  {
   "cell_type": "code",
   "execution_count": 1,
   "metadata": {
    "isConfigCell": true
   },
   "outputs": [
    {
     "name": "stderr",
     "output_type": "stream",
     "text": [
      "INFO:sagemaker:Created S3 bucket: sagemaker-us-east-1-691904554688\n"
     ]
    }
   ],
   "source": [
    "from sagemaker import get_execution_role\n",
    "from sagemaker.session import Session\n",
    "\n",
    "role = get_execution_role()\n",
    "bucket = Session().default_bucket()"
   ]
  },
  {
   "cell_type": "markdown",
   "metadata": {},
   "source": [
    "### Data ingestion\n",
    "\n",
    "Next, we read the dataset from the existing repository into memory, for preprocessing prior to training.  In this case we'll use the MNIST dataset, which contains 70K 28 x 28 pixel images of handwritten digits.  For more details, please see [here](http://yann.lecun.com/exdb/mnist/).\n",
    "\n",
    "This processing could be done *in situ* by Amazon Athena, Apache Spark in Amazon EMR, Amazon Redshift, etc., assuming the dataset is present in the appropriate location. Then, the next step would be to transfer the data to S3 for use in training. For small datasets, such as this one, reading into memory isn't onerous, though it would be for larger datasets."
   ]
  },
  {
   "cell_type": "code",
   "execution_count": 2,
   "metadata": {},
   "outputs": [
    {
     "name": "stdout",
     "output_type": "stream",
     "text": [
      "CPU times: user 847 ms, sys: 272 ms, total: 1.12 s\n",
      "Wall time: 4.34 s\n"
     ]
    }
   ],
   "source": [
    "%%time\n",
    "import pickle, gzip, numpy, urllib.request, json\n",
    "\n",
    "# Load the dataset\n",
    "urllib.request.urlretrieve(\"http://deeplearning.net/data/mnist/mnist.pkl.gz\", \"mnist.pkl.gz\")\n",
    "with gzip.open('mnist.pkl.gz', 'rb') as f:\n",
    "    train_set, valid_set, test_set = pickle.load(f, encoding='latin1')"
   ]
  },
  {
   "cell_type": "markdown",
   "metadata": {},
   "source": [
    "### Data inspection\n",
    "\n",
    "Once the dataset is imported, it's typical as part of the machine learning process to inspect the data, understand the distributions, and determine what type(s) of preprocessing might be needed. You can perform those tasks right here in the notebook. As an example, let's go ahead and look at one of the digits that is part of the dataset."
   ]
  },
  {
   "cell_type": "code",
   "execution_count": 3,
   "metadata": {},
   "outputs": [
    {
     "data": {
      "image/png": "[encoded data removed]",
      "text/plain": [
       "<Figure size 144x720 with 1 Axes>"
      ]
     },
     "metadata": {},
     "output_type": "display_data"
    }
   ],
   "source": [
    "%matplotlib inline\n",
    "import matplotlib.pyplot as plt\n",
    "plt.rcParams[\"figure.figsize\"] = (2,10)\n",
    "\n",
    "\n",
    "def show_digit(img, caption='', subplot=None):\n",
    "    if subplot==None:\n",
    "        _,(subplot)=plt.subplots(1,1)\n",
    "    imgr=img.reshape((28,28))\n",
    "    subplot.axis('off')\n",
    "    subplot.imshow(imgr, cmap='gray')\n",
    "    plt.title(caption)\n",
    "\n",
    "show_digit(train_set[0][30], 'This is a {}'.format(train_set[1][30]))"
   ]
  },
  {
   "cell_type": "markdown",
   "metadata": {},
   "source": [
    "## Training the K-Means model\n",
    "\n",
    "Once we have the data preprocessed and available in the correct format for training, the next step is to actually train the model using the data. Since this data is relatively small, it isn't meant to show off the performance of the k-means training algorithm.  But Amazon SageMaker's k-means has been tested on, and scales well with, multi-terabyte datasets.\n",
    "\n",
    "After setting training parameters, we kick off training, and poll for status until training is completed, which in this example, takes between 7 and 11 minutes."
   ]
  },
  {
   "cell_type": "code",
   "execution_count": 4,
   "metadata": {},
   "outputs": [
    {
     "name": "stdout",
     "output_type": "stream",
     "text": [
      "training data will be uploaded to: s3://sagemaker-us-east-1-691904554688/kmeans_highlevel_example/data\n",
      "training artifacts will be uploaded to: s3://sagemaker-us-east-1-691904554688/kmeans_example/output\n"
     ]
    }
   ],
   "source": [
    "from sagemaker import KMeans\n",
    "\n",
    "data_location = 's3://{}/kmeans_highlevel_example/data'.format(bucket)\n",
    "output_location = 's3://{}/kmeans_example/output'.format(bucket)\n",
    "\n",
    "print('training data will be uploaded to: {}'.format(data_location))\n",
    "print('training artifacts will be uploaded to: {}'.format(output_location))\n",
    "\n",
    "kmeans = KMeans(role=role,\n",
    "                train_instance_count=2,\n",
    "                train_instance_type='ml.c4.8xlarge',\n",
    "                output_path=output_location,\n",
    "                k=10,\n",
    "                data_location=data_location)"
   ]
  },
  {
   "cell_type": "code",
   "execution_count": 5,
   "metadata": {},
   "outputs": [
    {
     "name": "stderr",
     "output_type": "stream",
     "text": [
      "INFO:sagemaker:Creating training-job with name: kmeans-2018-12-21-10-01-57-253\n"
     ]
    },
    {
     "name": "stdout",
     "output_type": "stream",
     "text": [
      "2018-12-21 10:01:57 Starting - Starting the training job...\n",
      "2018-12-21 10:01:58 Starting - Launching requested ML instances......\n",
      "2018-12-21 10:03:03 Starting - Preparing the instances for training.........\n",
      "2018-12-21 10:04:51 Downloading - Downloading input data\n",
      "2018-12-21 10:04:51 Training - Downloading the training image.\n",
      "\u001b[31mDocker entrypoint called with argument(s): train\u001b[0m\n",
      "\u001b[32mDocker entrypoint called with argument(s): train\u001b[0m\n",
      "\u001b[31m[12/21/2018 10:04:56 INFO 139843154057024] Reading default configuration from /opt/amazon/lib/python2.7/site-packages/algorithm/resources/default-input.json: {u'_tuning_objective_metric': u'', u'_num_gpus': u'auto', u'local_lloyd_num_trials': u'auto', u'_log_level': u'info', u'_kvstore': u'auto', u'local_lloyd_init_method': u'kmeans++', u'force_dense': u'true', u'epochs': u'1', u'init_method': u'random', u'local_lloyd_tol': u'0.0001', u'local_lloyd_max_iter': u'300', u'_disable_wait_to_read': u'false', u'extra_center_factor': u'auto', u'eval_metrics': u'[\"msd\"]', u'_num_kv_servers': u'1', u'mini_batch_size': u'5000', u'half_life_time_size': u'0', u'_num_slices': u'1'}\u001b[0m\n",
      "\u001b[31m[12/21/2018 10:04:56 INFO 139843154057024] Reading provided configuration from /opt/ml/input/config/hyperparameters.json: {u'feature_dim': u'784', u'k': u'10', u'force_dense': u'True'}\u001b[0m\n",
      "\u001b[31m[12/21/2018 10:04:56 INFO 139843154057024] Final configuration: {u'k': u'10', u'_tuning_objective_metric': u'', u'_num_gpus': u'auto', u'local_lloyd_num_trials': u'auto', u'_log_level': u'info', u'_kvstore': u'auto', u'local_lloyd_init_method': u'kmeans++', u'force_dense': u'True', u'epochs': u'1', u'init_method': u'random', u'feature_dim': u'784', u'local_lloyd_tol': u'0.0001', u'local_lloyd_max_iter': u'300', u'_disable_wait_to_read': u'false', u'extra_center_factor': u'auto', u'eval_metrics': u'[\"msd\"]', u'_num_kv_servers': u'1', u'mini_batch_size': u'5000', u'half_life_time_size': u'0', u'_num_slices': u'1'}\u001b[0m\n",
      "\u001b[31m[12/21/2018 10:04:56 WARNING 139843154057024] Loggers have already been setup.\u001b[0m\n",
      "\u001b[31m[12/21/2018 10:04:56 INFO 139843154057024] Launching parameter server for role scheduler\u001b[0m\n",
      "\u001b[31m[12/21/2018 10:04:56 INFO 139843154057024] {'ECS_CONTAINER_METADATA_URI': 'http://169.254.170.2/v3/3163e946-22d3-4e7b-ac5c-50223d868ea5', 'PROTOCOL_BUFFERS_PYTHON_IMPLEMENTATION_VERSION': '2', 'PATH': '/opt/amazon/bin:/usr/local/nvidia/bin:/usr/local/sbin:/usr/local/bin:/usr/sbin:/usr/bin:/sbin:/bin:/opt/amazon/bin:/opt/amazon/bin', 'SAGEMAKER_HTTP_PORT': '8080', 'HOME': '/root', 'PYTHONUNBUFFERED': 'TRUE', 'CANONICAL_ENVROOT': '/opt/amazon', 'LD_LIBRARY_PATH': '/usr/local/nvidia/lib64:/opt/amazon/lib', 'MXNET_KVSTORE_BIGARRAY_BOUND': '400000000', 'LANG': 'en_US.utf8', 'DMLC_INTERFACE': 'ethwe', 'SHLVL': '1', 'AWS_REGION': 'us-east-1', 'NVIDIA_VISIBLE_DEVICES': 'all', 'TRAINING_JOB_NAME': 'kmeans-2018-12-21-10-01-57-253', 'PROTOCOL_BUFFERS_PYTHON_IMPLEMENTATION': 'cpp', 'ENVROOT': '/opt/amazon', 'SAGEMAKER_DATA_PATH': '/opt/ml', 'NVIDIA_DRIVER_CAPABILITIES': 'compute,utility', 'NVIDIA_REQUIRE_CUDA': 'cuda>=9.0', 'OMP_NUM_THREADS': '18', 'HOSTNAME': 'aws', 'AWS_CONTAINER_CREDENTIALS_RELATIVE_URI': '/v2/credentials/78d19520-c2f4-41ec-92b5-2d8a2f31a8fe', 'PWD': '/', 'AWS_EXECUTION_ENV': 'AWS_ECS_EC2'}\u001b[0m\n",
      "\u001b[31m[12/21/2018 10:04:56 INFO 139843154057024] envs={'ECS_CONTAINER_METADATA_URI': 'http://169.254.170.2/v3/3163e946-22d3-4e7b-ac5c-50223d868ea5', 'PROTOCOL_BUFFERS_PYTHON_IMPLEMENTATION_VERSION': '2', 'DMLC_NUM_WORKER': '2', 'DMLC_PS_ROOT_PORT': '9000', 'PATH': '/opt/amazon/bin:/usr/local/nvidia/bin:/usr/local/sbin:/usr/local/bin:/usr/sbin:/usr/bin:/sbin:/bin:/opt/amazon/bin:/opt/amazon/bin', 'SAGEMAKER_HTTP_PORT': '8080', 'HOME': '/root', 'PYTHONUNBUFFERED': 'TRUE', 'CANONICAL_ENVROOT': '/opt/amazon', 'LD_LIBRARY_PATH': '/usr/local/nvidia/lib64:/opt/amazon/lib', 'MXNET_KVSTORE_BIGARRAY_BOUND': '400000000', 'LANG': 'en_US.utf8', 'DMLC_INTERFACE': 'ethwe', 'SHLVL': '1', 'DMLC_PS_ROOT_URI': '10.40.0.4', 'AWS_REGION': 'us-east-1', 'NVIDIA_VISIBLE_DEVICES': 'all', 'TRAINING_JOB_NAME': 'kmeans-2018-12-21-10-01-57-253', 'PROTOCOL_BUFFERS_PYTHON_IMPLEMENTATION': 'cpp', 'ENVROOT': '/opt/amazon', 'SAGEMAKER_DATA_PATH': '/opt/ml', 'NVIDIA_DRIVER_CAPABILITIES': 'compute,utility', 'NVIDIA_REQUIRE_CUDA': 'cuda>=9.0', 'OMP_NUM_THREADS': '18', 'HOSTNAME': 'aws', 'AWS_CONTAINER_CREDENTIALS_RELATIVE_URI': '/v2/credentials/78d19520-c2f4-41ec-92b5-2d8a2f31a8fe', 'DMLC_ROLE': 'scheduler', 'PWD': '/', 'DMLC_NUM_SERVER': '1', 'AWS_EXECUTION_ENV': 'AWS_ECS_EC2'}\u001b[0m\n",
      "\u001b[31m[12/21/2018 10:04:56 INFO 139843154057024] Launching parameter server for role server\u001b[0m\n",
      "\u001b[31m[12/21/2018 10:04:56 INFO 139843154057024] {'ECS_CONTAINER_METADATA_URI': 'http://169.254.170.2/v3/3163e946-22d3-4e7b-ac5c-50223d868ea5', 'PROTOCOL_BUFFERS_PYTHON_IMPLEMENTATION_VERSION': '2', 'PATH': '/opt/amazon/bin:/usr/local/nvidia/bin:/usr/local/sbin:/usr/local/bin:/usr/sbin:/usr/bin:/sbin:/bin:/opt/amazon/bin:/opt/amazon/bin', 'SAGEMAKER_HTTP_PORT': '8080', 'HOME': '/root', 'PYTHONUNBUFFERED': 'TRUE', 'CANONICAL_ENVROOT': '/opt/amazon', 'LD_LIBRARY_PATH': '/usr/local/nvidia/lib64:/opt/amazon/lib', 'MXNET_KVSTORE_BIGARRAY_BOUND': '400000000', 'LANG': 'en_US.utf8', 'DMLC_INTERFACE': 'ethwe', 'SHLVL': '1', 'AWS_REGION': 'us-east-1', 'NVIDIA_VISIBLE_DEVICES': 'all', 'TRAINING_JOB_NAME': 'kmeans-2018-12-21-10-01-57-253', 'PROTOCOL_BUFFERS_PYTHON_IMPLEMENTATION': 'cpp', 'ENVROOT': '/opt/amazon', 'SAGEMAKER_DATA_PATH': '/opt/ml', 'NVIDIA_DRIVER_CAPABILITIES': 'compute,utility', 'NVIDIA_REQUIRE_CUDA': 'cuda>=9.0', 'OMP_NUM_THREADS': '18', 'HOSTNAME': 'aws', 'AWS_CONTAINER_CREDENTIALS_RELATIVE_URI': '/v2/credentials/78d19520-c2f4-41ec-92b5-2d8a2f31a8fe', 'PWD': '/', 'AWS_EXECUTION_ENV': 'AWS_ECS_EC2'}\u001b[0m\n",
      "\u001b[31m[12/21/2018 10:04:56 INFO 139843154057024] envs={'ECS_CONTAINER_METADATA_URI': 'http://169.254.170.2/v3/3163e946-22d3-4e7b-ac5c-50223d868ea5', 'PROTOCOL_BUFFERS_PYTHON_IMPLEMENTATION_VERSION': '2', 'DMLC_NUM_WORKER': '2', 'DMLC_PS_ROOT_PORT': '9000', 'PATH': '/opt/amazon/bin:/usr/local/nvidia/bin:/usr/local/sbin:/usr/local/bin:/usr/sbin:/usr/bin:/sbin:/bin:/opt/amazon/bin:/opt/amazon/bin', 'SAGEMAKER_HTTP_PORT': '8080', 'HOME': '/root', 'PYTHONUNBUFFERED': 'TRUE', 'CANONICAL_ENVROOT': '/opt/amazon', 'LD_LIBRARY_PATH': '/usr/local/nvidia/lib64:/opt/amazon/lib', 'MXNET_KVSTORE_BIGARRAY_BOUND': '400000000', 'LANG': 'en_US.utf8', 'DMLC_INTERFACE': 'ethwe', 'SHLVL': '1', 'DMLC_PS_ROOT_URI': '10.40.0.4', 'AWS_REGION': 'us-east-1', 'NVIDIA_VISIBLE_DEVICES': 'all', 'TRAINING_JOB_NAME': 'kmeans-2018-12-21-10-01-57-253', 'PROTOCOL_BUFFERS_PYTHON_IMPLEMENTATION': 'cpp', 'ENVROOT': '/opt/amazon', 'SAGEMAKER_DATA_PATH': '/opt/ml', 'NVIDIA_DRIVER_CAPABILITIES': 'compute,utility', 'NVIDIA_REQUIRE_CUDA': 'cuda>=9.0', 'OMP_NUM_THREADS': '18', 'HOSTNAME': 'aws', 'AWS_CONTAINER_CREDENTIALS_RELATIVE_URI': '/v2/credentials/78d19520-c2f4-41ec-92b5-2d8a2f31a8fe', 'DMLC_ROLE': 'server', 'PWD': '/', 'DMLC_NUM_SERVER': '1', 'AWS_EXECUTION_ENV': 'AWS_ECS_EC2'}\u001b[0m\n",
      "\u001b[31m[12/21/2018 10:04:56 INFO 139843154057024] Environment: {'ECS_CONTAINER_METADATA_URI': 'http://169.254.170.2/v3/3163e946-22d3-4e7b-ac5c-50223d868ea5', 'PROTOCOL_BUFFERS_PYTHON_IMPLEMENTATION_VERSION': '2', 'DMLC_PS_ROOT_PORT': '9000', 'DMLC_NUM_WORKER': '2', 'SAGEMAKER_HTTP_PORT': '8080', 'PATH': '/opt/amazon/bin:/usr/local/nvidia/bin:/usr/local/sbin:/usr/local/bin:/usr/sbin:/usr/bin:/sbin:/bin:/opt/amazon/bin:/opt/amazon/bin', 'PYTHONUNBUFFERED': 'TRUE', 'CANONICAL_ENVROOT': '/opt/amazon', 'LD_LIBRARY_PATH': '/usr/local/nvidia/lib64:/opt/amazon/lib', 'MXNET_KVSTORE_BIGARRAY_BOUND': '400000000', 'LANG': 'en_US.utf8', 'DMLC_INTERFACE': 'ethwe', 'SHLVL': '1', 'DMLC_PS_ROOT_URI': '10.40.0.4', 'AWS_REGION': 'us-east-1', 'NVIDIA_VISIBLE_DEVICES': 'all', 'TRAINING_JOB_NAME': 'kmeans-2018-12-21-10-01-57-253', 'HOME': '/root', 'PROTOCOL_BUFFERS_PYTHON_IMPLEMENTATION': 'cpp', 'ENVROOT': '/opt/amazon', 'SAGEMAKER_DATA_PATH': '/opt/ml', 'NVIDIA_DRIVER_CAPABILITIES': 'compute,utility', 'NVIDIA_REQUIRE_CUDA': 'cuda>=9.0', 'OMP_NUM_THREADS': '18', 'HOSTNAME': 'aws', 'AWS_CONTAINER_CREDENTIALS_RELATIVE_URI': '/v2/credentials/78d19520-c2f4-41ec-92b5-2d8a2f31a8fe', 'DMLC_ROLE': 'worker', 'PWD': '/', 'DMLC_NUM_SERVER': '1', 'AWS_EXECUTION_ENV': 'AWS_ECS_EC2'}\u001b[0m\n",
      "\u001b[31mProcess 69 is a shell:scheduler.\u001b[0m\n",
      "\u001b[31mProcess 70 is a shell:server.\u001b[0m\n",
      "\u001b[31mProcess 1 is a worker.\u001b[0m\n",
      "\u001b[31m[12/21/2018 10:04:56 INFO 139843154057024] Using default worker.\u001b[0m\n",
      "\u001b[31m[12/21/2018 10:04:56 INFO 139843154057024] Loaded iterator creator application/x-recordio-protobuf for content type ('application/x-recordio-protobuf', '1.0')\u001b[0m\n",
      "\u001b[31m[12/21/2018 10:04:56 INFO 139843154057024] Create Store: dist_async\u001b[0m\n",
      "\u001b[32m[12/21/2018 10:04:56 INFO 140292381845312] Reading default configuration from /opt/amazon/lib/python2.7/site-packages/algorithm/resources/default-input.json: {u'_tuning_objective_metric': u'', u'_num_gpus': u'auto', u'local_lloyd_num_trials': u'auto', u'_log_level': u'info', u'_kvstore': u'auto', u'local_lloyd_init_method': u'kmeans++', u'force_dense': u'true', u'epochs': u'1', u'init_method': u'random', u'local_lloyd_tol': u'0.0001', u'local_lloyd_max_iter': u'300', u'_disable_wait_to_read': u'false', u'extra_center_factor': u'auto', u'eval_metrics': u'[\"msd\"]', u'_num_kv_servers': u'1', u'mini_batch_size': u'5000', u'half_life_time_size': u'0', u'_num_slices': u'1'}\u001b[0m\n",
      "\u001b[32m[12/21/2018 10:04:56 INFO 140292381845312] Reading provided configuration from /opt/ml/input/config/hyperparameters.json: {u'feature_dim': u'784', u'k': u'10', u'force_dense': u'True'}\u001b[0m\n",
      "\u001b[32m[12/21/2018 10:04:56 INFO 140292381845312] Final configuration: {u'k': u'10', u'_tuning_objective_metric': u'', u'_num_gpus': u'auto', u'local_lloyd_num_trials': u'auto', u'_log_level': u'info', u'_kvstore': u'auto', u'local_lloyd_init_method': u'kmeans++', u'force_dense': u'True', u'epochs': u'1', u'init_method': u'random', u'feature_dim': u'784', u'local_lloyd_tol': u'0.0001', u'local_lloyd_max_iter': u'300', u'_disable_wait_to_read': u'false', u'extra_center_factor': u'auto', u'eval_metrics': u'[\"msd\"]', u'_num_kv_servers': u'1', u'mini_batch_size': u'5000', u'half_life_time_size': u'0', u'_num_slices': u'1'}\u001b[0m\n",
      "\u001b[32m[12/21/2018 10:04:56 WARNING 140292381845312] Loggers have already been setup.\u001b[0m\n",
      "\u001b[32m[12/21/2018 10:04:56 INFO 140292381845312] Environment: {'ECS_CONTAINER_METADATA_URI': 'http://169.254.170.2/v3/a78ff167-af13-418d-9693-5ef2f0b9263f', 'PROTOCOL_BUFFERS_PYTHON_IMPLEMENTATION_VERSION': '2', 'DMLC_PS_ROOT_PORT': '9000', 'DMLC_NUM_WORKER': '2', 'SAGEMAKER_HTTP_PORT': '8080', 'PATH': '/opt/amazon/bin:/usr/local/nvidia/bin:/usr/local/sbin:/usr/local/bin:/usr/sbin:/usr/bin:/sbin:/bin:/opt/amazon/bin:/opt/amazon/bin', 'PYTHONUNBUFFERED': 'TRUE', 'CANONICAL_ENVROOT': '/opt/amazon', 'LD_LIBRARY_PATH': '/usr/local/nvidia/lib64:/opt/amazon/lib', 'MXNET_KVSTORE_BIGARRAY_BOUND': '400000000', 'LANG': 'en_US.utf8', 'DMLC_INTERFACE': 'ethwe', 'SHLVL': '1', 'DMLC_PS_ROOT_URI': '10.40.0.4', 'AWS_REGION': 'us-east-1', 'NVIDIA_VISIBLE_DEVICES': 'all', 'TRAINING_JOB_NAME': 'kmeans-2018-12-21-10-01-57-253', 'HOME': '/root', 'PROTOCOL_BUFFERS_PYTHON_IMPLEMENTATION': 'cpp', 'ENVROOT': '/opt/amazon', 'SAGEMAKER_DATA_PATH': '/opt/ml', 'NVIDIA_DRIVER_CAPABILITIES': 'compute,utility', 'NVIDIA_REQUIRE_CUDA': 'cuda>=9.0', 'OMP_NUM_THREADS': '18', 'HOSTNAME': 'aws', 'AWS_CONTAINER_CREDENTIALS_RELATIVE_URI': '/v2/credentials/f04e9603-fcf1-49bc-8e0b-4aec558ab68c', 'DMLC_ROLE': 'worker', 'PWD': '/', 'DMLC_NUM_SERVER': '1', 'AWS_EXECUTION_ENV': 'AWS_ECS_EC2'}\u001b[0m\n",
      "\u001b[32mProcess 1 is a worker.\u001b[0m\n",
      "\u001b[32m[12/21/2018 10:04:56 INFO 140292381845312] Using default worker.\u001b[0m\n",
      "\u001b[32m[12/21/2018 10:04:56 INFO 140292381845312] Loaded iterator creator application/x-recordio-protobuf for content type ('application/x-recordio-protobuf', '1.0')\u001b[0m\n",
      "\u001b[32m[12/21/2018 10:04:56 INFO 140292381845312] Create Store: dist_async\u001b[0m\n",
      "\u001b[31m[12/21/2018 10:04:57 INFO 139843154057024] nvidia-smi took: 0.025171995163 secs to identify 0 gpus\u001b[0m\n",
      "\u001b[31m[12/21/2018 10:04:57 INFO 139843154057024] Number of GPUs being used: 0\u001b[0m\n",
      "\u001b[31m[2018-12-21 10:04:57.997] [tensorio] [info] batch={\"data_pipeline\": \"/opt/ml/input/data/train\", \"num_examples\": 5000, \"features\": [{\"name\": \"values\", \"shape\": [784], \"storage_type\": \"dense\"}]}\u001b[0m\n",
      "\u001b[31m[12/21/2018 10:04:58 INFO 139843154057024] Setting up with params: {u'k': u'10', u'_tuning_objective_metric': u'', u'_num_gpus': u'auto', u'local_lloyd_num_trials': u'auto', u'_log_level': u'info', u'_kvstore': u'auto', u'local_lloyd_init_method': u'kmeans++', u'force_dense': u'True', u'epochs': u'1', u'init_method': u'random', u'feature_dim': u'784', u'local_lloyd_tol': u'0.0001', u'local_lloyd_max_iter': u'300', u'_disable_wait_to_read': u'false', u'extra_center_factor': u'auto', u'eval_metrics': u'[\"msd\"]', u'_num_kv_servers': u'1', u'mini_batch_size': u'5000', u'half_life_time_size': u'0', u'_num_slices': u'1'}\u001b[0m\n",
      "\u001b[31m/opt/amazon/lib/python2.7/site-packages/ai_algorithms_sdk/config/config_helper.py:172: DeprecationWarning: deprecated\n",
      "  warnings.warn(\"deprecated\", DeprecationWarning)\u001b[0m\n",
      "\u001b[31m/opt/amazon/lib/python2.7/site-packages/ai_algorithms_sdk/config/config_helper.py:122: DeprecationWarning: deprecated\n",
      "  warnings.warn(\"deprecated\", DeprecationWarning)\u001b[0m\n",
      "\u001b[31m[12/21/2018 10:04:58 INFO 139843154057024] Number of GPUs being used: 0\u001b[0m\n",
      "\u001b[31m[12/21/2018 10:04:58 INFO 139843154057024] number of center slices 1\u001b[0m\n",
      "\u001b[31m#metrics {\"Metrics\": {\"Max Batches Seen Between Resets\": {\"count\": 1, \"max\": 1, \"sum\": 1.0, \"min\": 1}, \"Number of Batches Since Last Reset\": {\"count\": 1, \"max\": 1, \"sum\": 1.0, \"min\": 1}, \"Number of Records Since Last Reset\": {\"count\": 1, \"max\": 5000, \"sum\": 5000.0, \"min\": 5000}, \"Total Batches Seen\": {\"count\": 1, \"max\": 1, \"sum\": 1.0, \"min\": 1}, \"Total Records Seen\": {\"count\": 1, \"max\": 5000, \"sum\": 5000.0, \"min\": 5000}, \"Max Records Seen Between Resets\": {\"count\": 1, \"max\": 5000, \"sum\": 5000.0, \"min\": 5000}, \"Reset Count\": {\"count\": 1, \"max\": 0, \"sum\": 0.0, \"min\": 0}}, \"EndTime\": 1545386698.033147, \"Dimensions\": {\"Host\": \"algo-1\", \"Meta\": \"init_train_data_iter\", \"Operation\": \"training\", \"Algorithm\": \"AWS/KMeansWebscale\"}, \"StartTime\": 1545386698.033106}\n",
      "\u001b[0m\n",
      "\u001b[31m[2018-12-21 10:04:58.038] [tensorio] [info] data_pipeline_stats={\"name\": \"/opt/ml/input/data/train\", \"epoch\": 0, \"duration\": 42, \"num_examples\": 1}\u001b[0m\n",
      "\u001b[31m[12/21/2018 10:04:58 INFO 139843154057024] processed a total of 25000 examples\u001b[0m\n",
      "\u001b[31m[12/21/2018 10:04:58 INFO 139843154057024] #progress_metric: host=algo-1, completed 100 % of epochs\u001b[0m\n",
      "\u001b[31m#metrics {\"Metrics\": {\"Max Batches Seen Between Resets\": {\"count\": 1, \"max\": 5, \"sum\": 5.0, \"min\": 5}, \"Number of Batches Since Last Reset\": {\"count\": 1, \"max\": 5, \"sum\": 5.0, \"min\": 5}, \"Number of Records Since Last Reset\": {\"count\": 1, \"max\": 25000, \"sum\": 25000.0, \"min\": 25000}, \"Total Batches Seen\": {\"count\": 1, \"max\": 6, \"sum\": 6.0, \"min\": 6}, \"Total Records Seen\": {\"count\": 1, \"max\": 30000, \"sum\": 30000.0, \"min\": 30000}, \"Max Records Seen Between Resets\": {\"count\": 1, \"max\": 25000, \"sum\": 25000.0, \"min\": 25000}, \"Reset Count\": {\"count\": 1, \"max\": 1, \"sum\": 1.0, \"min\": 1}}, \"EndTime\": 1545386698.253673, \"Dimensions\": {\"Host\": \"algo-1\", \"Meta\": \"training_data_iter\", \"Operation\": \"training\", \"Algorithm\": \"AWS/KMeansWebscale\", \"epoch\": 0}, \"StartTime\": 1545386698.039005}\n",
      "\u001b[0m\n",
      "\u001b[31m[12/21/2018 10:04:58 INFO 139843154057024] #throughput_metric: host=algo-1, train throughput=116262.871424 records/second\u001b[0m\n",
      "\u001b[31m[12/21/2018 10:04:58 INFO 139843154057024] shrinking 100 centers into 10\u001b[0m\n",
      "\u001b[31m[12/21/2018 10:04:58 INFO 139843154057024] local kmeans attempt #0. Current mean square distance 11.235387\u001b[0m\n",
      "\u001b[31m[12/21/2018 10:04:58 INFO 139843154057024] local kmeans attempt #1. Current mean square distance 11.358922\u001b[0m\n",
      "\u001b[31m[12/21/2018 10:04:58 INFO 139843154057024] local kmeans attempt #2. Current mean square distance 10.865378\u001b[0m\n",
      "\u001b[31m[12/21/2018 10:04:58 INFO 139843154057024] local kmeans attempt #3. Current mean square distance 10.952825\u001b[0m\n",
      "\u001b[31m[12/21/2018 10:04:58 INFO 139843154057024] local kmeans attempt #4. Current mean square distance 11.348047\u001b[0m\n",
      "\u001b[31m[12/21/2018 10:04:58 INFO 139843154057024] local kmeans attempt #5. Current mean square distance 10.966558\u001b[0m\n",
      "\u001b[31m[12/21/2018 10:04:58 INFO 139843154057024] local kmeans attempt #6. Current mean square distance 10.836802\u001b[0m\n",
      "\u001b[31m[12/21/2018 10:04:58 INFO 139843154057024] local kmeans attempt #7. Current mean square distance 10.966822\u001b[0m\n",
      "\u001b[31m[12/21/2018 10:04:58 INFO 139843154057024] local kmeans attempt #8. Current mean square distance 11.188721\u001b[0m\n",
      "\u001b[31m[12/21/2018 10:04:58 INFO 139843154057024] local kmeans attempt #9. Current mean square distance 10.893206\u001b[0m\n",
      "\u001b[31m[12/21/2018 10:04:58 INFO 139843154057024] finished shrinking process. Mean Square Distance = 11\u001b[0m\n",
      "\u001b[31m[12/21/2018 10:04:58 INFO 139843154057024] #quality_metric: host=algo-1, train msd <loss>=10.8368015289\u001b[0m\n",
      "\u001b[31m[12/21/2018 10:04:58 INFO 139843154057024] compute all data-center distances: inner product took: 25.1803%, (0.054920 secs)\u001b[0m\n",
      "\u001b[31m[12/21/2018 10:04:58 INFO 139843154057024] batch data loading with context took: 20.5032%, (0.044719 secs)\u001b[0m\n",
      "\u001b[31m[12/21/2018 10:04:58 INFO 139843154057024] compute all data-center distances: point norm took: 18.8912%, (0.041203 secs)\u001b[0m\n",
      "\u001b[31m[12/21/2018 10:04:58 INFO 139843154057024] predict compute msd took: 14.3213%, (0.031236 secs)\u001b[0m\n",
      "\u001b[31m[12/21/2018 10:04:58 INFO 139843154057024] gradient: cluster center took: 9.2990%, (0.020282 secs)\u001b[0m\n",
      "\u001b[31m[12/21/2018 10:04:58 INFO 139843154057024] collect from kv store took: 4.2075%, (0.009177 secs)\u001b[0m\n",
      "\u001b[31m[12/21/2018 10:04:58 INFO 139843154057024] splitting centers key-value pair took: 2.7267%, (0.005947 secs)\u001b[0m\n",
      "\u001b[31m[12/21/2018 10:04:58 INFO 139843154057024] gradient: one_hot took: 1.7120%, (0.003734 secs)\u001b[0m\n",
      "\u001b[31m[12/21/2018 10:04:58 INFO 139843154057024] gradient: cluster size  took: 1.5438%, (0.003367 secs)\u001b[0m\n",
      "\u001b[31m[12/21/2018 10:04:58 INFO 139843154057024] compute all data-center distances: center norm took: 0.8262%, (0.001802 secs)\u001b[0m\n",
      "\u001b[31m[12/21/2018 10:04:58 INFO 139843154057024] update state and report convergance took: 0.6498%, (0.001417 secs)\u001b[0m\n",
      "\u001b[31m[12/21/2018 10:04:58 INFO 139843154057024] update set-up time took: 0.0817%, (0.000178 secs)\u001b[0m\n",
      "\u001b[31m[12/21/2018 10:04:58 INFO 139843154057024] predict minus dist took: 0.0573%, (0.000125 secs)\u001b[0m\n",
      "\u001b[31m[12/21/2018 10:04:58 INFO 139843154057024] TOTAL took: 0.218107700348\u001b[0m\n",
      "\u001b[31m[12/21/2018 10:04:58 INFO 139843154057024] Number of GPUs being used: 0\u001b[0m\n",
      "\u001b[31m#metrics {\"Metrics\": {\"finalize.time\": {\"count\": 1, \"max\": 338.41586112976074, \"sum\": 338.41586112976074, \"min\": 338.41586112976074}, \"initialize.time\": {\"count\": 1, \"max\": 15.604019165039062, \"sum\": 15.604019165039062, \"min\": 15.604019165039062}, \"model.serialize.time\": {\"count\": 1, \"max\": 0.18095970153808594, \"sum\": 0.18095970153808594, \"min\": 0.18095970153808594}, \"update.time\": {\"count\": 1, \"max\": 214.22290802001953, \"sum\": 214.22290802001953, \"min\": 214.22290802001953}, \"epochs\": {\"count\": 1, \"max\": 1, \"sum\": 1.0, \"min\": 1}, \"state.serialize.time\": {\"count\": 1, \"max\": 0.5121231079101562, \"sum\": 0.5121231079101562, \"min\": 0.5121231079101562}, \"_shrink.time\": {\"count\": 1, \"max\": 336.2739086151123, \"sum\": 336.2739086151123, \"min\": 336.2739086151123}}, \"EndTime\": 1545386698.593823, \"Dimensions\": {\"Host\": \"algo-1\", \"Operation\": \"training\", \"Algorithm\": \"AWS/KMeansWebscale\"}, \"StartTime\": 1545386697.995008}\n",
      "\u001b[0m\n",
      "\u001b[31m[12/21/2018 10:04:58 INFO 139843154057024] Test data is not provided.\u001b[0m\n",
      "\u001b[31m[2018-12-21 10:04:58.594] [tensorio] [info] data_pipeline_stats={\"name\": \"/opt/ml/input/data/train\", \"epoch\": 1, \"duration\": 554, \"num_examples\": 5}\u001b[0m\n",
      "\u001b[31m[2018-12-21 10:04:58.594] [tensorio] [info] data_pipeline_stats={\"name\": \"/opt/ml/input/data/train\", \"duration\": 596, \"num_epochs\": 2, \"num_examples\": 6}\u001b[0m\n",
      "\u001b[31m#metrics {\"Metrics\": {\"totaltime\": {\"count\": 1, \"max\": 1890.1400566101074, \"sum\": 1890.1400566101074, \"min\": 1890.1400566101074}, \"setuptime\": {\"count\": 1, \"max\": 23.562908172607422, \"sum\": 23.562908172607422, \"min\": 23.562908172607422}}, \"EndTime\": 1545386698.597333, \"Dimensions\": {\"Host\": \"algo-1\", \"Operation\": \"training\", \"Algorithm\": \"AWS/KMeansWebscale\"}, \"StartTime\": 1545386698.593913}\n",
      "\u001b[0m\n",
      "\u001b[32m[12/21/2018 10:04:57 INFO 140292381845312] nvidia-smi took: 0.0252480506897 secs to identify 0 gpus\u001b[0m\n",
      "\u001b[32m[12/21/2018 10:04:57 INFO 140292381845312] Number of GPUs being used: 0\u001b[0m\n",
      "\u001b[32m[2018-12-21 10:04:58.000] [tensorio] [info] batch={\"data_pipeline\": \"/opt/ml/input/data/train\", \"num_examples\": 5000, \"features\": [{\"name\": \"values\", \"shape\": [784], \"storage_type\": \"dense\"}]}\u001b[0m\n",
      "\u001b[32m[12/21/2018 10:04:58 INFO 140292381845312] Setting up with params: {u'k': u'10', u'_tuning_objective_metric': u'', u'_num_gpus': u'auto', u'local_lloyd_num_trials': u'auto', u'_log_level': u'info', u'_kvstore': u'auto', u'local_lloyd_init_method': u'kmeans++', u'force_dense': u'True', u'epochs': u'1', u'init_method': u'random', u'feature_dim': u'784', u'local_lloyd_tol': u'0.0001', u'local_lloyd_max_iter': u'300', u'_disable_wait_to_read': u'false', u'extra_center_factor': u'auto', u'eval_metrics': u'[\"msd\"]', u'_num_kv_servers': u'1', u'mini_batch_size': u'5000', u'half_life_time_size': u'0', u'_num_slices': u'1'}\u001b[0m\n",
      "\u001b[32m/opt/amazon/lib/python2.7/site-packages/ai_algorithms_sdk/config/config_helper.py:172: DeprecationWarning: deprecated\n",
      "  warnings.warn(\"deprecated\", DeprecationWarning)\u001b[0m\n",
      "\u001b[32m/opt/amazon/lib/python2.7/site-packages/ai_algorithms_sdk/config/config_helper.py:122: DeprecationWarning: deprecated\n",
      "  warnings.warn(\"deprecated\", DeprecationWarning)\u001b[0m\n",
      "\u001b[32m[12/21/2018 10:04:58 INFO 140292381845312] Number of GPUs being used: 0\u001b[0m\n",
      "\u001b[32m[12/21/2018 10:04:58 INFO 140292381845312] number of center slices 1\u001b[0m\n",
      "\u001b[32m#metrics {\"Metrics\": {\"Max Batches Seen Between Resets\": {\"count\": 1, \"max\": 1, \"sum\": 1.0, \"min\": 1}, \"Number of Batches Since Last Reset\": {\"count\": 1, \"max\": 1, \"sum\": 1.0, \"min\": 1}, \"Number of Records Since Last Reset\": {\"count\": 1, \"max\": 5000, \"sum\": 5000.0, \"min\": 5000}, \"Total Batches Seen\": {\"count\": 1, \"max\": 1, \"sum\": 1.0, \"min\": 1}, \"Total Records Seen\": {\"count\": 1, \"max\": 5000, \"sum\": 5000.0, \"min\": 5000}, \"Max Records Seen Between Resets\": {\"count\": 1, \"max\": 5000, \"sum\": 5000.0, \"min\": 5000}, \"Reset Count\": {\"count\": 1, \"max\": 0, \"sum\": 0.0, \"min\": 0}}, \"EndTime\": 1545386698.038209, \"Dimensions\": {\"Host\": \"algo-2\", \"Meta\": \"init_train_data_iter\", \"Operation\": \"training\", \"Algorithm\": \"AWS/KMeansWebscale\"}, \"StartTime\": 1545386698.038178}\n",
      "\u001b[0m\n",
      "\u001b[32m[2018-12-21 10:04:58.057] [tensorio] [info] data_pipeline_stats={\"name\": \"/opt/ml/input/data/train\", \"epoch\": 0, \"duration\": 57, \"num_examples\": 1}\u001b[0m\n",
      "\u001b[32m[12/21/2018 10:04:58 INFO 140292381845312] processed a total of 25000 examples\u001b[0m\n",
      "\u001b[32m[12/21/2018 10:04:58 INFO 140292381845312] #progress_metric: host=algo-2, completed 100 % of epochs\u001b[0m\n",
      "\u001b[32m#metrics {\"Metrics\": {\"Max Batches Seen Between Resets\": {\"count\": 1, \"max\": 5, \"sum\": 5.0, \"min\": 5}, \"Number of Batches Since Last Reset\": {\"count\": 1, \"max\": 5, \"sum\": 5.0, \"min\": 5}, \"Number of Records Since Last Reset\": {\"count\": 1, \"max\": 25000, \"sum\": 25000.0, \"min\": 25000}, \"Total Batches Seen\": {\"count\": 1, \"max\": 6, \"sum\": 6.0, \"min\": 6}, \"Total Records Seen\": {\"count\": 1, \"max\": 30000, \"sum\": 30000.0, \"min\": 30000}, \"Max Records Seen Between Resets\": {\"count\": 1, \"max\": 25000, \"sum\": 25000.0, \"min\": 25000}, \"Reset Count\": {\"count\": 1, \"max\": 1, \"sum\": 1.0, \"min\": 1}}, \"EndTime\": 1545386698.231933, \"Dimensions\": {\"Host\": \"algo-2\", \"Meta\": \"training_data_iter\", \"Operation\": \"training\", \"Algorithm\": \"AWS/KMeansWebscale\", \"epoch\": 0}, \"StartTime\": 1545386698.057749}\n",
      "\u001b[0m\n",
      "\u001b[32m[12/21/2018 10:04:58 INFO 140292381845312] #throughput_metric: host=algo-2, train throughput=143403.637279 records/second\u001b[0m\n",
      "\u001b[32m[12/21/2018 10:04:58 INFO 140292381845312] shrinking 100 centers into 10\u001b[0m\n",
      "\u001b[32m[12/21/2018 10:04:58 INFO 140292381845312] local kmeans attempt #0. Current mean square distance 10.891888\u001b[0m\n",
      "\u001b[32m[12/21/2018 10:04:58 INFO 140292381845312] local kmeans attempt #1. Current mean square distance 11.648186\u001b[0m\n",
      "\u001b[32m[12/21/2018 10:04:58 INFO 140292381845312] local kmeans attempt #2. Current mean square distance 11.041264\u001b[0m\n",
      "\u001b[32m[12/21/2018 10:04:58 INFO 140292381845312] local kmeans attempt #3. Current mean square distance 10.643080\u001b[0m\n",
      "\u001b[32m[12/21/2018 10:04:58 INFO 140292381845312] local kmeans attempt #4. Current mean square distance 11.544841\u001b[0m\n",
      "\u001b[32m[12/21/2018 10:04:58 INFO 140292381845312] local kmeans attempt #5. Current mean square distance 10.823659\u001b[0m\n",
      "\u001b[32m[12/21/2018 10:04:58 INFO 140292381845312] local kmeans attempt #6. Current mean square distance 10.888433\u001b[0m\n",
      "\u001b[32m[12/21/2018 10:04:58 INFO 140292381845312] local kmeans attempt #7. Current mean square distance 10.966822\u001b[0m\n",
      "\u001b[32m[12/21/2018 10:04:58 INFO 140292381845312] local kmeans attempt #8. Current mean square distance 11.410809\u001b[0m\n",
      "\u001b[32m[12/21/2018 10:04:58 INFO 140292381845312] local kmeans attempt #9. Current mean square distance 11.252106\u001b[0m\n",
      "\u001b[32m[12/21/2018 10:04:58 INFO 140292381845312] finished shrinking process. Mean Square Distance = 11\u001b[0m\n",
      "\u001b[32m[12/21/2018 10:04:58 INFO 140292381845312] #quality_metric: host=algo-2, train msd <loss>=10.6430797577\u001b[0m\n",
      "\u001b[32m[12/21/2018 10:04:58 INFO 140292381845312] batch data loading with context took: 22.8972%, (0.040414 secs)\u001b[0m\n",
      "\u001b[32m[12/21/2018 10:04:58 INFO 140292381845312] compute all data-center distances: inner product took: 20.3592%, (0.035935 secs)\u001b[0m\n",
      "\u001b[32m[12/21/2018 10:04:58 INFO 140292381845312] compute all data-center distances: point norm took: 19.4771%, (0.034378 secs)\u001b[0m\n",
      "\u001b[32m[12/21/2018 10:04:58 INFO 140292381845312] predict compute msd took: 12.1713%, (0.021483 secs)\u001b[0m\n",
      "\u001b[32m[12/21/2018 10:04:58 INFO 140292381845312] collect from kv store took: 9.2299%, (0.016291 secs)\u001b[0m\n",
      "\u001b[32m[12/21/2018 10:04:58 INFO 140292381845312] gradient: cluster center took: 7.7749%, (0.013723 secs)\u001b[0m\n",
      "\u001b[32m[12/21/2018 10:04:58 INFO 140292381845312] splitting centers key-value pair took: 2.4124%, (0.004258 secs)\u001b[0m\n",
      "\u001b[32m[12/21/2018 10:04:58 INFO 140292381845312] gradient: one_hot took: 2.1287%, (0.003757 secs)\u001b[0m\n",
      "\u001b[32m[12/21/2018 10:04:58 INFO 140292381845312] gradient: cluster size  took: 1.9744%, (0.003485 secs)\u001b[0m\n",
      "\u001b[32m[12/21/2018 10:04:58 INFO 140292381845312] update state and report convergance took: 0.7875%, (0.001390 secs)\u001b[0m\n",
      "\u001b[32m[12/21/2018 10:04:58 INFO 140292381845312] compute all data-center distances: center norm took: 0.6187%, (0.001092 secs)\u001b[0m\n",
      "\u001b[32m[12/21/2018 10:04:58 INFO 140292381845312] update set-up time took: 0.0981%, (0.000173 secs)\u001b[0m\n",
      "\u001b[32m[12/21/2018 10:04:58 INFO 140292381845312] predict minus dist took: 0.0708%, (0.000125 secs)\u001b[0m\n",
      "\u001b[32m[12/21/2018 10:04:58 INFO 140292381845312] TOTAL took: 0.176503658295\u001b[0m\n",
      "\u001b[32m[12/21/2018 10:04:58 INFO 140292381845312] Number of GPUs being used: 0\u001b[0m\n",
      "\u001b[32m[12/21/2018 10:04:58 INFO 140292381845312] No model is serialized on a non-master node\u001b[0m\n",
      "\u001b[32m#metrics {\"Metrics\": {\"finalize.time\": {\"count\": 1, \"max\": 308.38680267333984, \"sum\": 308.38680267333984, \"min\": 308.38680267333984}, \"initialize.time\": {\"count\": 1, \"max\": 17.808914184570312, \"sum\": 17.808914184570312, \"min\": 17.808914184570312}, \"model.serialize.time\": {\"count\": 1, \"max\": 0.057220458984375, \"sum\": 0.057220458984375, \"min\": 0.057220458984375}, \"update.time\": {\"count\": 1, \"max\": 173.99001121520996, \"sum\": 173.99001121520996, \"min\": 173.99001121520996}, \"epochs\": {\"count\": 1, \"max\": 1, \"sum\": 1.0, \"min\": 1}, \"state.serialize.time\": {\"count\": 1, \"max\": 0.5390644073486328, \"sum\": 0.5390644073486328, \"min\": 0.5390644073486328}, \"_shrink.time\": {\"count\": 1, \"max\": 305.39393424987793, \"sum\": 305.39393424987793, \"min\": 305.39393424987793}}, \"EndTime\": 1545386698.568426, \"Dimensions\": {\"Host\": \"algo-2\", \"Operation\": \"training\", \"Algorithm\": \"AWS/KMeansWebscale\"}, \"StartTime\": 1545386697.998497}\n",
      "\u001b[0m\n",
      "\u001b[32m[12/21/2018 10:04:58 INFO 140292381845312] Test data is not provided.\u001b[0m\n",
      "\u001b[32m[2018-12-21 10:04:58.568] [tensorio] [info] data_pipeline_stats={\"name\": \"/opt/ml/input/data/train\", \"epoch\": 1, \"duration\": 510, \"num_examples\": 5}\u001b[0m\n",
      "\u001b[32m[2018-12-21 10:04:58.568] [tensorio] [info] data_pipeline_stats={\"name\": \"/opt/ml/input/data/train\", \"duration\": 567, \"num_epochs\": 2, \"num_examples\": 6}\u001b[0m\n",
      "\u001b[32m#metrics {\"Metrics\": {\"totaltime\": {\"count\": 1, \"max\": 2331.2718868255615, \"sum\": 2331.2718868255615, \"min\": 2331.2718868255615}, \"setuptime\": {\"count\": 1, \"max\": 528.3968448638916, \"sum\": 528.3968448638916, \"min\": 528.3968448638916}}, \"EndTime\": 1545386698.572785, \"Dimensions\": {\"Host\": \"algo-2\", \"Operation\": \"training\", \"Algorithm\": \"AWS/KMeansWebscale\"}, \"StartTime\": 1545386698.568499}\n",
      "\u001b[0m\n",
      "\n",
      "2018-12-21 10:05:08 Uploading - Uploading generated training model\n",
      "2018-12-21 10:05:08 Completed - Training job completed\n",
      "Billable seconds: 72\n",
      "CPU times: user 8.14 s, sys: 431 ms, total: 8.57 s\n",
      "Wall time: 3min 52s\n"
     ]
    }
   ],
   "source": [
    "%%time\n",
    "\n",
    "kmeans.fit(kmeans.record_set(train_set[0]))"
   ]
  },
  {
   "cell_type": "markdown",
   "metadata": {},
   "source": [
    "## Set up hosting for the model\n",
    "Now, we can deploy the model we just trained behind a real-time hosted endpoint.  This next step can take, on average, 7 to 11 minutes to complete."
   ]
  },
  {
   "cell_type": "code",
   "execution_count": 6,
   "metadata": {},
   "outputs": [
    {
     "name": "stderr",
     "output_type": "stream",
     "text": [
      "INFO:sagemaker:Creating model with name: kmeans-2018-12-21-10-05-39-185\n",
      "INFO:sagemaker:Creating endpoint with name kmeans-2018-12-21-10-01-57-253\n"
     ]
    },
    {
     "name": "stdout",
     "output_type": "stream",
     "text": [
      "--------------------------------------------------------------------------!CPU times: user 375 ms, sys: 15.7 ms, total: 390 ms\n",
      "Wall time: 6min 15s\n"
     ]
    }
   ],
   "source": [
    "%%time\n",
    "\n",
    "kmeans_predictor = kmeans.deploy(initial_instance_count=1,\n",
    "                                 instance_type='ml.m4.xlarge')"
   ]
  },
  {
   "cell_type": "markdown",
   "metadata": {},
   "source": [
    "## Validate the model for use\n",
    "Finally, we'll validate the model for use. Let's generate a classification for a single observation from the trained model using the endpoint we just created."
   ]
  },
  {
   "cell_type": "code",
   "execution_count": 7,
   "metadata": {},
   "outputs": [
    {
     "name": "stdout",
     "output_type": "stream",
     "text": [
      "[label {\n",
      "  key: \"closest_cluster\"\n",
      "  value {\n",
      "    float32_tensor {\n",
      "      values: 9.0\n",
      "    }\n",
      "  }\n",
      "}\n",
      "label {\n",
      "  key: \"distance_to_cluster\"\n",
      "  value {\n",
      "    float32_tensor {\n",
      "      values: 7.272615432739258\n",
      "    }\n",
      "  }\n",
      "}\n",
      "]\n"
     ]
    }
   ],
   "source": [
    "result = kmeans_predictor.predict(train_set[0][30:31])\n",
    "print(result)"
   ]
  },
  {
   "cell_type": "markdown",
   "metadata": {},
   "source": [
    "OK, a single prediction works.\n",
    "\n",
    "Let's do a whole batch and see how well the clustering works."
   ]
  },
  {
   "cell_type": "code",
   "execution_count": 8,
   "metadata": {},
   "outputs": [
    {
     "name": "stdout",
     "output_type": "stream",
     "text": [
      "CPU times: user 21.8 ms, sys: 3.45 ms, total: 25.2 ms\n",
      "Wall time: 86.1 ms\n"
     ]
    }
   ],
   "source": [
    "%%time \n",
    "\n",
    "result = kmeans_predictor.predict(valid_set[0][0:100])\n",
    "clusters = [r.label['closest_cluster'].float32_tensor.values[0] for r in result]"
   ]
  },
  {
   "cell_type": "code",
   "execution_count": 9,
   "metadata": {},
   "outputs": [
    {
     "name": "stdout",
     "output_type": "stream",
     "text": [
      "\n",
      "\n",
      "\n",
      "Cluster 0:\n"
     ]
    },
    {
     "data": {
      "image/png": "[encoded data removed]",
      "text/plain": [
       "<Figure size 360x72 with 5 Axes>"
      ]
     },
     "metadata": {},
     "output_type": "display_data"
    },
    {
     "name": "stdout",
     "output_type": "stream",
     "text": [
      "\n",
      "\n",
      "\n",
      "Cluster 1:\n"
     ]
    },
    {
     "data": {
      "image/png": "[encoded data removed]",
      "text/plain": [
       "<Figure size 360x288 with 20 Axes>"
      ]
     },
     "metadata": {},
     "output_type": "display_data"
    },
    {
     "name": "stdout",
     "output_type": "stream",
     "text": [
      "\n",
      "\n",
      "\n",
      "Cluster 2:\n"
     ]
    },
    {
     "data": {
      "image/png": "[encoded data removed]",
      "text/plain": [
       "<Figure size 360x144 with 10 Axes>"
      ]
     },
     "metadata": {},
     "output_type": "display_data"
    },
    {
     "name": "stdout",
     "output_type": "stream",
     "text": [
      "\n",
      "\n",
      "\n",
      "Cluster 3:\n"
     ]
    },
    {
     "data": {
      "image/png": "[encoded data removed]",
      "text/plain": [
       "<Figure size 360x216 with 15 Axes>"
      ]
     },
     "metadata": {},
     "output_type": "display_data"
    },
    {
     "name": "stdout",
     "output_type": "stream",
     "text": [
      "\n",
      "\n",
      "\n",
      "Cluster 4:\n"
     ]
    },
    {
     "data": {
      "image/png": "[encoded data removed]",
      "text/plain": [
       "<Figure size 360x144 with 10 Axes>"
      ]
     },
     "metadata": {},
     "output_type": "display_data"
    },
    {
     "name": "stdout",
     "output_type": "stream",
     "text": [
      "\n",
      "\n",
      "\n",
      "Cluster 5:\n"
     ]
    },
    {
     "data": {
      "image/png": "[encoded data removed]",
      "text/plain": [
       "<Figure size 360x216 with 15 Axes>"
      ]
     },
     "metadata": {},
     "output_type": "display_data"
    },
    {
     "name": "stdout",
     "output_type": "stream",
     "text": [
      "\n",
      "\n",
      "\n",
      "Cluster 6:\n"
     ]
    },
    {
     "data": {
      "image/png": "[encoded data removed]",
      "text/plain": [
       "<Figure size 360x144 with 10 Axes>"
      ]
     },
     "metadata": {},
     "output_type": "display_data"
    },
    {
     "name": "stdout",
     "output_type": "stream",
     "text": [
      "\n",
      "\n",
      "\n",
      "Cluster 7:\n"
     ]
    },
    {
     "data": {
      "image/png": "[encoded data removed]",
      "text/plain": [
       "<Figure size 360x72 with 5 Axes>"
      ]
     },
     "metadata": {},
     "output_type": "display_data"
    },
    {
     "name": "stdout",
     "output_type": "stream",
     "text": [
      "\n",
      "\n",
      "\n",
      "Cluster 8:\n"
     ]
    },
    {
     "data": {
      "image/png": "[encoded data removed]",
      "text/plain": [
       "<Figure size 360x360 with 25 Axes>"
      ]
     },
     "metadata": {},
     "output_type": "display_data"
    },
    {
     "name": "stdout",
     "output_type": "stream",
     "text": [
      "\n",
      "\n",
      "\n",
      "Cluster 9:\n"
     ]
    },
    {
     "data": {
      "image/png": "[encoded data removed]",
      "text/plain": [
       "<Figure size 360x72 with 5 Axes>"
      ]
     },
     "metadata": {},
     "output_type": "display_data"
    }
   ],
   "source": [
    "for cluster in range(10):\n",
    "    print('\\n\\n\\nCluster {}:'.format(int(cluster)))\n",
    "    digits = [ img for l, img in zip(clusters, valid_set[0]) if int(l) == cluster ]\n",
    "    height=((len(digits)-1)//5)+1\n",
    "    width=5\n",
    "    plt.rcParams[\"figure.figsize\"] = (width,height)\n",
    "    _, subplots = plt.subplots(height, width)\n",
    "    subplots=numpy.ndarray.flatten(subplots)\n",
    "    for subplot, image in zip(subplots, digits):\n",
    "        show_digit(image, subplot=subplot)\n",
    "    for subplot in subplots[len(digits):]:\n",
    "        subplot.axis('off')\n",
    "\n",
    "    plt.show()"
   ]
  },
  {
   "cell_type": "markdown",
   "metadata": {},
   "source": [
    "### The bottom line\n",
    "\n",
    "K-Means clustering is not the best algorithm for image analysis problems, but we do see pretty reasonable clusters being built."
   ]
  },
  {
   "cell_type": "markdown",
   "metadata": {},
   "source": [
    "### (Optional) Delete the Endpoint\n",
    "If you're ready to be done with this notebook, make sure run the cell below.  This will remove the hosted endpoint you created and avoid any charges from a stray instance being left on."
   ]
  },
  {
   "cell_type": "code",
   "execution_count": 10,
   "metadata": {},
   "outputs": [
    {
     "name": "stdout",
     "output_type": "stream",
     "text": [
      "kmeans-2018-12-21-10-01-57-253\n"
     ]
    }
   ],
   "source": [
    "print(kmeans_predictor.endpoint)"
   ]
  },
  {
   "cell_type": "code",
   "execution_count": 11,
   "metadata": {},
   "outputs": [
    {
     "name": "stderr",
     "output_type": "stream",
     "text": [
      "INFO:sagemaker:Deleting endpoint with name: kmeans-2018-12-21-10-01-57-253\n"
     ]
    }
   ],
   "source": [
    "import sagemaker\n",
    "sagemaker.Session().delete_endpoint(kmeans_predictor.endpoint)"
   ]
  },
  {
   "cell_type": "code",
   "execution_count": null,
   "metadata": {},
   "outputs": [],
   "source": []
  }
 ],
 "metadata": {
  "kernelspec": {
   "display_name": "conda_python3",
   "language": "python",
   "name": "conda_python3"
  },
  "language_info": {
   "codemirror_mode": {
    "name": "ipython",
    "version": 3
   },
   "file_extension": ".py",
   "mimetype": "text/x-python",
   "name": "python",
   "nbconvert_exporter": "python",
   "pygments_lexer": "ipython3",
   "version": "3.6.5"
  },
  "notice": "Copyright 2017 Amazon.com, Inc. or its affiliates. All Rights Reserved.  Licensed under the Apache License, Version 2.0 (the \"License\"). You may not use this file except in compliance with the License. A copy of the License is located at http://aws.amazon.com/apache2.0/ or in the \"license\" file accompanying this file. This file is distributed on an \"AS IS\" BASIS, WITHOUT WARRANTIES OR CONDITIONS OF ANY KIND, either express or implied. See the License for the specific language governing permissions and limitations under the License."
 },
 "nbformat": 4,
 "nbformat_minor": 2
}
